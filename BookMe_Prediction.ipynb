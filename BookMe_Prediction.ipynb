{
 "cells": [
  {
   "cell_type": "markdown",
   "id": "2aa75438",
   "metadata": {},
   "source": [
    "<img src=\"images/ML_Nova_Header.png\">"
   ]
  },
  {
   "cell_type": "markdown",
   "id": "aa189231",
   "metadata": {},
   "source": [
    "<img src=\"images/semma.png\">"
   ]
  },
  {
   "cell_type": "markdown",
   "id": "ef0dde66",
   "metadata": {},
   "source": [
    "\n",
    "# <font color='#BFD72F'>Contents</font> <a class=\"anchor\" id=\"toc\"></a>\n",
    "\n",
    "* [1. Import the data](#import)\n",
    "    * [1.1. Impot needed libraries](#2nd-bullet)\n",
    "* [2. Explore the data](#explore)\n",
    "* [3. Prepare the data](#prepare)\n",
    "    * [3.1. Explore the data](#dataexploration)\n",
    "    * [3.2. Pre-process the data](#datapreprocess)\n",
    "    * [3.3. Feature Engineering](#feateng)\n",
    "    * [3.4. Feature Selection](#featselection)\n",
    "* [4. Model Assessment](#assess)\n",
    "    * [4.1. Split with Holdout Method](#holdout)\n",
    "    * [4.2. K-fold cross validation Method](#k-fold)\n",
    "    * [4.3. Assess using Logistic Regression](#lregression)\n",
    "    * [4.4. Assess using Random Forest Classifier](#rforrest)\n",
    "    * [4.5. Assess using KNN Classifier](#KNNClassifier)\n",
    "    * [4.6. Assess using Decision Tree Classifier](#DTClassifier)\n",
    "    * [4.7. Assess using Neural Network (MLP) Classifier](#MLPClassifier)\n",
    "    * [4.8. Assess using Gradient Boosting Classifier](#GBClassifier)\n",
    "    * [4.8. Conclusions](#Comparison)\n",
    "    \n",
    "* [5. Predictions](#pred)\n"
   ]
  },
  {
   "cell_type": "markdown",
   "id": "3ffd07e9",
   "metadata": {},
   "source": [
    "# 1. Import the data <a class=\"anchor\" id=\"import\"></a>\n",
    "[Back to Contents](#toc)"
   ]
  },
  {
   "cell_type": "markdown",
   "id": "0d114cba",
   "metadata": {},
   "source": [
    "<a class=\"anchor\" id=\"2nd-bullet\">\n",
    "\n",
    "### <font color = '#cc9900'> 1.1. Import the needed libraries>\n",
    "[Back to Contents](#toc) "
   ]
  },
  {
   "cell_type": "markdown",
   "id": "3696f911",
   "metadata": {},
   "source": [
    "__`Step 1`__ Import all the needed packages."
   ]
  },
  {
   "cell_type": "code",
   "execution_count": 1,
   "id": "b2e7dac7",
   "metadata": {},
   "outputs": [],
   "source": [
    "import pandas as pd\n",
    "import numpy as np\n",
    "\n",
    "#For Data Visualization\n",
    "import matplotlib.pyplot as plt\n",
    "import seaborn as sns\n",
    "\n",
    "#For new variable Age creation\n",
    "from datetime import date\n",
    "\n",
    "# Feature Selection\n",
    "from sklearn.feature_selection import RFE\n",
    "import scipy.stats as stats\n",
    "from scipy.stats import chi2_contingency\n",
    "\n",
    "# Scaling\n",
    "from sklearn import preprocessing\n",
    "from sklearn.preprocessing import MinMaxScaler\n",
    "from sklearn.impute import KNNImputer\n",
    "\n",
    "#Classification/Score\n",
    "from sklearn.metrics import confusion_matrix, accuracy_score, precision_score, recall_score, balanced_accuracy_score, f1_score\n",
    "from sklearn.metrics import classification_report\n",
    "\n",
    "\n",
    "# Models\n",
    "from sklearn.neighbors import KNeighborsClassifier\n",
    "from sklearn.linear_model import LogisticRegression\n",
    "from sklearn.ensemble import RandomForestClassifier\n",
    "from sklearn.model_selection import GridSearchCV\n",
    "from sklearn.tree import DecisionTreeClassifier\n",
    "from sklearn.neural_network import MLPClassifier\n",
    "from sklearn.ensemble import GradientBoostingClassifier\n",
    "\n",
    "\n",
    "# Model Assessment\n",
    "from sklearn.model_selection import train_test_split\n",
    "from sklearn.model_selection import StratifiedKFold\n",
    "from sklearn.model_selection import KFold\n",
    "\n",
    "#To Export Dataset\n",
    "import os\n",
    "\n",
    "#Warnings\n",
    "import warnings\n",
    "warnings.filterwarnings('ignore')"
   ]
  },
  {
   "cell_type": "markdown",
   "id": "0b94ae7c",
   "metadata": {},
   "source": [
    "__`Step 2`__ Import the train dataset."
   ]
  },
  {
   "cell_type": "code",
   "execution_count": 2,
   "id": "6de68ebe",
   "metadata": {},
   "outputs": [
    {
     "data": {
      "text/html": [
       "<div>\n",
       "<style scoped>\n",
       "    .dataframe tbody tr th:only-of-type {\n",
       "        vertical-align: middle;\n",
       "    }\n",
       "\n",
       "    .dataframe tbody tr th {\n",
       "        vertical-align: top;\n",
       "    }\n",
       "\n",
       "    .dataframe thead th {\n",
       "        text-align: right;\n",
       "    }\n",
       "</style>\n",
       "<table border=\"1\" class=\"dataframe\">\n",
       "  <thead>\n",
       "    <tr style=\"text-align: right;\">\n",
       "      <th></th>\n",
       "      <th>Cust_ID</th>\n",
       "      <th>Churn</th>\n",
       "      <th>Name</th>\n",
       "      <th>Longevity</th>\n",
       "      <th>Year_Birth</th>\n",
       "      <th>TypeTravel</th>\n",
       "      <th>RoomType</th>\n",
       "      <th>RewardPoints</th>\n",
       "      <th>Comfort</th>\n",
       "      <th>ReceptionSchedule</th>\n",
       "      <th>...</th>\n",
       "      <th>Wifi</th>\n",
       "      <th>Amenities</th>\n",
       "      <th>Staff</th>\n",
       "      <th>OnlineBooking</th>\n",
       "      <th>PriceQuality</th>\n",
       "      <th>RoomSpace</th>\n",
       "      <th>CheckOut</th>\n",
       "      <th>Checkin</th>\n",
       "      <th>Cleanliness</th>\n",
       "      <th>BarService</th>\n",
       "    </tr>\n",
       "  </thead>\n",
       "  <tbody>\n",
       "    <tr>\n",
       "      <th>0</th>\n",
       "      <td>1</td>\n",
       "      <td>churn</td>\n",
       "      <td>Ms. Nicole Clarke</td>\n",
       "      <td>yes</td>\n",
       "      <td>1974.0</td>\n",
       "      <td>business</td>\n",
       "      <td>single</td>\n",
       "      <td>4907</td>\n",
       "      <td>3</td>\n",
       "      <td>4</td>\n",
       "      <td>...</td>\n",
       "      <td>4</td>\n",
       "      <td>3</td>\n",
       "      <td>4</td>\n",
       "      <td>3</td>\n",
       "      <td>3</td>\n",
       "      <td>3</td>\n",
       "      <td>3</td>\n",
       "      <td>4</td>\n",
       "      <td>3</td>\n",
       "      <td>4</td>\n",
       "    </tr>\n",
       "    <tr>\n",
       "      <th>1</th>\n",
       "      <td>2</td>\n",
       "      <td>nochurn</td>\n",
       "      <td>Mr. Jesse Scott</td>\n",
       "      <td>yes</td>\n",
       "      <td>1965.0</td>\n",
       "      <td>business</td>\n",
       "      <td>single</td>\n",
       "      <td>6724</td>\n",
       "      <td>1</td>\n",
       "      <td>1</td>\n",
       "      <td>...</td>\n",
       "      <td>5</td>\n",
       "      <td>3</td>\n",
       "      <td>4</td>\n",
       "      <td>5</td>\n",
       "      <td>5</td>\n",
       "      <td>5</td>\n",
       "      <td>5</td>\n",
       "      <td>1</td>\n",
       "      <td>5</td>\n",
       "      <td>2</td>\n",
       "    </tr>\n",
       "    <tr>\n",
       "      <th>2</th>\n",
       "      <td>3</td>\n",
       "      <td>churn</td>\n",
       "      <td>Mr. Christopher Carter</td>\n",
       "      <td>yes</td>\n",
       "      <td>1973.0</td>\n",
       "      <td>business</td>\n",
       "      <td>single</td>\n",
       "      <td>4365</td>\n",
       "      <td>3</td>\n",
       "      <td>3</td>\n",
       "      <td>...</td>\n",
       "      <td>1</td>\n",
       "      <td>4</td>\n",
       "      <td>4</td>\n",
       "      <td>3</td>\n",
       "      <td>3</td>\n",
       "      <td>2</td>\n",
       "      <td>3</td>\n",
       "      <td>2</td>\n",
       "      <td>3</td>\n",
       "      <td>1</td>\n",
       "    </tr>\n",
       "    <tr>\n",
       "      <th>3</th>\n",
       "      <td>4</td>\n",
       "      <td>nochurn</td>\n",
       "      <td>Ms. Jennifer Morgan</td>\n",
       "      <td>yes</td>\n",
       "      <td>1993.0</td>\n",
       "      <td>leisure</td>\n",
       "      <td>double</td>\n",
       "      <td>3849</td>\n",
       "      <td>1</td>\n",
       "      <td>1</td>\n",
       "      <td>...</td>\n",
       "      <td>4</td>\n",
       "      <td>4</td>\n",
       "      <td>5</td>\n",
       "      <td>4</td>\n",
       "      <td>4</td>\n",
       "      <td>4</td>\n",
       "      <td>4</td>\n",
       "      <td>4</td>\n",
       "      <td>4</td>\n",
       "      <td>3</td>\n",
       "    </tr>\n",
       "    <tr>\n",
       "      <th>4</th>\n",
       "      <td>5</td>\n",
       "      <td>nochurn</td>\n",
       "      <td>Mr. Michael White</td>\n",
       "      <td>yes</td>\n",
       "      <td>1989.0</td>\n",
       "      <td>business</td>\n",
       "      <td>single</td>\n",
       "      <td>5376</td>\n",
       "      <td>2</td>\n",
       "      <td>2</td>\n",
       "      <td>...</td>\n",
       "      <td>5</td>\n",
       "      <td>5</td>\n",
       "      <td>5</td>\n",
       "      <td>5</td>\n",
       "      <td>5</td>\n",
       "      <td>3</td>\n",
       "      <td>4</td>\n",
       "      <td>1</td>\n",
       "      <td>3</td>\n",
       "      <td>5</td>\n",
       "    </tr>\n",
       "  </tbody>\n",
       "</table>\n",
       "<p>5 rows × 22 columns</p>\n",
       "</div>"
      ],
      "text/plain": [
       "   Cust_ID    Churn                    Name Longevity  Year_Birth TypeTravel  \\\n",
       "0        1    churn       Ms. Nicole Clarke       yes      1974.0   business   \n",
       "1        2  nochurn         Mr. Jesse Scott       yes      1965.0   business   \n",
       "2        3    churn  Mr. Christopher Carter       yes      1973.0   business   \n",
       "3        4  nochurn     Ms. Jennifer Morgan       yes      1993.0    leisure   \n",
       "4        5  nochurn       Mr. Michael White       yes      1989.0   business   \n",
       "\n",
       "  RoomType  RewardPoints  Comfort  ReceptionSchedule  ...  Wifi  Amenities  \\\n",
       "0   single          4907        3                  4  ...     4          3   \n",
       "1   single          6724        1                  1  ...     5          3   \n",
       "2   single          4365        3                  3  ...     1          4   \n",
       "3   double          3849        1                  1  ...     4          4   \n",
       "4   single          5376        2                  2  ...     5          5   \n",
       "\n",
       "   Staff  OnlineBooking  PriceQuality  RoomSpace  CheckOut  Checkin  \\\n",
       "0      4              3             3          3         3        4   \n",
       "1      4              5             5          5         5        1   \n",
       "2      4              3             3          2         3        2   \n",
       "3      5              4             4          4         4        4   \n",
       "4      5              5             5          3         4        1   \n",
       "\n",
       "   Cleanliness  BarService  \n",
       "0            3           4  \n",
       "1            5           2  \n",
       "2            3           1  \n",
       "3            4           3  \n",
       "4            3           5  \n",
       "\n",
       "[5 rows x 22 columns]"
      ]
     },
     "execution_count": 2,
     "metadata": {},
     "output_type": "execute_result"
    }
   ],
   "source": [
    "df = pd.read_csv('train.csv')\n",
    "df.head()"
   ]
  },
  {
   "cell_type": "markdown",
   "id": "848cdcc4",
   "metadata": {},
   "source": [
    "__GOAL__: Understand the probability of customers churn, by studying their behaviour/satisfaction.\n",
    "\n",
    "`Cust ID` Customer’s identification number<br>\n",
    "`Name` Customer’s name <br>\n",
    "`Year Birth` Customer’s birth year <br>\n",
    "`Longevity` Whether the customer registered more than 1 year ago or not (yes or no)<br>\n",
    "`Churn` Whether the customer churned or not (churn - 1; or nochurn - 0) <br>\n",
    "`TypeTravel` Customer’s reason for travelling (business or leisure) <br>\n",
    "`RoomType` Type of room reserved <br>\n",
    "`RewardPoints` Customer’s rewarding point for loyalty <br>\n",
    "`Comfort` Satisfaction level of customer regarding comfort of the room (0 to 5) <br>\n",
    "`ReceptionSchedule` Satisfaction level of customer regarding comfort of the room (0 to 5) <br>\n",
    "`FoodDrink` Satisfaction level of customer regarding comfort of the room (0 to 5) <br>\n",
    "`Location` Satisfaction level of customer regarding comfort of the room (0 to 5) <br>\n",
    "`Wifi` Satisfaction level of customer regarding comfort of the room (0 to 5) <br>\n",
    "`Amenities` Satisfaction level of customer regarding comfort of the room (0 to 5) <br>\n",
    "`Staff` Satisfaction level of customer regarding comfort of the room (0 to 5) <br>\n",
    "`OnlineBooking` Satisfaction level of customer regarding comfort of the room (0 to 5) <br>\n",
    "`PriceQuality` Satisfaction level of customer regarding comfort of the room (0 to 5) <br>\n",
    "`RoomSpace` Satisfaction level of customer regarding comfort of the room (0 to 5) <br>\n",
    "`CheckOut` Satisfaction level of customer regarding comfort of the room (0 to 5) <br>\n",
    "`CheckIn` Satisfaction level of customer regarding comfort of the room (0 to 5) <br>\n",
    "`Cleanliness` Satisfaction level of customer regarding comfort of the room (0 to 5) <br>\n",
    "`BarService` Satisfaction level of customer regarding comfort of the room (0 to 5) <br>\n",
    "\n"
   ]
  },
  {
   "cell_type": "markdown",
   "id": "82e6d874",
   "metadata": {},
   "source": [
    "# 2. Explore the data <a class=\"anchor\" id=\"explore\"></a>\n",
    "[Back to Contents](#toc)"
   ]
  },
  {
   "cell_type": "markdown",
   "id": "f6da2294",
   "metadata": {},
   "source": [
    "__`Step 1`__ Explore and get insights from the data."
   ]
  },
  {
   "cell_type": "code",
   "execution_count": 3,
   "id": "ae10f6a2",
   "metadata": {},
   "outputs": [
    {
     "name": "stdout",
     "output_type": "stream",
     "text": [
      "<class 'pandas.core.frame.DataFrame'>\n",
      "RangeIndex: 15589 entries, 0 to 15588\n",
      "Data columns (total 22 columns):\n",
      " #   Column             Non-Null Count  Dtype  \n",
      "---  ------             --------------  -----  \n",
      " 0   Cust_ID            15589 non-null  int64  \n",
      " 1   Churn              15589 non-null  object \n",
      " 2   Name               15589 non-null  object \n",
      " 3   Longevity          15589 non-null  object \n",
      " 4   Year_Birth         15394 non-null  float64\n",
      " 5   TypeTravel         15589 non-null  object \n",
      " 6   RoomType           15589 non-null  object \n",
      " 7   RewardPoints       15589 non-null  int64  \n",
      " 8   Comfort            15589 non-null  int64  \n",
      " 9   ReceptionSchedule  15589 non-null  int64  \n",
      " 10  FoodDrink          15589 non-null  int64  \n",
      " 11  Location           15589 non-null  int64  \n",
      " 12  Wifi               15589 non-null  int64  \n",
      " 13  Amenities          15589 non-null  int64  \n",
      " 14  Staff              15589 non-null  int64  \n",
      " 15  OnlineBooking      15589 non-null  int64  \n",
      " 16  PriceQuality       15589 non-null  int64  \n",
      " 17  RoomSpace          15589 non-null  int64  \n",
      " 18  CheckOut           15589 non-null  int64  \n",
      " 19  Checkin            15589 non-null  int64  \n",
      " 20  Cleanliness        15589 non-null  int64  \n",
      " 21  BarService         15589 non-null  int64  \n",
      "dtypes: float64(1), int64(16), object(5)\n",
      "memory usage: 2.6+ MB\n"
     ]
    }
   ],
   "source": [
    "df.info()"
   ]
  },
  {
   "cell_type": "markdown",
   "id": "8032b513",
   "metadata": {},
   "source": [
    "Data Types for Independent Variables:\n",
    "\n",
    "- __Continuous__ - Year_Birth, RewardPoints\n",
    "- __Categorical__ - Name, RoomType\n",
    "- __Binary__ - Longevity, TypeTravel\n",
    "- __Ordinal__ - Comfort, ReceptionSchedule, FoodDrink, Location, Wifi, Amenities, Staff, OnlineBooking, PriceQuality, RoomSpace, CheckOut, Checkin, Cleanliness, BarService\n",
    "\n",
    "Missing values:\n",
    "- Year Birth (continuous)\n",
    "\n"
   ]
  },
  {
   "cell_type": "markdown",
   "id": "f43aba06",
   "metadata": {},
   "source": [
    "# 3. Prepare the data <a class=\"anchor\" id=\"prepare\"></a>\n",
    "[Back to Contents](#toc)"
   ]
  },
  {
   "cell_type": "markdown",
   "id": "052086df",
   "metadata": {},
   "source": [
    "<a class=\"anchor\" id=\"dataexploration\">\n",
    "\n",
    "### <font color = '#cc9900'> 3.1. Explore Data </font>\n",
    "    \n",
    "[Back to Contents](#toc) "
   ]
  },
  {
   "cell_type": "markdown",
   "id": "493e2169",
   "metadata": {},
   "source": [
    "__`Step 1`__ Basic data exploration"
   ]
  },
  {
   "cell_type": "code",
   "execution_count": 4,
   "id": "f9eac126",
   "metadata": {},
   "outputs": [
    {
     "data": {
      "text/plain": [
       "(15589, 22)"
      ]
     },
     "execution_count": 4,
     "metadata": {},
     "output_type": "execute_result"
    }
   ],
   "source": [
    "df.shape"
   ]
  },
  {
   "cell_type": "code",
   "execution_count": 5,
   "id": "49af2baa",
   "metadata": {},
   "outputs": [
    {
     "data": {
      "text/plain": [
       "Index(['Cust_ID', 'Churn', 'Name', 'Longevity', 'Year_Birth', 'TypeTravel',\n",
       "       'RoomType', 'RewardPoints', 'Comfort', 'ReceptionSchedule', 'FoodDrink',\n",
       "       'Location', 'Wifi', 'Amenities', 'Staff', 'OnlineBooking',\n",
       "       'PriceQuality', 'RoomSpace', 'CheckOut', 'Checkin', 'Cleanliness',\n",
       "       'BarService'],\n",
       "      dtype='object')"
      ]
     },
     "execution_count": 5,
     "metadata": {},
     "output_type": "execute_result"
    }
   ],
   "source": [
    "df.columns"
   ]
  },
  {
   "cell_type": "markdown",
   "id": "de7621a7",
   "metadata": {},
   "source": [
    "__`Step 2`__ Check for duplicates."
   ]
  },
  {
   "cell_type": "code",
   "execution_count": 6,
   "id": "d18ffcd8",
   "metadata": {},
   "outputs": [
    {
     "data": {
      "text/html": [
       "<div>\n",
       "<style scoped>\n",
       "    .dataframe tbody tr th:only-of-type {\n",
       "        vertical-align: middle;\n",
       "    }\n",
       "\n",
       "    .dataframe tbody tr th {\n",
       "        vertical-align: top;\n",
       "    }\n",
       "\n",
       "    .dataframe thead th {\n",
       "        text-align: right;\n",
       "    }\n",
       "</style>\n",
       "<table border=\"1\" class=\"dataframe\">\n",
       "  <thead>\n",
       "    <tr style=\"text-align: right;\">\n",
       "      <th></th>\n",
       "      <th>Cust_ID</th>\n",
       "      <th>Churn</th>\n",
       "      <th>Name</th>\n",
       "      <th>Longevity</th>\n",
       "      <th>Year_Birth</th>\n",
       "      <th>TypeTravel</th>\n",
       "      <th>RoomType</th>\n",
       "      <th>RewardPoints</th>\n",
       "      <th>Comfort</th>\n",
       "      <th>ReceptionSchedule</th>\n",
       "      <th>...</th>\n",
       "      <th>Wifi</th>\n",
       "      <th>Amenities</th>\n",
       "      <th>Staff</th>\n",
       "      <th>OnlineBooking</th>\n",
       "      <th>PriceQuality</th>\n",
       "      <th>RoomSpace</th>\n",
       "      <th>CheckOut</th>\n",
       "      <th>Checkin</th>\n",
       "      <th>Cleanliness</th>\n",
       "      <th>BarService</th>\n",
       "    </tr>\n",
       "  </thead>\n",
       "  <tbody>\n",
       "  </tbody>\n",
       "</table>\n",
       "<p>0 rows × 22 columns</p>\n",
       "</div>"
      ],
      "text/plain": [
       "Empty DataFrame\n",
       "Columns: [Cust_ID, Churn, Name, Longevity, Year_Birth, TypeTravel, RoomType, RewardPoints, Comfort, ReceptionSchedule, FoodDrink, Location, Wifi, Amenities, Staff, OnlineBooking, PriceQuality, RoomSpace, CheckOut, Checkin, Cleanliness, BarService]\n",
       "Index: []\n",
       "\n",
       "[0 rows x 22 columns]"
      ]
     },
     "execution_count": 6,
     "metadata": {},
     "output_type": "execute_result"
    }
   ],
   "source": [
    "df[df.duplicated(keep = False)]"
   ]
  },
  {
   "cell_type": "markdown",
   "id": "f6024290",
   "metadata": {},
   "source": [
    "There are no duplicates, so no treatment is needed."
   ]
  },
  {
   "cell_type": "markdown",
   "id": "0d727b31",
   "metadata": {},
   "source": [
    "__`Step 3`__ Data Exploration."
   ]
  },
  {
   "cell_type": "markdown",
   "id": "0e8cc61f",
   "metadata": {},
   "source": [
    "__`3.1`__ __Statistical Exploration__"
   ]
  },
  {
   "cell_type": "markdown",
   "id": "84068955",
   "metadata": {},
   "source": [
    "* Numerical Variables"
   ]
  },
  {
   "cell_type": "code",
   "execution_count": 7,
   "id": "0e252c07",
   "metadata": {},
   "outputs": [
    {
     "data": {
      "text/html": [
       "<div>\n",
       "<style scoped>\n",
       "    .dataframe tbody tr th:only-of-type {\n",
       "        vertical-align: middle;\n",
       "    }\n",
       "\n",
       "    .dataframe tbody tr th {\n",
       "        vertical-align: top;\n",
       "    }\n",
       "\n",
       "    .dataframe thead th {\n",
       "        text-align: right;\n",
       "    }\n",
       "</style>\n",
       "<table border=\"1\" class=\"dataframe\">\n",
       "  <thead>\n",
       "    <tr style=\"text-align: right;\">\n",
       "      <th></th>\n",
       "      <th>Cust_ID</th>\n",
       "      <th>Year_Birth</th>\n",
       "      <th>RewardPoints</th>\n",
       "      <th>Comfort</th>\n",
       "      <th>ReceptionSchedule</th>\n",
       "      <th>FoodDrink</th>\n",
       "      <th>Location</th>\n",
       "      <th>Wifi</th>\n",
       "      <th>Amenities</th>\n",
       "      <th>Staff</th>\n",
       "      <th>OnlineBooking</th>\n",
       "      <th>PriceQuality</th>\n",
       "      <th>RoomSpace</th>\n",
       "      <th>CheckOut</th>\n",
       "      <th>Checkin</th>\n",
       "      <th>Cleanliness</th>\n",
       "      <th>BarService</th>\n",
       "    </tr>\n",
       "  </thead>\n",
       "  <tbody>\n",
       "    <tr>\n",
       "      <th>count</th>\n",
       "      <td>15589.000000</td>\n",
       "      <td>15394.000000</td>\n",
       "      <td>15589.000000</td>\n",
       "      <td>15589.000000</td>\n",
       "      <td>15589.000000</td>\n",
       "      <td>15589.000000</td>\n",
       "      <td>15589.000000</td>\n",
       "      <td>15589.000000</td>\n",
       "      <td>15589.000000</td>\n",
       "      <td>15589.000000</td>\n",
       "      <td>15589.000000</td>\n",
       "      <td>15589.000000</td>\n",
       "      <td>15589.000000</td>\n",
       "      <td>15589.000000</td>\n",
       "      <td>15589.000000</td>\n",
       "      <td>15589.000000</td>\n",
       "      <td>15589.000000</td>\n",
       "    </tr>\n",
       "    <tr>\n",
       "      <th>mean</th>\n",
       "      <td>7795.000000</td>\n",
       "      <td>1981.706444</td>\n",
       "      <td>5022.593816</td>\n",
       "      <td>2.841619</td>\n",
       "      <td>2.997242</td>\n",
       "      <td>2.844570</td>\n",
       "      <td>2.986016</td>\n",
       "      <td>3.245109</td>\n",
       "      <td>3.374816</td>\n",
       "      <td>3.506383</td>\n",
       "      <td>3.454231</td>\n",
       "      <td>3.459683</td>\n",
       "      <td>3.470845</td>\n",
       "      <td>3.700558</td>\n",
       "      <td>3.327282</td>\n",
       "      <td>3.692347</td>\n",
       "      <td>3.347360</td>\n",
       "    </tr>\n",
       "    <tr>\n",
       "      <th>std</th>\n",
       "      <td>4500.301008</td>\n",
       "      <td>15.179042</td>\n",
       "      <td>1027.962379</td>\n",
       "      <td>1.388624</td>\n",
       "      <td>1.518994</td>\n",
       "      <td>1.436948</td>\n",
       "      <td>1.299438</td>\n",
       "      <td>1.327026</td>\n",
       "      <td>1.352417</td>\n",
       "      <td>1.319565</td>\n",
       "      <td>1.310343</td>\n",
       "      <td>1.268130</td>\n",
       "      <td>1.293873</td>\n",
       "      <td>1.158644</td>\n",
       "      <td>1.266872</td>\n",
       "      <td>1.154437</td>\n",
       "      <td>1.300452</td>\n",
       "    </tr>\n",
       "    <tr>\n",
       "      <th>min</th>\n",
       "      <td>1.000000</td>\n",
       "      <td>1936.000000</td>\n",
       "      <td>409.000000</td>\n",
       "      <td>0.000000</td>\n",
       "      <td>0.000000</td>\n",
       "      <td>0.000000</td>\n",
       "      <td>1.000000</td>\n",
       "      <td>0.000000</td>\n",
       "      <td>0.000000</td>\n",
       "      <td>1.000000</td>\n",
       "      <td>0.000000</td>\n",
       "      <td>1.000000</td>\n",
       "      <td>0.000000</td>\n",
       "      <td>1.000000</td>\n",
       "      <td>1.000000</td>\n",
       "      <td>1.000000</td>\n",
       "      <td>0.000000</td>\n",
       "    </tr>\n",
       "    <tr>\n",
       "      <th>25%</th>\n",
       "      <td>3898.000000</td>\n",
       "      <td>1970.000000</td>\n",
       "      <td>4445.000000</td>\n",
       "      <td>2.000000</td>\n",
       "      <td>2.000000</td>\n",
       "      <td>2.000000</td>\n",
       "      <td>2.000000</td>\n",
       "      <td>2.000000</td>\n",
       "      <td>2.000000</td>\n",
       "      <td>3.000000</td>\n",
       "      <td>2.000000</td>\n",
       "      <td>3.000000</td>\n",
       "      <td>2.000000</td>\n",
       "      <td>3.000000</td>\n",
       "      <td>3.000000</td>\n",
       "      <td>3.000000</td>\n",
       "      <td>2.000000</td>\n",
       "    </tr>\n",
       "    <tr>\n",
       "      <th>50%</th>\n",
       "      <td>7795.000000</td>\n",
       "      <td>1981.000000</td>\n",
       "      <td>5088.000000</td>\n",
       "      <td>3.000000</td>\n",
       "      <td>3.000000</td>\n",
       "      <td>3.000000</td>\n",
       "      <td>3.000000</td>\n",
       "      <td>3.000000</td>\n",
       "      <td>4.000000</td>\n",
       "      <td>4.000000</td>\n",
       "      <td>4.000000</td>\n",
       "      <td>4.000000</td>\n",
       "      <td>4.000000</td>\n",
       "      <td>4.000000</td>\n",
       "      <td>3.000000</td>\n",
       "      <td>4.000000</td>\n",
       "      <td>3.000000</td>\n",
       "    </tr>\n",
       "    <tr>\n",
       "      <th>75%</th>\n",
       "      <td>11692.000000</td>\n",
       "      <td>1994.000000</td>\n",
       "      <td>5649.000000</td>\n",
       "      <td>4.000000</td>\n",
       "      <td>4.000000</td>\n",
       "      <td>4.000000</td>\n",
       "      <td>4.000000</td>\n",
       "      <td>4.000000</td>\n",
       "      <td>4.000000</td>\n",
       "      <td>5.000000</td>\n",
       "      <td>5.000000</td>\n",
       "      <td>4.000000</td>\n",
       "      <td>5.000000</td>\n",
       "      <td>5.000000</td>\n",
       "      <td>4.000000</td>\n",
       "      <td>5.000000</td>\n",
       "      <td>4.000000</td>\n",
       "    </tr>\n",
       "    <tr>\n",
       "      <th>max</th>\n",
       "      <td>15589.000000</td>\n",
       "      <td>2014.000000</td>\n",
       "      <td>6950.000000</td>\n",
       "      <td>5.000000</td>\n",
       "      <td>5.000000</td>\n",
       "      <td>5.000000</td>\n",
       "      <td>5.000000</td>\n",
       "      <td>6.000000</td>\n",
       "      <td>5.000000</td>\n",
       "      <td>5.000000</td>\n",
       "      <td>5.000000</td>\n",
       "      <td>5.000000</td>\n",
       "      <td>5.000000</td>\n",
       "      <td>5.000000</td>\n",
       "      <td>5.000000</td>\n",
       "      <td>5.000000</td>\n",
       "      <td>5.000000</td>\n",
       "    </tr>\n",
       "  </tbody>\n",
       "</table>\n",
       "</div>"
      ],
      "text/plain": [
       "            Cust_ID    Year_Birth  RewardPoints       Comfort  \\\n",
       "count  15589.000000  15394.000000  15589.000000  15589.000000   \n",
       "mean    7795.000000   1981.706444   5022.593816      2.841619   \n",
       "std     4500.301008     15.179042   1027.962379      1.388624   \n",
       "min        1.000000   1936.000000    409.000000      0.000000   \n",
       "25%     3898.000000   1970.000000   4445.000000      2.000000   \n",
       "50%     7795.000000   1981.000000   5088.000000      3.000000   \n",
       "75%    11692.000000   1994.000000   5649.000000      4.000000   \n",
       "max    15589.000000   2014.000000   6950.000000      5.000000   \n",
       "\n",
       "       ReceptionSchedule     FoodDrink      Location          Wifi  \\\n",
       "count       15589.000000  15589.000000  15589.000000  15589.000000   \n",
       "mean            2.997242      2.844570      2.986016      3.245109   \n",
       "std             1.518994      1.436948      1.299438      1.327026   \n",
       "min             0.000000      0.000000      1.000000      0.000000   \n",
       "25%             2.000000      2.000000      2.000000      2.000000   \n",
       "50%             3.000000      3.000000      3.000000      3.000000   \n",
       "75%             4.000000      4.000000      4.000000      4.000000   \n",
       "max             5.000000      5.000000      5.000000      6.000000   \n",
       "\n",
       "          Amenities         Staff  OnlineBooking  PriceQuality     RoomSpace  \\\n",
       "count  15589.000000  15589.000000   15589.000000  15589.000000  15589.000000   \n",
       "mean       3.374816      3.506383       3.454231      3.459683      3.470845   \n",
       "std        1.352417      1.319565       1.310343      1.268130      1.293873   \n",
       "min        0.000000      1.000000       0.000000      1.000000      0.000000   \n",
       "25%        2.000000      3.000000       2.000000      3.000000      2.000000   \n",
       "50%        4.000000      4.000000       4.000000      4.000000      4.000000   \n",
       "75%        4.000000      5.000000       5.000000      4.000000      5.000000   \n",
       "max        5.000000      5.000000       5.000000      5.000000      5.000000   \n",
       "\n",
       "           CheckOut       Checkin   Cleanliness    BarService  \n",
       "count  15589.000000  15589.000000  15589.000000  15589.000000  \n",
       "mean       3.700558      3.327282      3.692347      3.347360  \n",
       "std        1.158644      1.266872      1.154437      1.300452  \n",
       "min        1.000000      1.000000      1.000000      0.000000  \n",
       "25%        3.000000      3.000000      3.000000      2.000000  \n",
       "50%        4.000000      3.000000      4.000000      3.000000  \n",
       "75%        5.000000      4.000000      5.000000      4.000000  \n",
       "max        5.000000      5.000000      5.000000      5.000000  "
      ]
     },
     "execution_count": 7,
     "metadata": {},
     "output_type": "execute_result"
    }
   ],
   "source": [
    "df.describe()"
   ]
  },
  {
   "cell_type": "markdown",
   "id": "4bf52b5b",
   "metadata": {},
   "source": [
    "**Identified Issues**:\n",
    "  * Wifi column contains evaluations with value 6, and it should be between 0-5\n",
    "  * Year_Birth has 195 missing values (as already noticed above)"
   ]
  },
  {
   "cell_type": "markdown",
   "id": "9a548654",
   "metadata": {},
   "source": [
    "* Categorical Variables"
   ]
  },
  {
   "cell_type": "code",
   "execution_count": 8,
   "id": "cf21cefa",
   "metadata": {},
   "outputs": [
    {
     "data": {
      "text/html": [
       "<div>\n",
       "<style scoped>\n",
       "    .dataframe tbody tr th:only-of-type {\n",
       "        vertical-align: middle;\n",
       "    }\n",
       "\n",
       "    .dataframe tbody tr th {\n",
       "        vertical-align: top;\n",
       "    }\n",
       "\n",
       "    .dataframe thead th {\n",
       "        text-align: right;\n",
       "    }\n",
       "</style>\n",
       "<table border=\"1\" class=\"dataframe\">\n",
       "  <thead>\n",
       "    <tr style=\"text-align: right;\">\n",
       "      <th></th>\n",
       "      <th>Churn</th>\n",
       "      <th>Name</th>\n",
       "      <th>Longevity</th>\n",
       "      <th>TypeTravel</th>\n",
       "      <th>RoomType</th>\n",
       "    </tr>\n",
       "  </thead>\n",
       "  <tbody>\n",
       "    <tr>\n",
       "      <th>count</th>\n",
       "      <td>15589</td>\n",
       "      <td>15589</td>\n",
       "      <td>15589</td>\n",
       "      <td>15589</td>\n",
       "      <td>15589</td>\n",
       "    </tr>\n",
       "    <tr>\n",
       "      <th>unique</th>\n",
       "      <td>2</td>\n",
       "      <td>14227</td>\n",
       "      <td>3</td>\n",
       "      <td>2</td>\n",
       "      <td>3</td>\n",
       "    </tr>\n",
       "    <tr>\n",
       "      <th>top</th>\n",
       "      <td>nochurn</td>\n",
       "      <td>Mr. Michael Smith</td>\n",
       "      <td>yes</td>\n",
       "      <td>business</td>\n",
       "      <td>single</td>\n",
       "    </tr>\n",
       "    <tr>\n",
       "      <th>freq</th>\n",
       "      <td>8477</td>\n",
       "      <td>9</td>\n",
       "      <td>12548</td>\n",
       "      <td>10756</td>\n",
       "      <td>7442</td>\n",
       "    </tr>\n",
       "  </tbody>\n",
       "</table>\n",
       "</div>"
      ],
      "text/plain": [
       "          Churn               Name Longevity TypeTravel RoomType\n",
       "count     15589              15589     15589      15589    15589\n",
       "unique        2              14227         3          2        3\n",
       "top     nochurn  Mr. Michael Smith       yes   business   single\n",
       "freq       8477                  9     12548      10756     7442"
      ]
     },
     "execution_count": 8,
     "metadata": {},
     "output_type": "execute_result"
    }
   ],
   "source": [
    "df.describe(include = ['O'])"
   ]
  },
  {
   "cell_type": "markdown",
   "id": "675622a1",
   "metadata": {},
   "source": [
    "**Identified Issues**:\n",
    "  * Name variable has a lot of different attributes which might indicate that will not be useful in our analysis\n",
    "  * Longevity has 3 possible variables when we were expecting two (yes/no)"
   ]
  },
  {
   "cell_type": "markdown",
   "id": "3d243c35",
   "metadata": {},
   "source": [
    "__`3.2`__ __Check the levels/possible values in the variables \"Wifi\",\"Longevity\", \"TypeTravel\" and \"RoomType\"__"
   ]
  },
  {
   "cell_type": "code",
   "execution_count": 9,
   "id": "3004c0f0",
   "metadata": {},
   "outputs": [
    {
     "data": {
      "text/plain": [
       "4    3704\n",
       "5    3446\n",
       "3    3348\n",
       "2    3245\n",
       "1    1792\n",
       "6      36\n",
       "0      18\n",
       "Name: Wifi, dtype: int64"
      ]
     },
     "execution_count": 9,
     "metadata": {},
     "output_type": "execute_result"
    }
   ],
   "source": [
    "df['Wifi'].value_counts()"
   ]
  },
  {
   "cell_type": "code",
   "execution_count": 10,
   "id": "01ddf42e",
   "metadata": {},
   "outputs": [
    {
     "data": {
      "text/plain": [
       "yes    12548\n",
       "no      2874\n",
       "y        167\n",
       "Name: Longevity, dtype: int64"
      ]
     },
     "execution_count": 10,
     "metadata": {},
     "output_type": "execute_result"
    }
   ],
   "source": [
    "df['Longevity'].value_counts()"
   ]
  },
  {
   "cell_type": "code",
   "execution_count": 11,
   "id": "1c569053",
   "metadata": {},
   "outputs": [
    {
     "data": {
      "text/plain": [
       "business    10756\n",
       "leisure      4833\n",
       "Name: TypeTravel, dtype: int64"
      ]
     },
     "execution_count": 11,
     "metadata": {},
     "output_type": "execute_result"
    }
   ],
   "source": [
    "df['TypeTravel'].value_counts()"
   ]
  },
  {
   "cell_type": "code",
   "execution_count": 12,
   "id": "052a5f9c",
   "metadata": {},
   "outputs": [
    {
     "data": {
      "text/plain": [
       "single    7442\n",
       "double    7021\n",
       "suite     1126\n",
       "Name: RoomType, dtype: int64"
      ]
     },
     "execution_count": 12,
     "metadata": {},
     "output_type": "execute_result"
    }
   ],
   "source": [
    "df['RoomType'].value_counts()"
   ]
  },
  {
   "cell_type": "markdown",
   "id": "88e2de51",
   "metadata": {},
   "source": [
    "__`Step 4`__ Visual Exploration."
   ]
  },
  {
   "cell_type": "markdown",
   "id": "906cb21c",
   "metadata": {},
   "source": [
    "__Numerical Variables__"
   ]
  },
  {
   "cell_type": "markdown",
   "id": "7f0bfdd3",
   "metadata": {},
   "source": [
    "__`4.1`__ Create a `histogram` for the variable Year Birth to gain a better insight of its behaviour"
   ]
  },
  {
   "cell_type": "code",
   "execution_count": 13,
   "id": "0795afae",
   "metadata": {},
   "outputs": [
    {
     "data": {
      "text/plain": [
       "<AxesSubplot:xlabel='Year_Birth', ylabel='Count'>"
      ]
     },
     "execution_count": 13,
     "metadata": {},
     "output_type": "execute_result"
    },
    {
     "data": {
      "image/png": "[encoded data removed]",
      "text/plain": [
       "<Figure size 864x576 with 1 Axes>"
      ]
     },
     "metadata": {
      "needs_background": "light"
     },
     "output_type": "display_data"
    }
   ],
   "source": [
    "figure = plt.figure(figsize=(12,8))\n",
    "sns.histplot(df['Year_Birth'], color=\"g\", bins = 24)"
   ]
  },
  {
   "cell_type": "markdown",
   "id": "ae5bfc2f",
   "metadata": {},
   "source": [
    "__`4.2`__ Create a `scatterplot` where the x axis represent the RewardPoints and the y axis define the Year of Birth of the customers"
   ]
  },
  {
   "cell_type": "code",
   "execution_count": 14,
   "id": "427c27af",
   "metadata": {},
   "outputs": [
    {
     "data": {
      "text/plain": [
       "<AxesSubplot:xlabel='RewardPoints', ylabel='Year_Birth'>"
      ]
     },
     "execution_count": 14,
     "metadata": {},
     "output_type": "execute_result"
    },
    {
     "data": {
      "image/png": "[encoded data removed]",
      "text/plain": [
       "<Figure size 864x576 with 1 Axes>"
      ]
     },
     "metadata": {
      "needs_background": "light"
     },
     "output_type": "display_data"
    }
   ],
   "source": [
    "figure = plt.figure(figsize=(12,8))\n",
    "sns.scatterplot(x = 'RewardPoints', y= 'Year_Birth',color=\"g\", data = df)"
   ]
  },
  {
   "cell_type": "markdown",
   "id": "9d10441d",
   "metadata": {},
   "source": [
    "__Categorical Variables__"
   ]
  },
  {
   "cell_type": "code",
   "execution_count": 15,
   "id": "537d65cc",
   "metadata": {},
   "outputs": [
    {
     "data": {
      "text/plain": [
       "<AxesSubplot:xlabel='BarService', ylabel='Count'>"
      ]
     },
     "execution_count": 15,
     "metadata": {},
     "output_type": "execute_result"
    },
    {
     "data": {
      "image/png": "[encoded data removed]",
      "text/plain": [
       "<Figure size 1728x576 with 8 Axes>"
      ]
     },
     "metadata": {
      "needs_background": "light"
     },
     "output_type": "display_data"
    },
    {
     "data": {
      "image/png": "[encoded data removed]",
      "text/plain": [
       "<Figure size 1728x576 with 6 Axes>"
      ]
     },
     "metadata": {
      "needs_background": "light"
     },
     "output_type": "display_data"
    }
   ],
   "source": [
    "figure = plt.figure(figsize=(24,8))\n",
    "ax = plt.subplot(241)\n",
    "sns.histplot(df['Comfort'], color=\"g\", bins = 6)\n",
    "ax = plt.subplot(242)\n",
    "sns.histplot(df['ReceptionSchedule'], color=\"g\", bins = 6)\n",
    "ax = plt.subplot(243)\n",
    "sns.histplot(df['FoodDrink'], color=\"g\", bins = 6)\n",
    "ax = plt.subplot(244)\n",
    "sns.histplot(df['Location'], color=\"g\", bins = 6)\n",
    "ax = plt.subplot(245)\n",
    "sns.histplot(df['Wifi'], color=\"g\", bins = 6)\n",
    "ax = plt.subplot(246)\n",
    "sns.histplot(df['Amenities'], color=\"g\", bins = 6)\n",
    "ax = plt.subplot(247)\n",
    "sns.histplot(df['Staff'], color=\"g\", bins = 6)\n",
    "ax = plt.subplot(248)\n",
    "sns.histplot(df['OnlineBooking'], color=\"g\", bins = 6)\n",
    "\n",
    "figure = plt.figure(figsize=(24,8))\n",
    "ax = plt.subplot(241)\n",
    "sns.histplot(df['PriceQuality'], color=\"g\", bins = 6)\n",
    "ax = plt.subplot(242)\n",
    "sns.histplot(df['RoomSpace'], color=\"g\", bins = 6)\n",
    "ax = plt.subplot(243)\n",
    "sns.histplot(df['CheckOut'], color=\"g\", bins = 6)\n",
    "ax = plt.subplot(244)\n",
    "sns.histplot(df['Checkin'], color=\"g\", bins = 6)       \n",
    "ax = plt.subplot(245)\n",
    "sns.histplot(df['Cleanliness'], color=\"g\", bins = 6)            \n",
    "ax = plt.subplot(246)\n",
    "sns.histplot(df['BarService'], color=\"g\", bins = 6)          "
   ]
  },
  {
   "cell_type": "markdown",
   "id": "cdede8e2",
   "metadata": {},
   "source": [
    "More `in depth exploration`"
   ]
  },
  {
   "cell_type": "code",
   "execution_count": 16,
   "id": "8696c389",
   "metadata": {},
   "outputs": [
    {
     "data": {
      "text/plain": [
       "Year_Birth\n",
       "1936.0    2610.500000\n",
       "1941.0    5108.307692\n",
       "1942.0    5431.000000\n",
       "1943.0    5344.833333\n",
       "1944.0    5618.500000\n",
       "             ...     \n",
       "2010.0    4806.688679\n",
       "2011.0    4968.072917\n",
       "2012.0    4709.642857\n",
       "2013.0    4699.405941\n",
       "2014.0    4824.547619\n",
       "Name: RewardPoints, Length: 75, dtype: float64"
      ]
     },
     "execution_count": 16,
     "metadata": {},
     "output_type": "execute_result"
    }
   ],
   "source": [
    "df.groupby('Year_Birth')['RewardPoints'].mean()"
   ]
  },
  {
   "cell_type": "code",
   "execution_count": 17,
   "id": "d6c42ac5",
   "metadata": {},
   "outputs": [
    {
     "data": {
      "text/plain": [
       "RoomType\n",
       "double    5165.5\n",
       "single    4872.0\n",
       "suite     5217.0\n",
       "Name: RewardPoints, dtype: float64"
      ]
     },
     "execution_count": 17,
     "metadata": {},
     "output_type": "execute_result"
    }
   ],
   "source": [
    "df.query('TypeTravel == \"business\"').groupby('RoomType')['RewardPoints'].median()"
   ]
  },
  {
   "cell_type": "markdown",
   "id": "6e86027a",
   "metadata": {},
   "source": [
    "<a class=\"anchor\" id=\"datapreprocess\">\n",
    "\n",
    "### <font color = '#cc9900'> 3.2. Pre-Process the Data </font>\n",
    "\n",
    "[Back to Contents](#toc) "
   ]
  },
  {
   "cell_type": "markdown",
   "id": "41dac36c",
   "metadata": {},
   "source": [
    "__`Step 5`__ Define Cust_ID as Index"
   ]
  },
  {
   "cell_type": "code",
   "execution_count": 18,
   "id": "b6d7321d",
   "metadata": {},
   "outputs": [],
   "source": [
    "df.set_index('Cust_ID', inplace = True)"
   ]
  },
  {
   "cell_type": "markdown",
   "id": "551c8a7b",
   "metadata": {},
   "source": [
    "__`Step 6`__ Data Cleaning"
   ]
  },
  {
   "cell_type": "markdown",
   "id": "01be4e86",
   "metadata": {},
   "source": [
    "* Checking for `Outliers`"
   ]
  },
  {
   "cell_type": "code",
   "execution_count": 19,
   "id": "dab14a1f",
   "metadata": {},
   "outputs": [
    {
     "data": {
      "text/plain": [
       "<AxesSubplot:xlabel='RewardPoints'>"
      ]
     },
     "execution_count": 19,
     "metadata": {},
     "output_type": "execute_result"
    },
    {
     "data": {
      "image/png": "[encoded data removed]",
      "text/plain": [
       "<Figure size 1008x432 with 2 Axes>"
      ]
     },
     "metadata": {
      "needs_background": "light"
     },
     "output_type": "display_data"
    }
   ],
   "source": [
    "fig, axes = plt.subplots(1,2, figsize = (14,6))\n",
    "sns.boxplot(ax = axes[0], data = df, x = 'Year_Birth')\n",
    "sns.boxplot(ax = axes[1], data = df, x = 'RewardPoints')"
   ]
  },
  {
   "cell_type": "code",
   "execution_count": 20,
   "id": "ee4d2536",
   "metadata": {},
   "outputs": [
    {
     "data": {
      "text/plain": [
       "<AxesSubplot:xlabel='RewardPoints', ylabel='Count'>"
      ]
     },
     "execution_count": 20,
     "metadata": {},
     "output_type": "execute_result"
    },
    {
     "data": {
      "image/png": "[encoded data removed]",
      "text/plain": [
       "<Figure size 1008x432 with 2 Axes>"
      ]
     },
     "metadata": {
      "needs_background": "light"
     },
     "output_type": "display_data"
    }
   ],
   "source": [
    "fig, axes = plt.subplots(1,2, figsize = (14,6))\n",
    "sns.histplot(ax = axes[0], data = df, x = 'Year_Birth', bins = 20)\n",
    "sns.histplot(ax = axes[1], data = df, x = 'RewardPoints', bins = 20)"
   ]
  },
  {
   "cell_type": "markdown",
   "id": "39e5faff",
   "metadata": {},
   "source": [
    "* From the figures above, we conclude that RewardPoints < 1000 may represent outliers in our dataset\n",
    "\n",
    "Check the amount of reviews with RewardPoints < 1000"
   ]
  },
  {
   "cell_type": "code",
   "execution_count": 21,
   "id": "64b45eac",
   "metadata": {},
   "outputs": [
    {
     "data": {
      "text/html": [
       "<div>\n",
       "<style scoped>\n",
       "    .dataframe tbody tr th:only-of-type {\n",
       "        vertical-align: middle;\n",
       "    }\n",
       "\n",
       "    .dataframe tbody tr th {\n",
       "        vertical-align: top;\n",
       "    }\n",
       "\n",
       "    .dataframe thead th {\n",
       "        text-align: right;\n",
       "    }\n",
       "</style>\n",
       "<table border=\"1\" class=\"dataframe\">\n",
       "  <thead>\n",
       "    <tr style=\"text-align: right;\">\n",
       "      <th></th>\n",
       "      <th>Churn</th>\n",
       "      <th>Name</th>\n",
       "      <th>Longevity</th>\n",
       "      <th>Year_Birth</th>\n",
       "      <th>TypeTravel</th>\n",
       "      <th>RoomType</th>\n",
       "      <th>RewardPoints</th>\n",
       "      <th>Comfort</th>\n",
       "      <th>ReceptionSchedule</th>\n",
       "      <th>FoodDrink</th>\n",
       "      <th>...</th>\n",
       "      <th>Wifi</th>\n",
       "      <th>Amenities</th>\n",
       "      <th>Staff</th>\n",
       "      <th>OnlineBooking</th>\n",
       "      <th>PriceQuality</th>\n",
       "      <th>RoomSpace</th>\n",
       "      <th>CheckOut</th>\n",
       "      <th>Checkin</th>\n",
       "      <th>Cleanliness</th>\n",
       "      <th>BarService</th>\n",
       "    </tr>\n",
       "    <tr>\n",
       "      <th>Cust_ID</th>\n",
       "      <th></th>\n",
       "      <th></th>\n",
       "      <th></th>\n",
       "      <th></th>\n",
       "      <th></th>\n",
       "      <th></th>\n",
       "      <th></th>\n",
       "      <th></th>\n",
       "      <th></th>\n",
       "      <th></th>\n",
       "      <th></th>\n",
       "      <th></th>\n",
       "      <th></th>\n",
       "      <th></th>\n",
       "      <th></th>\n",
       "      <th></th>\n",
       "      <th></th>\n",
       "      <th></th>\n",
       "      <th></th>\n",
       "      <th></th>\n",
       "      <th></th>\n",
       "    </tr>\n",
       "  </thead>\n",
       "  <tbody>\n",
       "    <tr>\n",
       "      <th>5780</th>\n",
       "      <td>nochurn</td>\n",
       "      <td>Ms. Kimberly Patterson</td>\n",
       "      <td>yes</td>\n",
       "      <td>1958.0</td>\n",
       "      <td>leisure</td>\n",
       "      <td>single</td>\n",
       "      <td>409</td>\n",
       "      <td>0</td>\n",
       "      <td>5</td>\n",
       "      <td>0</td>\n",
       "      <td>...</td>\n",
       "      <td>0</td>\n",
       "      <td>5</td>\n",
       "      <td>1</td>\n",
       "      <td>3</td>\n",
       "      <td>2</td>\n",
       "      <td>4</td>\n",
       "      <td>3</td>\n",
       "      <td>1</td>\n",
       "      <td>5</td>\n",
       "      <td>1</td>\n",
       "    </tr>\n",
       "    <tr>\n",
       "      <th>8159</th>\n",
       "      <td>churn</td>\n",
       "      <td>Mr. Alexander Wood</td>\n",
       "      <td>no</td>\n",
       "      <td>2013.0</td>\n",
       "      <td>business</td>\n",
       "      <td>double</td>\n",
       "      <td>901</td>\n",
       "      <td>2</td>\n",
       "      <td>2</td>\n",
       "      <td>2</td>\n",
       "      <td>...</td>\n",
       "      <td>2</td>\n",
       "      <td>4</td>\n",
       "      <td>4</td>\n",
       "      <td>3</td>\n",
       "      <td>4</td>\n",
       "      <td>3</td>\n",
       "      <td>4</td>\n",
       "      <td>4</td>\n",
       "      <td>2</td>\n",
       "      <td>4</td>\n",
       "    </tr>\n",
       "    <tr>\n",
       "      <th>9677</th>\n",
       "      <td>churn</td>\n",
       "      <td>Mr. Cody Silva</td>\n",
       "      <td>yes</td>\n",
       "      <td>1986.0</td>\n",
       "      <td>leisure</td>\n",
       "      <td>double</td>\n",
       "      <td>530</td>\n",
       "      <td>1</td>\n",
       "      <td>1</td>\n",
       "      <td>1</td>\n",
       "      <td>...</td>\n",
       "      <td>1</td>\n",
       "      <td>3</td>\n",
       "      <td>3</td>\n",
       "      <td>1</td>\n",
       "      <td>2</td>\n",
       "      <td>2</td>\n",
       "      <td>2</td>\n",
       "      <td>3</td>\n",
       "      <td>2</td>\n",
       "      <td>3</td>\n",
       "    </tr>\n",
       "    <tr>\n",
       "      <th>11435</th>\n",
       "      <td>nochurn</td>\n",
       "      <td>Ms. Hannah Jones</td>\n",
       "      <td>yes</td>\n",
       "      <td>1988.0</td>\n",
       "      <td>business</td>\n",
       "      <td>single</td>\n",
       "      <td>463</td>\n",
       "      <td>1</td>\n",
       "      <td>1</td>\n",
       "      <td>1</td>\n",
       "      <td>...</td>\n",
       "      <td>4</td>\n",
       "      <td>4</td>\n",
       "      <td>4</td>\n",
       "      <td>4</td>\n",
       "      <td>1</td>\n",
       "      <td>4</td>\n",
       "      <td>5</td>\n",
       "      <td>4</td>\n",
       "      <td>3</td>\n",
       "      <td>4</td>\n",
       "    </tr>\n",
       "    <tr>\n",
       "      <th>12152</th>\n",
       "      <td>nochurn</td>\n",
       "      <td>Mr. Stanley Miller</td>\n",
       "      <td>yes</td>\n",
       "      <td>1961.0</td>\n",
       "      <td>business</td>\n",
       "      <td>single</td>\n",
       "      <td>429</td>\n",
       "      <td>2</td>\n",
       "      <td>5</td>\n",
       "      <td>2</td>\n",
       "      <td>...</td>\n",
       "      <td>3</td>\n",
       "      <td>3</td>\n",
       "      <td>3</td>\n",
       "      <td>5</td>\n",
       "      <td>3</td>\n",
       "      <td>4</td>\n",
       "      <td>4</td>\n",
       "      <td>3</td>\n",
       "      <td>3</td>\n",
       "      <td>3</td>\n",
       "    </tr>\n",
       "    <tr>\n",
       "      <th>14529</th>\n",
       "      <td>nochurn</td>\n",
       "      <td>Ms. Kim Miller</td>\n",
       "      <td>yes</td>\n",
       "      <td>1995.0</td>\n",
       "      <td>business</td>\n",
       "      <td>single</td>\n",
       "      <td>874</td>\n",
       "      <td>2</td>\n",
       "      <td>2</td>\n",
       "      <td>2</td>\n",
       "      <td>...</td>\n",
       "      <td>4</td>\n",
       "      <td>4</td>\n",
       "      <td>4</td>\n",
       "      <td>3</td>\n",
       "      <td>5</td>\n",
       "      <td>4</td>\n",
       "      <td>4</td>\n",
       "      <td>4</td>\n",
       "      <td>5</td>\n",
       "      <td>4</td>\n",
       "    </tr>\n",
       "  </tbody>\n",
       "</table>\n",
       "<p>6 rows × 21 columns</p>\n",
       "</div>"
      ],
      "text/plain": [
       "           Churn                    Name Longevity  Year_Birth TypeTravel  \\\n",
       "Cust_ID                                                                     \n",
       "5780     nochurn  Ms. Kimberly Patterson       yes      1958.0    leisure   \n",
       "8159       churn      Mr. Alexander Wood        no      2013.0   business   \n",
       "9677       churn          Mr. Cody Silva       yes      1986.0    leisure   \n",
       "11435    nochurn        Ms. Hannah Jones       yes      1988.0   business   \n",
       "12152    nochurn      Mr. Stanley Miller       yes      1961.0   business   \n",
       "14529    nochurn          Ms. Kim Miller       yes      1995.0   business   \n",
       "\n",
       "        RoomType  RewardPoints  Comfort  ReceptionSchedule  FoodDrink  ...  \\\n",
       "Cust_ID                                                                ...   \n",
       "5780      single           409        0                  5          0  ...   \n",
       "8159      double           901        2                  2          2  ...   \n",
       "9677      double           530        1                  1          1  ...   \n",
       "11435     single           463        1                  1          1  ...   \n",
       "12152     single           429        2                  5          2  ...   \n",
       "14529     single           874        2                  2          2  ...   \n",
       "\n",
       "         Wifi  Amenities  Staff  OnlineBooking  PriceQuality  RoomSpace  \\\n",
       "Cust_ID                                                                   \n",
       "5780        0          5      1              3             2          4   \n",
       "8159        2          4      4              3             4          3   \n",
       "9677        1          3      3              1             2          2   \n",
       "11435       4          4      4              4             1          4   \n",
       "12152       3          3      3              5             3          4   \n",
       "14529       4          4      4              3             5          4   \n",
       "\n",
       "         CheckOut  Checkin  Cleanliness  BarService  \n",
       "Cust_ID                                              \n",
       "5780            3        1            5           1  \n",
       "8159            4        4            2           4  \n",
       "9677            2        3            2           3  \n",
       "11435           5        4            3           4  \n",
       "12152           4        3            3           3  \n",
       "14529           4        4            5           4  \n",
       "\n",
       "[6 rows x 21 columns]"
      ]
     },
     "execution_count": 21,
     "metadata": {},
     "output_type": "execute_result"
    }
   ],
   "source": [
    "df[df['RewardPoints'] < 1000]"
   ]
  },
  {
   "cell_type": "markdown",
   "id": "11e9eb6f",
   "metadata": {},
   "source": [
    "* The total amount of reviews that verify this condition - 6 customer reviews - are << 3% of our dataset. \n",
    "\n",
    "Remove the observations where RewardPoints < 1000"
   ]
  },
  {
   "cell_type": "code",
   "execution_count": 22,
   "id": "0e47ee8d",
   "metadata": {},
   "outputs": [],
   "source": [
    "df = df.drop(df[df['RewardPoints'] < 1000].index)"
   ]
  },
  {
   "cell_type": "markdown",
   "id": "67a058af",
   "metadata": {},
   "source": [
    "* Dealing with the `missing values`\n",
    "\n",
    "In our dataset, and as was previously mentioned, the only feature with missing values is __Year_Birth__ with 195 missing values. It represents a small portion of our dataset (about 1 %) so the dropping of this observations was an option. However, a different approach was taken, considering different options to fill these missing values."
   ]
  },
  {
   "cell_type": "code",
   "execution_count": 23,
   "id": "ceed85a7",
   "metadata": {},
   "outputs": [
    {
     "data": {
      "text/plain": [
       "Churn                  0\n",
       "Name                   0\n",
       "Longevity              0\n",
       "Year_Birth           195\n",
       "TypeTravel             0\n",
       "RoomType               0\n",
       "RewardPoints           0\n",
       "Comfort                0\n",
       "ReceptionSchedule      0\n",
       "FoodDrink              0\n",
       "Location               0\n",
       "Wifi                   0\n",
       "Amenities              0\n",
       "Staff                  0\n",
       "OnlineBooking          0\n",
       "PriceQuality           0\n",
       "RoomSpace              0\n",
       "CheckOut               0\n",
       "Checkin                0\n",
       "Cleanliness            0\n",
       "BarService             0\n",
       "dtype: int64"
      ]
     },
     "execution_count": 23,
     "metadata": {},
     "output_type": "execute_result"
    }
   ],
   "source": [
    "df.isna().sum()"
   ]
  },
  {
   "cell_type": "markdown",
   "id": "3fc09f74",
   "metadata": {},
   "source": [
    "Therefore, the final solution for filling the missing values (that can be used for any case of missing value..) was by using the __KNN Imputer__.\n",
    "\n",
    "### <font color='#0000FF'> K-Nearest Neighbor (KNN) Imputer\n",
    "A usually good approach to missing data imputation is to use a model do predict the missing values. An algorithm that has proven to be effective in this purpose, is the k-nearest neighbor.\n",
    "\n",
    "A simple description of the k-Nearest Neighbours (kNN) is that it identifies the neighboring points through a measure of distance and the missing values can be estimated using completed values of neighboring observations. \n",
    "Basically, the idea in kNN is to identify ‘k’ samples in the dataset that are similar or close in the space. Then we use these ‘k’ samples to estimate the value of the missing data points. Each sample’s missing values are imputed using the mean value of the ‘k’-neighbors found in the dataset.\n",
    "\n",
    "The main parameters of the KNN algorithm are as follows: \n",
    "\n",
    "`missing_values` Weight function used in prediction (default = np.nan) <br>\n",
    "`n_neighbors` Weight function used in prediction (default = 5) <br>\n",
    "`weights` Weight function used in prediction (default = 'uniform') <br>\n",
    "`metric` Distance metric for searching neighbors (default = 'nan_euclidean') <br>\n",
    "\n",
    "\n",
    "Below, we create a funcion that will accept three input parameters:\n",
    "- __df_train__: train dataset with the missing values\n",
    "- __df_val__:  val dataset with missing values\n",
    "- __yes_name__: boolean parameter, True if customer name still in dataset\n",
    "- __yes_dummies__: boolean parameter, True if dataset already dummies\n",
    "- __missing_cols__: features with missing data\n",
    "    \n",
    "As we are splitting our dataset into train a validation subsets further in this project, this function to fill missing values will be executed then. "
   ]
  },
  {
   "cell_type": "code",
   "execution_count": 24,
   "id": "c28cbc25",
   "metadata": {},
   "outputs": [],
   "source": [
    "def knn_impute(df_train,df_val, yes_name,yes_dummies, missing_cols):\n",
    "    \n",
    "    df_train_noid = df_train.reset_index()\n",
    "    df_val_noid = df_val.reset_index()\n",
    "    # before creating our dummy dataframe\n",
    "    if (yes_name == True) and (yes_dummies == False):\n",
    "        df_train_noname = df_train_noid.copy()\n",
    "        df_train_noname = df_train_noname.drop('Name', axis = 1)\n",
    "        df_train_dummies = pd.get_dummies(df_train_noname, drop_first = True)\n",
    "        df_val_noname = df_val_noid.copy()\n",
    "        df_val_noname = df_val_noname.drop('Name', axis = 1)\n",
    "        df_val_dummies = pd.get_dummies(df_val_noname, drop_first = True)\n",
    "    elif (yes_name == False) and (yes_dummies == False):\n",
    "        df_val_noname = df_val_noid.copy()\n",
    "        df_val_dummies = pd.get_dummies(df_val_noname, drop_first = True)\n",
    "        df_train_noname = df_train_noid.copy()\n",
    "        df_train_dummies = pd.get_dummies(df_train_noname, drop_first = True)\n",
    "    else: \n",
    "        df_val_dummies = df_val_noid.copy()\n",
    "        df_train_dummies = df_train_noid.copy()\n",
    "    \n",
    "    imputer = KNNImputer(n_neighbors=10) # defining the number of neighbours\n",
    "    imputer.fit(df_train_dummies)     # fit KNN Imputer on our train data set\n",
    "\n",
    "    # apply to our dataset the fitted KNN inputer, and fill the missing values in train data\n",
    "    Xnew_train = imputer.transform(df_train_dummies) \n",
    "    Xnew_train = pd.DataFrame(Xnew_train,columns=df_train_dummies.columns) # Transform Xnew train in Pandas DataFrame\n",
    "    Xnew_train.set_index('Cust_ID', inplace = True)\n",
    "    \n",
    "    # apply to our dataset the fitted KNN inputer, and fill the missing values in val/test data    \n",
    "    Xnew_val = imputer.transform(df_val_dummies)\n",
    "    Xnew_val = pd.DataFrame(Xnew_val,columns=df_val_dummies.columns) # Transform Xnew val in Pandas DataFrame\n",
    "    Xnew_val.set_index('Cust_ID', inplace = True)\n",
    "\n",
    "    # Replace the transformed column to our complete df datasets\n",
    "    df_train[missing_cols] = Xnew_train[missing_cols]\n",
    "    df_val[missing_cols] = Xnew_val[missing_cols]\n",
    "    \n",
    "    return df_train, df_val"
   ]
  },
  {
   "cell_type": "markdown",
   "id": "6b0b3392",
   "metadata": {},
   "source": [
    "<a class=\"anchor\" id=\"feateng\">\n",
    "\n",
    "### <font color = '#cc9900'> 3.3. Feature Engineering </font>\n",
    "\n",
    "[Back to Contents](#toc) "
   ]
  },
  {
   "cell_type": "markdown",
   "id": "6196aec0",
   "metadata": {},
   "source": [
    "__`Step 7`__ Create new variables `Feature Engineering`"
   ]
  },
  {
   "cell_type": "markdown",
   "id": "96283d70",
   "metadata": {},
   "source": [
    "__Age:__"
   ]
  },
  {
   "cell_type": "code",
   "execution_count": 25,
   "id": "f2ce06e2",
   "metadata": {},
   "outputs": [],
   "source": [
    "df['Age'] = date.today().year - df['Year_Birth']"
   ]
  },
  {
   "cell_type": "markdown",
   "id": "5912c76f",
   "metadata": {},
   "source": [
    "__Gender:__"
   ]
  },
  {
   "cell_type": "code",
   "execution_count": 26,
   "id": "65a7a00f",
   "metadata": {},
   "outputs": [],
   "source": [
    "df['Gender'] = np.where(df['Name'].str[:3] == 'Mr.','M','F')"
   ]
  },
  {
   "cell_type": "code",
   "execution_count": 27,
   "id": "2c5a5f1e",
   "metadata": {},
   "outputs": [
    {
     "data": {
      "text/html": [
       "<div>\n",
       "<style scoped>\n",
       "    .dataframe tbody tr th:only-of-type {\n",
       "        vertical-align: middle;\n",
       "    }\n",
       "\n",
       "    .dataframe tbody tr th {\n",
       "        vertical-align: top;\n",
       "    }\n",
       "\n",
       "    .dataframe thead th {\n",
       "        text-align: right;\n",
       "    }\n",
       "</style>\n",
       "<table border=\"1\" class=\"dataframe\">\n",
       "  <thead>\n",
       "    <tr style=\"text-align: right;\">\n",
       "      <th></th>\n",
       "      <th>Churn</th>\n",
       "      <th>Name</th>\n",
       "      <th>Longevity</th>\n",
       "      <th>Year_Birth</th>\n",
       "      <th>TypeTravel</th>\n",
       "      <th>RoomType</th>\n",
       "      <th>RewardPoints</th>\n",
       "      <th>Comfort</th>\n",
       "      <th>ReceptionSchedule</th>\n",
       "      <th>FoodDrink</th>\n",
       "      <th>...</th>\n",
       "      <th>Staff</th>\n",
       "      <th>OnlineBooking</th>\n",
       "      <th>PriceQuality</th>\n",
       "      <th>RoomSpace</th>\n",
       "      <th>CheckOut</th>\n",
       "      <th>Checkin</th>\n",
       "      <th>Cleanliness</th>\n",
       "      <th>BarService</th>\n",
       "      <th>Age</th>\n",
       "      <th>Gender</th>\n",
       "    </tr>\n",
       "    <tr>\n",
       "      <th>Cust_ID</th>\n",
       "      <th></th>\n",
       "      <th></th>\n",
       "      <th></th>\n",
       "      <th></th>\n",
       "      <th></th>\n",
       "      <th></th>\n",
       "      <th></th>\n",
       "      <th></th>\n",
       "      <th></th>\n",
       "      <th></th>\n",
       "      <th></th>\n",
       "      <th></th>\n",
       "      <th></th>\n",
       "      <th></th>\n",
       "      <th></th>\n",
       "      <th></th>\n",
       "      <th></th>\n",
       "      <th></th>\n",
       "      <th></th>\n",
       "      <th></th>\n",
       "      <th></th>\n",
       "    </tr>\n",
       "  </thead>\n",
       "  <tbody>\n",
       "    <tr>\n",
       "      <th>1</th>\n",
       "      <td>churn</td>\n",
       "      <td>Ms. Nicole Clarke</td>\n",
       "      <td>yes</td>\n",
       "      <td>1974.0</td>\n",
       "      <td>business</td>\n",
       "      <td>single</td>\n",
       "      <td>4907</td>\n",
       "      <td>3</td>\n",
       "      <td>4</td>\n",
       "      <td>1</td>\n",
       "      <td>...</td>\n",
       "      <td>4</td>\n",
       "      <td>3</td>\n",
       "      <td>3</td>\n",
       "      <td>3</td>\n",
       "      <td>3</td>\n",
       "      <td>4</td>\n",
       "      <td>3</td>\n",
       "      <td>4</td>\n",
       "      <td>48.0</td>\n",
       "      <td>F</td>\n",
       "    </tr>\n",
       "    <tr>\n",
       "      <th>2</th>\n",
       "      <td>nochurn</td>\n",
       "      <td>Mr. Jesse Scott</td>\n",
       "      <td>yes</td>\n",
       "      <td>1965.0</td>\n",
       "      <td>business</td>\n",
       "      <td>single</td>\n",
       "      <td>6724</td>\n",
       "      <td>1</td>\n",
       "      <td>1</td>\n",
       "      <td>1</td>\n",
       "      <td>...</td>\n",
       "      <td>4</td>\n",
       "      <td>5</td>\n",
       "      <td>5</td>\n",
       "      <td>5</td>\n",
       "      <td>5</td>\n",
       "      <td>1</td>\n",
       "      <td>5</td>\n",
       "      <td>2</td>\n",
       "      <td>57.0</td>\n",
       "      <td>M</td>\n",
       "    </tr>\n",
       "    <tr>\n",
       "      <th>3</th>\n",
       "      <td>churn</td>\n",
       "      <td>Mr. Christopher Carter</td>\n",
       "      <td>yes</td>\n",
       "      <td>1973.0</td>\n",
       "      <td>business</td>\n",
       "      <td>single</td>\n",
       "      <td>4365</td>\n",
       "      <td>3</td>\n",
       "      <td>3</td>\n",
       "      <td>3</td>\n",
       "      <td>...</td>\n",
       "      <td>4</td>\n",
       "      <td>3</td>\n",
       "      <td>3</td>\n",
       "      <td>2</td>\n",
       "      <td>3</td>\n",
       "      <td>2</td>\n",
       "      <td>3</td>\n",
       "      <td>1</td>\n",
       "      <td>49.0</td>\n",
       "      <td>M</td>\n",
       "    </tr>\n",
       "    <tr>\n",
       "      <th>4</th>\n",
       "      <td>nochurn</td>\n",
       "      <td>Ms. Jennifer Morgan</td>\n",
       "      <td>yes</td>\n",
       "      <td>1993.0</td>\n",
       "      <td>leisure</td>\n",
       "      <td>double</td>\n",
       "      <td>3849</td>\n",
       "      <td>1</td>\n",
       "      <td>1</td>\n",
       "      <td>1</td>\n",
       "      <td>...</td>\n",
       "      <td>5</td>\n",
       "      <td>4</td>\n",
       "      <td>4</td>\n",
       "      <td>4</td>\n",
       "      <td>4</td>\n",
       "      <td>4</td>\n",
       "      <td>4</td>\n",
       "      <td>3</td>\n",
       "      <td>29.0</td>\n",
       "      <td>F</td>\n",
       "    </tr>\n",
       "    <tr>\n",
       "      <th>5</th>\n",
       "      <td>nochurn</td>\n",
       "      <td>Mr. Michael White</td>\n",
       "      <td>yes</td>\n",
       "      <td>1989.0</td>\n",
       "      <td>business</td>\n",
       "      <td>single</td>\n",
       "      <td>5376</td>\n",
       "      <td>2</td>\n",
       "      <td>2</td>\n",
       "      <td>3</td>\n",
       "      <td>...</td>\n",
       "      <td>5</td>\n",
       "      <td>5</td>\n",
       "      <td>5</td>\n",
       "      <td>3</td>\n",
       "      <td>4</td>\n",
       "      <td>1</td>\n",
       "      <td>3</td>\n",
       "      <td>5</td>\n",
       "      <td>33.0</td>\n",
       "      <td>M</td>\n",
       "    </tr>\n",
       "  </tbody>\n",
       "</table>\n",
       "<p>5 rows × 23 columns</p>\n",
       "</div>"
      ],
      "text/plain": [
       "           Churn                    Name Longevity  Year_Birth TypeTravel  \\\n",
       "Cust_ID                                                                     \n",
       "1          churn       Ms. Nicole Clarke       yes      1974.0   business   \n",
       "2        nochurn         Mr. Jesse Scott       yes      1965.0   business   \n",
       "3          churn  Mr. Christopher Carter       yes      1973.0   business   \n",
       "4        nochurn     Ms. Jennifer Morgan       yes      1993.0    leisure   \n",
       "5        nochurn       Mr. Michael White       yes      1989.0   business   \n",
       "\n",
       "        RoomType  RewardPoints  Comfort  ReceptionSchedule  FoodDrink  ...  \\\n",
       "Cust_ID                                                                ...   \n",
       "1         single          4907        3                  4          1  ...   \n",
       "2         single          6724        1                  1          1  ...   \n",
       "3         single          4365        3                  3          3  ...   \n",
       "4         double          3849        1                  1          1  ...   \n",
       "5         single          5376        2                  2          3  ...   \n",
       "\n",
       "         Staff  OnlineBooking  PriceQuality  RoomSpace  CheckOut  Checkin  \\\n",
       "Cust_ID                                                                     \n",
       "1            4              3             3          3         3        4   \n",
       "2            4              5             5          5         5        1   \n",
       "3            4              3             3          2         3        2   \n",
       "4            5              4             4          4         4        4   \n",
       "5            5              5             5          3         4        1   \n",
       "\n",
       "         Cleanliness  BarService   Age  Gender  \n",
       "Cust_ID                                         \n",
       "1                  3           4  48.0       F  \n",
       "2                  5           2  57.0       M  \n",
       "3                  3           1  49.0       M  \n",
       "4                  4           3  29.0       F  \n",
       "5                  3           5  33.0       M  \n",
       "\n",
       "[5 rows x 23 columns]"
      ]
     },
     "execution_count": 27,
     "metadata": {},
     "output_type": "execute_result"
    }
   ],
   "source": [
    "df.head()"
   ]
  },
  {
   "cell_type": "markdown",
   "id": "d06a0158",
   "metadata": {},
   "source": [
    "__`Step 8`__ Identify `missclassifications`\n",
    "\n",
    "- replace Longevity observation with value 'y' by 'yes', assuming these represent some typing error. \n",
    "- drop Wifi observations with value 6 (total of 36 observations)"
   ]
  },
  {
   "cell_type": "code",
   "execution_count": 28,
   "id": "29e9535d",
   "metadata": {},
   "outputs": [
    {
     "data": {
      "text/plain": [
       "yes    12710\n",
       "no      2873\n",
       "Name: Longevity, dtype: int64"
      ]
     },
     "execution_count": 28,
     "metadata": {},
     "output_type": "execute_result"
    }
   ],
   "source": [
    "df['Longevity'] = df['Longevity'].replace('y','yes')\n",
    "df['Longevity'].value_counts()"
   ]
  },
  {
   "cell_type": "code",
   "execution_count": 29,
   "id": "d2044cf8",
   "metadata": {},
   "outputs": [
    {
     "data": {
      "text/plain": [
       "4    3702\n",
       "5    3446\n",
       "3    3347\n",
       "2    3244\n",
       "1    1791\n",
       "0      17\n",
       "Name: Wifi, dtype: int64"
      ]
     },
     "execution_count": 29,
     "metadata": {},
     "output_type": "execute_result"
    }
   ],
   "source": [
    "df = df.drop(df[df['Wifi'] == 6].index)\n",
    "df['Wifi'].value_counts()"
   ]
  },
  {
   "cell_type": "markdown",
   "id": "93912607",
   "metadata": {},
   "source": [
    "__`Step 13`__  `Data Reduction:`  Drop redundant variables `avoid multicolinearity`"
   ]
  },
  {
   "cell_type": "code",
   "execution_count": 30,
   "id": "e2da2c97",
   "metadata": {},
   "outputs": [],
   "source": [
    "df.drop('Year_Birth', axis = 1, inplace = True) "
   ]
  },
  {
   "cell_type": "markdown",
   "id": "8fc8735b",
   "metadata": {},
   "source": [
    "__`Step 14`__  Reorganize dataframe columns"
   ]
  },
  {
   "cell_type": "code",
   "execution_count": 31,
   "id": "02c3d743",
   "metadata": {},
   "outputs": [],
   "source": [
    "column_names = ['Name','Longevity', 'TypeTravel', 'RoomType', 'Age', 'Gender', 'RewardPoints',\n",
    "       'Comfort', 'ReceptionSchedule', 'FoodDrink', 'Location', 'Wifi',\n",
    "       'Amenities', 'Staff', 'OnlineBooking', 'PriceQuality', 'RoomSpace',\n",
    "       'CheckOut', 'Checkin', 'Cleanliness', 'BarService','Churn']\n",
    "df = df.reindex(columns=column_names)"
   ]
  },
  {
   "cell_type": "markdown",
   "id": "37ef3d3b",
   "metadata": {},
   "source": [
    "__`Step 15`__  Transform the target (Churn) feature into binary (0 - nochurn, 1 - churn)"
   ]
  },
  {
   "cell_type": "code",
   "execution_count": 32,
   "id": "df099190",
   "metadata": {},
   "outputs": [
    {
     "data": {
      "text/html": [
       "<div>\n",
       "<style scoped>\n",
       "    .dataframe tbody tr th:only-of-type {\n",
       "        vertical-align: middle;\n",
       "    }\n",
       "\n",
       "    .dataframe tbody tr th {\n",
       "        vertical-align: top;\n",
       "    }\n",
       "\n",
       "    .dataframe thead th {\n",
       "        text-align: right;\n",
       "    }\n",
       "</style>\n",
       "<table border=\"1\" class=\"dataframe\">\n",
       "  <thead>\n",
       "    <tr style=\"text-align: right;\">\n",
       "      <th></th>\n",
       "      <th>Name</th>\n",
       "      <th>Longevity</th>\n",
       "      <th>TypeTravel</th>\n",
       "      <th>RoomType</th>\n",
       "      <th>Age</th>\n",
       "      <th>Gender</th>\n",
       "      <th>RewardPoints</th>\n",
       "      <th>Comfort</th>\n",
       "      <th>ReceptionSchedule</th>\n",
       "      <th>FoodDrink</th>\n",
       "      <th>...</th>\n",
       "      <th>Amenities</th>\n",
       "      <th>Staff</th>\n",
       "      <th>OnlineBooking</th>\n",
       "      <th>PriceQuality</th>\n",
       "      <th>RoomSpace</th>\n",
       "      <th>CheckOut</th>\n",
       "      <th>Checkin</th>\n",
       "      <th>Cleanliness</th>\n",
       "      <th>BarService</th>\n",
       "      <th>Churn</th>\n",
       "    </tr>\n",
       "    <tr>\n",
       "      <th>Cust_ID</th>\n",
       "      <th></th>\n",
       "      <th></th>\n",
       "      <th></th>\n",
       "      <th></th>\n",
       "      <th></th>\n",
       "      <th></th>\n",
       "      <th></th>\n",
       "      <th></th>\n",
       "      <th></th>\n",
       "      <th></th>\n",
       "      <th></th>\n",
       "      <th></th>\n",
       "      <th></th>\n",
       "      <th></th>\n",
       "      <th></th>\n",
       "      <th></th>\n",
       "      <th></th>\n",
       "      <th></th>\n",
       "      <th></th>\n",
       "      <th></th>\n",
       "      <th></th>\n",
       "    </tr>\n",
       "  </thead>\n",
       "  <tbody>\n",
       "    <tr>\n",
       "      <th>1</th>\n",
       "      <td>Ms. Nicole Clarke</td>\n",
       "      <td>yes</td>\n",
       "      <td>business</td>\n",
       "      <td>single</td>\n",
       "      <td>48.0</td>\n",
       "      <td>F</td>\n",
       "      <td>4907</td>\n",
       "      <td>3</td>\n",
       "      <td>4</td>\n",
       "      <td>1</td>\n",
       "      <td>...</td>\n",
       "      <td>3</td>\n",
       "      <td>4</td>\n",
       "      <td>3</td>\n",
       "      <td>3</td>\n",
       "      <td>3</td>\n",
       "      <td>3</td>\n",
       "      <td>4</td>\n",
       "      <td>3</td>\n",
       "      <td>4</td>\n",
       "      <td>1</td>\n",
       "    </tr>\n",
       "    <tr>\n",
       "      <th>2</th>\n",
       "      <td>Mr. Jesse Scott</td>\n",
       "      <td>yes</td>\n",
       "      <td>business</td>\n",
       "      <td>single</td>\n",
       "      <td>57.0</td>\n",
       "      <td>M</td>\n",
       "      <td>6724</td>\n",
       "      <td>1</td>\n",
       "      <td>1</td>\n",
       "      <td>1</td>\n",
       "      <td>...</td>\n",
       "      <td>3</td>\n",
       "      <td>4</td>\n",
       "      <td>5</td>\n",
       "      <td>5</td>\n",
       "      <td>5</td>\n",
       "      <td>5</td>\n",
       "      <td>1</td>\n",
       "      <td>5</td>\n",
       "      <td>2</td>\n",
       "      <td>0</td>\n",
       "    </tr>\n",
       "    <tr>\n",
       "      <th>3</th>\n",
       "      <td>Mr. Christopher Carter</td>\n",
       "      <td>yes</td>\n",
       "      <td>business</td>\n",
       "      <td>single</td>\n",
       "      <td>49.0</td>\n",
       "      <td>M</td>\n",
       "      <td>4365</td>\n",
       "      <td>3</td>\n",
       "      <td>3</td>\n",
       "      <td>3</td>\n",
       "      <td>...</td>\n",
       "      <td>4</td>\n",
       "      <td>4</td>\n",
       "      <td>3</td>\n",
       "      <td>3</td>\n",
       "      <td>2</td>\n",
       "      <td>3</td>\n",
       "      <td>2</td>\n",
       "      <td>3</td>\n",
       "      <td>1</td>\n",
       "      <td>1</td>\n",
       "    </tr>\n",
       "    <tr>\n",
       "      <th>4</th>\n",
       "      <td>Ms. Jennifer Morgan</td>\n",
       "      <td>yes</td>\n",
       "      <td>leisure</td>\n",
       "      <td>double</td>\n",
       "      <td>29.0</td>\n",
       "      <td>F</td>\n",
       "      <td>3849</td>\n",
       "      <td>1</td>\n",
       "      <td>1</td>\n",
       "      <td>1</td>\n",
       "      <td>...</td>\n",
       "      <td>4</td>\n",
       "      <td>5</td>\n",
       "      <td>4</td>\n",
       "      <td>4</td>\n",
       "      <td>4</td>\n",
       "      <td>4</td>\n",
       "      <td>4</td>\n",
       "      <td>4</td>\n",
       "      <td>3</td>\n",
       "      <td>0</td>\n",
       "    </tr>\n",
       "    <tr>\n",
       "      <th>5</th>\n",
       "      <td>Mr. Michael White</td>\n",
       "      <td>yes</td>\n",
       "      <td>business</td>\n",
       "      <td>single</td>\n",
       "      <td>33.0</td>\n",
       "      <td>M</td>\n",
       "      <td>5376</td>\n",
       "      <td>2</td>\n",
       "      <td>2</td>\n",
       "      <td>3</td>\n",
       "      <td>...</td>\n",
       "      <td>5</td>\n",
       "      <td>5</td>\n",
       "      <td>5</td>\n",
       "      <td>5</td>\n",
       "      <td>3</td>\n",
       "      <td>4</td>\n",
       "      <td>1</td>\n",
       "      <td>3</td>\n",
       "      <td>5</td>\n",
       "      <td>0</td>\n",
       "    </tr>\n",
       "    <tr>\n",
       "      <th>...</th>\n",
       "      <td>...</td>\n",
       "      <td>...</td>\n",
       "      <td>...</td>\n",
       "      <td>...</td>\n",
       "      <td>...</td>\n",
       "      <td>...</td>\n",
       "      <td>...</td>\n",
       "      <td>...</td>\n",
       "      <td>...</td>\n",
       "      <td>...</td>\n",
       "      <td>...</td>\n",
       "      <td>...</td>\n",
       "      <td>...</td>\n",
       "      <td>...</td>\n",
       "      <td>...</td>\n",
       "      <td>...</td>\n",
       "      <td>...</td>\n",
       "      <td>...</td>\n",
       "      <td>...</td>\n",
       "      <td>...</td>\n",
       "      <td>...</td>\n",
       "    </tr>\n",
       "    <tr>\n",
       "      <th>15585</th>\n",
       "      <td>Ms. Wendy Roberts</td>\n",
       "      <td>no</td>\n",
       "      <td>business</td>\n",
       "      <td>double</td>\n",
       "      <td>34.0</td>\n",
       "      <td>F</td>\n",
       "      <td>4968</td>\n",
       "      <td>2</td>\n",
       "      <td>0</td>\n",
       "      <td>2</td>\n",
       "      <td>...</td>\n",
       "      <td>2</td>\n",
       "      <td>4</td>\n",
       "      <td>3</td>\n",
       "      <td>4</td>\n",
       "      <td>5</td>\n",
       "      <td>1</td>\n",
       "      <td>3</td>\n",
       "      <td>4</td>\n",
       "      <td>3</td>\n",
       "      <td>1</td>\n",
       "    </tr>\n",
       "    <tr>\n",
       "      <th>15586</th>\n",
       "      <td>Ms. Sonya Smith</td>\n",
       "      <td>no</td>\n",
       "      <td>business</td>\n",
       "      <td>double</td>\n",
       "      <td>22.0</td>\n",
       "      <td>F</td>\n",
       "      <td>4970</td>\n",
       "      <td>3</td>\n",
       "      <td>3</td>\n",
       "      <td>3</td>\n",
       "      <td>...</td>\n",
       "      <td>3</td>\n",
       "      <td>5</td>\n",
       "      <td>5</td>\n",
       "      <td>3</td>\n",
       "      <td>1</td>\n",
       "      <td>3</td>\n",
       "      <td>4</td>\n",
       "      <td>4</td>\n",
       "      <td>5</td>\n",
       "      <td>1</td>\n",
       "    </tr>\n",
       "    <tr>\n",
       "      <th>15587</th>\n",
       "      <td>Mr. Maxwell Wright</td>\n",
       "      <td>yes</td>\n",
       "      <td>business</td>\n",
       "      <td>single</td>\n",
       "      <td>58.0</td>\n",
       "      <td>M</td>\n",
       "      <td>4046</td>\n",
       "      <td>1</td>\n",
       "      <td>1</td>\n",
       "      <td>1</td>\n",
       "      <td>...</td>\n",
       "      <td>4</td>\n",
       "      <td>5</td>\n",
       "      <td>4</td>\n",
       "      <td>4</td>\n",
       "      <td>4</td>\n",
       "      <td>4</td>\n",
       "      <td>5</td>\n",
       "      <td>4</td>\n",
       "      <td>4</td>\n",
       "      <td>0</td>\n",
       "    </tr>\n",
       "    <tr>\n",
       "      <th>15588</th>\n",
       "      <td>Mr. Gregory Moran</td>\n",
       "      <td>yes</td>\n",
       "      <td>leisure</td>\n",
       "      <td>double</td>\n",
       "      <td>30.0</td>\n",
       "      <td>M</td>\n",
       "      <td>5155</td>\n",
       "      <td>4</td>\n",
       "      <td>3</td>\n",
       "      <td>4</td>\n",
       "      <td>...</td>\n",
       "      <td>4</td>\n",
       "      <td>5</td>\n",
       "      <td>5</td>\n",
       "      <td>2</td>\n",
       "      <td>5</td>\n",
       "      <td>4</td>\n",
       "      <td>3</td>\n",
       "      <td>4</td>\n",
       "      <td>5</td>\n",
       "      <td>0</td>\n",
       "    </tr>\n",
       "    <tr>\n",
       "      <th>15589</th>\n",
       "      <td>Mr. Steven Mendez</td>\n",
       "      <td>yes</td>\n",
       "      <td>business</td>\n",
       "      <td>suite</td>\n",
       "      <td>39.0</td>\n",
       "      <td>M</td>\n",
       "      <td>5136</td>\n",
       "      <td>3</td>\n",
       "      <td>3</td>\n",
       "      <td>3</td>\n",
       "      <td>...</td>\n",
       "      <td>3</td>\n",
       "      <td>3</td>\n",
       "      <td>3</td>\n",
       "      <td>4</td>\n",
       "      <td>5</td>\n",
       "      <td>4</td>\n",
       "      <td>1</td>\n",
       "      <td>3</td>\n",
       "      <td>3</td>\n",
       "      <td>1</td>\n",
       "    </tr>\n",
       "  </tbody>\n",
       "</table>\n",
       "<p>15547 rows × 22 columns</p>\n",
       "</div>"
      ],
      "text/plain": [
       "                           Name Longevity TypeTravel RoomType   Age Gender  \\\n",
       "Cust_ID                                                                      \n",
       "1             Ms. Nicole Clarke       yes   business   single  48.0      F   \n",
       "2               Mr. Jesse Scott       yes   business   single  57.0      M   \n",
       "3        Mr. Christopher Carter       yes   business   single  49.0      M   \n",
       "4           Ms. Jennifer Morgan       yes    leisure   double  29.0      F   \n",
       "5             Mr. Michael White       yes   business   single  33.0      M   \n",
       "...                         ...       ...        ...      ...   ...    ...   \n",
       "15585         Ms. Wendy Roberts        no   business   double  34.0      F   \n",
       "15586           Ms. Sonya Smith        no   business   double  22.0      F   \n",
       "15587        Mr. Maxwell Wright       yes   business   single  58.0      M   \n",
       "15588         Mr. Gregory Moran       yes    leisure   double  30.0      M   \n",
       "15589         Mr. Steven Mendez       yes   business    suite  39.0      M   \n",
       "\n",
       "         RewardPoints  Comfort  ReceptionSchedule  FoodDrink  ...  Amenities  \\\n",
       "Cust_ID                                                       ...              \n",
       "1                4907        3                  4          1  ...          3   \n",
       "2                6724        1                  1          1  ...          3   \n",
       "3                4365        3                  3          3  ...          4   \n",
       "4                3849        1                  1          1  ...          4   \n",
       "5                5376        2                  2          3  ...          5   \n",
       "...               ...      ...                ...        ...  ...        ...   \n",
       "15585            4968        2                  0          2  ...          2   \n",
       "15586            4970        3                  3          3  ...          3   \n",
       "15587            4046        1                  1          1  ...          4   \n",
       "15588            5155        4                  3          4  ...          4   \n",
       "15589            5136        3                  3          3  ...          3   \n",
       "\n",
       "         Staff  OnlineBooking  PriceQuality  RoomSpace  CheckOut  Checkin  \\\n",
       "Cust_ID                                                                     \n",
       "1            4              3             3          3         3        4   \n",
       "2            4              5             5          5         5        1   \n",
       "3            4              3             3          2         3        2   \n",
       "4            5              4             4          4         4        4   \n",
       "5            5              5             5          3         4        1   \n",
       "...        ...            ...           ...        ...       ...      ...   \n",
       "15585        4              3             4          5         1        3   \n",
       "15586        5              5             3          1         3        4   \n",
       "15587        5              4             4          4         4        5   \n",
       "15588        5              5             2          5         4        3   \n",
       "15589        3              3             4          5         4        1   \n",
       "\n",
       "         Cleanliness  BarService  Churn  \n",
       "Cust_ID                                  \n",
       "1                  3           4      1  \n",
       "2                  5           2      0  \n",
       "3                  3           1      1  \n",
       "4                  4           3      0  \n",
       "5                  3           5      0  \n",
       "...              ...         ...    ...  \n",
       "15585              4           3      1  \n",
       "15586              4           5      1  \n",
       "15587              4           4      0  \n",
       "15588              4           5      0  \n",
       "15589              3           3      1  \n",
       "\n",
       "[15547 rows x 22 columns]"
      ]
     },
     "execution_count": 32,
     "metadata": {},
     "output_type": "execute_result"
    }
   ],
   "source": [
    "df['Churn'] = np.where((df['Churn']=='churn'),1,0)\n",
    "df"
   ]
  },
  {
   "cell_type": "markdown",
   "id": "6013d414",
   "metadata": {},
   "source": [
    "<a class=\"anchor\" id=\"featselection\">\n",
    "\n",
    "### <font color = '#cc9900'> 3.4. Feature Selection </font>\n",
    "\n",
    "[Back to Contents](#toc)"
   ]
  },
  {
   "cell_type": "markdown",
   "id": "d0dcc89d",
   "metadata": {},
   "source": [
    "__`Step 16`__ - Define the independent variables as __X__ and the dependent variable as __y__. "
   ]
  },
  {
   "cell_type": "code",
   "execution_count": 33,
   "id": "de748cfe",
   "metadata": {},
   "outputs": [],
   "source": [
    "X = df.drop(columns=['Churn'])\n",
    "y = df['Churn']"
   ]
  },
  {
   "cell_type": "markdown",
   "id": "fd1b6884",
   "metadata": {},
   "source": [
    "__`Step 17`__ Separate the numerical from the categorical variables. "
   ]
  },
  {
   "cell_type": "code",
   "execution_count": 34,
   "id": "df0b4e90",
   "metadata": {},
   "outputs": [],
   "source": [
    "num_vars = ['Age', 'RewardPoints','Comfort','ReceptionSchedule','FoodDrink','Location','Wifi','Amenities','Staff','OnlineBooking','PriceQuality','RoomSpace','CheckOut','Checkin','Cleanliness','BarService']\n",
    "cat_vars = ['Name','Longevity', 'TypeTravel', 'RoomType','Gender']"
   ]
  },
  {
   "cell_type": "markdown",
   "id": "277d9d48",
   "metadata": {},
   "source": [
    "__`Step 18`__ Create a function that selects the best features for each split of a `StratifiedKFold.`"
   ]
  },
  {
   "cell_type": "code",
   "execution_count": 35,
   "id": "a0068b1a",
   "metadata": {},
   "outputs": [],
   "source": [
    "def select_best_features(X, y):\n",
    "    skf = StratifiedKFold(n_splits = 5)\n",
    "    counter = 0\n",
    "    for train_index, val_index in skf.split(X, y):\n",
    "        counter +=1\n",
    "        print('')\n",
    "        print('--------------------------------------------------------')\n",
    "        print('SPLIT ', counter)\n",
    "        print('--------------------------------------------------------')\n",
    "        print('')\n",
    "        X_train, X_val = X.iloc[train_index], X.iloc[val_index]\n",
    "        y_train, y_val = y.iloc[train_index], y.iloc[val_index]\n",
    "        \n",
    "        # using knn imputer function to fill missing values of Age.\n",
    "        X_train, X_val = knn_impute(X_train,X_val, True, False, 'Age')\n",
    "\n",
    "        X_train_dum = pd.get_dummies(X_train.drop('Name', axis = 1), drop_first = True)\n",
    "        X_val_dum = pd.get_dummies(X_val.drop('Name', axis = 1), drop_first = True)\n",
    "        \n",
    "        # get all numerical variables\n",
    "        X_train_num = X_train[num_vars]\n",
    "        X_val_num = X_val[num_vars]\n",
    "        \n",
    "        # get all categorical variables\n",
    "        X_train_cat = X_train[cat_vars]\n",
    "        X_val_cat = X_val[cat_vars]\n",
    "        \n",
    "        # Apply scaling to numerical data\n",
    "        scaler = MinMaxScaler().fit(X_train_num)\n",
    "        X_train_scaled = pd.DataFrame(scaler.transform(X_train_num), columns = X_train_num.columns, index = X_train_num.index,) # MinMaxScaler in the training data\n",
    "        X_val_scaled = pd.DataFrame(scaler.transform(X_val_num), columns = X_val_num.columns, index = X_val.index)\n",
    "    \n",
    "        #no of features\n",
    "        nof_list_lr=np.arange(1,16) \n",
    "        nof_list_rf=np.arange(15,21) # after test and trial, it was concluded that the optimum number is somewhere between 15 and 21. \n",
    "        high_score_lr=0\n",
    "        high_score_rf=0\n",
    "        \n",
    "        #Variable to store the optimum features\n",
    "        nof_lr=0\n",
    "        nof_rf=0\n",
    "        score_lr_list =[]\n",
    "        score_rf_list=[]\n",
    "        for n in range(len(nof_list_lr)):\n",
    "            model_lr = LogisticRegression()\n",
    "            rfe_lr = RFE(model_lr, n_features_to_select=nof_list_lr[n])\n",
    "            X_train_rfelr = rfe_lr.fit_transform(X_train_scaled,y_train)\n",
    "            X_val_rfelr = rfe_lr.transform(X_val_scaled)\n",
    "            model_lr.fit(X_train_rfelr,y_train)\n",
    "            score_lr = model_lr.score(X_val_rfelr,y_val)\n",
    "            score_lr_list.append(score_lr)\n",
    "    \n",
    "            if(score_lr>high_score_lr):\n",
    "                high_score_lr = score_lr\n",
    "                nof_lr = nof_list_lr[n]\n",
    "        \n",
    "        # Check which features to use using RFE\n",
    "        print('')\n",
    "        print('------------ RFE - Logistic Regression ------------')\n",
    "        print(\"Optimum number of features: %d\" %nof_lr)\n",
    "        print(\"Score with %d features: %f\" % (nof_lr, high_score_lr))\n",
    "        model = LogisticRegression()\n",
    "        rfe = RFE(estimator = model, n_features_to_select = nof_lr) # features to select\n",
    "        X_rfe = rfe.fit_transform(X = X_train_scaled, y = y_train)\n",
    "        selected_features = pd.Series(rfe.support_, index = X_train_scaled.columns)\n",
    "        print(selected_features)     \n",
    "        \n",
    "        # Check which features to use using Chi-Square\n",
    "        print('')\n",
    "        print('----------------- CHI-SQUARE ----------------------')\n",
    "        def TestIndependence(X,y,var,alpha=0.05):        \n",
    "            dfObserved = pd.crosstab(y,X) \n",
    "            chi2, p, dof, expected = stats.chi2_contingency(dfObserved.values)\n",
    "            dfExpected = pd.DataFrame(expected, columns=dfObserved.columns, index = dfObserved.index)\n",
    "            if p<alpha:\n",
    "                result=\"{0} is IMPORTANT for Prediction\".format(var)\n",
    "            else:\n",
    "                result=\"{0} is NOT important for Prediction. (Discard {0} from model)\".format(var)\n",
    "            print(result)\n",
    "        \n",
    "        for var in X_train_cat:\n",
    "            TestIndependence(X_train_cat[var],y_train, var)\n",
    "\n",
    "\n",
    "        for n in range(len(nof_list_rf)):\n",
    "            model_rf = RandomForestClassifier()\n",
    "            rfe_rf = RFE(model_rf, n_features_to_select=nof_list_rf[n])\n",
    "            X_train_rferf = rfe_rf.fit_transform(X_train_dum,y_train)\n",
    "            X_val_rferf = rfe_rf.transform(X_val_dum)\n",
    "            model_rf.fit(X_train_rferf,y_train)\n",
    "            score_rf = model_rf.score(X_val_rferf,y_val)\n",
    "            score_rf_list.append(score_rf)\n",
    "            \n",
    "            if(score_rf>high_score_rf):\n",
    "                high_score_rf = score_rf\n",
    "                nof_rf = nof_list_rf[n]\n",
    "        \n",
    "        print('')\n",
    "        print('------------ RFE - Random Forest Classifier ------------')\n",
    "        print(\"Optimum number of features: %d\" %nof_rf)\n",
    "        print(\"Score with %d features: %f\" % (nof_rf, high_score_rf))\n",
    "        model_rf = RandomForestClassifier(max_depth = 5)\n",
    "        rfe = RFE(estimator = model_rf, n_features_to_select = nof_rf) # features to select\n",
    "        X_rfe = rfe.fit_transform(X = X_train_dum, y = y_train)\n",
    "        selected_features = pd.Series(rfe.support_, index = X_train_dum.columns)\n",
    "        print(selected_features)"
   ]
  },
  {
   "cell_type": "code",
   "execution_count": 36,
   "id": "7bbd68bb",
   "metadata": {
    "scrolled": false
   },
   "outputs": [
    {
     "name": "stdout",
     "output_type": "stream",
     "text": [
      "\n",
      "--------------------------------------------------------\n",
      "SPLIT  1\n",
      "--------------------------------------------------------\n",
      "\n",
      "\n",
      "------------ RFE - Logistic Regression ------------\n",
      "Optimum number of features: 11\n",
      "Score with 11 features: 0.803537\n",
      "Age                   True\n",
      "RewardPoints         False\n",
      "Comfort               True\n",
      "ReceptionSchedule     True\n",
      "FoodDrink             True\n",
      "Location             False\n",
      "Wifi                  True\n",
      "Amenities             True\n",
      "Staff                 True\n",
      "OnlineBooking         True\n",
      "PriceQuality          True\n",
      "RoomSpace             True\n",
      "CheckOut             False\n",
      "Checkin               True\n",
      "Cleanliness          False\n",
      "BarService           False\n",
      "dtype: bool\n",
      "\n",
      "----------------- CHI-SQUARE ----------------------\n",
      "Name is NOT important for Prediction. (Discard Name from model)\n",
      "Longevity is IMPORTANT for Prediction\n",
      "TypeTravel is IMPORTANT for Prediction\n",
      "RoomType is IMPORTANT for Prediction\n",
      "Gender is IMPORTANT for Prediction\n",
      "\n",
      "------------ RFE - Random Forest Classifier ------------\n",
      "Optimum number of features: 18\n",
      "Score with 18 features: 0.941479\n",
      "Age                   False\n",
      "RewardPoints           True\n",
      "Comfort                True\n",
      "ReceptionSchedule      True\n",
      "FoodDrink              True\n",
      "Location              False\n",
      "Wifi                   True\n",
      "Amenities              True\n",
      "Staff                  True\n",
      "OnlineBooking          True\n",
      "PriceQuality           True\n",
      "RoomSpace              True\n",
      "CheckOut               True\n",
      "Checkin                True\n",
      "Cleanliness            True\n",
      "BarService             True\n",
      "Longevity_yes          True\n",
      "TypeTravel_leisure     True\n",
      "RoomType_single        True\n",
      "RoomType_suite        False\n",
      "Gender_M               True\n",
      "dtype: bool\n",
      "\n",
      "--------------------------------------------------------\n",
      "SPLIT  2\n",
      "--------------------------------------------------------\n",
      "\n",
      "\n",
      "------------ RFE - Logistic Regression ------------\n",
      "Optimum number of features: 13\n",
      "Score with 13 features: 0.803215\n",
      "Age                   True\n",
      "RewardPoints         False\n",
      "Comfort               True\n",
      "ReceptionSchedule     True\n",
      "FoodDrink             True\n",
      "Location              True\n",
      "Wifi                  True\n",
      "Amenities             True\n",
      "Staff                 True\n",
      "OnlineBooking         True\n",
      "PriceQuality          True\n",
      "RoomSpace             True\n",
      "CheckOut             False\n",
      "Checkin               True\n",
      "Cleanliness          False\n",
      "BarService            True\n",
      "dtype: bool\n",
      "\n",
      "----------------- CHI-SQUARE ----------------------\n",
      "Name is NOT important for Prediction. (Discard Name from model)\n",
      "Longevity is IMPORTANT for Prediction\n",
      "TypeTravel is IMPORTANT for Prediction\n",
      "RoomType is IMPORTANT for Prediction\n",
      "Gender is IMPORTANT for Prediction\n",
      "\n",
      "------------ RFE - Random Forest Classifier ------------\n",
      "Optimum number of features: 19\n",
      "Score with 19 features: 0.938907\n",
      "Age                   False\n",
      "RewardPoints           True\n",
      "Comfort                True\n",
      "ReceptionSchedule      True\n",
      "FoodDrink              True\n",
      "Location               True\n",
      "Wifi                   True\n",
      "Amenities              True\n",
      "Staff                  True\n",
      "OnlineBooking          True\n",
      "PriceQuality           True\n",
      "RoomSpace              True\n",
      "CheckOut               True\n",
      "Checkin                True\n",
      "Cleanliness            True\n",
      "BarService             True\n",
      "Longevity_yes          True\n",
      "TypeTravel_leisure     True\n",
      "RoomType_single        True\n",
      "RoomType_suite        False\n",
      "Gender_M               True\n",
      "dtype: bool\n",
      "\n",
      "--------------------------------------------------------\n",
      "SPLIT  3\n",
      "--------------------------------------------------------\n",
      "\n",
      "\n",
      "------------ RFE - Logistic Regression ------------\n",
      "Optimum number of features: 9\n",
      "Score with 9 features: 0.804760\n",
      "Age                  False\n",
      "RewardPoints         False\n",
      "Comfort               True\n",
      "ReceptionSchedule     True\n",
      "FoodDrink             True\n",
      "Location             False\n",
      "Wifi                 False\n",
      "Amenities             True\n",
      "Staff                 True\n",
      "OnlineBooking         True\n",
      "PriceQuality          True\n",
      "RoomSpace             True\n",
      "CheckOut             False\n",
      "Checkin               True\n",
      "Cleanliness          False\n",
      "BarService           False\n",
      "dtype: bool\n",
      "\n",
      "----------------- CHI-SQUARE ----------------------\n",
      "Name is NOT important for Prediction. (Discard Name from model)\n",
      "Longevity is IMPORTANT for Prediction\n",
      "TypeTravel is IMPORTANT for Prediction\n",
      "RoomType is IMPORTANT for Prediction\n",
      "Gender is IMPORTANT for Prediction\n",
      "\n",
      "------------ RFE - Random Forest Classifier ------------\n",
      "Optimum number of features: 19\n",
      "Score with 19 features: 0.934384\n",
      "Age                    True\n",
      "RewardPoints           True\n",
      "Comfort                True\n",
      "ReceptionSchedule      True\n",
      "FoodDrink              True\n",
      "Location              False\n",
      "Wifi                   True\n",
      "Amenities              True\n",
      "Staff                  True\n",
      "OnlineBooking          True\n",
      "PriceQuality           True\n",
      "RoomSpace              True\n",
      "CheckOut               True\n",
      "Checkin                True\n",
      "Cleanliness            True\n",
      "BarService             True\n",
      "Longevity_yes          True\n",
      "TypeTravel_leisure     True\n",
      "RoomType_single        True\n",
      "RoomType_suite        False\n",
      "Gender_M               True\n",
      "dtype: bool\n",
      "\n",
      "--------------------------------------------------------\n",
      "SPLIT  4\n",
      "--------------------------------------------------------\n",
      "\n",
      "\n",
      "------------ RFE - Logistic Regression ------------\n",
      "Optimum number of features: 5\n",
      "Score with 5 features: 0.807334\n",
      "Age                  False\n",
      "RewardPoints         False\n",
      "Comfort              False\n",
      "ReceptionSchedule    False\n",
      "FoodDrink            False\n",
      "Location             False\n",
      "Wifi                 False\n",
      "Amenities             True\n",
      "Staff                False\n",
      "OnlineBooking         True\n",
      "PriceQuality          True\n",
      "RoomSpace             True\n",
      "CheckOut             False\n",
      "Checkin               True\n",
      "Cleanliness          False\n",
      "BarService           False\n",
      "dtype: bool\n",
      "\n",
      "----------------- CHI-SQUARE ----------------------\n",
      "Name is NOT important for Prediction. (Discard Name from model)\n",
      "Longevity is IMPORTANT for Prediction\n",
      "TypeTravel is IMPORTANT for Prediction\n",
      "RoomType is IMPORTANT for Prediction\n",
      "Gender is IMPORTANT for Prediction\n",
      "\n",
      "------------ RFE - Random Forest Classifier ------------\n",
      "Optimum number of features: 20\n",
      "Score with 20 features: 0.940817\n",
      "Age                    True\n",
      "RewardPoints           True\n",
      "Comfort                True\n",
      "ReceptionSchedule      True\n",
      "FoodDrink              True\n",
      "Location               True\n",
      "Wifi                   True\n",
      "Amenities              True\n",
      "Staff                  True\n",
      "OnlineBooking          True\n",
      "PriceQuality           True\n",
      "RoomSpace              True\n",
      "CheckOut               True\n",
      "Checkin                True\n",
      "Cleanliness            True\n",
      "BarService             True\n",
      "Longevity_yes          True\n",
      "TypeTravel_leisure     True\n",
      "RoomType_single        True\n",
      "RoomType_suite        False\n",
      "Gender_M               True\n",
      "dtype: bool\n",
      "\n",
      "--------------------------------------------------------\n",
      "SPLIT  5\n",
      "--------------------------------------------------------\n",
      "\n",
      "\n",
      "------------ RFE - Logistic Regression ------------\n",
      "Optimum number of features: 1\n",
      "Score with 1 features: 0.804117\n",
      "Age                  False\n",
      "RewardPoints         False\n",
      "Comfort              False\n",
      "ReceptionSchedule    False\n",
      "FoodDrink            False\n",
      "Location             False\n",
      "Wifi                 False\n",
      "Amenities             True\n",
      "Staff                False\n",
      "OnlineBooking        False\n",
      "PriceQuality         False\n",
      "RoomSpace            False\n",
      "CheckOut             False\n",
      "Checkin              False\n",
      "Cleanliness          False\n",
      "BarService           False\n",
      "dtype: bool\n",
      "\n",
      "----------------- CHI-SQUARE ----------------------\n",
      "Name is NOT important for Prediction. (Discard Name from model)\n",
      "Longevity is IMPORTANT for Prediction\n",
      "TypeTravel is IMPORTANT for Prediction\n",
      "RoomType is IMPORTANT for Prediction\n",
      "Gender is IMPORTANT for Prediction\n",
      "\n",
      "------------ RFE - Random Forest Classifier ------------\n",
      "Optimum number of features: 19\n",
      "Score with 19 features: 0.938565\n",
      "Age                   False\n",
      "RewardPoints           True\n",
      "Comfort                True\n",
      "ReceptionSchedule      True\n",
      "FoodDrink              True\n",
      "Location               True\n",
      "Wifi                   True\n",
      "Amenities              True\n",
      "Staff                  True\n",
      "OnlineBooking          True\n",
      "PriceQuality           True\n",
      "RoomSpace              True\n",
      "CheckOut               True\n",
      "Checkin                True\n",
      "Cleanliness            True\n",
      "BarService             True\n",
      "Longevity_yes          True\n",
      "TypeTravel_leisure     True\n",
      "RoomType_single        True\n",
      "RoomType_suite        False\n",
      "Gender_M               True\n",
      "dtype: bool\n"
     ]
    }
   ],
   "source": [
    "select_best_features(X, y)"
   ]
  },
  {
   "cell_type": "markdown",
   "id": "d69c52a3",
   "metadata": {},
   "source": [
    "#### Final insights from the applied feature selection models\n",
    "\n",
    "|   | Chi-Square | RFE Logistic Regression | RFE - Random Forest | Final Decision | \n",
    "| --- | --- | --- | --- | --- |\n",
    "| Name | Discard | - | - | Discard from model | \n",
    "| Longevity | Keep | - | Keep | Keep in model |\n",
    "| TypeTravel | Keep | - | Keep | Keep in model |\n",
    "| RoomType | Keep | - | Keep | Keep in model |\n",
    "| Gender | Kepp | - | Keep | Keep in model |\n",
    "| RewardPoints | - | Discard | Discard | Discard from model | \n",
    "| Age | - | Keep? | Keep? | Try with and without | \n",
    "| Comfort | - | Keep | Keep | Keep in model |\n",
    "| Reception Schedule | - | Keep | Keep | Keep in model | \n",
    "| FoodDrinks | - | Keep | Keep | Keep in model | \n",
    "| Location | - | Discard? | Discard? |  Try with and without |\n",
    "| Wifi | - | Keep? | Keep | Try with and without | \n",
    "| Amenities | - | Keep | Keep | Keep in model | \n",
    "| Staff | - | Keep | Keep | Keep in model | \n",
    "| OnlineBooking | - | Keep | Keep | Keep in model |\n",
    "| PriceQuality | - | Keep | Keep | Keep in model | \n",
    "| RoomSpace | - | Keep | Keep | Keep in model | \n",
    "| CheckOut | - | Discard | Keep | Try with and without | \n",
    "| Checkin | - | Keep | Keep | Keep in model| \n",
    "| Cleanliness | - | Discard | Keep | Try with and without | \n",
    "| BarService | - | Discard | Keep | Try with and without | \n",
    "| RoomType_suite (dummy) | - | - | Discard | Discard from model | \n"
   ]
  },
  {
   "cell_type": "markdown",
   "id": "59bfc26a",
   "metadata": {},
   "source": [
    "__`Step 19`__ Discard the less important variables"
   ]
  },
  {
   "cell_type": "code",
   "execution_count": 37,
   "id": "66876c4b",
   "metadata": {},
   "outputs": [],
   "source": [
    "X.drop('Name', axis = 1, inplace = True) \n",
    "X.drop('RewardPoints', axis = 1, inplace = True) "
   ]
  },
  {
   "cell_type": "markdown",
   "id": "c9a29d77",
   "metadata": {},
   "source": [
    "<a class=\"anchor\" id=\"assess\">\n",
    "\n",
    "### <font color = '#cc9900'> 4. Model and Assessment </font>\n",
    "\n",
    "[Back to Contents](#toc)"
   ]
  },
  {
   "cell_type": "markdown",
   "id": "47fee489",
   "metadata": {},
   "source": [
    "<a id=\"holdout\"></a>\n",
    "\n",
    "#### <font color = '#cc9900'> 4.1. Split with Hold-Out Method </font>\n",
    "\n",
    "[Back to Contents](#toc)"
   ]
  },
  {
   "cell_type": "code",
   "execution_count": 38,
   "id": "ce56c5cf",
   "metadata": {},
   "outputs": [
    {
     "name": "stdout",
     "output_type": "stream",
     "text": [
      "train:0.8% | validation:0.2% \n"
     ]
    }
   ],
   "source": [
    "X_train, X_val, y_train, y_val = train_test_split(X, y, \n",
    "                                                    test_size=0.2, \n",
    "                                                    random_state=15, \n",
    "                                                    shuffle=True, \n",
    "                                                    stratify=y\n",
    "                                                   )\n",
    "print('train:{}% | validation:{}% '.format(round(len(y_train)/len(y),2),\n",
    "                                            round(len(y_val)/len(y),2)\n",
    "                                                    ))\n",
    "\n",
    "\n",
    "# using knn imputer function to fill missing values of Age.\n",
    "X_train, X_val = knn_impute(X_train,X_val, False, False, 'Age')\n",
    "\n",
    "X_train_dummy = pd.get_dummies(X_train, drop_first = True)\n",
    "X_val_dummy = pd.get_dummies(X_val, drop_first = True)\n",
    "\n",
    "# Drop the features RommType_suite from X_train and X_val dummies.\n",
    "X_train_dummy.drop('RoomType_suite', axis = 1, inplace = True)\n",
    "X_val_dummy.drop('RoomType_suite', axis = 1, inplace = True)\n"
   ]
  },
  {
   "cell_type": "markdown",
   "id": "33d7e7a4",
   "metadata": {},
   "source": [
    "<a id=\"k-fold\"></a>\n",
    "\n",
    "#### <font color = '#cc9900'> 4.2. K-fold Cross Validation Method </font>\n",
    "\n",
    "[Back to Contents](#toc)"
   ]
  },
  {
   "cell_type": "code",
   "execution_count": 39,
   "id": "b44c16a0",
   "metadata": {},
   "outputs": [],
   "source": [
    "def avg_score(method, mod, X, y):\n",
    "    score_train = []\n",
    "    score_val = []\n",
    "    \n",
    "    for train_index, val_index in method.split(X):\n",
    "        X_train, X_val = X.iloc[train_index], X.iloc[val_index]\n",
    "        y_train, y_val = y.iloc[train_index], y.iloc[val_index]\n",
    "        if 'Age' in X_train:\n",
    "            # using knn imputer function to fill missing values of Age.\n",
    "            X_train, X_val = knn_impute(X_train,X_val, False,True, 'Age')\n",
    "\n",
    "        model = mod.fit(X_train, y_train)\n",
    "        value_train = model.score(X_train,y_train)\n",
    "        print('Train:', value_train)\n",
    "        value_val = model.score(X_val, y_val)\n",
    "        print('Validation:', value_val)\n",
    "        print('')\n",
    "        score_train.append(value_train)\n",
    "        score_val.append(value_val)\n",
    "\n",
    "    print('-------------------------------')\n",
    "    print('Average Train:' +  str(round(np.mean(score_train),4)) + '+/-' + str(round(np.std(score_train),4)))\n",
    "    print('Average Validation:' +  str(round(np.mean(score_val),4)) + '+/-' + str(round(np.std(score_val),4)))"
   ]
  },
  {
   "cell_type": "markdown",
   "id": "79f65491",
   "metadata": {},
   "source": [
    "<a id=\"lregression\"></a>\n",
    "\n",
    "#### <font color = '#cc9900'> 4.3. Assess using Logistic Regression </font>\n",
    "\n",
    "[Back to Contents](#toc)"
   ]
  },
  {
   "cell_type": "markdown",
   "id": "fad12723",
   "metadata": {},
   "source": [
    "Logistic regression is a type of supervised machine learning used to predict the probability of a target variable. It is used to estimate the relationship between a dependent (target) variable and one or more independent variables. The output of the dependent variable is represented in discrete values such as 0 and 1.\n",
    "\n",
    "Below is the function for logistic regression:\n",
    "\n",
    "<img src=\"images/lr1.png\" width=\"150px\">\n",
    "\n",
    "- E is log base\n",
    "- X is the numerical value that needs to be transformed.\n",
    "\n",
    "<img src=\"images/lr2.png\" width=\"500px\">\n",
    "\n",
    "If we feed an output value to the sigmoid function, it will return the probability of the outcome between 0 and 1. If the value is below 0.5, then the output is return as No/Fail (above example). If the value is above 0.5, then the output is returned as Yes/Pass.\n",
    "\n",
    "Assumptions of Logistic regression:\n",
    "- Independent variables show a linear relationship with the log of output variables.\n",
    "- Non-Collinearity between independent variables. That is, independent variables are independent of each other.\n",
    "- Output variable is binary.\n",
    "\n",
    "\n",
    "Parameters:\n",
    "\n",
    "`penalty` Specify the norm of the penalty (default = 'l2')  <br>\n",
    "`tol`  Tolerance for stopping criteria (default = 1e-4) <br>\n",
    "`C` Inverse of regularization strength; must be a positive float (default = 1) <br>\n",
    "`class_weight` Weights associated with classes in the form (default = None) <br>\n",
    "`solver` Algorithm to use in the optimization problem (default = lbfgs') <br>\n",
    "`max_iter` Maximum number of iterations taken for the solvers to converge (default = 'auto') <br>\n",
    "\n",
    "Development of the prediction model divided into two main phases: \n",
    "1. train and optimize (using gridsearchcv) the model with current best feature selection\n",
    "    - obtain the best parameters for the model\n",
    "    - check validation and test performance of the model\n",
    "2. consider different feature selections to check if there is any improvement\n",
    "    - obtain the best features for the model\n",
    "    - train the model\n",
    "    - check validation and test performance of the model "
   ]
  },
  {
   "cell_type": "markdown",
   "id": "75001fb9",
   "metadata": {},
   "source": [
    "__`Step 1`__ Copy train and validation sets and scale both sets"
   ]
  },
  {
   "cell_type": "code",
   "execution_count": 40,
   "id": "36ec95b6",
   "metadata": {},
   "outputs": [],
   "source": [
    "Xlr_train_dummy = X_train_dummy.copy()\n",
    "Xlr_val_dummy = X_val_dummy.copy()\n",
    "        \n",
    "# Apply scaling to numerical data\n",
    "scaler = MinMaxScaler().fit(Xlr_train_dummy)\n",
    "Xlr_train_scaled = pd.DataFrame(scaler.transform(Xlr_train_dummy), columns = Xlr_train_dummy.columns, index = Xlr_train_dummy.index)\n",
    "Xlr_val_scaled = pd.DataFrame(scaler.transform(Xlr_val_dummy), columns = Xlr_val_dummy.columns, index = Xlr_val_dummy.index)"
   ]
  },
  {
   "cell_type": "markdown",
   "id": "8075dd8a",
   "metadata": {},
   "source": [
    "__`Step 2`__ Define Logistic Regression model"
   ]
  },
  {
   "cell_type": "code",
   "execution_count": 41,
   "id": "8d4db86a",
   "metadata": {},
   "outputs": [],
   "source": [
    "log_model = LogisticRegression()"
   ]
  },
  {
   "cell_type": "markdown",
   "id": "4c0b3e5f",
   "metadata": {},
   "source": [
    "__`Step 3`__ - Define a dictionary named as __parameter_space__ and define the following options to be considered during modelling."
   ]
  },
  {
   "cell_type": "code",
   "execution_count": 42,
   "id": "1b146b6c",
   "metadata": {},
   "outputs": [],
   "source": [
    "parameter_space = {\n",
    "    'penalty': ['none', 'l2','l1'],\n",
    "    'tol': [0.0001, 0.01, 0.1],\n",
    "    'C':[0, 0.8, 1.0, 10, 20],\n",
    "    'solver' : ['newton-cg', 'lbfgs', 'liblinear','sag','saga'],\n",
    "    'class_weight': ['none', 'balanced'],\n",
    "    'max_iter': [30, 50, 75, 100] \n",
    "}"
   ]
  },
  {
   "cell_type": "markdown",
   "id": "933799f1",
   "metadata": {},
   "source": [
    "__`Step 4`__ - Create an instance of GridSearchCV named as __clflr__ and pass as parameters the __model__ and the __parameter_space__"
   ]
  },
  {
   "cell_type": "code",
   "execution_count": 43,
   "id": "8b7c26ea",
   "metadata": {},
   "outputs": [],
   "source": [
    "clflr = GridSearchCV(log_model, parameter_space)"
   ]
  },
  {
   "cell_type": "markdown",
   "id": "6c44e219",
   "metadata": {},
   "source": [
    "__`Step 5`__ - Fit your Grid Search to __Xlr_train__ and __y_train__"
   ]
  },
  {
   "cell_type": "code",
   "execution_count": 44,
   "id": "511e7db7",
   "metadata": {},
   "outputs": [
    {
     "data": {
      "text/plain": [
       "GridSearchCV(estimator=LogisticRegression(),\n",
       "             param_grid={'C': [0, 0.8, 1.0, 10, 20],\n",
       "                         'class_weight': ['none', 'balanced'],\n",
       "                         'max_iter': [30, 50, 75, 100],\n",
       "                         'penalty': ['none', 'l2', 'l1'],\n",
       "                         'solver': ['newton-cg', 'lbfgs', 'liblinear', 'sag',\n",
       "                                    'saga'],\n",
       "                         'tol': [0.0001, 0.01, 0.1]})"
      ]
     },
     "execution_count": 44,
     "metadata": {},
     "output_type": "execute_result"
    }
   ],
   "source": [
    "clflr.fit(Xlr_train_scaled, y_train)"
   ]
  },
  {
   "cell_type": "markdown",
   "id": "342f2b3d",
   "metadata": {},
   "source": [
    "__`Step 6`__ - Call the attribute __best_params___ to check which is the best combination of parameters. Create a final model with those parameters by calling the attribute __best_estimator___"
   ]
  },
  {
   "cell_type": "code",
   "execution_count": 45,
   "id": "0d36e60a",
   "metadata": {},
   "outputs": [
    {
     "data": {
      "text/plain": [
       "{'C': 0.8,\n",
       " 'class_weight': 'balanced',\n",
       " 'max_iter': 50,\n",
       " 'penalty': 'l2',\n",
       " 'solver': 'sag',\n",
       " 'tol': 0.1}"
      ]
     },
     "execution_count": 45,
     "metadata": {},
     "output_type": "execute_result"
    }
   ],
   "source": [
    "clflr.best_params_"
   ]
  },
  {
   "cell_type": "code",
   "execution_count": 46,
   "id": "f2cced5e",
   "metadata": {},
   "outputs": [],
   "source": [
    "log_model = clflr.best_estimator_.fit(Xlr_train_scaled, y_train)"
   ]
  },
  {
   "cell_type": "markdown",
   "id": "cbb5f5f1",
   "metadata": {},
   "source": [
    "__`Step 7`__ Apply both train and validation sets to our logistic regression __log_model__"
   ]
  },
  {
   "cell_type": "code",
   "execution_count": 47,
   "id": "0d9ad681",
   "metadata": {},
   "outputs": [
    {
     "name": "stdout",
     "output_type": "stream",
     "text": [
      "Train: 0.8355712792474069\n",
      "Val: 0.829903536977492\n"
     ]
    }
   ],
   "source": [
    "print('Train:', log_model.score(Xlr_train_scaled, y_train))\n",
    "print('Val:', log_model.score(Xlr_val_scaled, y_val))"
   ]
  },
  {
   "cell_type": "markdown",
   "id": "5063a0fc",
   "metadata": {},
   "source": [
    "Train and validation present really close results, with no signs of overfitting. To understand the performance of the obtained Logistic Regression model, we are performing:   \n",
    "- a stratified k-fold cross analysis, to observe if for different train and test splits, the results are more or less the same or not. \n",
    "- assess the performance with some evaluation metrics (specially f1-score)\n",
    "    \n",
    "Finally, we apply it to the test dataset, and submit the results into the Kaggle competition "
   ]
  },
  {
   "cell_type": "markdown",
   "id": "fffd876b",
   "metadata": {},
   "source": [
    "__`Step 8`__ K-fold Cross Validation\n",
    "- Purpose is to check if, for different validation+train splits, the results are similar and thus we can consider hold-out split as representative of our dataset. "
   ]
  },
  {
   "cell_type": "code",
   "execution_count": 48,
   "id": "acb68f24",
   "metadata": {},
   "outputs": [
    {
     "name": "stdout",
     "output_type": "stream",
     "text": [
      "Train: 0.8354774156660949\n",
      "Validation: 0.8282958199356913\n",
      "\n",
      "Train: 0.8344768439108061\n",
      "Validation: 0.8180064308681672\n",
      "\n",
      "Train: 0.8360491709548313\n",
      "Validation: 0.8302250803858521\n",
      "\n",
      "Train: 0.8325471698113207\n",
      "Validation: 0.8437299035369775\n",
      "\n",
      "Train: 0.8337621497998856\n",
      "Validation: 0.8321543408360128\n",
      "\n",
      "Train: 0.8349771297884505\n",
      "Validation: 0.8282958199356913\n",
      "\n",
      "Train: 0.8319039451114922\n",
      "Validation: 0.8102893890675241\n",
      "\n",
      "Train: 0.8328449939255342\n",
      "Validation: 0.8494208494208494\n",
      "\n",
      "Train: 0.8352747802472665\n",
      "Validation: 0.842985842985843\n",
      "\n",
      "Train: 0.8334167083541771\n",
      "Validation: 0.8346203346203346\n",
      "\n",
      "-------------------------------\n",
      "Average Train:0.8341+/-0.0013\n",
      "Average Validation:0.8318+/-0.0113\n"
     ]
    }
   ],
   "source": [
    "kf = KFold(n_splits=10)\n",
    "Xtemp = pd.get_dummies(X, drop_first = True)\n",
    "scaler = MinMaxScaler().fit(Xtemp)\n",
    "Xtemp_scaled = pd.DataFrame(scaler.transform(Xtemp), columns = Xtemp.columns, index = Xtemp.index)\n",
    "avg_score(kf, log_model, Xtemp_scaled.drop(['RoomType_suite'], axis = 1), y)"
   ]
  },
  {
   "cell_type": "markdown",
   "id": "90808997",
   "metadata": {},
   "source": [
    "- The average results with K-fold validation allow to conclude that the dataset is large enough to consider the hold-out split results"
   ]
  },
  {
   "cell_type": "markdown",
   "id": "c97cc590",
   "metadata": {},
   "source": [
    "__`Step 9`__ In order to assess performance of our model with different metrics, first assign the predictions to y_pred."
   ]
  },
  {
   "cell_type": "code",
   "execution_count": 49,
   "id": "89b4f562",
   "metadata": {},
   "outputs": [
    {
     "data": {
      "text/plain": [
       "array([0, 1, 0, ..., 1, 0, 0])"
      ]
     },
     "execution_count": 49,
     "metadata": {},
     "output_type": "execute_result"
    }
   ],
   "source": [
    "y_pred_lr = log_model.predict(Xlr_val_scaled)\n",
    "y_pred_lr"
   ]
  },
  {
   "cell_type": "markdown",
   "id": "34715c47",
   "metadata": {},
   "source": [
    "__`Step 10`__ Obtain confusion_matrix, and the metrics accuracy_score, precision_score, recall_score, f1_score"
   ]
  },
  {
   "cell_type": "code",
   "execution_count": 50,
   "id": "c20a72c0",
   "metadata": {},
   "outputs": [
    {
     "data": {
      "text/plain": [
       "array([[1340,  351],\n",
       "       [ 181, 1238]], dtype=int64)"
      ]
     },
     "execution_count": 50,
     "metadata": {},
     "output_type": "execute_result"
    }
   ],
   "source": [
    "confusion_matrix(y_val, y_pred_lr)"
   ]
  },
  {
   "cell_type": "code",
   "execution_count": 51,
   "id": "cefdb84d",
   "metadata": {},
   "outputs": [
    {
     "data": {
      "text/plain": [
       "0.8289389067524116"
      ]
     },
     "execution_count": 51,
     "metadata": {},
     "output_type": "execute_result"
    }
   ],
   "source": [
    "accuracy_score(y_val, y_pred_lr)"
   ]
  },
  {
   "cell_type": "code",
   "execution_count": 52,
   "id": "4567d937",
   "metadata": {},
   "outputs": [
    {
     "data": {
      "text/plain": [
       "0.8324379492808798"
      ]
     },
     "execution_count": 52,
     "metadata": {},
     "output_type": "execute_result"
    }
   ],
   "source": [
    "balanced_accuracy_score(y_val, y_pred_lr)"
   ]
  },
  {
   "cell_type": "code",
   "execution_count": 53,
   "id": "73d64910",
   "metadata": {},
   "outputs": [
    {
     "data": {
      "text/plain": [
       "0.7791063561988673"
      ]
     },
     "execution_count": 53,
     "metadata": {},
     "output_type": "execute_result"
    }
   ],
   "source": [
    "precision_score(y_val, y_pred_lr)"
   ]
  },
  {
   "cell_type": "code",
   "execution_count": 54,
   "id": "515fc157",
   "metadata": {},
   "outputs": [
    {
     "data": {
      "text/plain": [
       "0.8724453840732911"
      ]
     },
     "execution_count": 54,
     "metadata": {},
     "output_type": "execute_result"
    }
   ],
   "source": [
    "recall_score(y_val, y_pred_lr)"
   ]
  },
  {
   "cell_type": "code",
   "execution_count": 55,
   "id": "b8517a0f",
   "metadata": {},
   "outputs": [
    {
     "data": {
      "text/plain": [
       "0.8231382978723405"
      ]
     },
     "execution_count": 55,
     "metadata": {},
     "output_type": "execute_result"
    }
   ],
   "source": [
    "f1_score(y_val, y_pred_lr)"
   ]
  },
  {
   "cell_type": "markdown",
   "id": "c424a17e",
   "metadata": {},
   "source": [
    "__`Step 11`__ Create  a function named `metrics` that will print the results of the classification report and the confusion matrix for both datasets (train and validation). Determine the classification report for both train a validation predicted results."
   ]
  },
  {
   "cell_type": "code",
   "execution_count": 56,
   "id": "0d5b6344",
   "metadata": {},
   "outputs": [],
   "source": [
    "def metrics(y_train, pred_train , y_val, pred_val):\n",
    "    print('___________________________________________________________________________________________________________')\n",
    "    print('                                                     TRAIN                                                 ')\n",
    "    print('-----------------------------------------------------------------------------------------------------------')\n",
    "    print(classification_report(y_train, pred_train))\n",
    "    print(confusion_matrix(y_train, pred_train))\n",
    "\n",
    "\n",
    "    print('___________________________________________________________________________________________________________')\n",
    "    print('                                                   VALIDATION                                              ')\n",
    "    print('-----------------------------------------------------------------------------------------------------------')\n",
    "    print(classification_report(y_val, pred_val))\n",
    "    print(confusion_matrix(y_val, pred_val))"
   ]
  },
  {
   "cell_type": "code",
   "execution_count": 57,
   "id": "154084e6",
   "metadata": {},
   "outputs": [
    {
     "name": "stdout",
     "output_type": "stream",
     "text": [
      "___________________________________________________________________________________________________________\n",
      "                                                     TRAIN                                                 \n",
      "-----------------------------------------------------------------------------------------------------------\n",
      "              precision    recall  f1-score   support\n",
      "\n",
      "           0       0.88      0.80      0.84      6762\n",
      "           1       0.79      0.87      0.83      5675\n",
      "\n",
      "    accuracy                           0.83     12437\n",
      "   macro avg       0.84      0.84      0.83     12437\n",
      "weighted avg       0.84      0.83      0.84     12437\n",
      "\n",
      "[[5435 1327]\n",
      " [ 728 4947]]\n",
      "___________________________________________________________________________________________________________\n",
      "                                                   VALIDATION                                              \n",
      "-----------------------------------------------------------------------------------------------------------\n",
      "              precision    recall  f1-score   support\n",
      "\n",
      "           0       0.88      0.79      0.83      1691\n",
      "           1       0.78      0.87      0.82      1419\n",
      "\n",
      "    accuracy                           0.83      3110\n",
      "   macro avg       0.83      0.83      0.83      3110\n",
      "weighted avg       0.83      0.83      0.83      3110\n",
      "\n",
      "[[1340  351]\n",
      " [ 181 1238]]\n"
     ]
    }
   ],
   "source": [
    "labels_train_lr = log_model.predict(Xlr_train_scaled)\n",
    "labels_val_lr = log_model.predict(Xlr_val_scaled)\n",
    "\n",
    "metrics(y_train = y_train, pred_train = labels_train_lr, y_val = y_val, pred_val = labels_val_lr)"
   ]
  },
  {
   "cell_type": "markdown",
   "id": "03b5360b",
   "metadata": {},
   "source": [
    "__`Step 12`__ Test the model with unseen data - Kaggle Submission\n",
    "\n",
    "f1-score result -> 77.6%\n",
    "\n",
    "Even though it show a consistent result in train a validation sets, with no overfitting, when applied to unseen data (test dataset), the performance presented some decrease.\n",
    "\n",
    "--------------------------------------------------------------------------------------------------------------------------------\n",
    "\n",
    "The next step consists of understanding the most and least important features, and see if for a different set of features, the results can be improved. \n",
    "\n",
    "In this step was performed an analysis of the model performance with the removal of the features that were in doubt in the end of feature selection process, one by one, and understand which set of features achieves the best results.  \n",
    "    \n",
    "    - BarService\n",
    "    - Cleanliness\n",
    "    - CheckOut\n",
    "    - Wifi\n",
    "    - Age\n",
    "    - Location\n",
    "\n",
    "Below it is only present the resulting best number of features and its performance analysis. \n",
    "\n",
    "#### Logistic Regression with best feature selection"
   ]
  },
  {
   "cell_type": "code",
   "execution_count": 58,
   "id": "15e80a81",
   "metadata": {},
   "outputs": [],
   "source": [
    "Xlr_train_scaled.drop(['Age','Wifi','CheckOut','Cleanliness', 'BarService', 'Location'], axis = 1, inplace = True) \n",
    "Xlr_val_scaled.drop(['Age','Wifi','CheckOut','Cleanliness','BarService', 'Location'], axis = 1, inplace = True) "
   ]
  },
  {
   "cell_type": "markdown",
   "id": "779df21d",
   "metadata": {},
   "source": [
    "__`Step 13`__ Define Logistic Regression model (lrnew_model)"
   ]
  },
  {
   "cell_type": "code",
   "execution_count": 59,
   "id": "e4a1b690",
   "metadata": {},
   "outputs": [],
   "source": [
    "lognew_model = LogisticRegression()"
   ]
  },
  {
   "cell_type": "markdown",
   "id": "d340f528",
   "metadata": {},
   "source": [
    "__`Step 14`__ - Define a dictionary named as __parameter_space__ and define the following options to be considered during modelling:"
   ]
  },
  {
   "cell_type": "code",
   "execution_count": 60,
   "id": "aeec59cc",
   "metadata": {},
   "outputs": [],
   "source": [
    "parameter_space = {\n",
    "    'penalty': ['none', 'l2','l1'],\n",
    "    'tol': [0.0001, 0.01, 0.1],\n",
    "    'C':[0, 0.8, 1.0, 10, 20],\n",
    "    'solver' : ['newton-cg', 'lbfgs', 'liblinear','sag','saga'],\n",
    "    'class_weight': ['none', 'balanced'],\n",
    "    'max_iter': [30, 50, 75, 100] \n",
    "}"
   ]
  },
  {
   "cell_type": "markdown",
   "id": "37949b8a",
   "metadata": {},
   "source": [
    "__`Step 15`__ - Create an instance of GridSearchCV named as __clflr_new__. Fit your Grid Search to __Xlr_train__ and __y_train__"
   ]
  },
  {
   "cell_type": "code",
   "execution_count": 61,
   "id": "42609cf5",
   "metadata": {},
   "outputs": [],
   "source": [
    "clflr_new = GridSearchCV(lognew_model, parameter_space)"
   ]
  },
  {
   "cell_type": "code",
   "execution_count": 62,
   "id": "c3f4c1ca",
   "metadata": {},
   "outputs": [
    {
     "data": {
      "text/plain": [
       "GridSearchCV(estimator=LogisticRegression(),\n",
       "             param_grid={'C': [0, 0.8, 1.0, 10, 20],\n",
       "                         'class_weight': ['none', 'balanced'],\n",
       "                         'max_iter': [30, 50, 75, 100],\n",
       "                         'penalty': ['none', 'l2', 'l1'],\n",
       "                         'solver': ['newton-cg', 'lbfgs', 'liblinear', 'sag',\n",
       "                                    'saga'],\n",
       "                         'tol': [0.0001, 0.01, 0.1]})"
      ]
     },
     "execution_count": 62,
     "metadata": {},
     "output_type": "execute_result"
    }
   ],
   "source": [
    "clflr_new.fit(Xlr_train_scaled, y_train)"
   ]
  },
  {
   "cell_type": "markdown",
   "id": "4097a867",
   "metadata": {},
   "source": [
    "__`Step 16`__ - Call the attribute __best_params___ to check which is the best combination of parameters. Create a final model with those parameters by calling the attribute __best_estimator___"
   ]
  },
  {
   "cell_type": "code",
   "execution_count": 64,
   "id": "1fbb3636",
   "metadata": {},
   "outputs": [
    {
     "data": {
      "text/plain": [
       "{'C': 20,\n",
       " 'class_weight': 'balanced',\n",
       " 'max_iter': 100,\n",
       " 'penalty': 'l2',\n",
       " 'solver': 'sag',\n",
       " 'tol': 0.1}"
      ]
     },
     "execution_count": 64,
     "metadata": {},
     "output_type": "execute_result"
    }
   ],
   "source": [
    "clflr_new.best_params_"
   ]
  },
  {
   "cell_type": "code",
   "execution_count": 65,
   "id": "14b6eaa3",
   "metadata": {},
   "outputs": [],
   "source": [
    "lognew_model = clflr_new.best_estimator_.fit(Xlr_train_scaled, y_train)"
   ]
  },
  {
   "cell_type": "code",
   "execution_count": 66,
   "id": "99c667e8",
   "metadata": {},
   "outputs": [
    {
     "data": {
      "text/plain": [
       "LogisticRegression(class_weight='balanced', max_iter=50, penalty='none',\n",
       "                   random_state=250, solver='saga', tol=0.1)"
      ]
     },
     "execution_count": 66,
     "metadata": {},
     "output_type": "execute_result"
    }
   ],
   "source": [
    "lognew_model = LogisticRegression(C= 1.0,\n",
    "                                  class_weight= 'balanced',\n",
    "                                  max_iter= 50,\n",
    "                                  penalty= 'none',\n",
    "                                  solver= 'saga',\n",
    "                                  tol= 0.1,\n",
    "                                  random_state = 250)\n",
    "lognew_model.fit(Xlr_train_scaled, y_train)"
   ]
  },
  {
   "cell_type": "markdown",
   "id": "7707ad7c",
   "metadata": {},
   "source": [
    "__`Step 17`__ Apply both train and validation sets to our logistic regression __lognew_model__"
   ]
  },
  {
   "cell_type": "code",
   "execution_count": 67,
   "id": "3930e97d",
   "metadata": {},
   "outputs": [
    {
     "name": "stdout",
     "output_type": "stream",
     "text": [
      "Train: 0.8347672268231888\n",
      "Val: 0.8321543408360128\n"
     ]
    }
   ],
   "source": [
    "print('Train:', lognew_model.score(Xlr_train_scaled, y_train))\n",
    "print('Val:', lognew_model.score(Xlr_val_scaled, y_val))"
   ]
  },
  {
   "cell_type": "markdown",
   "id": "698f9a4b",
   "metadata": {},
   "source": [
    "Again, the train and validation present really close results, with no signs of overfitting. "
   ]
  },
  {
   "cell_type": "markdown",
   "id": "49ee1b45",
   "metadata": {},
   "source": [
    "__`Step 18`__ K-fold Cross Validation"
   ]
  },
  {
   "cell_type": "code",
   "execution_count": 72,
   "id": "75060bf4",
   "metadata": {},
   "outputs": [
    {
     "name": "stdout",
     "output_type": "stream",
     "text": [
      "Train: 0.8344768439108061\n",
      "Validation: 0.8257234726688103\n",
      "\n",
      "Train: 0.8339050886220698\n",
      "Validation: 0.8263665594855305\n",
      "\n",
      "Train: 0.8344053744997141\n",
      "Validation: 0.8302250803858521\n",
      "\n",
      "Train: 0.8321898227558605\n",
      "Validation: 0.8379421221864952\n",
      "\n",
      "Train: 0.8326901086335049\n",
      "Validation: 0.8315112540192926\n",
      "\n",
      "Train: 0.832904516866781\n",
      "Validation: 0.8385852090032154\n",
      "\n",
      "Train: 0.8357632933104632\n",
      "Validation: 0.8115755627009646\n",
      "\n",
      "Train: 0.8319874222825698\n",
      "Validation: 0.8449163449163449\n",
      "\n",
      "Train: 0.8321303508897305\n",
      "Validation: 0.8404118404118404\n",
      "\n",
      "Train: 0.8329879225326949\n",
      "Validation: 0.8346203346203346\n",
      "\n",
      "-------------------------------\n",
      "Average Train:0.8333+/-0.0012\n",
      "Average Validation:0.8322+/-0.009\n"
     ]
    }
   ],
   "source": [
    "kf = KFold(n_splits=10)\n",
    "Xtemp = pd.get_dummies(X, drop_first = True)\n",
    "scaler = MinMaxScaler().fit(Xtemp)\n",
    "Xtemp_scaled = pd.DataFrame(scaler.transform(Xtemp), columns = Xtemp.columns, index = Xtemp.index)\n",
    "avg_score(kf, lognew_model, Xtemp_scaled.drop(['RoomType_suite','Age','Wifi','CheckOut','Cleanliness', 'BarService','Location'], axis = 1), y)"
   ]
  },
  {
   "cell_type": "markdown",
   "id": "71f59bb9",
   "metadata": {},
   "source": [
    "- The average results with K-fold validation allow to conclude that the dataset is large enough to consider the hold-out split results"
   ]
  },
  {
   "cell_type": "markdown",
   "id": "35fb16c0",
   "metadata": {},
   "source": [
    "__`Step 19`__ In order to performance of our model with different metrics, first assign the predictions to y_pred."
   ]
  },
  {
   "cell_type": "code",
   "execution_count": 73,
   "id": "c0a9cfa1",
   "metadata": {},
   "outputs": [
    {
     "data": {
      "text/plain": [
       "array([0, 1, 0, ..., 1, 0, 0])"
      ]
     },
     "execution_count": 73,
     "metadata": {},
     "output_type": "execute_result"
    }
   ],
   "source": [
    "y_pred_lr = lognew_model.predict(Xlr_val_scaled)\n",
    "y_pred_lr"
   ]
  },
  {
   "cell_type": "markdown",
   "id": "7a7f65d6",
   "metadata": {},
   "source": [
    "__`Step 20`__ Obtain confusion_matrix, the f1_score and the classification report for both train a validation predicted results."
   ]
  },
  {
   "cell_type": "code",
   "execution_count": 74,
   "id": "839f1313",
   "metadata": {},
   "outputs": [
    {
     "data": {
      "text/plain": [
       "0.8171232876712329"
      ]
     },
     "execution_count": 74,
     "metadata": {},
     "output_type": "execute_result"
    }
   ],
   "source": [
    "f1_score(y_val, y_pred_lr)"
   ]
  },
  {
   "cell_type": "code",
   "execution_count": 75,
   "id": "ef515a6c",
   "metadata": {},
   "outputs": [
    {
     "name": "stdout",
     "output_type": "stream",
     "text": [
      "___________________________________________________________________________________________________________\n",
      "                                                     TRAIN                                                 \n",
      "-----------------------------------------------------------------------------------------------------------\n",
      "              precision    recall  f1-score   support\n",
      "\n",
      "           0       0.86      0.83      0.84      6762\n",
      "           1       0.80      0.84      0.82      5675\n",
      "\n",
      "    accuracy                           0.83     12437\n",
      "   macro avg       0.83      0.84      0.83     12437\n",
      "weighted avg       0.84      0.83      0.83     12437\n",
      "\n",
      "[[5592 1170]\n",
      " [ 890 4785]]\n",
      "___________________________________________________________________________________________________________\n",
      "                                                   VALIDATION                                              \n",
      "-----------------------------------------------------------------------------------------------------------\n",
      "              precision    recall  f1-score   support\n",
      "\n",
      "           0       0.86      0.82      0.84      1691\n",
      "           1       0.79      0.84      0.82      1419\n",
      "\n",
      "    accuracy                           0.83      3110\n",
      "   macro avg       0.83      0.83      0.83      3110\n",
      "weighted avg       0.83      0.83      0.83      3110\n",
      "\n",
      "[[1383  308]\n",
      " [ 226 1193]]\n"
     ]
    }
   ],
   "source": [
    "labels_train_lr = lognew_model.predict(Xlr_train_scaled)\n",
    "labels_val_lr = lognew_model.predict(Xlr_val_scaled)\n",
    "\n",
    "metrics(y_train = y_train, pred_train = labels_train_lr, y_val = y_val, pred_val = labels_val_lr)"
   ]
  },
  {
   "cell_type": "markdown",
   "id": "53a10576",
   "metadata": {},
   "source": [
    "- The train and validation results are similar to the previous scenario. The overall performance seem to maintain around 83 %, and also the f1-score presented a small decrease...\n",
    "- However, as we can see in the next step, the __f1-score results from testing on unseen data increased considerably__ when compared to the previous scenario (__from 77,6 % to 82,3 %__), reducing the overfitting possibility. "
   ]
  },
  {
   "cell_type": "markdown",
   "id": "396d4349",
   "metadata": {},
   "source": [
    "__`Step 21`__ Test the model with unseen data - Kaggle Submission\n",
    "\n",
    "f1-score result -> 82.3%\n",
    "\n",
    "#### Logistic Regression model Results - f1-score >> Train: 82.1 % | Val: 81.8 % | Test: 82.3 %"
   ]
  },
  {
   "cell_type": "markdown",
   "id": "187eb429",
   "metadata": {},
   "source": [
    "<a id=\"rforrest\"></a>\n",
    "\n",
    "#### <font color = '#cc9900'> 4.4. Assess using Random Forest Classifier </font>\n",
    "\n",
    "[Back to Contents](#toc)"
   ]
  },
  {
   "cell_type": "markdown",
   "id": "9d4c006d",
   "metadata": {},
   "source": [
    "Random forest is a supervised learning algorithm. The “forest” it builds is an ensemble of decision trees, usually trained with the “bagging” method. The general idea of the bagging method is that a combination of learning models increases the overall result. In resume, random forest builds multiple decision trees and merges them together to get a more accurate and stable prediction.\n",
    "\n",
    "<img src=\"images/random_forest_diag.png\" width=\"500px\">\n",
    "\n",
    "One big advantage of random forest is that it can be used for both classification and regression problems, which form the majority of current machine learning systems. It has nearly the same hyperparameters as a decision tree or a bagging classifier.\n",
    "\n",
    "Random forest adds additional randomness to the model, while growing the trees. Instead of searching for the most important feature while splitting a node, it searches for the best feature among a random subset of features. This results in a wide diversity that generally results in a better model.\n",
    "\n",
    "Therefore, in random forest, only a random subset of the features is taken into consideration by the algorithm for splitting a node. You can even make trees more random by additionally using random thresholds for each feature rather than searching for the best possible thresholds (like a normal decision tree does).\n",
    "\n",
    "\n",
    "Parameters:\n",
    "\n",
    "`n_estimators` number of trees in the forest (default = 100) <br>\n",
    "`criterion` function to measure the quality of a split (default = 'gini') <br>\n",
    "`max_depth` maximum depth of the tree <br>\n",
    "`min_samples_split` minimum number of samples required to split an internal node <br>\n",
    "`min_samples_leaf` minimum number of samples required to be at a leaf node. <br>\n",
    "`min_weight_fraction_leaf`minimum weighted fraction of the sum total of weights required to be at a leaf node <br>\n",
    "`max_features` number of features to consider when looking for the best split (default='sqrt') <br>\n",
    "`max_leaf_nodes` grow trees with max_leaf_nodes in best-first fashion <br>\n",
    "`min_impurity_decrease` a node will be split if this split induces a decrease of the impurity greater or equal to this value <br>\n",
    "`bootstrap` whether bootstrap samples are used when building trees (default = True) <br>\n",
    "`oob_score` whether to use out-of-bag samples to estimate the generalization score <br>\n",
    "`n_jobs` the number of jobs to run in parallel (default = None) <br>\n",
    "`random_state` controls both the randomness of the bootstrapping of the samples used when building trees <br>\n",
    "`verbose` controls the verbosity when fitting and predicting <br>\n",
    "`warm_start`  reuse the solution of the previous call to fit and add more estimators to the ensemble (default=False) <br>\n",
    "`class_weight` weights associated with classes in the form <br>\n",
    "`ccp_alpha` complexity parameter used for Minimal Cost-Complexity Pruning <br>\n",
    "`max_samples` if bootstrap=True, the number of samples to draw from X to train each base estimator (default=None) <br>\n"
   ]
  },
  {
   "cell_type": "markdown",
   "id": "0207afd9",
   "metadata": {},
   "source": [
    "__Main phases for creating and optimizing the Random Forest prediction model:__\n",
    "\n",
    "1. Create a prediction model considering the resulting dataset from feature selection\n",
    "    - Determine the optimum parameters with GridSearchCV, and resulting performance results. \n",
    "    - Test it with unseen data, and assess the performance results (f1-score from Kaggle)  \n",
    "\n",
    "\n",
    "2. In case of overfitting, analyze the importance of the features\n",
    "    - check feature importance\n",
    "    - cross with the possible discard features that resulted from the feature selection.\n",
    "\n",
    "\n",
    "3. Test different feature eliminations and obtain final model\n",
    "    - prediction model with best features\n",
    "    - analyze performance of the model with evaluation metrics\n",
    "    - Test it with unseen data, and assess the performance results (f1-score from Kaggle)  "
   ]
  },
  {
   "cell_type": "markdown",
   "id": "1ec0d77d",
   "metadata": {},
   "source": [
    "__`Step 1`__ Copy train and validation sets"
   ]
  },
  {
   "cell_type": "code",
   "execution_count": 76,
   "id": "892604cd",
   "metadata": {},
   "outputs": [],
   "source": [
    "Xrf_train_dummy = X_train_dummy.copy()\n",
    "Xrf_val_dummy = X_val_dummy.copy()"
   ]
  },
  {
   "cell_type": "markdown",
   "id": "848c4dea",
   "metadata": {},
   "source": [
    "#### Random Forest model considering all features"
   ]
  },
  {
   "cell_type": "markdown",
   "id": "96632529",
   "metadata": {},
   "source": [
    "__`Step 2`__ Define Random Forest model (rf_model)"
   ]
  },
  {
   "cell_type": "code",
   "execution_count": 77,
   "id": "f725997a",
   "metadata": {},
   "outputs": [],
   "source": [
    "rf_model = RandomForestClassifier()"
   ]
  },
  {
   "cell_type": "markdown",
   "id": "9439e70d",
   "metadata": {},
   "source": [
    "__`Step 3`__ - Define a dictionary named as __parameter_space__ and define the following options to be considered during modelling.\n",
    "\n",
    "The set of parameters presented below are resultant from different gridsearch performed, and the values chosen are the ones that seem to achieve more insteresting results"
   ]
  },
  {
   "cell_type": "code",
   "execution_count": 78,
   "id": "e5f829b7",
   "metadata": {},
   "outputs": [],
   "source": [
    "parameter_space = {\n",
    "    'n_estimators': [10, 100], \n",
    "    'criterion': ['gini', 'entropy'],\n",
    "    'max_depth': [6, 8, 10],\n",
    "    'class_weight': ['balanced', 'balanced_subsample', None],\n",
    "    'min_weight_fraction_leaf': [0, 0.001, 0.0001],\n",
    "    'max_features': ['sqrt', 'log2', None]\n",
    "}"
   ]
  },
  {
   "cell_type": "markdown",
   "id": "53d6e43f",
   "metadata": {},
   "source": [
    "__`Step 4`__ - Create an instance of GridSearchCV named as __clf__ and pass as parameters the __model__ and the __parameter_space__"
   ]
  },
  {
   "cell_type": "code",
   "execution_count": 79,
   "id": "cbc01395",
   "metadata": {},
   "outputs": [],
   "source": [
    "clfrf = GridSearchCV(rf_model, parameter_space)"
   ]
  },
  {
   "cell_type": "markdown",
   "id": "7c0c76a2",
   "metadata": {},
   "source": [
    "__`Step 5`__ - Fit your Grid Search to __X_train__ and __y_train__"
   ]
  },
  {
   "cell_type": "code",
   "execution_count": 80,
   "id": "279d2f0a",
   "metadata": {},
   "outputs": [
    {
     "data": {
      "text/plain": [
       "GridSearchCV(estimator=RandomForestClassifier(),\n",
       "             param_grid={'class_weight': ['balanced', 'balanced_subsample',\n",
       "                                          None],\n",
       "                         'criterion': ['gini', 'entropy'],\n",
       "                         'max_depth': [6, 8, 10],\n",
       "                         'max_features': ['sqrt', 'log2', None],\n",
       "                         'min_weight_fraction_leaf': [0, 0.001, 0.0001],\n",
       "                         'n_estimators': [10, 100]})"
      ]
     },
     "execution_count": 80,
     "metadata": {},
     "output_type": "execute_result"
    }
   ],
   "source": [
    "clfrf.fit(Xrf_train_dummy, y_train)"
   ]
  },
  {
   "cell_type": "markdown",
   "id": "9cb9a052",
   "metadata": {},
   "source": [
    "__`Step 6`__ - Call the attribute __best_params___ to check which is the best combination of parameters, and then create a final model with those parameters by calling the attribute __best_estimator___"
   ]
  },
  {
   "cell_type": "code",
   "execution_count": 82,
   "id": "4f1e7d7a",
   "metadata": {},
   "outputs": [
    {
     "data": {
      "text/plain": [
       "{'class_weight': 'balanced_subsample',\n",
       " 'criterion': 'entropy',\n",
       " 'max_depth': 10,\n",
       " 'max_features': None,\n",
       " 'min_weight_fraction_leaf': 0.0001,\n",
       " 'n_estimators': 100}"
      ]
     },
     "execution_count": 82,
     "metadata": {},
     "output_type": "execute_result"
    }
   ],
   "source": [
    "clfrf.best_params_"
   ]
  },
  {
   "cell_type": "code",
   "execution_count": 83,
   "id": "ff300192",
   "metadata": {},
   "outputs": [],
   "source": [
    "rf_model = clfrf.best_estimator_.fit(Xrf_train_dummy, y_train)"
   ]
  },
  {
   "cell_type": "markdown",
   "id": "239edc7f",
   "metadata": {},
   "source": [
    "__`Step 7`__ Apply both train and validation sets to our random forest classifier __rf_model__"
   ]
  },
  {
   "cell_type": "code",
   "execution_count": 84,
   "id": "2e34618a",
   "metadata": {},
   "outputs": [
    {
     "name": "stdout",
     "output_type": "stream",
     "text": [
      "Train: 0.9640588566374527\n",
      "Val: 0.935048231511254\n"
     ]
    }
   ],
   "source": [
    "print('Train:', rf_model.score(Xrf_train_dummy, y_train))\n",
    "print('Val:', rf_model.score(Xrf_val_dummy, y_val))"
   ]
  },
  {
   "cell_type": "markdown",
   "id": "9c98500e",
   "metadata": {},
   "source": [
    "There is some evidence of possible overfitting in our model. In order to better understand the performance of the obtained Random Forest model, we are performing:   \n",
    "- a stratified k-fold cross analysis, to observe if for different train and test splits, the results are more or less the same or not. \n",
    "- assess the performance with some evaluation metrics (specially f1-score)\n",
    "    \n",
    "Finally, we apply it to the test dataset, and submit the results into the Kaggle competition "
   ]
  },
  {
   "cell_type": "markdown",
   "id": "a5f38d56",
   "metadata": {},
   "source": [
    "__`Step 8`__ K-fold Cross Validation\n",
    "- Purpose is to check if, for different validation+train splits, the results are similar and thus we can consider hold-out split as representative of our dataset. "
   ]
  },
  {
   "cell_type": "code",
   "execution_count": 85,
   "id": "8de29382",
   "metadata": {},
   "outputs": [
    {
     "name": "stdout",
     "output_type": "stream",
     "text": [
      "Train: 0.9628359062321327\n",
      "Validation: 0.9382636655948553\n",
      "\n",
      "Train: 0.9626929674099486\n",
      "Validation: 0.9382636655948553\n",
      "\n",
      "Train: 0.9634076615208691\n",
      "Validation: 0.9440514469453376\n",
      "\n",
      "Train: 0.9609062321326473\n",
      "Validation: 0.9369774919614148\n",
      "\n",
      "Train: 0.9609777015437393\n",
      "Validation: 0.9356913183279743\n",
      "\n",
      "Train: 0.9644797026872498\n",
      "Validation: 0.935048231511254\n",
      "\n",
      "Train: 0.9617638650657518\n",
      "Validation: 0.9356913183279743\n",
      "\n",
      "Train: 0.9619095261916673\n",
      "Validation: 0.9395109395109396\n",
      "\n",
      "Train: 0.9615522046737655\n",
      "Validation: 0.9337194337194337\n",
      "\n",
      "Train: 0.9627670978346315\n",
      "Validation: 0.9407979407979408\n",
      "\n",
      "-------------------------------\n",
      "Average Train:0.9623+/-0.0011\n",
      "Average Validation:0.9378+/-0.0029\n"
     ]
    }
   ],
   "source": [
    "kf = KFold(n_splits=10)\n",
    "Xtemp = pd.get_dummies(X, drop_first = True)\n",
    "avg_score(kf, rf_model, Xtemp.drop(['RoomType_suite'], axis = 1), y)"
   ]
  },
  {
   "cell_type": "markdown",
   "id": "dbf03068",
   "metadata": {},
   "source": [
    "__`Step 10`__ Test the model with unseen data - Kaggle Submission\n",
    "\n",
    "f1-score result -> 66.2%\n",
    "\n",
    "Even though it present a good performance in train a validation sets, when applied to unseen data (test dataset), the performance had a huge decrease, sign of big overfitting (learned too much the train data).\n",
    "\n",
    "--------------------------------------------------------------------------------------------------------------------------------\n",
    "\n",
    "In order to understand the most and least important features, the following steps were taken: \n",
    "- Define a Random Forest Classifier and apply it to both train a validation datasets\n",
    "- Check the features' importance using __feature_importances___"
   ]
  },
  {
   "cell_type": "code",
   "execution_count": 87,
   "id": "88d91672",
   "metadata": {},
   "outputs": [
    {
     "data": {
      "text/plain": [
       "RandomForestClassifier(max_depth=10, random_state=50)"
      ]
     },
     "execution_count": 87,
     "metadata": {},
     "output_type": "execute_result"
    }
   ],
   "source": [
    "rf_model = RandomForestClassifier(max_depth = 10, random_state = 50)\n",
    "rf_model.fit(X_train_dummy,y_train)"
   ]
  },
  {
   "cell_type": "code",
   "execution_count": 88,
   "id": "04b7baf5",
   "metadata": {},
   "outputs": [
    {
     "name": "stdout",
     "output_type": "stream",
     "text": [
      "Train: 0.9501487496984803\n",
      "Validation: 0.9250803858520901\n"
     ]
    }
   ],
   "source": [
    "print('Train:', rf_model.score(X_train_dummy, y_train))\n",
    "print('Validation:', rf_model.score(X_val_dummy, y_val))"
   ]
  },
  {
   "cell_type": "markdown",
   "id": "e6975f3e",
   "metadata": {},
   "source": [
    "__`Step 11`__ Checking what are the most relevant features for our Random Forest Classifier"
   ]
  },
  {
   "cell_type": "code",
   "execution_count": 89,
   "id": "63c7b128",
   "metadata": {},
   "outputs": [],
   "source": [
    "importances = pd.DataFrame({'feature':X_train_dummy.columns,'importance':np.round(rf_model.feature_importances_,3)})\n",
    "importances = importances.sort_values('importance',ascending=False).set_index('feature')"
   ]
  },
  {
   "cell_type": "code",
   "execution_count": 90,
   "id": "fd352f9d",
   "metadata": {},
   "outputs": [
    {
     "data": {
      "text/html": [
       "<div>\n",
       "<style scoped>\n",
       "    .dataframe tbody tr th:only-of-type {\n",
       "        vertical-align: middle;\n",
       "    }\n",
       "\n",
       "    .dataframe tbody tr th {\n",
       "        vertical-align: top;\n",
       "    }\n",
       "\n",
       "    .dataframe thead th {\n",
       "        text-align: right;\n",
       "    }\n",
       "</style>\n",
       "<table border=\"1\" class=\"dataframe\">\n",
       "  <thead>\n",
       "    <tr style=\"text-align: right;\">\n",
       "      <th></th>\n",
       "      <th>importance</th>\n",
       "    </tr>\n",
       "    <tr>\n",
       "      <th>feature</th>\n",
       "      <th></th>\n",
       "    </tr>\n",
       "  </thead>\n",
       "  <tbody>\n",
       "    <tr>\n",
       "      <th>Amenities</th>\n",
       "      <td>0.261</td>\n",
       "    </tr>\n",
       "    <tr>\n",
       "      <th>Comfort</th>\n",
       "      <td>0.142</td>\n",
       "    </tr>\n",
       "    <tr>\n",
       "      <th>OnlineBooking</th>\n",
       "      <td>0.103</td>\n",
       "    </tr>\n",
       "    <tr>\n",
       "      <th>Staff</th>\n",
       "      <td>0.073</td>\n",
       "    </tr>\n",
       "    <tr>\n",
       "      <th>RoomSpace</th>\n",
       "      <td>0.052</td>\n",
       "    </tr>\n",
       "  </tbody>\n",
       "</table>\n",
       "</div>"
      ],
      "text/plain": [
       "               importance\n",
       "feature                  \n",
       "Amenities           0.261\n",
       "Comfort             0.142\n",
       "OnlineBooking       0.103\n",
       "Staff               0.073\n",
       "RoomSpace           0.052"
      ]
     },
     "execution_count": 90,
     "metadata": {},
     "output_type": "execute_result"
    }
   ],
   "source": [
    "importances.head()"
   ]
  },
  {
   "cell_type": "code",
   "execution_count": 91,
   "id": "f4ba7770",
   "metadata": {
    "scrolled": false
   },
   "outputs": [
    {
     "data": {
      "image/png": "[encoded data removed]",
      "text/plain": [
       "<Figure size 720x432 with 1 Axes>"
      ]
     },
     "metadata": {
      "needs_background": "light"
     },
     "output_type": "display_data"
    }
   ],
   "source": [
    "importances.plot.bar(figsize=(10,6))\n",
    "plt.show()"
   ]
  },
  {
   "cell_type": "markdown",
   "id": "603c0a15",
   "metadata": {},
   "source": [
    "From the bar plot above we can retrieve the following conclusions: \n",
    "- __Amenities, Comfort, OnlineBooking__ and __Staff__ are the __most important__ features. \n",
    "- __Age, Wifi, CheckOut__ and __Location__ are the __least important__ features. \n",
    "\n",
    "These results are in accordance with RFE results, where in some splits these features were considered to discard. \n",
    "\n",
    "After testing with different number of features, the __best results were obtained by dropping the following features__:             \n",
    "   - __Age__\n",
    "   - __Wifi__\n",
    "   - __CheckOut__\n",
    "   - __Cleanliness__\n",
    "   - __Location__\n",
    "\n",
    "In addition to the train + validation best results, in order to guarantee the best result possible for unseen data, this analysis considered the best choice of features to obtain the best kaggle result.\n",
    "\n",
    "Therefore, the next steps present the development and validation of the final Random Forest prediction model, by selecting the optimum number features, and also by the determining the best parameters of our model using GridSearchCV.\n",
    "  \n",
    "#### Random Forest model with best feature selection"
   ]
  },
  {
   "cell_type": "code",
   "execution_count": 92,
   "id": "c7c35ec6",
   "metadata": {},
   "outputs": [],
   "source": [
    "Xrf_train_dummy.drop(['Age','Wifi','CheckOut','Cleanliness', 'Location'], axis = 1, inplace = True) \n",
    "Xrf_val_dummy.drop(['Age','Wifi','CheckOut','Cleanliness', 'Location'], axis = 1, inplace = True) "
   ]
  },
  {
   "cell_type": "markdown",
   "id": "7bef5489",
   "metadata": {},
   "source": [
    "__`Step 12`__ Define Random Forest model (rf_model)\n"
   ]
  },
  {
   "cell_type": "code",
   "execution_count": 93,
   "id": "4b6113e8",
   "metadata": {},
   "outputs": [],
   "source": [
    "rfnew_model = RandomForestClassifier()"
   ]
  },
  {
   "cell_type": "markdown",
   "id": "a051ec87",
   "metadata": {},
   "source": [
    "__`Step 13`__ - Define a dictionary named as __parameter_space__ and define the following options to be considered during modelling:"
   ]
  },
  {
   "cell_type": "code",
   "execution_count": 94,
   "id": "85b12072",
   "metadata": {},
   "outputs": [],
   "source": [
    "parameter_space = {\n",
    "    'n_estimators': [10, 100],\n",
    "    'criterion': ['gini', 'entropy'],\n",
    "    'max_depth': [6, 8, 10],\n",
    "    'class_weight': ['balanced', 'balanced_subsample', None],\n",
    "    'min_weight_fraction_leaf': [0, 0.001, 0.0001],\n",
    "    'max_features': ['sqrt', 'log2', None]\n",
    "}"
   ]
  },
  {
   "cell_type": "markdown",
   "id": "b1ad5e0f",
   "metadata": {},
   "source": [
    "__`Step 14`__ - Create an instance of GridSearchCV named as __clf__ and pass as parameters the __model__ and the __parameter_space__"
   ]
  },
  {
   "cell_type": "code",
   "execution_count": 95,
   "id": "a55cbb09",
   "metadata": {},
   "outputs": [],
   "source": [
    "clfrf_new = GridSearchCV(rfnew_model, parameter_space)"
   ]
  },
  {
   "cell_type": "markdown",
   "id": "e80352b2",
   "metadata": {},
   "source": [
    "__`Step 15`__ - Fit your Grid Search to __X_train__ and __y_train__"
   ]
  },
  {
   "cell_type": "code",
   "execution_count": 96,
   "id": "8bb70e7c",
   "metadata": {},
   "outputs": [
    {
     "data": {
      "text/plain": [
       "GridSearchCV(estimator=RandomForestClassifier(),\n",
       "             param_grid={'class_weight': ['balanced', 'balanced_subsample',\n",
       "                                          None],\n",
       "                         'criterion': ['gini', 'entropy'],\n",
       "                         'max_depth': [6, 8, 10],\n",
       "                         'max_features': ['sqrt', 'log2', None],\n",
       "                         'min_weight_fraction_leaf': [0, 0.001, 0.0001],\n",
       "                         'n_estimators': [10, 100]})"
      ]
     },
     "execution_count": 96,
     "metadata": {},
     "output_type": "execute_result"
    }
   ],
   "source": [
    "clfrf_new.fit(Xrf_train_dummy, y_train)"
   ]
  },
  {
   "cell_type": "markdown",
   "id": "1921753b",
   "metadata": {},
   "source": [
    "__`Step 16`__ - Call the attribute __best_params___ to check which is the best combination of parameters, and then create a final model with those parameters by calling the attribute __best_estimator___"
   ]
  },
  {
   "cell_type": "code",
   "execution_count": 97,
   "id": "e4767e14",
   "metadata": {},
   "outputs": [
    {
     "data": {
      "text/plain": [
       "{'class_weight': 'balanced',\n",
       " 'criterion': 'gini',\n",
       " 'max_depth': 10,\n",
       " 'max_features': None,\n",
       " 'min_weight_fraction_leaf': 0.0001,\n",
       " 'n_estimators': 100}"
      ]
     },
     "execution_count": 97,
     "metadata": {},
     "output_type": "execute_result"
    }
   ],
   "source": [
    "clfrf_new.best_params_"
   ]
  },
  {
   "cell_type": "code",
   "execution_count": 98,
   "id": "72258047",
   "metadata": {},
   "outputs": [],
   "source": [
    "rfnew_model = clfrf_new.best_estimator_.fit(Xrf_train_dummy, y_train)"
   ]
  },
  {
   "cell_type": "markdown",
   "id": "72719666",
   "metadata": {},
   "source": [
    "__`Step 17`__ Apply both train and validation sets to our random forest classifier __rf_model__"
   ]
  },
  {
   "cell_type": "code",
   "execution_count": 99,
   "id": "a3ceaeb2",
   "metadata": {},
   "outputs": [
    {
     "name": "stdout",
     "output_type": "stream",
     "text": [
      "Train: 0.9555359009407414\n",
      "Test: 0.9260450160771704\n"
     ]
    }
   ],
   "source": [
    "print('Train:', rfnew_model.score(Xrf_train_dummy, y_train))\n",
    "print('Test:', rfnew_model.score(Xrf_val_dummy, y_val))"
   ]
  },
  {
   "cell_type": "markdown",
   "id": "a759240c",
   "metadata": {},
   "source": [
    "Again, there is some evidence of overfitting in our model, however it is about 2 %, so it is not considerable. In order to better understand the performance of the obtained Random Forest model, we are performing:   \n",
    "- a stratified k-fold cross analysis, to observe if for different train and test splits, the results are more or less the same or not. \n",
    "- assess the performance with some evaluation metrics (specially f1-score)\n",
    "    \n",
    "Finally, we apply it to the test dataset, and submit the results into the Kaggle competition "
   ]
  },
  {
   "cell_type": "markdown",
   "id": "7af386d8",
   "metadata": {},
   "source": [
    "__`Step 18`__ - Create a loop to check the mean and the standard deviation of the different models created using the different combinations using GridSearchCV"
   ]
  },
  {
   "cell_type": "code",
   "execution_count": 100,
   "id": "6cdb4544",
   "metadata": {
    "scrolled": true
   },
   "outputs": [
    {
     "name": "stdout",
     "output_type": "stream",
     "text": [
      "------------------------------------------------------------------------------------------------------------------------\n",
      "Best parameters found:\n",
      " {'class_weight': 'balanced', 'criterion': 'gini', 'max_depth': 10, 'max_features': None, 'min_weight_fraction_leaf': 0.0001, 'n_estimators': 100}\n",
      "------------------------------------------------------------------------------------------------------------------------\n",
      "0.895 (+/-0.004) for {'class_weight': 'balanced', 'criterion': 'gini', 'max_depth': 6, 'max_features': 'sqrt', 'min_weight_fraction_leaf': 0, 'n_estimators': 10}\n",
      "0.903 (+/-0.006) for {'class_weight': 'balanced', 'criterion': 'gini', 'max_depth': 6, 'max_features': 'sqrt', 'min_weight_fraction_leaf': 0, 'n_estimators': 100}\n",
      "0.895 (+/-0.004) for {'class_weight': 'balanced', 'criterion': 'gini', 'max_depth': 6, 'max_features': 'sqrt', 'min_weight_fraction_leaf': 0.001, 'n_estimators': 10}\n",
      "0.900 (+/-0.005) for {'class_weight': 'balanced', 'criterion': 'gini', 'max_depth': 6, 'max_features': 'sqrt', 'min_weight_fraction_leaf': 0.001, 'n_estimators': 100}\n",
      "0.897 (+/-0.004) for {'class_weight': 'balanced', 'criterion': 'gini', 'max_depth': 6, 'max_features': 'sqrt', 'min_weight_fraction_leaf': 0.0001, 'n_estimators': 10}\n",
      "0.901 (+/-0.005) for {'class_weight': 'balanced', 'criterion': 'gini', 'max_depth': 6, 'max_features': 'sqrt', 'min_weight_fraction_leaf': 0.0001, 'n_estimators': 100}\n",
      "0.898 (+/-0.004) for {'class_weight': 'balanced', 'criterion': 'gini', 'max_depth': 6, 'max_features': 'log2', 'min_weight_fraction_leaf': 0, 'n_estimators': 10}\n",
      "0.902 (+/-0.004) for {'class_weight': 'balanced', 'criterion': 'gini', 'max_depth': 6, 'max_features': 'log2', 'min_weight_fraction_leaf': 0, 'n_estimators': 100}\n",
      "0.898 (+/-0.006) for {'class_weight': 'balanced', 'criterion': 'gini', 'max_depth': 6, 'max_features': 'log2', 'min_weight_fraction_leaf': 0.001, 'n_estimators': 10}\n",
      "0.900 (+/-0.003) for {'class_weight': 'balanced', 'criterion': 'gini', 'max_depth': 6, 'max_features': 'log2', 'min_weight_fraction_leaf': 0.001, 'n_estimators': 100}\n",
      "0.896 (+/-0.006) for {'class_weight': 'balanced', 'criterion': 'gini', 'max_depth': 6, 'max_features': 'log2', 'min_weight_fraction_leaf': 0.0001, 'n_estimators': 10}\n",
      "0.901 (+/-0.004) for {'class_weight': 'balanced', 'criterion': 'gini', 'max_depth': 6, 'max_features': 'log2', 'min_weight_fraction_leaf': 0.0001, 'n_estimators': 100}\n",
      "0.901 (+/-0.006) for {'class_weight': 'balanced', 'criterion': 'gini', 'max_depth': 6, 'max_features': None, 'min_weight_fraction_leaf': 0, 'n_estimators': 10}\n",
      "0.902 (+/-0.005) for {'class_weight': 'balanced', 'criterion': 'gini', 'max_depth': 6, 'max_features': None, 'min_weight_fraction_leaf': 0, 'n_estimators': 100}\n",
      "0.899 (+/-0.003) for {'class_weight': 'balanced', 'criterion': 'gini', 'max_depth': 6, 'max_features': None, 'min_weight_fraction_leaf': 0.001, 'n_estimators': 10}\n",
      "0.901 (+/-0.006) for {'class_weight': 'balanced', 'criterion': 'gini', 'max_depth': 6, 'max_features': None, 'min_weight_fraction_leaf': 0.001, 'n_estimators': 100}\n",
      "0.901 (+/-0.007) for {'class_weight': 'balanced', 'criterion': 'gini', 'max_depth': 6, 'max_features': None, 'min_weight_fraction_leaf': 0.0001, 'n_estimators': 10}\n",
      "0.902 (+/-0.006) for {'class_weight': 'balanced', 'criterion': 'gini', 'max_depth': 6, 'max_features': None, 'min_weight_fraction_leaf': 0.0001, 'n_estimators': 100}\n",
      "0.913 (+/-0.004) for {'class_weight': 'balanced', 'criterion': 'gini', 'max_depth': 8, 'max_features': 'sqrt', 'min_weight_fraction_leaf': 0, 'n_estimators': 10}\n",
      "0.915 (+/-0.005) for {'class_weight': 'balanced', 'criterion': 'gini', 'max_depth': 8, 'max_features': 'sqrt', 'min_weight_fraction_leaf': 0, 'n_estimators': 100}\n",
      "0.909 (+/-0.005) for {'class_weight': 'balanced', 'criterion': 'gini', 'max_depth': 8, 'max_features': 'sqrt', 'min_weight_fraction_leaf': 0.001, 'n_estimators': 10}\n",
      "0.913 (+/-0.003) for {'class_weight': 'balanced', 'criterion': 'gini', 'max_depth': 8, 'max_features': 'sqrt', 'min_weight_fraction_leaf': 0.001, 'n_estimators': 100}\n",
      "0.909 (+/-0.004) for {'class_weight': 'balanced', 'criterion': 'gini', 'max_depth': 8, 'max_features': 'sqrt', 'min_weight_fraction_leaf': 0.0001, 'n_estimators': 10}\n",
      "0.913 (+/-0.005) for {'class_weight': 'balanced', 'criterion': 'gini', 'max_depth': 8, 'max_features': 'sqrt', 'min_weight_fraction_leaf': 0.0001, 'n_estimators': 100}\n",
      "0.913 (+/-0.007) for {'class_weight': 'balanced', 'criterion': 'gini', 'max_depth': 8, 'max_features': 'log2', 'min_weight_fraction_leaf': 0, 'n_estimators': 10}\n",
      "0.914 (+/-0.003) for {'class_weight': 'balanced', 'criterion': 'gini', 'max_depth': 8, 'max_features': 'log2', 'min_weight_fraction_leaf': 0, 'n_estimators': 100}\n",
      "0.908 (+/-0.007) for {'class_weight': 'balanced', 'criterion': 'gini', 'max_depth': 8, 'max_features': 'log2', 'min_weight_fraction_leaf': 0.001, 'n_estimators': 10}\n",
      "0.912 (+/-0.003) for {'class_weight': 'balanced', 'criterion': 'gini', 'max_depth': 8, 'max_features': 'log2', 'min_weight_fraction_leaf': 0.001, 'n_estimators': 100}\n",
      "0.911 (+/-0.002) for {'class_weight': 'balanced', 'criterion': 'gini', 'max_depth': 8, 'max_features': 'log2', 'min_weight_fraction_leaf': 0.0001, 'n_estimators': 10}\n",
      "0.915 (+/-0.005) for {'class_weight': 'balanced', 'criterion': 'gini', 'max_depth': 8, 'max_features': 'log2', 'min_weight_fraction_leaf': 0.0001, 'n_estimators': 100}\n",
      "0.925 (+/-0.005) for {'class_weight': 'balanced', 'criterion': 'gini', 'max_depth': 8, 'max_features': None, 'min_weight_fraction_leaf': 0, 'n_estimators': 10}\n",
      "0.927 (+/-0.004) for {'class_weight': 'balanced', 'criterion': 'gini', 'max_depth': 8, 'max_features': None, 'min_weight_fraction_leaf': 0, 'n_estimators': 100}\n",
      "0.919 (+/-0.002) for {'class_weight': 'balanced', 'criterion': 'gini', 'max_depth': 8, 'max_features': None, 'min_weight_fraction_leaf': 0.001, 'n_estimators': 10}\n",
      "0.922 (+/-0.004) for {'class_weight': 'balanced', 'criterion': 'gini', 'max_depth': 8, 'max_features': None, 'min_weight_fraction_leaf': 0.001, 'n_estimators': 100}\n",
      "0.924 (+/-0.004) for {'class_weight': 'balanced', 'criterion': 'gini', 'max_depth': 8, 'max_features': None, 'min_weight_fraction_leaf': 0.0001, 'n_estimators': 10}\n",
      "0.926 (+/-0.003) for {'class_weight': 'balanced', 'criterion': 'gini', 'max_depth': 8, 'max_features': None, 'min_weight_fraction_leaf': 0.0001, 'n_estimators': 100}\n",
      "0.920 (+/-0.003) for {'class_weight': 'balanced', 'criterion': 'gini', 'max_depth': 10, 'max_features': 'sqrt', 'min_weight_fraction_leaf': 0, 'n_estimators': 10}\n",
      "0.925 (+/-0.004) for {'class_weight': 'balanced', 'criterion': 'gini', 'max_depth': 10, 'max_features': 'sqrt', 'min_weight_fraction_leaf': 0, 'n_estimators': 100}\n",
      "0.914 (+/-0.005) for {'class_weight': 'balanced', 'criterion': 'gini', 'max_depth': 10, 'max_features': 'sqrt', 'min_weight_fraction_leaf': 0.001, 'n_estimators': 10}\n",
      "0.919 (+/-0.003) for {'class_weight': 'balanced', 'criterion': 'gini', 'max_depth': 10, 'max_features': 'sqrt', 'min_weight_fraction_leaf': 0.001, 'n_estimators': 100}\n",
      "0.921 (+/-0.007) for {'class_weight': 'balanced', 'criterion': 'gini', 'max_depth': 10, 'max_features': 'sqrt', 'min_weight_fraction_leaf': 0.0001, 'n_estimators': 10}\n",
      "0.924 (+/-0.005) for {'class_weight': 'balanced', 'criterion': 'gini', 'max_depth': 10, 'max_features': 'sqrt', 'min_weight_fraction_leaf': 0.0001, 'n_estimators': 100}\n",
      "0.920 (+/-0.002) for {'class_weight': 'balanced', 'criterion': 'gini', 'max_depth': 10, 'max_features': 'log2', 'min_weight_fraction_leaf': 0, 'n_estimators': 10}\n",
      "0.925 (+/-0.005) for {'class_weight': 'balanced', 'criterion': 'gini', 'max_depth': 10, 'max_features': 'log2', 'min_weight_fraction_leaf': 0, 'n_estimators': 100}\n",
      "0.917 (+/-0.004) for {'class_weight': 'balanced', 'criterion': 'gini', 'max_depth': 10, 'max_features': 'log2', 'min_weight_fraction_leaf': 0.001, 'n_estimators': 10}\n",
      "0.919 (+/-0.003) for {'class_weight': 'balanced', 'criterion': 'gini', 'max_depth': 10, 'max_features': 'log2', 'min_weight_fraction_leaf': 0.001, 'n_estimators': 100}\n",
      "0.919 (+/-0.005) for {'class_weight': 'balanced', 'criterion': 'gini', 'max_depth': 10, 'max_features': 'log2', 'min_weight_fraction_leaf': 0.0001, 'n_estimators': 10}\n",
      "0.925 (+/-0.005) for {'class_weight': 'balanced', 'criterion': 'gini', 'max_depth': 10, 'max_features': 'log2', 'min_weight_fraction_leaf': 0.0001, 'n_estimators': 100}\n",
      "0.928 (+/-0.005) for {'class_weight': 'balanced', 'criterion': 'gini', 'max_depth': 10, 'max_features': None, 'min_weight_fraction_leaf': 0, 'n_estimators': 10}\n",
      "0.932 (+/-0.003) for {'class_weight': 'balanced', 'criterion': 'gini', 'max_depth': 10, 'max_features': None, 'min_weight_fraction_leaf': 0, 'n_estimators': 100}\n",
      "0.924 (+/-0.003) for {'class_weight': 'balanced', 'criterion': 'gini', 'max_depth': 10, 'max_features': None, 'min_weight_fraction_leaf': 0.001, 'n_estimators': 10}\n",
      "0.926 (+/-0.003) for {'class_weight': 'balanced', 'criterion': 'gini', 'max_depth': 10, 'max_features': None, 'min_weight_fraction_leaf': 0.001, 'n_estimators': 100}\n",
      "0.930 (+/-0.004) for {'class_weight': 'balanced', 'criterion': 'gini', 'max_depth': 10, 'max_features': None, 'min_weight_fraction_leaf': 0.0001, 'n_estimators': 10}\n",
      "0.932 (+/-0.003) for {'class_weight': 'balanced', 'criterion': 'gini', 'max_depth': 10, 'max_features': None, 'min_weight_fraction_leaf': 0.0001, 'n_estimators': 100}\n",
      "0.894 (+/-0.003) for {'class_weight': 'balanced', 'criterion': 'entropy', 'max_depth': 6, 'max_features': 'sqrt', 'min_weight_fraction_leaf': 0, 'n_estimators': 10}\n",
      "0.901 (+/-0.005) for {'class_weight': 'balanced', 'criterion': 'entropy', 'max_depth': 6, 'max_features': 'sqrt', 'min_weight_fraction_leaf': 0, 'n_estimators': 100}\n",
      "0.894 (+/-0.007) for {'class_weight': 'balanced', 'criterion': 'entropy', 'max_depth': 6, 'max_features': 'sqrt', 'min_weight_fraction_leaf': 0.001, 'n_estimators': 10}\n",
      "0.899 (+/-0.004) for {'class_weight': 'balanced', 'criterion': 'entropy', 'max_depth': 6, 'max_features': 'sqrt', 'min_weight_fraction_leaf': 0.001, 'n_estimators': 100}\n",
      "0.894 (+/-0.009) for {'class_weight': 'balanced', 'criterion': 'entropy', 'max_depth': 6, 'max_features': 'sqrt', 'min_weight_fraction_leaf': 0.0001, 'n_estimators': 10}\n",
      "0.899 (+/-0.004) for {'class_weight': 'balanced', 'criterion': 'entropy', 'max_depth': 6, 'max_features': 'sqrt', 'min_weight_fraction_leaf': 0.0001, 'n_estimators': 100}\n",
      "0.896 (+/-0.004) for {'class_weight': 'balanced', 'criterion': 'entropy', 'max_depth': 6, 'max_features': 'log2', 'min_weight_fraction_leaf': 0, 'n_estimators': 10}\n",
      "0.900 (+/-0.005) for {'class_weight': 'balanced', 'criterion': 'entropy', 'max_depth': 6, 'max_features': 'log2', 'min_weight_fraction_leaf': 0, 'n_estimators': 100}\n",
      "0.898 (+/-0.003) for {'class_weight': 'balanced', 'criterion': 'entropy', 'max_depth': 6, 'max_features': 'log2', 'min_weight_fraction_leaf': 0.001, 'n_estimators': 10}\n",
      "0.901 (+/-0.006) for {'class_weight': 'balanced', 'criterion': 'entropy', 'max_depth': 6, 'max_features': 'log2', 'min_weight_fraction_leaf': 0.001, 'n_estimators': 100}\n",
      "0.898 (+/-0.005) for {'class_weight': 'balanced', 'criterion': 'entropy', 'max_depth': 6, 'max_features': 'log2', 'min_weight_fraction_leaf': 0.0001, 'n_estimators': 10}\n",
      "0.901 (+/-0.005) for {'class_weight': 'balanced', 'criterion': 'entropy', 'max_depth': 6, 'max_features': 'log2', 'min_weight_fraction_leaf': 0.0001, 'n_estimators': 100}\n",
      "0.903 (+/-0.005) for {'class_weight': 'balanced', 'criterion': 'entropy', 'max_depth': 6, 'max_features': None, 'min_weight_fraction_leaf': 0, 'n_estimators': 10}\n",
      "0.903 (+/-0.005) for {'class_weight': 'balanced', 'criterion': 'entropy', 'max_depth': 6, 'max_features': None, 'min_weight_fraction_leaf': 0, 'n_estimators': 100}\n",
      "0.902 (+/-0.007) for {'class_weight': 'balanced', 'criterion': 'entropy', 'max_depth': 6, 'max_features': None, 'min_weight_fraction_leaf': 0.001, 'n_estimators': 10}\n",
      "0.902 (+/-0.006) for {'class_weight': 'balanced', 'criterion': 'entropy', 'max_depth': 6, 'max_features': None, 'min_weight_fraction_leaf': 0.001, 'n_estimators': 100}\n",
      "0.900 (+/-0.002) for {'class_weight': 'balanced', 'criterion': 'entropy', 'max_depth': 6, 'max_features': None, 'min_weight_fraction_leaf': 0.0001, 'n_estimators': 10}\n",
      "0.903 (+/-0.005) for {'class_weight': 'balanced', 'criterion': 'entropy', 'max_depth': 6, 'max_features': None, 'min_weight_fraction_leaf': 0.0001, 'n_estimators': 100}\n",
      "0.909 (+/-0.006) for {'class_weight': 'balanced', 'criterion': 'entropy', 'max_depth': 8, 'max_features': 'sqrt', 'min_weight_fraction_leaf': 0, 'n_estimators': 10}\n",
      "0.914 (+/-0.004) for {'class_weight': 'balanced', 'criterion': 'entropy', 'max_depth': 8, 'max_features': 'sqrt', 'min_weight_fraction_leaf': 0, 'n_estimators': 100}\n",
      "0.907 (+/-0.007) for {'class_weight': 'balanced', 'criterion': 'entropy', 'max_depth': 8, 'max_features': 'sqrt', 'min_weight_fraction_leaf': 0.001, 'n_estimators': 10}\n",
      "0.911 (+/-0.004) for {'class_weight': 'balanced', 'criterion': 'entropy', 'max_depth': 8, 'max_features': 'sqrt', 'min_weight_fraction_leaf': 0.001, 'n_estimators': 100}\n",
      "0.910 (+/-0.003) for {'class_weight': 'balanced', 'criterion': 'entropy', 'max_depth': 8, 'max_features': 'sqrt', 'min_weight_fraction_leaf': 0.0001, 'n_estimators': 10}\n",
      "0.913 (+/-0.002) for {'class_weight': 'balanced', 'criterion': 'entropy', 'max_depth': 8, 'max_features': 'sqrt', 'min_weight_fraction_leaf': 0.0001, 'n_estimators': 100}\n",
      "0.910 (+/-0.004) for {'class_weight': 'balanced', 'criterion': 'entropy', 'max_depth': 8, 'max_features': 'log2', 'min_weight_fraction_leaf': 0, 'n_estimators': 10}\n",
      "0.915 (+/-0.004) for {'class_weight': 'balanced', 'criterion': 'entropy', 'max_depth': 8, 'max_features': 'log2', 'min_weight_fraction_leaf': 0, 'n_estimators': 100}\n",
      "0.909 (+/-0.005) for {'class_weight': 'balanced', 'criterion': 'entropy', 'max_depth': 8, 'max_features': 'log2', 'min_weight_fraction_leaf': 0.001, 'n_estimators': 10}\n",
      "0.910 (+/-0.004) for {'class_weight': 'balanced', 'criterion': 'entropy', 'max_depth': 8, 'max_features': 'log2', 'min_weight_fraction_leaf': 0.001, 'n_estimators': 100}\n",
      "0.910 (+/-0.003) for {'class_weight': 'balanced', 'criterion': 'entropy', 'max_depth': 8, 'max_features': 'log2', 'min_weight_fraction_leaf': 0.0001, 'n_estimators': 10}\n",
      "0.914 (+/-0.004) for {'class_weight': 'balanced', 'criterion': 'entropy', 'max_depth': 8, 'max_features': 'log2', 'min_weight_fraction_leaf': 0.0001, 'n_estimators': 100}\n",
      "0.924 (+/-0.006) for {'class_weight': 'balanced', 'criterion': 'entropy', 'max_depth': 8, 'max_features': None, 'min_weight_fraction_leaf': 0, 'n_estimators': 10}\n",
      "0.926 (+/-0.004) for {'class_weight': 'balanced', 'criterion': 'entropy', 'max_depth': 8, 'max_features': None, 'min_weight_fraction_leaf': 0, 'n_estimators': 100}\n",
      "0.921 (+/-0.003) for {'class_weight': 'balanced', 'criterion': 'entropy', 'max_depth': 8, 'max_features': None, 'min_weight_fraction_leaf': 0.001, 'n_estimators': 10}\n",
      "0.922 (+/-0.003) for {'class_weight': 'balanced', 'criterion': 'entropy', 'max_depth': 8, 'max_features': None, 'min_weight_fraction_leaf': 0.001, 'n_estimators': 100}\n",
      "0.923 (+/-0.003) for {'class_weight': 'balanced', 'criterion': 'entropy', 'max_depth': 8, 'max_features': None, 'min_weight_fraction_leaf': 0.0001, 'n_estimators': 10}\n",
      "0.927 (+/-0.003) for {'class_weight': 'balanced', 'criterion': 'entropy', 'max_depth': 8, 'max_features': None, 'min_weight_fraction_leaf': 0.0001, 'n_estimators': 100}\n",
      "0.920 (+/-0.003) for {'class_weight': 'balanced', 'criterion': 'entropy', 'max_depth': 10, 'max_features': 'sqrt', 'min_weight_fraction_leaf': 0, 'n_estimators': 10}\n",
      "0.923 (+/-0.004) for {'class_weight': 'balanced', 'criterion': 'entropy', 'max_depth': 10, 'max_features': 'sqrt', 'min_weight_fraction_leaf': 0, 'n_estimators': 100}\n",
      "0.915 (+/-0.004) for {'class_weight': 'balanced', 'criterion': 'entropy', 'max_depth': 10, 'max_features': 'sqrt', 'min_weight_fraction_leaf': 0.001, 'n_estimators': 10}\n",
      "0.919 (+/-0.003) for {'class_weight': 'balanced', 'criterion': 'entropy', 'max_depth': 10, 'max_features': 'sqrt', 'min_weight_fraction_leaf': 0.001, 'n_estimators': 100}\n",
      "0.921 (+/-0.005) for {'class_weight': 'balanced', 'criterion': 'entropy', 'max_depth': 10, 'max_features': 'sqrt', 'min_weight_fraction_leaf': 0.0001, 'n_estimators': 10}\n",
      "0.924 (+/-0.005) for {'class_weight': 'balanced', 'criterion': 'entropy', 'max_depth': 10, 'max_features': 'sqrt', 'min_weight_fraction_leaf': 0.0001, 'n_estimators': 100}\n",
      "0.920 (+/-0.005) for {'class_weight': 'balanced', 'criterion': 'entropy', 'max_depth': 10, 'max_features': 'log2', 'min_weight_fraction_leaf': 0, 'n_estimators': 10}\n",
      "0.924 (+/-0.005) for {'class_weight': 'balanced', 'criterion': 'entropy', 'max_depth': 10, 'max_features': 'log2', 'min_weight_fraction_leaf': 0, 'n_estimators': 100}\n",
      "0.914 (+/-0.003) for {'class_weight': 'balanced', 'criterion': 'entropy', 'max_depth': 10, 'max_features': 'log2', 'min_weight_fraction_leaf': 0.001, 'n_estimators': 10}\n",
      "0.920 (+/-0.004) for {'class_weight': 'balanced', 'criterion': 'entropy', 'max_depth': 10, 'max_features': 'log2', 'min_weight_fraction_leaf': 0.001, 'n_estimators': 100}\n",
      "0.919 (+/-0.004) for {'class_weight': 'balanced', 'criterion': 'entropy', 'max_depth': 10, 'max_features': 'log2', 'min_weight_fraction_leaf': 0.0001, 'n_estimators': 10}\n",
      "0.925 (+/-0.005) for {'class_weight': 'balanced', 'criterion': 'entropy', 'max_depth': 10, 'max_features': 'log2', 'min_weight_fraction_leaf': 0.0001, 'n_estimators': 100}\n",
      "0.929 (+/-0.003) for {'class_weight': 'balanced', 'criterion': 'entropy', 'max_depth': 10, 'max_features': None, 'min_weight_fraction_leaf': 0, 'n_estimators': 10}\n",
      "0.932 (+/-0.003) for {'class_weight': 'balanced', 'criterion': 'entropy', 'max_depth': 10, 'max_features': None, 'min_weight_fraction_leaf': 0, 'n_estimators': 100}\n",
      "0.924 (+/-0.002) for {'class_weight': 'balanced', 'criterion': 'entropy', 'max_depth': 10, 'max_features': None, 'min_weight_fraction_leaf': 0.001, 'n_estimators': 10}\n",
      "0.926 (+/-0.003) for {'class_weight': 'balanced', 'criterion': 'entropy', 'max_depth': 10, 'max_features': None, 'min_weight_fraction_leaf': 0.001, 'n_estimators': 100}\n",
      "0.928 (+/-0.005) for {'class_weight': 'balanced', 'criterion': 'entropy', 'max_depth': 10, 'max_features': None, 'min_weight_fraction_leaf': 0.0001, 'n_estimators': 10}\n",
      "0.932 (+/-0.002) for {'class_weight': 'balanced', 'criterion': 'entropy', 'max_depth': 10, 'max_features': None, 'min_weight_fraction_leaf': 0.0001, 'n_estimators': 100}\n",
      "0.897 (+/-0.007) for {'class_weight': 'balanced_subsample', 'criterion': 'gini', 'max_depth': 6, 'max_features': 'sqrt', 'min_weight_fraction_leaf': 0, 'n_estimators': 10}\n",
      "0.900 (+/-0.004) for {'class_weight': 'balanced_subsample', 'criterion': 'gini', 'max_depth': 6, 'max_features': 'sqrt', 'min_weight_fraction_leaf': 0, 'n_estimators': 100}\n",
      "0.897 (+/-0.004) for {'class_weight': 'balanced_subsample', 'criterion': 'gini', 'max_depth': 6, 'max_features': 'sqrt', 'min_weight_fraction_leaf': 0.001, 'n_estimators': 10}\n",
      "0.901 (+/-0.006) for {'class_weight': 'balanced_subsample', 'criterion': 'gini', 'max_depth': 6, 'max_features': 'sqrt', 'min_weight_fraction_leaf': 0.001, 'n_estimators': 100}\n",
      "0.900 (+/-0.006) for {'class_weight': 'balanced_subsample', 'criterion': 'gini', 'max_depth': 6, 'max_features': 'sqrt', 'min_weight_fraction_leaf': 0.0001, 'n_estimators': 10}\n",
      "0.902 (+/-0.002) for {'class_weight': 'balanced_subsample', 'criterion': 'gini', 'max_depth': 6, 'max_features': 'sqrt', 'min_weight_fraction_leaf': 0.0001, 'n_estimators': 100}\n",
      "0.901 (+/-0.006) for {'class_weight': 'balanced_subsample', 'criterion': 'gini', 'max_depth': 6, 'max_features': 'log2', 'min_weight_fraction_leaf': 0, 'n_estimators': 10}\n",
      "0.901 (+/-0.005) for {'class_weight': 'balanced_subsample', 'criterion': 'gini', 'max_depth': 6, 'max_features': 'log2', 'min_weight_fraction_leaf': 0, 'n_estimators': 100}\n",
      "0.894 (+/-0.004) for {'class_weight': 'balanced_subsample', 'criterion': 'gini', 'max_depth': 6, 'max_features': 'log2', 'min_weight_fraction_leaf': 0.001, 'n_estimators': 10}\n",
      "0.901 (+/-0.005) for {'class_weight': 'balanced_subsample', 'criterion': 'gini', 'max_depth': 6, 'max_features': 'log2', 'min_weight_fraction_leaf': 0.001, 'n_estimators': 100}\n",
      "0.898 (+/-0.006) for {'class_weight': 'balanced_subsample', 'criterion': 'gini', 'max_depth': 6, 'max_features': 'log2', 'min_weight_fraction_leaf': 0.0001, 'n_estimators': 10}\n",
      "0.902 (+/-0.005) for {'class_weight': 'balanced_subsample', 'criterion': 'gini', 'max_depth': 6, 'max_features': 'log2', 'min_weight_fraction_leaf': 0.0001, 'n_estimators': 100}\n",
      "0.900 (+/-0.005) for {'class_weight': 'balanced_subsample', 'criterion': 'gini', 'max_depth': 6, 'max_features': None, 'min_weight_fraction_leaf': 0, 'n_estimators': 10}\n",
      "0.901 (+/-0.005) for {'class_weight': 'balanced_subsample', 'criterion': 'gini', 'max_depth': 6, 'max_features': None, 'min_weight_fraction_leaf': 0, 'n_estimators': 100}\n",
      "0.899 (+/-0.006) for {'class_weight': 'balanced_subsample', 'criterion': 'gini', 'max_depth': 6, 'max_features': None, 'min_weight_fraction_leaf': 0.001, 'n_estimators': 10}\n",
      "0.900 (+/-0.005) for {'class_weight': 'balanced_subsample', 'criterion': 'gini', 'max_depth': 6, 'max_features': None, 'min_weight_fraction_leaf': 0.001, 'n_estimators': 100}\n",
      "0.900 (+/-0.004) for {'class_weight': 'balanced_subsample', 'criterion': 'gini', 'max_depth': 6, 'max_features': None, 'min_weight_fraction_leaf': 0.0001, 'n_estimators': 10}\n",
      "0.902 (+/-0.005) for {'class_weight': 'balanced_subsample', 'criterion': 'gini', 'max_depth': 6, 'max_features': None, 'min_weight_fraction_leaf': 0.0001, 'n_estimators': 100}\n",
      "0.915 (+/-0.007) for {'class_weight': 'balanced_subsample', 'criterion': 'gini', 'max_depth': 8, 'max_features': 'sqrt', 'min_weight_fraction_leaf': 0, 'n_estimators': 10}\n",
      "0.915 (+/-0.004) for {'class_weight': 'balanced_subsample', 'criterion': 'gini', 'max_depth': 8, 'max_features': 'sqrt', 'min_weight_fraction_leaf': 0, 'n_estimators': 100}\n",
      "0.907 (+/-0.004) for {'class_weight': 'balanced_subsample', 'criterion': 'gini', 'max_depth': 8, 'max_features': 'sqrt', 'min_weight_fraction_leaf': 0.001, 'n_estimators': 10}\n",
      "0.912 (+/-0.004) for {'class_weight': 'balanced_subsample', 'criterion': 'gini', 'max_depth': 8, 'max_features': 'sqrt', 'min_weight_fraction_leaf': 0.001, 'n_estimators': 100}\n",
      "0.910 (+/-0.006) for {'class_weight': 'balanced_subsample', 'criterion': 'gini', 'max_depth': 8, 'max_features': 'sqrt', 'min_weight_fraction_leaf': 0.0001, 'n_estimators': 10}\n",
      "0.913 (+/-0.004) for {'class_weight': 'balanced_subsample', 'criterion': 'gini', 'max_depth': 8, 'max_features': 'sqrt', 'min_weight_fraction_leaf': 0.0001, 'n_estimators': 100}\n",
      "0.913 (+/-0.003) for {'class_weight': 'balanced_subsample', 'criterion': 'gini', 'max_depth': 8, 'max_features': 'log2', 'min_weight_fraction_leaf': 0, 'n_estimators': 10}\n",
      "0.915 (+/-0.004) for {'class_weight': 'balanced_subsample', 'criterion': 'gini', 'max_depth': 8, 'max_features': 'log2', 'min_weight_fraction_leaf': 0, 'n_estimators': 100}\n",
      "0.910 (+/-0.005) for {'class_weight': 'balanced_subsample', 'criterion': 'gini', 'max_depth': 8, 'max_features': 'log2', 'min_weight_fraction_leaf': 0.001, 'n_estimators': 10}\n",
      "0.912 (+/-0.005) for {'class_weight': 'balanced_subsample', 'criterion': 'gini', 'max_depth': 8, 'max_features': 'log2', 'min_weight_fraction_leaf': 0.001, 'n_estimators': 100}\n",
      "0.910 (+/-0.001) for {'class_weight': 'balanced_subsample', 'criterion': 'gini', 'max_depth': 8, 'max_features': 'log2', 'min_weight_fraction_leaf': 0.0001, 'n_estimators': 10}\n",
      "0.914 (+/-0.007) for {'class_weight': 'balanced_subsample', 'criterion': 'gini', 'max_depth': 8, 'max_features': 'log2', 'min_weight_fraction_leaf': 0.0001, 'n_estimators': 100}\n",
      "0.924 (+/-0.004) for {'class_weight': 'balanced_subsample', 'criterion': 'gini', 'max_depth': 8, 'max_features': None, 'min_weight_fraction_leaf': 0, 'n_estimators': 10}\n",
      "0.926 (+/-0.004) for {'class_weight': 'balanced_subsample', 'criterion': 'gini', 'max_depth': 8, 'max_features': None, 'min_weight_fraction_leaf': 0, 'n_estimators': 100}\n",
      "0.919 (+/-0.004) for {'class_weight': 'balanced_subsample', 'criterion': 'gini', 'max_depth': 8, 'max_features': None, 'min_weight_fraction_leaf': 0.001, 'n_estimators': 10}\n",
      "0.921 (+/-0.003) for {'class_weight': 'balanced_subsample', 'criterion': 'gini', 'max_depth': 8, 'max_features': None, 'min_weight_fraction_leaf': 0.001, 'n_estimators': 100}\n",
      "0.922 (+/-0.005) for {'class_weight': 'balanced_subsample', 'criterion': 'gini', 'max_depth': 8, 'max_features': None, 'min_weight_fraction_leaf': 0.0001, 'n_estimators': 10}\n",
      "0.926 (+/-0.004) for {'class_weight': 'balanced_subsample', 'criterion': 'gini', 'max_depth': 8, 'max_features': None, 'min_weight_fraction_leaf': 0.0001, 'n_estimators': 100}\n",
      "0.921 (+/-0.005) for {'class_weight': 'balanced_subsample', 'criterion': 'gini', 'max_depth': 10, 'max_features': 'sqrt', 'min_weight_fraction_leaf': 0, 'n_estimators': 10}\n",
      "0.926 (+/-0.003) for {'class_weight': 'balanced_subsample', 'criterion': 'gini', 'max_depth': 10, 'max_features': 'sqrt', 'min_weight_fraction_leaf': 0, 'n_estimators': 100}\n",
      "0.915 (+/-0.005) for {'class_weight': 'balanced_subsample', 'criterion': 'gini', 'max_depth': 10, 'max_features': 'sqrt', 'min_weight_fraction_leaf': 0.001, 'n_estimators': 10}\n",
      "0.920 (+/-0.005) for {'class_weight': 'balanced_subsample', 'criterion': 'gini', 'max_depth': 10, 'max_features': 'sqrt', 'min_weight_fraction_leaf': 0.001, 'n_estimators': 100}\n",
      "0.920 (+/-0.006) for {'class_weight': 'balanced_subsample', 'criterion': 'gini', 'max_depth': 10, 'max_features': 'sqrt', 'min_weight_fraction_leaf': 0.0001, 'n_estimators': 10}\n",
      "0.926 (+/-0.004) for {'class_weight': 'balanced_subsample', 'criterion': 'gini', 'max_depth': 10, 'max_features': 'sqrt', 'min_weight_fraction_leaf': 0.0001, 'n_estimators': 100}\n",
      "0.919 (+/-0.004) for {'class_weight': 'balanced_subsample', 'criterion': 'gini', 'max_depth': 10, 'max_features': 'log2', 'min_weight_fraction_leaf': 0, 'n_estimators': 10}\n",
      "0.925 (+/-0.005) for {'class_weight': 'balanced_subsample', 'criterion': 'gini', 'max_depth': 10, 'max_features': 'log2', 'min_weight_fraction_leaf': 0, 'n_estimators': 100}\n",
      "0.916 (+/-0.002) for {'class_weight': 'balanced_subsample', 'criterion': 'gini', 'max_depth': 10, 'max_features': 'log2', 'min_weight_fraction_leaf': 0.001, 'n_estimators': 10}\n",
      "0.921 (+/-0.004) for {'class_weight': 'balanced_subsample', 'criterion': 'gini', 'max_depth': 10, 'max_features': 'log2', 'min_weight_fraction_leaf': 0.001, 'n_estimators': 100}\n",
      "0.921 (+/-0.005) for {'class_weight': 'balanced_subsample', 'criterion': 'gini', 'max_depth': 10, 'max_features': 'log2', 'min_weight_fraction_leaf': 0.0001, 'n_estimators': 10}\n",
      "0.925 (+/-0.006) for {'class_weight': 'balanced_subsample', 'criterion': 'gini', 'max_depth': 10, 'max_features': 'log2', 'min_weight_fraction_leaf': 0.0001, 'n_estimators': 100}\n",
      "0.928 (+/-0.004) for {'class_weight': 'balanced_subsample', 'criterion': 'gini', 'max_depth': 10, 'max_features': None, 'min_weight_fraction_leaf': 0, 'n_estimators': 10}\n",
      "0.931 (+/-0.004) for {'class_weight': 'balanced_subsample', 'criterion': 'gini', 'max_depth': 10, 'max_features': None, 'min_weight_fraction_leaf': 0, 'n_estimators': 100}\n",
      "0.921 (+/-0.004) for {'class_weight': 'balanced_subsample', 'criterion': 'gini', 'max_depth': 10, 'max_features': None, 'min_weight_fraction_leaf': 0.001, 'n_estimators': 10}\n",
      "0.926 (+/-0.003) for {'class_weight': 'balanced_subsample', 'criterion': 'gini', 'max_depth': 10, 'max_features': None, 'min_weight_fraction_leaf': 0.001, 'n_estimators': 100}\n",
      "0.928 (+/-0.005) for {'class_weight': 'balanced_subsample', 'criterion': 'gini', 'max_depth': 10, 'max_features': None, 'min_weight_fraction_leaf': 0.0001, 'n_estimators': 10}\n",
      "0.932 (+/-0.004) for {'class_weight': 'balanced_subsample', 'criterion': 'gini', 'max_depth': 10, 'max_features': None, 'min_weight_fraction_leaf': 0.0001, 'n_estimators': 100}\n",
      "0.897 (+/-0.005) for {'class_weight': 'balanced_subsample', 'criterion': 'entropy', 'max_depth': 6, 'max_features': 'sqrt', 'min_weight_fraction_leaf': 0, 'n_estimators': 10}\n",
      "0.901 (+/-0.004) for {'class_weight': 'balanced_subsample', 'criterion': 'entropy', 'max_depth': 6, 'max_features': 'sqrt', 'min_weight_fraction_leaf': 0, 'n_estimators': 100}\n",
      "0.895 (+/-0.004) for {'class_weight': 'balanced_subsample', 'criterion': 'entropy', 'max_depth': 6, 'max_features': 'sqrt', 'min_weight_fraction_leaf': 0.001, 'n_estimators': 10}\n",
      "0.900 (+/-0.004) for {'class_weight': 'balanced_subsample', 'criterion': 'entropy', 'max_depth': 6, 'max_features': 'sqrt', 'min_weight_fraction_leaf': 0.001, 'n_estimators': 100}\n",
      "0.895 (+/-0.006) for {'class_weight': 'balanced_subsample', 'criterion': 'entropy', 'max_depth': 6, 'max_features': 'sqrt', 'min_weight_fraction_leaf': 0.0001, 'n_estimators': 10}\n",
      "0.901 (+/-0.005) for {'class_weight': 'balanced_subsample', 'criterion': 'entropy', 'max_depth': 6, 'max_features': 'sqrt', 'min_weight_fraction_leaf': 0.0001, 'n_estimators': 100}\n",
      "0.896 (+/-0.008) for {'class_weight': 'balanced_subsample', 'criterion': 'entropy', 'max_depth': 6, 'max_features': 'log2', 'min_weight_fraction_leaf': 0, 'n_estimators': 10}\n",
      "0.901 (+/-0.004) for {'class_weight': 'balanced_subsample', 'criterion': 'entropy', 'max_depth': 6, 'max_features': 'log2', 'min_weight_fraction_leaf': 0, 'n_estimators': 100}\n",
      "0.897 (+/-0.002) for {'class_weight': 'balanced_subsample', 'criterion': 'entropy', 'max_depth': 6, 'max_features': 'log2', 'min_weight_fraction_leaf': 0.001, 'n_estimators': 10}\n",
      "0.900 (+/-0.005) for {'class_weight': 'balanced_subsample', 'criterion': 'entropy', 'max_depth': 6, 'max_features': 'log2', 'min_weight_fraction_leaf': 0.001, 'n_estimators': 100}\n",
      "0.897 (+/-0.005) for {'class_weight': 'balanced_subsample', 'criterion': 'entropy', 'max_depth': 6, 'max_features': 'log2', 'min_weight_fraction_leaf': 0.0001, 'n_estimators': 10}\n",
      "0.902 (+/-0.006) for {'class_weight': 'balanced_subsample', 'criterion': 'entropy', 'max_depth': 6, 'max_features': 'log2', 'min_weight_fraction_leaf': 0.0001, 'n_estimators': 100}\n",
      "0.902 (+/-0.006) for {'class_weight': 'balanced_subsample', 'criterion': 'entropy', 'max_depth': 6, 'max_features': None, 'min_weight_fraction_leaf': 0, 'n_estimators': 10}\n",
      "0.903 (+/-0.003) for {'class_weight': 'balanced_subsample', 'criterion': 'entropy', 'max_depth': 6, 'max_features': None, 'min_weight_fraction_leaf': 0, 'n_estimators': 100}\n",
      "0.904 (+/-0.004) for {'class_weight': 'balanced_subsample', 'criterion': 'entropy', 'max_depth': 6, 'max_features': None, 'min_weight_fraction_leaf': 0.001, 'n_estimators': 10}\n",
      "0.903 (+/-0.004) for {'class_weight': 'balanced_subsample', 'criterion': 'entropy', 'max_depth': 6, 'max_features': None, 'min_weight_fraction_leaf': 0.001, 'n_estimators': 100}\n",
      "0.902 (+/-0.006) for {'class_weight': 'balanced_subsample', 'criterion': 'entropy', 'max_depth': 6, 'max_features': None, 'min_weight_fraction_leaf': 0.0001, 'n_estimators': 10}\n",
      "0.902 (+/-0.004) for {'class_weight': 'balanced_subsample', 'criterion': 'entropy', 'max_depth': 6, 'max_features': None, 'min_weight_fraction_leaf': 0.0001, 'n_estimators': 100}\n",
      "0.911 (+/-0.006) for {'class_weight': 'balanced_subsample', 'criterion': 'entropy', 'max_depth': 8, 'max_features': 'sqrt', 'min_weight_fraction_leaf': 0, 'n_estimators': 10}\n",
      "0.914 (+/-0.004) for {'class_weight': 'balanced_subsample', 'criterion': 'entropy', 'max_depth': 8, 'max_features': 'sqrt', 'min_weight_fraction_leaf': 0, 'n_estimators': 100}\n",
      "0.913 (+/-0.004) for {'class_weight': 'balanced_subsample', 'criterion': 'entropy', 'max_depth': 8, 'max_features': 'sqrt', 'min_weight_fraction_leaf': 0.001, 'n_estimators': 10}\n",
      "0.912 (+/-0.004) for {'class_weight': 'balanced_subsample', 'criterion': 'entropy', 'max_depth': 8, 'max_features': 'sqrt', 'min_weight_fraction_leaf': 0.001, 'n_estimators': 100}\n",
      "0.909 (+/-0.004) for {'class_weight': 'balanced_subsample', 'criterion': 'entropy', 'max_depth': 8, 'max_features': 'sqrt', 'min_weight_fraction_leaf': 0.0001, 'n_estimators': 10}\n",
      "0.914 (+/-0.005) for {'class_weight': 'balanced_subsample', 'criterion': 'entropy', 'max_depth': 8, 'max_features': 'sqrt', 'min_weight_fraction_leaf': 0.0001, 'n_estimators': 100}\n",
      "0.911 (+/-0.005) for {'class_weight': 'balanced_subsample', 'criterion': 'entropy', 'max_depth': 8, 'max_features': 'log2', 'min_weight_fraction_leaf': 0, 'n_estimators': 10}\n",
      "0.913 (+/-0.004) for {'class_weight': 'balanced_subsample', 'criterion': 'entropy', 'max_depth': 8, 'max_features': 'log2', 'min_weight_fraction_leaf': 0, 'n_estimators': 100}\n",
      "0.910 (+/-0.006) for {'class_weight': 'balanced_subsample', 'criterion': 'entropy', 'max_depth': 8, 'max_features': 'log2', 'min_weight_fraction_leaf': 0.001, 'n_estimators': 10}\n",
      "0.912 (+/-0.003) for {'class_weight': 'balanced_subsample', 'criterion': 'entropy', 'max_depth': 8, 'max_features': 'log2', 'min_weight_fraction_leaf': 0.001, 'n_estimators': 100}\n",
      "0.911 (+/-0.006) for {'class_weight': 'balanced_subsample', 'criterion': 'entropy', 'max_depth': 8, 'max_features': 'log2', 'min_weight_fraction_leaf': 0.0001, 'n_estimators': 10}\n",
      "0.913 (+/-0.005) for {'class_weight': 'balanced_subsample', 'criterion': 'entropy', 'max_depth': 8, 'max_features': 'log2', 'min_weight_fraction_leaf': 0.0001, 'n_estimators': 100}\n",
      "0.922 (+/-0.004) for {'class_weight': 'balanced_subsample', 'criterion': 'entropy', 'max_depth': 8, 'max_features': None, 'min_weight_fraction_leaf': 0, 'n_estimators': 10}\n",
      "0.926 (+/-0.003) for {'class_weight': 'balanced_subsample', 'criterion': 'entropy', 'max_depth': 8, 'max_features': None, 'min_weight_fraction_leaf': 0, 'n_estimators': 100}\n",
      "0.922 (+/-0.002) for {'class_weight': 'balanced_subsample', 'criterion': 'entropy', 'max_depth': 8, 'max_features': None, 'min_weight_fraction_leaf': 0.001, 'n_estimators': 10}\n",
      "0.922 (+/-0.003) for {'class_weight': 'balanced_subsample', 'criterion': 'entropy', 'max_depth': 8, 'max_features': None, 'min_weight_fraction_leaf': 0.001, 'n_estimators': 100}\n",
      "0.925 (+/-0.003) for {'class_weight': 'balanced_subsample', 'criterion': 'entropy', 'max_depth': 8, 'max_features': None, 'min_weight_fraction_leaf': 0.0001, 'n_estimators': 10}\n",
      "0.925 (+/-0.003) for {'class_weight': 'balanced_subsample', 'criterion': 'entropy', 'max_depth': 8, 'max_features': None, 'min_weight_fraction_leaf': 0.0001, 'n_estimators': 100}\n",
      "0.919 (+/-0.003) for {'class_weight': 'balanced_subsample', 'criterion': 'entropy', 'max_depth': 10, 'max_features': 'sqrt', 'min_weight_fraction_leaf': 0, 'n_estimators': 10}\n",
      "0.924 (+/-0.004) for {'class_weight': 'balanced_subsample', 'criterion': 'entropy', 'max_depth': 10, 'max_features': 'sqrt', 'min_weight_fraction_leaf': 0, 'n_estimators': 100}\n",
      "0.915 (+/-0.005) for {'class_weight': 'balanced_subsample', 'criterion': 'entropy', 'max_depth': 10, 'max_features': 'sqrt', 'min_weight_fraction_leaf': 0.001, 'n_estimators': 10}\n",
      "0.919 (+/-0.004) for {'class_weight': 'balanced_subsample', 'criterion': 'entropy', 'max_depth': 10, 'max_features': 'sqrt', 'min_weight_fraction_leaf': 0.001, 'n_estimators': 100}\n",
      "0.920 (+/-0.005) for {'class_weight': 'balanced_subsample', 'criterion': 'entropy', 'max_depth': 10, 'max_features': 'sqrt', 'min_weight_fraction_leaf': 0.0001, 'n_estimators': 10}\n",
      "0.924 (+/-0.006) for {'class_weight': 'balanced_subsample', 'criterion': 'entropy', 'max_depth': 10, 'max_features': 'sqrt', 'min_weight_fraction_leaf': 0.0001, 'n_estimators': 100}\n",
      "0.920 (+/-0.005) for {'class_weight': 'balanced_subsample', 'criterion': 'entropy', 'max_depth': 10, 'max_features': 'log2', 'min_weight_fraction_leaf': 0, 'n_estimators': 10}\n",
      "0.924 (+/-0.004) for {'class_weight': 'balanced_subsample', 'criterion': 'entropy', 'max_depth': 10, 'max_features': 'log2', 'min_weight_fraction_leaf': 0, 'n_estimators': 100}\n",
      "0.917 (+/-0.005) for {'class_weight': 'balanced_subsample', 'criterion': 'entropy', 'max_depth': 10, 'max_features': 'log2', 'min_weight_fraction_leaf': 0.001, 'n_estimators': 10}\n",
      "0.918 (+/-0.005) for {'class_weight': 'balanced_subsample', 'criterion': 'entropy', 'max_depth': 10, 'max_features': 'log2', 'min_weight_fraction_leaf': 0.001, 'n_estimators': 100}\n",
      "0.919 (+/-0.003) for {'class_weight': 'balanced_subsample', 'criterion': 'entropy', 'max_depth': 10, 'max_features': 'log2', 'min_weight_fraction_leaf': 0.0001, 'n_estimators': 10}\n",
      "0.923 (+/-0.004) for {'class_weight': 'balanced_subsample', 'criterion': 'entropy', 'max_depth': 10, 'max_features': 'log2', 'min_weight_fraction_leaf': 0.0001, 'n_estimators': 100}\n",
      "0.930 (+/-0.004) for {'class_weight': 'balanced_subsample', 'criterion': 'entropy', 'max_depth': 10, 'max_features': None, 'min_weight_fraction_leaf': 0, 'n_estimators': 10}\n",
      "0.932 (+/-0.003) for {'class_weight': 'balanced_subsample', 'criterion': 'entropy', 'max_depth': 10, 'max_features': None, 'min_weight_fraction_leaf': 0, 'n_estimators': 100}\n",
      "0.923 (+/-0.004) for {'class_weight': 'balanced_subsample', 'criterion': 'entropy', 'max_depth': 10, 'max_features': None, 'min_weight_fraction_leaf': 0.001, 'n_estimators': 10}\n",
      "0.927 (+/-0.002) for {'class_weight': 'balanced_subsample', 'criterion': 'entropy', 'max_depth': 10, 'max_features': None, 'min_weight_fraction_leaf': 0.001, 'n_estimators': 100}\n",
      "0.929 (+/-0.004) for {'class_weight': 'balanced_subsample', 'criterion': 'entropy', 'max_depth': 10, 'max_features': None, 'min_weight_fraction_leaf': 0.0001, 'n_estimators': 10}\n",
      "0.932 (+/-0.003) for {'class_weight': 'balanced_subsample', 'criterion': 'entropy', 'max_depth': 10, 'max_features': None, 'min_weight_fraction_leaf': 0.0001, 'n_estimators': 100}\n",
      "0.895 (+/-0.006) for {'class_weight': None, 'criterion': 'gini', 'max_depth': 6, 'max_features': 'sqrt', 'min_weight_fraction_leaf': 0, 'n_estimators': 10}\n",
      "0.902 (+/-0.004) for {'class_weight': None, 'criterion': 'gini', 'max_depth': 6, 'max_features': 'sqrt', 'min_weight_fraction_leaf': 0, 'n_estimators': 100}\n",
      "0.895 (+/-0.004) for {'class_weight': None, 'criterion': 'gini', 'max_depth': 6, 'max_features': 'sqrt', 'min_weight_fraction_leaf': 0.001, 'n_estimators': 10}\n",
      "0.901 (+/-0.005) for {'class_weight': None, 'criterion': 'gini', 'max_depth': 6, 'max_features': 'sqrt', 'min_weight_fraction_leaf': 0.001, 'n_estimators': 100}\n",
      "0.894 (+/-0.006) for {'class_weight': None, 'criterion': 'gini', 'max_depth': 6, 'max_features': 'sqrt', 'min_weight_fraction_leaf': 0.0001, 'n_estimators': 10}\n",
      "0.900 (+/-0.004) for {'class_weight': None, 'criterion': 'gini', 'max_depth': 6, 'max_features': 'sqrt', 'min_weight_fraction_leaf': 0.0001, 'n_estimators': 100}\n",
      "0.899 (+/-0.003) for {'class_weight': None, 'criterion': 'gini', 'max_depth': 6, 'max_features': 'log2', 'min_weight_fraction_leaf': 0, 'n_estimators': 10}\n",
      "0.900 (+/-0.004) for {'class_weight': None, 'criterion': 'gini', 'max_depth': 6, 'max_features': 'log2', 'min_weight_fraction_leaf': 0, 'n_estimators': 100}\n",
      "0.897 (+/-0.005) for {'class_weight': None, 'criterion': 'gini', 'max_depth': 6, 'max_features': 'log2', 'min_weight_fraction_leaf': 0.001, 'n_estimators': 10}\n",
      "0.900 (+/-0.005) for {'class_weight': None, 'criterion': 'gini', 'max_depth': 6, 'max_features': 'log2', 'min_weight_fraction_leaf': 0.001, 'n_estimators': 100}\n",
      "0.896 (+/-0.006) for {'class_weight': None, 'criterion': 'gini', 'max_depth': 6, 'max_features': 'log2', 'min_weight_fraction_leaf': 0.0001, 'n_estimators': 10}\n",
      "0.901 (+/-0.004) for {'class_weight': None, 'criterion': 'gini', 'max_depth': 6, 'max_features': 'log2', 'min_weight_fraction_leaf': 0.0001, 'n_estimators': 100}\n",
      "0.902 (+/-0.006) for {'class_weight': None, 'criterion': 'gini', 'max_depth': 6, 'max_features': None, 'min_weight_fraction_leaf': 0, 'n_estimators': 10}\n",
      "0.901 (+/-0.007) for {'class_weight': None, 'criterion': 'gini', 'max_depth': 6, 'max_features': None, 'min_weight_fraction_leaf': 0, 'n_estimators': 100}\n",
      "0.901 (+/-0.007) for {'class_weight': None, 'criterion': 'gini', 'max_depth': 6, 'max_features': None, 'min_weight_fraction_leaf': 0.001, 'n_estimators': 10}\n",
      "0.901 (+/-0.004) for {'class_weight': None, 'criterion': 'gini', 'max_depth': 6, 'max_features': None, 'min_weight_fraction_leaf': 0.001, 'n_estimators': 100}\n",
      "0.901 (+/-0.007) for {'class_weight': None, 'criterion': 'gini', 'max_depth': 6, 'max_features': None, 'min_weight_fraction_leaf': 0.0001, 'n_estimators': 10}\n",
      "0.901 (+/-0.006) for {'class_weight': None, 'criterion': 'gini', 'max_depth': 6, 'max_features': None, 'min_weight_fraction_leaf': 0.0001, 'n_estimators': 100}\n",
      "0.911 (+/-0.006) for {'class_weight': None, 'criterion': 'gini', 'max_depth': 8, 'max_features': 'sqrt', 'min_weight_fraction_leaf': 0, 'n_estimators': 10}\n",
      "0.913 (+/-0.006) for {'class_weight': None, 'criterion': 'gini', 'max_depth': 8, 'max_features': 'sqrt', 'min_weight_fraction_leaf': 0, 'n_estimators': 100}\n",
      "0.907 (+/-0.004) for {'class_weight': None, 'criterion': 'gini', 'max_depth': 8, 'max_features': 'sqrt', 'min_weight_fraction_leaf': 0.001, 'n_estimators': 10}\n",
      "0.911 (+/-0.005) for {'class_weight': None, 'criterion': 'gini', 'max_depth': 8, 'max_features': 'sqrt', 'min_weight_fraction_leaf': 0.001, 'n_estimators': 100}\n",
      "0.911 (+/-0.004) for {'class_weight': None, 'criterion': 'gini', 'max_depth': 8, 'max_features': 'sqrt', 'min_weight_fraction_leaf': 0.0001, 'n_estimators': 10}\n",
      "0.911 (+/-0.004) for {'class_weight': None, 'criterion': 'gini', 'max_depth': 8, 'max_features': 'sqrt', 'min_weight_fraction_leaf': 0.0001, 'n_estimators': 100}\n",
      "0.909 (+/-0.006) for {'class_weight': None, 'criterion': 'gini', 'max_depth': 8, 'max_features': 'log2', 'min_weight_fraction_leaf': 0, 'n_estimators': 10}\n",
      "0.912 (+/-0.005) for {'class_weight': None, 'criterion': 'gini', 'max_depth': 8, 'max_features': 'log2', 'min_weight_fraction_leaf': 0, 'n_estimators': 100}\n",
      "0.907 (+/-0.005) for {'class_weight': None, 'criterion': 'gini', 'max_depth': 8, 'max_features': 'log2', 'min_weight_fraction_leaf': 0.001, 'n_estimators': 10}\n",
      "0.910 (+/-0.004) for {'class_weight': None, 'criterion': 'gini', 'max_depth': 8, 'max_features': 'log2', 'min_weight_fraction_leaf': 0.001, 'n_estimators': 100}\n",
      "0.911 (+/-0.004) for {'class_weight': None, 'criterion': 'gini', 'max_depth': 8, 'max_features': 'log2', 'min_weight_fraction_leaf': 0.0001, 'n_estimators': 10}\n",
      "0.912 (+/-0.005) for {'class_weight': None, 'criterion': 'gini', 'max_depth': 8, 'max_features': 'log2', 'min_weight_fraction_leaf': 0.0001, 'n_estimators': 100}\n",
      "0.925 (+/-0.006) for {'class_weight': None, 'criterion': 'gini', 'max_depth': 8, 'max_features': None, 'min_weight_fraction_leaf': 0, 'n_estimators': 10}\n",
      "0.924 (+/-0.006) for {'class_weight': None, 'criterion': 'gini', 'max_depth': 8, 'max_features': None, 'min_weight_fraction_leaf': 0, 'n_estimators': 100}\n",
      "0.921 (+/-0.005) for {'class_weight': None, 'criterion': 'gini', 'max_depth': 8, 'max_features': None, 'min_weight_fraction_leaf': 0.001, 'n_estimators': 10}\n",
      "0.920 (+/-0.004) for {'class_weight': None, 'criterion': 'gini', 'max_depth': 8, 'max_features': None, 'min_weight_fraction_leaf': 0.001, 'n_estimators': 100}\n",
      "0.922 (+/-0.005) for {'class_weight': None, 'criterion': 'gini', 'max_depth': 8, 'max_features': None, 'min_weight_fraction_leaf': 0.0001, 'n_estimators': 10}\n",
      "0.925 (+/-0.004) for {'class_weight': None, 'criterion': 'gini', 'max_depth': 8, 'max_features': None, 'min_weight_fraction_leaf': 0.0001, 'n_estimators': 100}\n",
      "0.920 (+/-0.004) for {'class_weight': None, 'criterion': 'gini', 'max_depth': 10, 'max_features': 'sqrt', 'min_weight_fraction_leaf': 0, 'n_estimators': 10}\n",
      "0.922 (+/-0.005) for {'class_weight': None, 'criterion': 'gini', 'max_depth': 10, 'max_features': 'sqrt', 'min_weight_fraction_leaf': 0, 'n_estimators': 100}\n",
      "0.915 (+/-0.005) for {'class_weight': None, 'criterion': 'gini', 'max_depth': 10, 'max_features': 'sqrt', 'min_weight_fraction_leaf': 0.001, 'n_estimators': 10}\n",
      "0.917 (+/-0.005) for {'class_weight': None, 'criterion': 'gini', 'max_depth': 10, 'max_features': 'sqrt', 'min_weight_fraction_leaf': 0.001, 'n_estimators': 100}\n",
      "0.921 (+/-0.005) for {'class_weight': None, 'criterion': 'gini', 'max_depth': 10, 'max_features': 'sqrt', 'min_weight_fraction_leaf': 0.0001, 'n_estimators': 10}\n",
      "0.924 (+/-0.004) for {'class_weight': None, 'criterion': 'gini', 'max_depth': 10, 'max_features': 'sqrt', 'min_weight_fraction_leaf': 0.0001, 'n_estimators': 100}\n",
      "0.919 (+/-0.006) for {'class_weight': None, 'criterion': 'gini', 'max_depth': 10, 'max_features': 'log2', 'min_weight_fraction_leaf': 0, 'n_estimators': 10}\n",
      "0.924 (+/-0.004) for {'class_weight': None, 'criterion': 'gini', 'max_depth': 10, 'max_features': 'log2', 'min_weight_fraction_leaf': 0, 'n_estimators': 100}\n",
      "0.915 (+/-0.003) for {'class_weight': None, 'criterion': 'gini', 'max_depth': 10, 'max_features': 'log2', 'min_weight_fraction_leaf': 0.001, 'n_estimators': 10}\n",
      "0.917 (+/-0.005) for {'class_weight': None, 'criterion': 'gini', 'max_depth': 10, 'max_features': 'log2', 'min_weight_fraction_leaf': 0.001, 'n_estimators': 100}\n",
      "0.918 (+/-0.004) for {'class_weight': None, 'criterion': 'gini', 'max_depth': 10, 'max_features': 'log2', 'min_weight_fraction_leaf': 0.0001, 'n_estimators': 10}\n",
      "0.924 (+/-0.005) for {'class_weight': None, 'criterion': 'gini', 'max_depth': 10, 'max_features': 'log2', 'min_weight_fraction_leaf': 0.0001, 'n_estimators': 100}\n",
      "0.928 (+/-0.004) for {'class_weight': None, 'criterion': 'gini', 'max_depth': 10, 'max_features': None, 'min_weight_fraction_leaf': 0, 'n_estimators': 10}\n",
      "0.931 (+/-0.005) for {'class_weight': None, 'criterion': 'gini', 'max_depth': 10, 'max_features': None, 'min_weight_fraction_leaf': 0, 'n_estimators': 100}\n",
      "0.923 (+/-0.003) for {'class_weight': None, 'criterion': 'gini', 'max_depth': 10, 'max_features': None, 'min_weight_fraction_leaf': 0.001, 'n_estimators': 10}\n",
      "0.925 (+/-0.004) for {'class_weight': None, 'criterion': 'gini', 'max_depth': 10, 'max_features': None, 'min_weight_fraction_leaf': 0.001, 'n_estimators': 100}\n",
      "0.926 (+/-0.004) for {'class_weight': None, 'criterion': 'gini', 'max_depth': 10, 'max_features': None, 'min_weight_fraction_leaf': 0.0001, 'n_estimators': 10}\n",
      "0.931 (+/-0.005) for {'class_weight': None, 'criterion': 'gini', 'max_depth': 10, 'max_features': None, 'min_weight_fraction_leaf': 0.0001, 'n_estimators': 100}\n",
      "0.901 (+/-0.005) for {'class_weight': None, 'criterion': 'entropy', 'max_depth': 6, 'max_features': 'sqrt', 'min_weight_fraction_leaf': 0, 'n_estimators': 10}\n",
      "0.900 (+/-0.005) for {'class_weight': None, 'criterion': 'entropy', 'max_depth': 6, 'max_features': 'sqrt', 'min_weight_fraction_leaf': 0, 'n_estimators': 100}\n",
      "0.899 (+/-0.003) for {'class_weight': None, 'criterion': 'entropy', 'max_depth': 6, 'max_features': 'sqrt', 'min_weight_fraction_leaf': 0.001, 'n_estimators': 10}\n",
      "0.901 (+/-0.005) for {'class_weight': None, 'criterion': 'entropy', 'max_depth': 6, 'max_features': 'sqrt', 'min_weight_fraction_leaf': 0.001, 'n_estimators': 100}\n",
      "0.897 (+/-0.002) for {'class_weight': None, 'criterion': 'entropy', 'max_depth': 6, 'max_features': 'sqrt', 'min_weight_fraction_leaf': 0.0001, 'n_estimators': 10}\n",
      "0.900 (+/-0.005) for {'class_weight': None, 'criterion': 'entropy', 'max_depth': 6, 'max_features': 'sqrt', 'min_weight_fraction_leaf': 0.0001, 'n_estimators': 100}\n",
      "0.898 (+/-0.007) for {'class_weight': None, 'criterion': 'entropy', 'max_depth': 6, 'max_features': 'log2', 'min_weight_fraction_leaf': 0, 'n_estimators': 10}\n",
      "0.901 (+/-0.005) for {'class_weight': None, 'criterion': 'entropy', 'max_depth': 6, 'max_features': 'log2', 'min_weight_fraction_leaf': 0, 'n_estimators': 100}\n",
      "0.894 (+/-0.004) for {'class_weight': None, 'criterion': 'entropy', 'max_depth': 6, 'max_features': 'log2', 'min_weight_fraction_leaf': 0.001, 'n_estimators': 10}\n",
      "0.899 (+/-0.005) for {'class_weight': None, 'criterion': 'entropy', 'max_depth': 6, 'max_features': 'log2', 'min_weight_fraction_leaf': 0.001, 'n_estimators': 100}\n",
      "0.897 (+/-0.007) for {'class_weight': None, 'criterion': 'entropy', 'max_depth': 6, 'max_features': 'log2', 'min_weight_fraction_leaf': 0.0001, 'n_estimators': 10}\n",
      "0.901 (+/-0.004) for {'class_weight': None, 'criterion': 'entropy', 'max_depth': 6, 'max_features': 'log2', 'min_weight_fraction_leaf': 0.0001, 'n_estimators': 100}\n",
      "0.899 (+/-0.004) for {'class_weight': None, 'criterion': 'entropy', 'max_depth': 6, 'max_features': None, 'min_weight_fraction_leaf': 0, 'n_estimators': 10}\n",
      "0.902 (+/-0.004) for {'class_weight': None, 'criterion': 'entropy', 'max_depth': 6, 'max_features': None, 'min_weight_fraction_leaf': 0, 'n_estimators': 100}\n",
      "0.901 (+/-0.006) for {'class_weight': None, 'criterion': 'entropy', 'max_depth': 6, 'max_features': None, 'min_weight_fraction_leaf': 0.001, 'n_estimators': 10}\n",
      "0.901 (+/-0.006) for {'class_weight': None, 'criterion': 'entropy', 'max_depth': 6, 'max_features': None, 'min_weight_fraction_leaf': 0.001, 'n_estimators': 100}\n",
      "0.902 (+/-0.006) for {'class_weight': None, 'criterion': 'entropy', 'max_depth': 6, 'max_features': None, 'min_weight_fraction_leaf': 0.0001, 'n_estimators': 10}\n",
      "0.902 (+/-0.004) for {'class_weight': None, 'criterion': 'entropy', 'max_depth': 6, 'max_features': None, 'min_weight_fraction_leaf': 0.0001, 'n_estimators': 100}\n",
      "0.912 (+/-0.006) for {'class_weight': None, 'criterion': 'entropy', 'max_depth': 8, 'max_features': 'sqrt', 'min_weight_fraction_leaf': 0, 'n_estimators': 10}\n",
      "0.911 (+/-0.004) for {'class_weight': None, 'criterion': 'entropy', 'max_depth': 8, 'max_features': 'sqrt', 'min_weight_fraction_leaf': 0, 'n_estimators': 100}\n",
      "0.907 (+/-0.007) for {'class_weight': None, 'criterion': 'entropy', 'max_depth': 8, 'max_features': 'sqrt', 'min_weight_fraction_leaf': 0.001, 'n_estimators': 10}\n",
      "0.908 (+/-0.005) for {'class_weight': None, 'criterion': 'entropy', 'max_depth': 8, 'max_features': 'sqrt', 'min_weight_fraction_leaf': 0.001, 'n_estimators': 100}\n",
      "0.910 (+/-0.006) for {'class_weight': None, 'criterion': 'entropy', 'max_depth': 8, 'max_features': 'sqrt', 'min_weight_fraction_leaf': 0.0001, 'n_estimators': 10}\n",
      "0.912 (+/-0.004) for {'class_weight': None, 'criterion': 'entropy', 'max_depth': 8, 'max_features': 'sqrt', 'min_weight_fraction_leaf': 0.0001, 'n_estimators': 100}\n",
      "0.909 (+/-0.004) for {'class_weight': None, 'criterion': 'entropy', 'max_depth': 8, 'max_features': 'log2', 'min_weight_fraction_leaf': 0, 'n_estimators': 10}\n",
      "0.912 (+/-0.003) for {'class_weight': None, 'criterion': 'entropy', 'max_depth': 8, 'max_features': 'log2', 'min_weight_fraction_leaf': 0, 'n_estimators': 100}\n",
      "0.909 (+/-0.006) for {'class_weight': None, 'criterion': 'entropy', 'max_depth': 8, 'max_features': 'log2', 'min_weight_fraction_leaf': 0.001, 'n_estimators': 10}\n",
      "0.909 (+/-0.005) for {'class_weight': None, 'criterion': 'entropy', 'max_depth': 8, 'max_features': 'log2', 'min_weight_fraction_leaf': 0.001, 'n_estimators': 100}\n",
      "0.910 (+/-0.006) for {'class_weight': None, 'criterion': 'entropy', 'max_depth': 8, 'max_features': 'log2', 'min_weight_fraction_leaf': 0.0001, 'n_estimators': 10}\n",
      "0.911 (+/-0.005) for {'class_weight': None, 'criterion': 'entropy', 'max_depth': 8, 'max_features': 'log2', 'min_weight_fraction_leaf': 0.0001, 'n_estimators': 100}\n",
      "0.922 (+/-0.005) for {'class_weight': None, 'criterion': 'entropy', 'max_depth': 8, 'max_features': None, 'min_weight_fraction_leaf': 0, 'n_estimators': 10}\n",
      "0.925 (+/-0.005) for {'class_weight': None, 'criterion': 'entropy', 'max_depth': 8, 'max_features': None, 'min_weight_fraction_leaf': 0, 'n_estimators': 100}\n",
      "0.919 (+/-0.005) for {'class_weight': None, 'criterion': 'entropy', 'max_depth': 8, 'max_features': None, 'min_weight_fraction_leaf': 0.001, 'n_estimators': 10}\n",
      "0.922 (+/-0.003) for {'class_weight': None, 'criterion': 'entropy', 'max_depth': 8, 'max_features': None, 'min_weight_fraction_leaf': 0.001, 'n_estimators': 100}\n",
      "0.923 (+/-0.004) for {'class_weight': None, 'criterion': 'entropy', 'max_depth': 8, 'max_features': None, 'min_weight_fraction_leaf': 0.0001, 'n_estimators': 10}\n",
      "0.925 (+/-0.004) for {'class_weight': None, 'criterion': 'entropy', 'max_depth': 8, 'max_features': None, 'min_weight_fraction_leaf': 0.0001, 'n_estimators': 100}\n",
      "0.919 (+/-0.003) for {'class_weight': None, 'criterion': 'entropy', 'max_depth': 10, 'max_features': 'sqrt', 'min_weight_fraction_leaf': 0, 'n_estimators': 10}\n",
      "0.923 (+/-0.004) for {'class_weight': None, 'criterion': 'entropy', 'max_depth': 10, 'max_features': 'sqrt', 'min_weight_fraction_leaf': 0, 'n_estimators': 100}\n",
      "0.912 (+/-0.005) for {'class_weight': None, 'criterion': 'entropy', 'max_depth': 10, 'max_features': 'sqrt', 'min_weight_fraction_leaf': 0.001, 'n_estimators': 10}\n",
      "0.916 (+/-0.004) for {'class_weight': None, 'criterion': 'entropy', 'max_depth': 10, 'max_features': 'sqrt', 'min_weight_fraction_leaf': 0.001, 'n_estimators': 100}\n",
      "0.920 (+/-0.003) for {'class_weight': None, 'criterion': 'entropy', 'max_depth': 10, 'max_features': 'sqrt', 'min_weight_fraction_leaf': 0.0001, 'n_estimators': 10}\n",
      "0.922 (+/-0.005) for {'class_weight': None, 'criterion': 'entropy', 'max_depth': 10, 'max_features': 'sqrt', 'min_weight_fraction_leaf': 0.0001, 'n_estimators': 100}\n",
      "0.920 (+/-0.003) for {'class_weight': None, 'criterion': 'entropy', 'max_depth': 10, 'max_features': 'log2', 'min_weight_fraction_leaf': 0, 'n_estimators': 10}\n",
      "0.922 (+/-0.007) for {'class_weight': None, 'criterion': 'entropy', 'max_depth': 10, 'max_features': 'log2', 'min_weight_fraction_leaf': 0, 'n_estimators': 100}\n",
      "0.911 (+/-0.004) for {'class_weight': None, 'criterion': 'entropy', 'max_depth': 10, 'max_features': 'log2', 'min_weight_fraction_leaf': 0.001, 'n_estimators': 10}\n",
      "0.917 (+/-0.005) for {'class_weight': None, 'criterion': 'entropy', 'max_depth': 10, 'max_features': 'log2', 'min_weight_fraction_leaf': 0.001, 'n_estimators': 100}\n",
      "0.916 (+/-0.003) for {'class_weight': None, 'criterion': 'entropy', 'max_depth': 10, 'max_features': 'log2', 'min_weight_fraction_leaf': 0.0001, 'n_estimators': 10}\n",
      "0.922 (+/-0.005) for {'class_weight': None, 'criterion': 'entropy', 'max_depth': 10, 'max_features': 'log2', 'min_weight_fraction_leaf': 0.0001, 'n_estimators': 100}\n",
      "0.929 (+/-0.003) for {'class_weight': None, 'criterion': 'entropy', 'max_depth': 10, 'max_features': None, 'min_weight_fraction_leaf': 0, 'n_estimators': 10}\n",
      "0.931 (+/-0.003) for {'class_weight': None, 'criterion': 'entropy', 'max_depth': 10, 'max_features': None, 'min_weight_fraction_leaf': 0, 'n_estimators': 100}\n",
      "0.924 (+/-0.002) for {'class_weight': None, 'criterion': 'entropy', 'max_depth': 10, 'max_features': None, 'min_weight_fraction_leaf': 0.001, 'n_estimators': 10}\n",
      "0.927 (+/-0.004) for {'class_weight': None, 'criterion': 'entropy', 'max_depth': 10, 'max_features': None, 'min_weight_fraction_leaf': 0.001, 'n_estimators': 100}\n",
      "0.929 (+/-0.004) for {'class_weight': None, 'criterion': 'entropy', 'max_depth': 10, 'max_features': None, 'min_weight_fraction_leaf': 0.0001, 'n_estimators': 10}\n",
      "0.931 (+/-0.003) for {'class_weight': None, 'criterion': 'entropy', 'max_depth': 10, 'max_features': None, 'min_weight_fraction_leaf': 0.0001, 'n_estimators': 100}\n"
     ]
    }
   ],
   "source": [
    "# Best parameter set\n",
    "print('------------------------------------------------------------------------------------------------------------------------')\n",
    "print('Best parameters found:\\n', clfrf_new.best_params_)\n",
    "print('------------------------------------------------------------------------------------------------------------------------')\n",
    "\n",
    "# All results\n",
    "means = clfrf_new.cv_results_['mean_test_score']\n",
    "stds = clfrf_new.cv_results_['std_test_score']\n",
    "for mean, std, params in zip(means, stds, clfrf_new.cv_results_['params']):\n",
    "    print(\"%0.3f (+/-%0.03f) for %r\" % (mean, std , params))"
   ]
  },
  {
   "cell_type": "markdown",
   "id": "9e47cc13",
   "metadata": {},
   "source": [
    "__`Step 19`__ K-fold Cross Validation\n",
    "- Purpose is to check if, for different validation+train splits, the results are similar and thus we can consider hold-out split as representative of our dataset. "
   ]
  },
  {
   "cell_type": "code",
   "execution_count": 103,
   "id": "5cd9eb93",
   "metadata": {},
   "outputs": [
    {
     "name": "stdout",
     "output_type": "stream",
     "text": [
      "Train: 0.9555460263007433\n",
      "Validation: 0.940192926045016\n",
      "\n",
      "Train: 0.9539736992567182\n",
      "Validation: 0.9318327974276527\n",
      "\n",
      "Train: 0.9556889651229273\n",
      "Validation: 0.9356913183279743\n",
      "\n",
      "Train: 0.9548313321898227\n",
      "Validation: 0.9356913183279743\n",
      "\n",
      "Train: 0.9543310463121784\n",
      "Validation: 0.9305466237942123\n",
      "\n",
      "Train: 0.9558319039451115\n",
      "Validation: 0.9318327974276527\n",
      "\n",
      "Train: 0.9541166380789022\n",
      "Validation: 0.932475884244373\n",
      "\n",
      "Train: 0.9544057743157293\n",
      "Validation: 0.9337194337194337\n",
      "\n",
      "Train: 0.955334810262274\n",
      "Validation: 0.9317889317889317\n",
      "\n",
      "Train: 0.9552633459586937\n",
      "Validation: 0.9337194337194337\n",
      "\n",
      "-------------------------------\n",
      "Average Train:0.9549+/-0.0007\n",
      "Average Validation:0.9337+/-0.0027\n"
     ]
    }
   ],
   "source": [
    "kf = KFold(n_splits=10)\n",
    "Xtemp = pd.get_dummies(X, drop_first = True)\n",
    "avg_score(kf, rfnew_model, Xtemp.drop(['RoomType_suite','Wifi','Age','Cleanliness','CheckOut','Location'], axis = 1), y)"
   ]
  },
  {
   "cell_type": "markdown",
   "id": "9ba4ee1f",
   "metadata": {},
   "source": [
    "- The average results with K-fold validation allow to conclude that the dataset is large enough to consider the hold-out split results"
   ]
  },
  {
   "cell_type": "markdown",
   "id": "45d3c9b3",
   "metadata": {},
   "source": [
    "__`Step 20`__ In order to performance of our model with different metrics, first assign the predictions to y_pred."
   ]
  },
  {
   "cell_type": "code",
   "execution_count": 104,
   "id": "a8594562",
   "metadata": {},
   "outputs": [
    {
     "data": {
      "text/plain": [
       "array([0, 1, 0, ..., 1, 0, 0])"
      ]
     },
     "execution_count": 104,
     "metadata": {},
     "output_type": "execute_result"
    }
   ],
   "source": [
    "y_pred_rf = rfnew_model.predict(Xrf_val_dummy)\n",
    "y_pred_rf"
   ]
  },
  {
   "cell_type": "markdown",
   "id": "31f2c6a3",
   "metadata": {},
   "source": [
    "__`Step 21`__ Obtain the confusion matrix\n",
    "\n",
    "The confusion matrix in sklearn is presented in the following format: <br>\n",
    "[ [ TN  FP  ] <br>\n",
    "    [ FN  TP ] ]"
   ]
  },
  {
   "cell_type": "code",
   "execution_count": 105,
   "id": "ac08bcfe",
   "metadata": {},
   "outputs": [
    {
     "data": {
      "text/plain": [
       "array([[1601,   90],\n",
       "       [  54, 1365]], dtype=int64)"
      ]
     },
     "execution_count": 105,
     "metadata": {},
     "output_type": "execute_result"
    }
   ],
   "source": [
    "confusion_matrix(y_val, y_pred_rf)"
   ]
  },
  {
   "cell_type": "markdown",
   "id": "cc3f6766",
   "metadata": {},
   "source": [
    "__`Step 22`__ Get the accuracy score, balanced accuracy score, precision score, recall score and the F1 Score\n",
    "\n",
    "$$accuracy = \\frac{TP + TN}{TP + FN + TN + FP}$$"
   ]
  },
  {
   "cell_type": "code",
   "execution_count": 106,
   "id": "f5697428",
   "metadata": {},
   "outputs": [
    {
     "data": {
      "text/plain": [
       "0.9536977491961415"
      ]
     },
     "execution_count": 106,
     "metadata": {},
     "output_type": "execute_result"
    }
   ],
   "source": [
    "accuracy_score(y_val, y_pred_rf)"
   ]
  },
  {
   "cell_type": "markdown",
   "id": "77fb030f",
   "metadata": {},
   "source": [
    "$$Balanced Accuracy = \\frac{\\frac{TP}{TP + FN} + \\frac{TN}{FP + TN}}{2}$$"
   ]
  },
  {
   "cell_type": "code",
   "execution_count": 107,
   "id": "1e61b133",
   "metadata": {},
   "outputs": [
    {
     "data": {
      "text/plain": [
       "0.9543610433547584"
      ]
     },
     "execution_count": 107,
     "metadata": {},
     "output_type": "execute_result"
    }
   ],
   "source": [
    "balanced_accuracy_score(y_val, y_pred_rf)"
   ]
  },
  {
   "cell_type": "markdown",
   "id": "f88b7e90",
   "metadata": {},
   "source": [
    "$$precision = \\frac{TP}{TP + FP}$$"
   ]
  },
  {
   "cell_type": "code",
   "execution_count": 108,
   "id": "38a65825",
   "metadata": {},
   "outputs": [
    {
     "data": {
      "text/plain": [
       "0.9381443298969072"
      ]
     },
     "execution_count": 108,
     "metadata": {},
     "output_type": "execute_result"
    }
   ],
   "source": [
    "precision_score(y_val, y_pred_rf)"
   ]
  },
  {
   "cell_type": "markdown",
   "id": "ac48b092",
   "metadata": {},
   "source": [
    "$$recall = \\frac{TP}{TP + FN}$$"
   ]
  },
  {
   "cell_type": "code",
   "execution_count": 109,
   "id": "d77c451a",
   "metadata": {},
   "outputs": [
    {
     "data": {
      "text/plain": [
       "0.9619450317124736"
      ]
     },
     "execution_count": 109,
     "metadata": {},
     "output_type": "execute_result"
    }
   ],
   "source": [
    "recall_score(y_val, y_pred_rf)"
   ]
  },
  {
   "cell_type": "markdown",
   "id": "ce8a50a7",
   "metadata": {},
   "source": [
    "$$F1 = \\frac{2 \\times precision \\times recall}{precision+recall}$$"
   ]
  },
  {
   "cell_type": "code",
   "execution_count": 110,
   "id": "aa6110ff",
   "metadata": {},
   "outputs": [
    {
     "data": {
      "text/plain": [
       "0.9498956158663883"
      ]
     },
     "execution_count": 110,
     "metadata": {},
     "output_type": "execute_result"
    }
   ],
   "source": [
    "f1_score(y_val, y_pred_rf)"
   ]
  },
  {
   "cell_type": "markdown",
   "id": "2de1974b",
   "metadata": {},
   "source": [
    "__`Step 23`__ Determine the classification report for both train a validation predicted results."
   ]
  },
  {
   "cell_type": "code",
   "execution_count": 111,
   "id": "ade5f0a5",
   "metadata": {},
   "outputs": [
    {
     "name": "stdout",
     "output_type": "stream",
     "text": [
      "___________________________________________________________________________________________________________\n",
      "                                                     TRAIN                                                 \n",
      "-----------------------------------------------------------------------------------------------------------\n",
      "              precision    recall  f1-score   support\n",
      "\n",
      "           0       0.96      0.95      0.96      6762\n",
      "           1       0.94      0.95      0.95      5675\n",
      "\n",
      "    accuracy                           0.95     12437\n",
      "   macro avg       0.95      0.95      0.95     12437\n",
      "weighted avg       0.95      0.95      0.95     12437\n",
      "\n",
      "[[6434  328]\n",
      " [ 257 5418]]\n",
      "___________________________________________________________________________________________________________\n",
      "                                                   VALIDATION                                              \n",
      "-----------------------------------------------------------------------------------------------------------\n",
      "              precision    recall  f1-score   support\n",
      "\n",
      "           0       0.97      0.95      0.96      1691\n",
      "           1       0.94      0.96      0.95      1419\n",
      "\n",
      "    accuracy                           0.95      3110\n",
      "   macro avg       0.95      0.95      0.95      3110\n",
      "weighted avg       0.95      0.95      0.95      3110\n",
      "\n",
      "[[1601   90]\n",
      " [  54 1365]]\n"
     ]
    }
   ],
   "source": [
    "labels_train_rf = rfnew_model.predict(Xrf_train_dummy)\n",
    "labels_val_rf = rfnew_model.predict(Xrf_val_dummy)\n",
    "\n",
    "metrics(y_train = y_train, pred_train = labels_train_rf, y_val = y_val, pred_val = labels_val_rf)"
   ]
  },
  {
   "cell_type": "markdown",
   "id": "d939b146",
   "metadata": {},
   "source": [
    "__`Step 25`__ Test the model with unseen data - Kaggle Submission\n",
    "\n",
    "f1-score result -> 92.8%\n",
    "\n",
    "#### Random Forest model Results f1-score >> Train: 94.6 % | Val: 95.0 % | Test: 92.8 %"
   ]
  },
  {
   "cell_type": "markdown",
   "id": "b6169636",
   "metadata": {},
   "source": [
    "<a id=\"KNNClassifier\"> </a>\n",
    "\n",
    "#### <font color = '#cc9900'> 4.5 Assess using KNN Classifier </font>\n",
    "\n",
    "[Back to Contents](#toc)"
   ]
  },
  {
   "cell_type": "markdown",
   "id": "81842d2b",
   "metadata": {},
   "source": [
    "#### What is KNN Classifier?\n",
    "\n",
    "The K-nearest neighbors algorithm (K-NN) is a non-parametric supervised learning method.\n",
    "\n",
    "It is an example of a \"lazy learner\" algorithm because it does not generate a model of the data set beforehand. The only calculations it makes are when it is asked to poll the data point's neighbors. This makes k-nn very easy to implement for data mining.\n",
    "\n",
    "#### How does the KNN Classifier work?\n",
    "\n",
    "The K-NN working can be explained on the basis of the below algorithm:\n",
    "\n",
    "``Step-1``: Select the number K of the neighbors, which must be pre-defined by the user <br>\n",
    "``Step-2``: Calculate the distance of K number of neighbors using chosen metric distance (Euclidean, Minkowski, ...)<br>\n",
    "``Step-3``: Take the K nearest neighbors as per the calculated distance<br>\n",
    "``Step-4``: Among these K neighbors, count the number of the data points in each category<br>\n",
    "``Step-5``: Assign the new data points to that category for which the number of the neighbor is maximum<br>\n",
    "``Step-6``: Our model is ready.<br>\n",
    "\n",
    "<img src=\"images/knn.png\" width=\"500px\">\n",
    "\n",
    "#### K-Neighbors Classifier Model Function\n",
    "\n",
    "__``KNeighborsClassifier``(n_neighbors=5, weights='uniform', algorithm='auto', leaf_size=30, p=2, metric='minkowski', metric_params=None, n_jobs=None)<br>__\n",
    "\n",
    "<font color = '#cc9900'> __n_neighbors:__ <br>\n",
    "\n",
    "The most important step in k-Nearest Neigborhood supervised machine learning is to determine the __``optimal value of K``; that is, how many clusters your data should be divided into?__ <br> The optimal value of k reduces effect of the noise on the classification, but makes boundaries between classes less distinc. <br> __Elbow method__ helps data scientists to select the optimal number of clusters for KNN clustering. It is one of the most popular methods to determine this optimal value of K. <br>\n",
    "\n",
    "<font color = '#cc9900'> __Weights:__ <br>\n",
    "    \n",
    "The basic nearest neighbors classification uses __uniform weights__: that is, the value assigned to a query point is computed from a simple majority vote of the nearest neighbors. <br>\n",
    "    __``weights{‘uniform’, ‘distance’} or callable, default=’uniform’``<br>__\n",
    "    Weight function used in prediction. Possible values:<br>\n",
    "\n",
    "   ‘uniform’ : uniform weights. All points in each neighborhood are weighted equally.<br>\n",
    "\n",
    "   ‘distance’ : weight points by the inverse of their distance. in this case, closer neighbors of a query point will have a greater influence than neighbors which are further away.<br>\n",
    "\n",
    "<font color = '#cc9900'> __Algorithm:__ <br>\n",
    "   __``algorithm{‘auto’, ‘ball_tree’, ‘kd_tree’, ‘brute’}, default=’auto’``<br>__\n",
    "  \n",
    "Algorithm used to compute the nearest neighbors:<br>\n",
    "\n",
    "   ball tree: will use BallTree <br>\n",
    "\n",
    "   kd_tree: will use KDTree <br>\n",
    "\n",
    "   brute: will use a brute-force search. <br>\n",
    "\n",
    "   auto: will attempt to decide the most appropriate algorithm based on the values passed to fit method.<br>\n",
    "\n",
    "   Note: fitting on sparse input will override the setting of this parameter, using brute force.<br>\n",
    "    \n",
    "<font color = '#cc9900'> __Leaf:__ <br>  \n",
    "   __``leaf_sizeint, default=30``__\n",
    "\n",
    "Leaf size passed to BallTree or KDTree. This can affect the speed of the construction and query, as well as the memory required to store the tree. The optimal value depends on the nature of the problem.\n",
    "\n",
    "<font color = '#cc9900'> __Pint:__ <br>\n",
    "   __``pint, default=2``__\n",
    "\n",
    "Power parameter for the Minkowski metric. When p = 1, this is equivalent to using manhattan_distance (l1), and euclidean_distance (l2) for p = 2. For arbitrary p, minkowski_distance (l_p) is used.\n",
    "\n",
    "<font color = '#cc9900'> __Metric:__ <br>\n",
    "__``metricstr or callable, default=’minkowski’``__\n",
    "\n",
    "The distance metric to use for the tree. The default metric is minkowski, and with p=2 is equivalent to the standard Euclidean metric. \n",
    "\n",
    "<font color = '#cc9900'> __Metric Function:__ <br>\n",
    "__``metric_paramsdict, default=None``__\n",
    "\n",
    "Additional keyword arguments for the metric function.\n",
    "\n",
    "<font color = '#cc9900'> __Jobs:__ <br>\n",
    "__``n_jobsint, default=None``__\n",
    "\n",
    "The number of parallel jobs to run for neighbors search.\n",
    "\n",
    "\n",
    "\n",
    "\n",
    "\n"
   ]
  },
  {
   "cell_type": "markdown",
   "id": "8a9742bc",
   "metadata": {},
   "source": [
    "### Application of KNN Classifier model to our dataset\n",
    "\n",
    "__`Step 1`__: Define the variables that will be used in the model"
   ]
  },
  {
   "cell_type": "markdown",
   "id": "95694ee4",
   "metadata": {},
   "source": [
    "- __Initial X_train and X_val__\n",
    "\n",
    "Different combinations of the variables identified in the feature selection as potential variables to remove were considered, being the summary of results obtained as follows:"
   ]
  },
  {
   "cell_type": "markdown",
   "id": "5d0dabe9",
   "metadata": {},
   "source": [
    "#### Final insights from the removal of suggested variables in Feature Selection step\n",
    "\n",
    "| Additional variables removed | f1-train | f1-validation  \n",
    "| --- | --- | --- | \n",
    "| None | 0.91 | 0.87 | \n",
    "| Age | 0.93 | 0.91 |\n",
    "| Age+Wifi |  0.93 | 0.91 |\n",
    "| Age+Wifi+Checkout |  0.93 | 0.91 |\n",
    "| Age+Wifi+Checkout+Cleanliness |  0.93 | 0.90 |\n",
    "| Age+Wifi+Checkout+RoomService |  0.93 | 0.91 |\n",
    "| Age+Wifi+Checkout+RoomService+Cleanliness |  0.93 | 0.91 |"
   ]
  },
  {
   "cell_type": "markdown",
   "id": "ca6d1211",
   "metadata": {},
   "source": [
    "- The variable that really makes the difference is the variable __Age__ \n",
    "- However, since this model works better with fewer variables (collinearity principle), it has been decided to remove them all."
   ]
  },
  {
   "cell_type": "code",
   "execution_count": 112,
   "id": "c21fde67",
   "metadata": {},
   "outputs": [],
   "source": [
    "Xknn_train_dummy = X_train_dummy.copy()\n",
    "Xknn_val_dummy = X_val_dummy.copy()\n",
    "\n",
    "Xknn_train_dummy.drop(['Age','Wifi','CheckOut','Cleanliness','ReceptionSchedule','BarService', 'Location'], axis = 1, inplace = True) \n",
    "Xknn_val_dummy.drop(['Age','Wifi','CheckOut','Cleanliness','ReceptionSchedule','BarService', 'Location'], axis = 1, inplace = True) "
   ]
  },
  {
   "cell_type": "markdown",
   "id": "b3556476",
   "metadata": {},
   "source": [
    "__`Step 2`__ Define __KNN Classifier__ model"
   ]
  },
  {
   "cell_type": "code",
   "execution_count": 113,
   "id": "f17021cb",
   "metadata": {},
   "outputs": [],
   "source": [
    "knn = KNeighborsClassifier()"
   ]
  },
  {
   "cell_type": "markdown",
   "id": "62dd56ca",
   "metadata": {},
   "source": [
    "__`Step 3`__ - Define a dictionary named as __parameter_space__ and define the following options to be considered during modelling:"
   ]
  },
  {
   "cell_type": "code",
   "execution_count": 114,
   "id": "5720ffa6",
   "metadata": {},
   "outputs": [],
   "source": [
    "i=0\n",
    "parameter_space1 = {\n",
    "    'weights': ['uniform', 'distance'],\n",
    "    'algorithm': ['auto', 'ball_tree', 'kd_tree', 'brute'],\n",
    "    'p': [1,2],\n",
    "    'metric': ['euclidean', 'manhattan', 'minkowski']\n",
    "}"
   ]
  },
  {
   "cell_type": "markdown",
   "id": "92643763",
   "metadata": {},
   "source": [
    "__`Step 4`__ - Create an instance of GridSearchCV named as __clf1__ and pass as parameters the __knn model__ and the __parameter_space1__\n"
   ]
  },
  {
   "cell_type": "code",
   "execution_count": 115,
   "id": "f97384e5",
   "metadata": {},
   "outputs": [],
   "source": [
    "clf1 = GridSearchCV(knn, parameter_space1)"
   ]
  },
  {
   "cell_type": "markdown",
   "id": "8033530f",
   "metadata": {},
   "source": [
    "__`Step 5`__ - Fit your Grid Search to __X_train__ and __y_train__"
   ]
  },
  {
   "cell_type": "code",
   "execution_count": 116,
   "id": "1e183c62",
   "metadata": {},
   "outputs": [
    {
     "data": {
      "text/plain": [
       "GridSearchCV(estimator=KNeighborsClassifier(),\n",
       "             param_grid={'algorithm': ['auto', 'ball_tree', 'kd_tree', 'brute'],\n",
       "                         'metric': ['euclidean', 'manhattan', 'minkowski'],\n",
       "                         'p': [1, 2], 'weights': ['uniform', 'distance']})"
      ]
     },
     "execution_count": 116,
     "metadata": {},
     "output_type": "execute_result"
    }
   ],
   "source": [
    "clf1.fit(Xknn_train_dummy, y_train)"
   ]
  },
  {
   "cell_type": "markdown",
   "id": "f30e438a",
   "metadata": {},
   "source": [
    "__`Step 6`__ - Call the attribute __best_params___ to check which is the best combination of parameters. Create a final model with those parameters by calling the attribute __best_estimator___"
   ]
  },
  {
   "cell_type": "code",
   "execution_count": 105,
   "id": "63501c92",
   "metadata": {},
   "outputs": [
    {
     "ename": "AttributeError",
     "evalue": "'GridSearchCV' object has no attribute 'best_params_'",
     "output_type": "error",
     "traceback": [
      "\u001b[1;31m---------------------------------------------------------------------------\u001b[0m",
      "\u001b[1;31mAttributeError\u001b[0m                            Traceback (most recent call last)",
      "\u001b[1;32mC:\\Users\\PEDROR~1\\AppData\\Local\\Temp/ipykernel_10572/675717988.py\u001b[0m in \u001b[0;36m<module>\u001b[1;34m\u001b[0m\n\u001b[1;32m----> 1\u001b[1;33m \u001b[0mclf1\u001b[0m\u001b[1;33m.\u001b[0m\u001b[0mbest_params_\u001b[0m\u001b[1;33m\u001b[0m\u001b[1;33m\u001b[0m\u001b[0m\n\u001b[0m",
      "\u001b[1;31mAttributeError\u001b[0m: 'GridSearchCV' object has no attribute 'best_params_'"
     ]
    }
   ],
   "source": [
    "clf1.best_params_"
   ]
  },
  {
   "cell_type": "code",
   "execution_count": 117,
   "id": "c65fba52",
   "metadata": {},
   "outputs": [],
   "source": [
    "knn = clf1.best_estimator_.fit(Xknn_train_dummy, y_train)"
   ]
  },
  {
   "cell_type": "markdown",
   "id": "4cb182c7",
   "metadata": {},
   "source": [
    "__`Step 7`__ Apply both train and validation sets to our random forest classifier __final_model__"
   ]
  },
  {
   "cell_type": "code",
   "execution_count": 118,
   "id": "97a116df",
   "metadata": {},
   "outputs": [
    {
     "name": "stdout",
     "output_type": "stream",
     "text": [
      "Train: 0.9905121813942269\n",
      "Validation: 0.9102893890675241\n"
     ]
    }
   ],
   "source": [
    "print('Train:', knn.score(Xknn_train_dummy, y_train))\n",
    "print('Validation:', knn.score(Xknn_val_dummy, y_val))"
   ]
  },
  {
   "cell_type": "markdown",
   "id": "4d0f65f9",
   "metadata": {},
   "source": [
    "- There is some evidence of overfitting in our model"
   ]
  },
  {
   "cell_type": "markdown",
   "id": "672b0678",
   "metadata": {},
   "source": [
    "__`Step 8`__ - Create a loop to check the mean and the standard deviation of the different models created using the different combinations using GridSearchCV\n",
    "\n"
   ]
  },
  {
   "cell_type": "code",
   "execution_count": 119,
   "id": "4ba21a62",
   "metadata": {},
   "outputs": [
    {
     "name": "stdout",
     "output_type": "stream",
     "text": [
      "------------------------------------------------------------------------------------------------------------------------\n",
      "Best parameters found:\n",
      " {'algorithm': 'brute', 'metric': 'manhattan', 'p': 1, 'weights': 'distance'}\n",
      "------------------------------------------------------------------------------------------------------------------------\n",
      "0.904 (+/-0.003) for {'algorithm': 'auto', 'metric': 'euclidean', 'p': 1, 'weights': 'uniform'}\n",
      "0.903 (+/-0.002) for {'algorithm': 'auto', 'metric': 'euclidean', 'p': 1, 'weights': 'distance'}\n",
      "0.904 (+/-0.003) for {'algorithm': 'auto', 'metric': 'euclidean', 'p': 2, 'weights': 'uniform'}\n",
      "0.903 (+/-0.002) for {'algorithm': 'auto', 'metric': 'euclidean', 'p': 2, 'weights': 'distance'}\n",
      "0.907 (+/-0.003) for {'algorithm': 'auto', 'metric': 'manhattan', 'p': 1, 'weights': 'uniform'}\n",
      "0.907 (+/-0.004) for {'algorithm': 'auto', 'metric': 'manhattan', 'p': 1, 'weights': 'distance'}\n",
      "0.907 (+/-0.003) for {'algorithm': 'auto', 'metric': 'manhattan', 'p': 2, 'weights': 'uniform'}\n",
      "0.907 (+/-0.004) for {'algorithm': 'auto', 'metric': 'manhattan', 'p': 2, 'weights': 'distance'}\n",
      "0.907 (+/-0.003) for {'algorithm': 'auto', 'metric': 'minkowski', 'p': 1, 'weights': 'uniform'}\n",
      "0.907 (+/-0.004) for {'algorithm': 'auto', 'metric': 'minkowski', 'p': 1, 'weights': 'distance'}\n",
      "0.904 (+/-0.003) for {'algorithm': 'auto', 'metric': 'minkowski', 'p': 2, 'weights': 'uniform'}\n",
      "0.903 (+/-0.002) for {'algorithm': 'auto', 'metric': 'minkowski', 'p': 2, 'weights': 'distance'}\n",
      "0.903 (+/-0.004) for {'algorithm': 'ball_tree', 'metric': 'euclidean', 'p': 1, 'weights': 'uniform'}\n",
      "0.902 (+/-0.004) for {'algorithm': 'ball_tree', 'metric': 'euclidean', 'p': 1, 'weights': 'distance'}\n",
      "0.903 (+/-0.004) for {'algorithm': 'ball_tree', 'metric': 'euclidean', 'p': 2, 'weights': 'uniform'}\n",
      "0.902 (+/-0.004) for {'algorithm': 'ball_tree', 'metric': 'euclidean', 'p': 2, 'weights': 'distance'}\n",
      "0.906 (+/-0.002) for {'algorithm': 'ball_tree', 'metric': 'manhattan', 'p': 1, 'weights': 'uniform'}\n",
      "0.906 (+/-0.004) for {'algorithm': 'ball_tree', 'metric': 'manhattan', 'p': 1, 'weights': 'distance'}\n",
      "0.906 (+/-0.002) for {'algorithm': 'ball_tree', 'metric': 'manhattan', 'p': 2, 'weights': 'uniform'}\n",
      "0.906 (+/-0.004) for {'algorithm': 'ball_tree', 'metric': 'manhattan', 'p': 2, 'weights': 'distance'}\n",
      "0.906 (+/-0.002) for {'algorithm': 'ball_tree', 'metric': 'minkowski', 'p': 1, 'weights': 'uniform'}\n",
      "0.906 (+/-0.004) for {'algorithm': 'ball_tree', 'metric': 'minkowski', 'p': 1, 'weights': 'distance'}\n",
      "0.903 (+/-0.004) for {'algorithm': 'ball_tree', 'metric': 'minkowski', 'p': 2, 'weights': 'uniform'}\n",
      "0.902 (+/-0.004) for {'algorithm': 'ball_tree', 'metric': 'minkowski', 'p': 2, 'weights': 'distance'}\n",
      "0.904 (+/-0.003) for {'algorithm': 'kd_tree', 'metric': 'euclidean', 'p': 1, 'weights': 'uniform'}\n",
      "0.903 (+/-0.002) for {'algorithm': 'kd_tree', 'metric': 'euclidean', 'p': 1, 'weights': 'distance'}\n",
      "0.904 (+/-0.003) for {'algorithm': 'kd_tree', 'metric': 'euclidean', 'p': 2, 'weights': 'uniform'}\n",
      "0.903 (+/-0.002) for {'algorithm': 'kd_tree', 'metric': 'euclidean', 'p': 2, 'weights': 'distance'}\n",
      "0.907 (+/-0.003) for {'algorithm': 'kd_tree', 'metric': 'manhattan', 'p': 1, 'weights': 'uniform'}\n",
      "0.907 (+/-0.004) for {'algorithm': 'kd_tree', 'metric': 'manhattan', 'p': 1, 'weights': 'distance'}\n",
      "0.907 (+/-0.003) for {'algorithm': 'kd_tree', 'metric': 'manhattan', 'p': 2, 'weights': 'uniform'}\n",
      "0.907 (+/-0.004) for {'algorithm': 'kd_tree', 'metric': 'manhattan', 'p': 2, 'weights': 'distance'}\n",
      "0.907 (+/-0.003) for {'algorithm': 'kd_tree', 'metric': 'minkowski', 'p': 1, 'weights': 'uniform'}\n",
      "0.907 (+/-0.004) for {'algorithm': 'kd_tree', 'metric': 'minkowski', 'p': 1, 'weights': 'distance'}\n",
      "0.904 (+/-0.003) for {'algorithm': 'kd_tree', 'metric': 'minkowski', 'p': 2, 'weights': 'uniform'}\n",
      "0.903 (+/-0.002) for {'algorithm': 'kd_tree', 'metric': 'minkowski', 'p': 2, 'weights': 'distance'}\n",
      "0.902 (+/-0.005) for {'algorithm': 'brute', 'metric': 'euclidean', 'p': 1, 'weights': 'uniform'}\n",
      "0.902 (+/-0.004) for {'algorithm': 'brute', 'metric': 'euclidean', 'p': 1, 'weights': 'distance'}\n",
      "0.902 (+/-0.005) for {'algorithm': 'brute', 'metric': 'euclidean', 'p': 2, 'weights': 'uniform'}\n",
      "0.902 (+/-0.004) for {'algorithm': 'brute', 'metric': 'euclidean', 'p': 2, 'weights': 'distance'}\n",
      "0.908 (+/-0.002) for {'algorithm': 'brute', 'metric': 'manhattan', 'p': 1, 'weights': 'uniform'}\n",
      "0.908 (+/-0.003) for {'algorithm': 'brute', 'metric': 'manhattan', 'p': 1, 'weights': 'distance'}\n",
      "0.908 (+/-0.002) for {'algorithm': 'brute', 'metric': 'manhattan', 'p': 2, 'weights': 'uniform'}\n",
      "0.908 (+/-0.003) for {'algorithm': 'brute', 'metric': 'manhattan', 'p': 2, 'weights': 'distance'}\n",
      "0.908 (+/-0.002) for {'algorithm': 'brute', 'metric': 'minkowski', 'p': 1, 'weights': 'uniform'}\n",
      "0.908 (+/-0.003) for {'algorithm': 'brute', 'metric': 'minkowski', 'p': 1, 'weights': 'distance'}\n",
      "0.902 (+/-0.005) for {'algorithm': 'brute', 'metric': 'minkowski', 'p': 2, 'weights': 'uniform'}\n",
      "0.902 (+/-0.004) for {'algorithm': 'brute', 'metric': 'minkowski', 'p': 2, 'weights': 'distance'}\n"
     ]
    }
   ],
   "source": [
    "# Best parameter set\n",
    "print('------------------------------------------------------------------------------------------------------------------------')\n",
    "print('Best parameters found:\\n', clf1.best_params_)\n",
    "print('------------------------------------------------------------------------------------------------------------------------')\n",
    "\n",
    "# All results\n",
    "means = clf1.cv_results_['mean_test_score']\n",
    "stds = clf1.cv_results_['std_test_score']\n",
    "for mean, std, params in zip(means, stds, clf1.cv_results_['params']):\n",
    "    print(\"%0.3f (+/-%0.03f) for %r\" % (mean, std , params))\n",
    "    "
   ]
  },
  {
   "cell_type": "code",
   "execution_count": 120,
   "id": "4fc34e1e",
   "metadata": {},
   "outputs": [
    {
     "data": {
      "text/plain": [
       "KNeighborsClassifier(metric='manhattan', n_neighbors=10, p=1,\n",
       "                     weights='distance')"
      ]
     },
     "execution_count": 120,
     "metadata": {},
     "output_type": "execute_result"
    }
   ],
   "source": [
    "knn = KNeighborsClassifier(n_neighbors=10,weights='distance', algorithm='auto', \n",
    "                           leaf_size=30, p=1, metric='manhattan', metric_params=None, n_jobs=None)\n",
    "\n",
    "knn.fit(Xknn_train_dummy,y_train)"
   ]
  },
  {
   "cell_type": "code",
   "execution_count": 121,
   "id": "920ba306",
   "metadata": {},
   "outputs": [
    {
     "name": "stdout",
     "output_type": "stream",
     "text": [
      "Train: 0.9905121813942269\n",
      "Validation: 0.9102893890675241\n"
     ]
    }
   ],
   "source": [
    "print('Train:', knn.score(Xknn_train_dummy, y_train))\n",
    "print('Validation:', knn.score(Xknn_val_dummy, y_val))"
   ]
  },
  {
   "cell_type": "markdown",
   "id": "38df2f67",
   "metadata": {},
   "source": [
    "- We have clear signs of overfitting"
   ]
  },
  {
   "cell_type": "markdown",
   "id": "282b0799",
   "metadata": {},
   "source": [
    "__`Step 9`__ - Try the elbow method for K value definition\n"
   ]
  },
  {
   "cell_type": "code",
   "execution_count": 122,
   "id": "ad066a7e",
   "metadata": {},
   "outputs": [],
   "source": [
    "error_rate = []\n",
    "\n",
    "# Will take some time\n",
    "for i in range(1,40):\n",
    " \n",
    " knn = KNeighborsClassifier(n_neighbors=i,weights='uniform', algorithm='auto', leaf_size=30, p=2, metric='minkowski', metric_params=None, n_jobs=None)\n",
    " knn.fit(Xknn_train_dummy,y_train)\n",
    " pred_i = knn.predict(Xknn_val_dummy)\n",
    " error_rate.append(np.mean(pred_i != y_val))\n"
   ]
  },
  {
   "cell_type": "code",
   "execution_count": 123,
   "id": "364f29af",
   "metadata": {},
   "outputs": [
    {
     "data": {
      "text/plain": [
       "Text(0, 0.5, 'Error Rate')"
      ]
     },
     "execution_count": 123,
     "metadata": {},
     "output_type": "execute_result"
    },
    {
     "data": {
      "image/png": "[encoded data removed]",
      "text/plain": [
       "<Figure size 720x432 with 1 Axes>"
      ]
     },
     "metadata": {
      "needs_background": "light"
     },
     "output_type": "display_data"
    }
   ],
   "source": [
    "plt.figure(figsize=(10,6))\n",
    "plt.plot(range(1,40),error_rate,color='blue', linestyle='dashed', marker='o',\n",
    " markerfacecolor='red', markersize=10)\n",
    "plt.title('Error Rate vs. K Value')\n",
    "plt.xlabel('K')\n",
    "plt.ylabel('Error Rate')"
   ]
  },
  {
   "cell_type": "code",
   "execution_count": 124,
   "id": "c0881e52",
   "metadata": {},
   "outputs": [
    {
     "data": {
      "text/plain": [
       "KNeighborsClassifier(n_neighbors=6)"
      ]
     },
     "execution_count": 124,
     "metadata": {},
     "output_type": "execute_result"
    }
   ],
   "source": [
    "knn = KNeighborsClassifier(n_neighbors=6,weights='uniform', algorithm='auto', \n",
    "                           leaf_size=30, p=2, metric='minkowski', metric_params=None, n_jobs=None)\n",
    "\n",
    "knn.fit(Xknn_train_dummy,y_train)"
   ]
  },
  {
   "cell_type": "markdown",
   "id": "9a034a6e",
   "metadata": {},
   "source": [
    "__`Step 10`__ K-fold Cross Validation\n",
    "- Purpose is to check if, for different validation+train splits, the results are similar and thus we can consider hold-out split as representative of our dataset. "
   ]
  },
  {
   "cell_type": "code",
   "execution_count": 126,
   "id": "6c481f60",
   "metadata": {},
   "outputs": [
    {
     "name": "stdout",
     "output_type": "stream",
     "text": [
      "Train: 0.9273870783304745\n",
      "Validation: 0.9170418006430868\n",
      "\n",
      "Train: 0.9279588336192109\n",
      "Validation: 0.9093247588424437\n",
      "\n",
      "Train: 0.9284591194968553\n",
      "Validation: 0.9061093247588424\n",
      "\n",
      "Train: 0.9286020583190394\n",
      "Validation: 0.9151125401929261\n",
      "\n",
      "Train: 0.9312464265294454\n",
      "Validation: 0.8926045016077171\n",
      "\n",
      "Train: 0.9271726700971984\n",
      "Validation: 0.9016077170418006\n",
      "\n",
      "Train: 0.9273870783304745\n",
      "Validation: 0.9048231511254019\n",
      "\n",
      "Train: 0.9268205531337097\n",
      "Validation: 0.9131274131274131\n",
      "\n",
      "Train: 0.9291074108482813\n",
      "Validation: 0.8925353925353925\n",
      "\n",
      "Train: 0.9294647323661831\n",
      "Validation: 0.9021879021879022\n",
      "\n",
      "-------------------------------\n",
      "Average Train:0.9284+/-0.0013\n",
      "Average Validation:0.9054+/-0.0081\n"
     ]
    }
   ],
   "source": [
    "kf = KFold(n_splits=10)\n",
    "Xtemp = pd.get_dummies(X, drop_first = True)\n",
    "\n",
    "avg_score(kf, knn, Xtemp.drop(['RoomType_suite','Age','Wifi','CheckOut','Cleanliness','ReceptionSchedule','BarService', 'Location'], axis = 1), y)"
   ]
  },
  {
   "cell_type": "markdown",
   "id": "a70d2f88",
   "metadata": {},
   "source": [
    "- The average results with K-fold validation allow to conclude that the dataset is large enough to consider the hold-out split results"
   ]
  },
  {
   "cell_type": "markdown",
   "id": "12ee4d36",
   "metadata": {},
   "source": [
    "__`Step 11`__ In order to performance of our model with different metrics, first assign the predictions to __y_pred_knn__."
   ]
  },
  {
   "cell_type": "code",
   "execution_count": 127,
   "id": "1ebb4be9",
   "metadata": {},
   "outputs": [
    {
     "data": {
      "text/plain": [
       "array([0, 1, 0, ..., 1, 0, 0])"
      ]
     },
     "execution_count": 127,
     "metadata": {},
     "output_type": "execute_result"
    }
   ],
   "source": [
    "y_pred_knn = knn.predict(Xknn_val_dummy)\n",
    "y_pred_knn"
   ]
  },
  {
   "cell_type": "markdown",
   "id": "d844cd34",
   "metadata": {},
   "source": [
    "__`Step 12`__ Get the confusion_matrix, and the metrics accuracy_score, precision_score, recall_score, f1_score"
   ]
  },
  {
   "cell_type": "code",
   "execution_count": 128,
   "id": "c71a12c0",
   "metadata": {},
   "outputs": [
    {
     "data": {
      "text/plain": [
       "array([[1600,   91],\n",
       "       [ 137, 1282]], dtype=int64)"
      ]
     },
     "execution_count": 128,
     "metadata": {},
     "output_type": "execute_result"
    }
   ],
   "source": [
    "confusion_matrix(y_val, y_pred_knn)"
   ]
  },
  {
   "cell_type": "code",
   "execution_count": 129,
   "id": "75ff2607",
   "metadata": {},
   "outputs": [
    {
     "data": {
      "text/plain": [
       "0.9266881028938907"
      ]
     },
     "execution_count": 129,
     "metadata": {},
     "output_type": "execute_result"
    }
   ],
   "source": [
    "accuracy_score(y_val, y_pred_knn)"
   ]
  },
  {
   "cell_type": "code",
   "execution_count": 130,
   "id": "41261d14",
   "metadata": {},
   "outputs": [
    {
     "data": {
      "text/plain": [
       "0.9248194124763651"
      ]
     },
     "execution_count": 130,
     "metadata": {},
     "output_type": "execute_result"
    }
   ],
   "source": [
    "balanced_accuracy_score(y_val, y_pred_knn)"
   ]
  },
  {
   "cell_type": "code",
   "execution_count": 131,
   "id": "b90c212b",
   "metadata": {},
   "outputs": [
    {
     "data": {
      "text/plain": [
       "0.9337217771303714"
      ]
     },
     "execution_count": 131,
     "metadata": {},
     "output_type": "execute_result"
    }
   ],
   "source": [
    "precision_score(y_val, y_pred_knn)"
   ]
  },
  {
   "cell_type": "code",
   "execution_count": 132,
   "id": "9ab94d5c",
   "metadata": {},
   "outputs": [
    {
     "data": {
      "text/plain": [
       "0.9034531360112755"
      ]
     },
     "execution_count": 132,
     "metadata": {},
     "output_type": "execute_result"
    }
   ],
   "source": [
    "recall_score(y_val, y_pred_knn)"
   ]
  },
  {
   "cell_type": "code",
   "execution_count": 133,
   "id": "634f7947",
   "metadata": {},
   "outputs": [
    {
     "data": {
      "text/plain": [
       "0.9183381088825214"
      ]
     },
     "execution_count": 133,
     "metadata": {},
     "output_type": "execute_result"
    }
   ],
   "source": [
    "f1_score(y_val, y_pred_knn)"
   ]
  },
  {
   "cell_type": "markdown",
   "id": "01ccaaa3",
   "metadata": {},
   "source": [
    "__`Step 13`__ Determine the classification report for both train a validation predicted results."
   ]
  },
  {
   "cell_type": "code",
   "execution_count": 134,
   "id": "539bb4f6",
   "metadata": {
    "scrolled": false
   },
   "outputs": [
    {
     "name": "stdout",
     "output_type": "stream",
     "text": [
      "___________________________________________________________________________________________________________\n",
      "                                                     TRAIN                                                 \n",
      "-----------------------------------------------------------------------------------------------------------\n",
      "              precision    recall  f1-score   support\n",
      "\n",
      "           0       0.92      0.95      0.93      6762\n",
      "           1       0.93      0.90      0.92      5675\n",
      "\n",
      "    accuracy                           0.93     12437\n",
      "   macro avg       0.93      0.92      0.93     12437\n",
      "weighted avg       0.93      0.93      0.93     12437\n",
      "\n",
      "[[6405  357]\n",
      " [ 554 5121]]\n",
      "___________________________________________________________________________________________________________\n",
      "                                                   VALIDATION                                              \n",
      "-----------------------------------------------------------------------------------------------------------\n",
      "              precision    recall  f1-score   support\n",
      "\n",
      "           0       0.92      0.95      0.93      1691\n",
      "           1       0.93      0.90      0.92      1419\n",
      "\n",
      "    accuracy                           0.93      3110\n",
      "   macro avg       0.93      0.92      0.93      3110\n",
      "weighted avg       0.93      0.93      0.93      3110\n",
      "\n",
      "[[1600   91]\n",
      " [ 137 1282]]\n"
     ]
    }
   ],
   "source": [
    "labels_train_knn = knn.predict(Xknn_train_dummy)\n",
    "labels_val_knn = knn.predict(Xknn_val_dummy)\n",
    "\n",
    "metrics(y_train = y_train, pred_train = labels_train_knn, y_val = y_val, pred_val = labels_val_knn)"
   ]
  },
  {
   "cell_type": "markdown",
   "id": "39301afd",
   "metadata": {},
   "source": [
    "__`Step 14`__ Test the model with unseen data - Kaggle Submission\n",
    "\n",
    "f1-score result -> 89.9 %\n",
    "\n",
    "#### KNN Classifier model Results >> fi1-score - Train: 91.7 % | Val: 91.8 % | Test: 89.9 %"
   ]
  },
  {
   "cell_type": "markdown",
   "id": "8842831d",
   "metadata": {},
   "source": [
    "<a id=\"DTClassifier\"> </a>\n",
    "\n",
    "#### <font color = '#cc9900'> 4.6. Assess using Decision Tree Classifier </font>\n",
    "\n",
    "[Back to Contents](#toc)"
   ]
  },
  {
   "cell_type": "markdown",
   "id": "7792f09a",
   "metadata": {},
   "source": [
    "#### What is Decision Tree?\n",
    "A Decision Tree (DT) is a non-parametric supervised learning algorithm, which is utilized for both classification and regression tasks. It has a hierarchical, tree structure, which consists of a root node, branches, internal nodes and leaf nodes.\n",
    "<img src=\"images/decision_tree.png\" width=\"900px\">\n",
    "The classification process is modeled with the use of a set of hierarchical decisions on the feature variables, arranged in a tree-like structure.  \n",
    "\n",
    "The decision at a particular node of the tree, the split criterion, is typically a condition on one or more feature variables in the training data.\n",
    "\n",
    "The goal is to identify a split criterion so that the level of “mixing” of the class variables in each branch of the tree is reduced as much as possible. Each node in the decision tree logically represents a subset of the data space defined by the combination of split criteria in the nodes above it.  \n",
    "\n",
    "The decision tree is typically constructed as a hierarchical partitioning of the training examples, partitioning criterion in the decision tree is supervised with the class label in the training instances. \n",
    "\n",
    "\n",
    "#### Generic Decision Tree Training Algorithm\n",
    "Algorithm GenericDecisionTree(Data Set: D)\n",
    "<br>begin\n",
    "<br>Create root node containing D;\n",
    "<br>repeat\n",
    "<br>Select an eligible node in the tree;\n",
    "<br>Split the selected node into two or more nodes\n",
    "<br>based on a pre-defined split criterion;\n",
    "<br>until no more eligible nodes for split;\n",
    "<br>Prune overfitting nodes from tree;\n",
    "<br>Label each leaf node with its dominant class;\n",
    "<br>end\n",
    "\n",
    "#### scikit-learn Decision Tree Classifier Model Function\n",
    "__DecisionTreeClassifier__(criterion='gini', splitter='best', max_depth=None, min_samples_split=2, min_samples_leaf=1, min_weight_fraction_leaf=0.0, max_features=None, random_state=None, max_leaf_nodes=None, min_impurity_decrease=0.0, class_weight=None, ccp_alpha=0.0)<br>\n",
    "Parameters:<br>\n",
    "`criterion`: function to measure the quality of a split. Supported criterion are: 'gini' for the Gini impurity and 'entropy' for the Shannon information gain). (default = 'gini').<br>\n",
    "`splitter`: strategy used to choose the split at each node. Supported strategies are 'best', to choose the best split and 'random' to choose the best random split. (default = 'best').<br>\n",
    "`max_depth`: maximum depth of the tree. If None, then nodes are expanded until all leaves are pure or until all leaves contain less than min_samples_split samples.<br>\n",
    "`min_samples_split`: minimum number of samples required to split an internal node. (default = 2)<br>\n",
    "`min_samples_leaf`: minimum number of samples required to be at a leaf node. (default = 1) <br>\n",
    "`min_weight_fraction_leaf`: minimum weighted fraction of the sum total of weights (default=0.0)<br>\n",
    "`max_features`: number of features to consider when looking for the best split:\n",
    "<br> 1. `int`: consider max_features features at each split.<br> \n",
    "2. `float`: `max_features` is a fraction and `int(max_features * n_features)` features are considered at each split.<br>\n",
    "3. `auto`, then`max_features=sqrt(n_features)`. <br>\n",
    "4. `“sqrt”`, then `max_features=sqrt(n_features)`.<br>\n",
    "5. `“log2”`, then `max_features=log2(n_features)`.<br>\n",
    "6. `None`, then `max_features=n_features`.<br>\n",
    "`random_state`: Controls the randomness of the estimator. RandomState instance or None, default=None<br>\n",
    "The features are always randomly permuted at each split, even if `splitter` is set to `\"best\"`. When `max_features < n_features`, the algorithm will select `max_features` at random at each split before finding the best split among them. But the best found split may vary across different runs, even if `max_features=n_features`. That is the case, if the improvement of the criterion is identical for several splits and one split has to be selected at random. To obtain a deterministic behaviour during fitting, `random_state` has to be fixed to an integer.<br>\n",
    "`max_leaf_nodes`: Grow a tree with max_leaf_nodes in best-first fashion. Best nodes are defined as relative reduction in impurity. If None then unlimited number of leaf nodes.<br>\n",
    "`min_impurity_decrease`: A node will be split if this split induces a decrease of the impurity greater than or equal to this value.<br>\n",
    "`class_weightdict`, list of dict or “balanced”, default=None<br>\n",
    "Weights associated with classes in the form `{class_label: weight}`. If None, all classes are supposed to have weight one.<br>\n",
    "`ccp_alpha`: Complexity parameter used for Minimal Cost-Complexity Pruning. The subtree with the largest cost complexity that is smaller than ccp_alpha will be chosen. By default, no pruning is performed. (default=0.0)<br>"
   ]
  },
  {
   "cell_type": "markdown",
   "id": "9dbfb0b7",
   "metadata": {},
   "source": [
    "__`Step 1`__ Copy train and validation sets"
   ]
  },
  {
   "cell_type": "code",
   "execution_count": 135,
   "id": "ca95383a",
   "metadata": {},
   "outputs": [],
   "source": [
    "Xdt_train_dummy = X_train_dummy.copy()\n",
    "Xdt_val_dummy = X_val_dummy.copy()"
   ]
  },
  {
   "cell_type": "markdown",
   "id": "ce99f36a",
   "metadata": {},
   "source": [
    "__`Step 2`__ Define __Decision Tree model__ (dt_model)"
   ]
  },
  {
   "cell_type": "code",
   "execution_count": 136,
   "id": "6bb8814c",
   "metadata": {},
   "outputs": [],
   "source": [
    "dt_model = DecisionTreeClassifier()"
   ]
  },
  {
   "cell_type": "markdown",
   "id": "1f69b10d",
   "metadata": {},
   "source": [
    "__`Step 3`__ Define a dictionary named as __parameter_space_dt__ and define the following options to be considered during modelling."
   ]
  },
  {
   "cell_type": "code",
   "execution_count": 138,
   "id": "40733469",
   "metadata": {},
   "outputs": [],
   "source": [
    "parameter_space_dt = {\n",
    "    'criterion': ['gini','entropy'],\n",
    "    'splitter': ['best','random'],\n",
    "    'max_depth': [4, 6, 10, 12, 16],\n",
    "    'min_weight_fraction_leaf': [0.0, 0.0001, 0.001], \n",
    "    'max_features': [None, 'auto', 'log2', 'sqrt'],\n",
    "}"
   ]
  },
  {
   "cell_type": "markdown",
   "id": "28870dbd",
   "metadata": {},
   "source": [
    "__`Step 4`__ Create an instance of GridSearchCV named as __clf_dt__ and pass as __parameters__ the model and the __parameter_space_dt__"
   ]
  },
  {
   "cell_type": "code",
   "execution_count": 139,
   "id": "7a927371",
   "metadata": {},
   "outputs": [],
   "source": [
    "clf_dt = GridSearchCV(dt_model, parameter_space_dt)"
   ]
  },
  {
   "cell_type": "markdown",
   "id": "6dd1cbd3",
   "metadata": {},
   "source": [
    "__`Step 5`__ Fit Grid Search to __Xdt_train__ and __y_train__ and check which is the best combination of parameters. Create a final model with those parameters by calling the attribute best_estimator_"
   ]
  },
  {
   "cell_type": "code",
   "execution_count": 140,
   "id": "5752c800",
   "metadata": {},
   "outputs": [
    {
     "data": {
      "text/plain": [
       "GridSearchCV(estimator=DecisionTreeClassifier(),\n",
       "             param_grid={'criterion': ['gini', 'entropy'],\n",
       "                         'max_depth': [4, 6, 10, 12, 16],\n",
       "                         'max_features': [None, 'auto', 'log2', 'sqrt'],\n",
       "                         'min_weight_fraction_leaf': [0.0, 0.0001, 0.001],\n",
       "                         'splitter': ['best', 'random']})"
      ]
     },
     "execution_count": 140,
     "metadata": {},
     "output_type": "execute_result"
    }
   ],
   "source": [
    "clf_dt.fit(Xdt_train_dummy, y_train)"
   ]
  },
  {
   "cell_type": "code",
   "execution_count": 141,
   "id": "9d532d9e",
   "metadata": {},
   "outputs": [
    {
     "data": {
      "text/plain": [
       "{'criterion': 'entropy',\n",
       " 'max_depth': 12,\n",
       " 'max_features': None,\n",
       " 'min_weight_fraction_leaf': 0.0001,\n",
       " 'splitter': 'best'}"
      ]
     },
     "execution_count": 141,
     "metadata": {},
     "output_type": "execute_result"
    }
   ],
   "source": [
    "clf_dt.best_params_"
   ]
  },
  {
   "cell_type": "code",
   "execution_count": 142,
   "id": "32908835",
   "metadata": {},
   "outputs": [],
   "source": [
    "dt_model = clf_dt.best_estimator_.fit(X_train_dummy, y_train)"
   ]
  },
  {
   "cell_type": "markdown",
   "id": "7950bc96",
   "metadata": {},
   "source": [
    "__`Step 6`__ Apply both train and validation sets to decision tree classifier __dt_model__"
   ]
  },
  {
   "cell_type": "code",
   "execution_count": 144,
   "id": "3709547f",
   "metadata": {},
   "outputs": [
    {
     "name": "stdout",
     "output_type": "stream",
     "text": [
      "Train: 0.9596365683042535\n",
      "Val: 0.9237942122186495\n"
     ]
    }
   ],
   "source": [
    "print('Train:', dt_model.score(Xdt_train_dummy, y_train))\n",
    "print('Val:', dt_model.score(Xdt_val_dummy, y_val))"
   ]
  },
  {
   "cell_type": "markdown",
   "id": "9da311b7",
   "metadata": {},
   "source": [
    "__`Step 7`__ Create a loop to check the mean and the standard deviation of the different models created using the different combinations using GridSearchCV"
   ]
  },
  {
   "cell_type": "code",
   "execution_count": 145,
   "id": "873b2359",
   "metadata": {},
   "outputs": [
    {
     "name": "stdout",
     "output_type": "stream",
     "text": [
      "------------------------------------------------------------------------------------------------------------------------\n",
      "Best parameters found:\n",
      " {'criterion': 'entropy', 'max_depth': 12, 'max_features': None, 'min_weight_fraction_leaf': 0.0001, 'splitter': 'best'}\n",
      "------------------------------------------------------------------------------------------------------------------------\n",
      "0.864 (+/-0.006) for {'criterion': 'gini', 'max_depth': 4, 'max_features': None, 'min_weight_fraction_leaf': 0.0, 'splitter': 'best'}\n",
      "0.837 (+/-0.009) for {'criterion': 'gini', 'max_depth': 4, 'max_features': None, 'min_weight_fraction_leaf': 0.0, 'splitter': 'random'}\n",
      "0.864 (+/-0.006) for {'criterion': 'gini', 'max_depth': 4, 'max_features': None, 'min_weight_fraction_leaf': 0.0001, 'splitter': 'best'}\n",
      "0.841 (+/-0.006) for {'criterion': 'gini', 'max_depth': 4, 'max_features': None, 'min_weight_fraction_leaf': 0.0001, 'splitter': 'random'}\n",
      "0.864 (+/-0.006) for {'criterion': 'gini', 'max_depth': 4, 'max_features': None, 'min_weight_fraction_leaf': 0.001, 'splitter': 'best'}\n",
      "0.829 (+/-0.026) for {'criterion': 'gini', 'max_depth': 4, 'max_features': None, 'min_weight_fraction_leaf': 0.001, 'splitter': 'random'}\n",
      "0.831 (+/-0.014) for {'criterion': 'gini', 'max_depth': 4, 'max_features': 'auto', 'min_weight_fraction_leaf': 0.0, 'splitter': 'best'}\n",
      "0.748 (+/-0.021) for {'criterion': 'gini', 'max_depth': 4, 'max_features': 'auto', 'min_weight_fraction_leaf': 0.0, 'splitter': 'random'}\n",
      "0.818 (+/-0.019) for {'criterion': 'gini', 'max_depth': 4, 'max_features': 'auto', 'min_weight_fraction_leaf': 0.0001, 'splitter': 'best'}\n",
      "0.778 (+/-0.010) for {'criterion': 'gini', 'max_depth': 4, 'max_features': 'auto', 'min_weight_fraction_leaf': 0.0001, 'splitter': 'random'}\n",
      "0.830 (+/-0.013) for {'criterion': 'gini', 'max_depth': 4, 'max_features': 'auto', 'min_weight_fraction_leaf': 0.001, 'splitter': 'best'}\n",
      "0.786 (+/-0.012) for {'criterion': 'gini', 'max_depth': 4, 'max_features': 'auto', 'min_weight_fraction_leaf': 0.001, 'splitter': 'random'}\n",
      "0.813 (+/-0.031) for {'criterion': 'gini', 'max_depth': 4, 'max_features': 'log2', 'min_weight_fraction_leaf': 0.0, 'splitter': 'best'}\n",
      "0.771 (+/-0.019) for {'criterion': 'gini', 'max_depth': 4, 'max_features': 'log2', 'min_weight_fraction_leaf': 0.0, 'splitter': 'random'}\n",
      "0.823 (+/-0.027) for {'criterion': 'gini', 'max_depth': 4, 'max_features': 'log2', 'min_weight_fraction_leaf': 0.0001, 'splitter': 'best'}\n",
      "0.794 (+/-0.027) for {'criterion': 'gini', 'max_depth': 4, 'max_features': 'log2', 'min_weight_fraction_leaf': 0.0001, 'splitter': 'random'}\n",
      "0.810 (+/-0.019) for {'criterion': 'gini', 'max_depth': 4, 'max_features': 'log2', 'min_weight_fraction_leaf': 0.001, 'splitter': 'best'}\n",
      "0.773 (+/-0.028) for {'criterion': 'gini', 'max_depth': 4, 'max_features': 'log2', 'min_weight_fraction_leaf': 0.001, 'splitter': 'random'}\n",
      "0.815 (+/-0.024) for {'criterion': 'gini', 'max_depth': 4, 'max_features': 'sqrt', 'min_weight_fraction_leaf': 0.0, 'splitter': 'best'}\n",
      "0.772 (+/-0.023) for {'criterion': 'gini', 'max_depth': 4, 'max_features': 'sqrt', 'min_weight_fraction_leaf': 0.0, 'splitter': 'random'}\n",
      "0.815 (+/-0.015) for {'criterion': 'gini', 'max_depth': 4, 'max_features': 'sqrt', 'min_weight_fraction_leaf': 0.0001, 'splitter': 'best'}\n",
      "0.756 (+/-0.033) for {'criterion': 'gini', 'max_depth': 4, 'max_features': 'sqrt', 'min_weight_fraction_leaf': 0.0001, 'splitter': 'random'}\n",
      "0.812 (+/-0.033) for {'criterion': 'gini', 'max_depth': 4, 'max_features': 'sqrt', 'min_weight_fraction_leaf': 0.001, 'splitter': 'best'}\n",
      "0.758 (+/-0.041) for {'criterion': 'gini', 'max_depth': 4, 'max_features': 'sqrt', 'min_weight_fraction_leaf': 0.001, 'splitter': 'random'}\n",
      "0.895 (+/-0.007) for {'criterion': 'gini', 'max_depth': 6, 'max_features': None, 'min_weight_fraction_leaf': 0.0, 'splitter': 'best'}\n",
      "0.878 (+/-0.007) for {'criterion': 'gini', 'max_depth': 6, 'max_features': None, 'min_weight_fraction_leaf': 0.0, 'splitter': 'random'}\n",
      "0.895 (+/-0.007) for {'criterion': 'gini', 'max_depth': 6, 'max_features': None, 'min_weight_fraction_leaf': 0.0001, 'splitter': 'best'}\n",
      "0.885 (+/-0.003) for {'criterion': 'gini', 'max_depth': 6, 'max_features': None, 'min_weight_fraction_leaf': 0.0001, 'splitter': 'random'}\n",
      "0.894 (+/-0.007) for {'criterion': 'gini', 'max_depth': 6, 'max_features': None, 'min_weight_fraction_leaf': 0.001, 'splitter': 'best'}\n",
      "0.881 (+/-0.006) for {'criterion': 'gini', 'max_depth': 6, 'max_features': None, 'min_weight_fraction_leaf': 0.001, 'splitter': 'random'}\n",
      "0.851 (+/-0.017) for {'criterion': 'gini', 'max_depth': 6, 'max_features': 'auto', 'min_weight_fraction_leaf': 0.0, 'splitter': 'best'}\n",
      "0.816 (+/-0.009) for {'criterion': 'gini', 'max_depth': 6, 'max_features': 'auto', 'min_weight_fraction_leaf': 0.0, 'splitter': 'random'}\n",
      "0.866 (+/-0.007) for {'criterion': 'gini', 'max_depth': 6, 'max_features': 'auto', 'min_weight_fraction_leaf': 0.0001, 'splitter': 'best'}\n",
      "0.814 (+/-0.020) for {'criterion': 'gini', 'max_depth': 6, 'max_features': 'auto', 'min_weight_fraction_leaf': 0.0001, 'splitter': 'random'}\n",
      "0.862 (+/-0.013) for {'criterion': 'gini', 'max_depth': 6, 'max_features': 'auto', 'min_weight_fraction_leaf': 0.001, 'splitter': 'best'}\n",
      "0.829 (+/-0.018) for {'criterion': 'gini', 'max_depth': 6, 'max_features': 'auto', 'min_weight_fraction_leaf': 0.001, 'splitter': 'random'}\n",
      "0.854 (+/-0.021) for {'criterion': 'gini', 'max_depth': 6, 'max_features': 'log2', 'min_weight_fraction_leaf': 0.0, 'splitter': 'best'}\n",
      "0.822 (+/-0.012) for {'criterion': 'gini', 'max_depth': 6, 'max_features': 'log2', 'min_weight_fraction_leaf': 0.0, 'splitter': 'random'}\n",
      "0.867 (+/-0.007) for {'criterion': 'gini', 'max_depth': 6, 'max_features': 'log2', 'min_weight_fraction_leaf': 0.0001, 'splitter': 'best'}\n",
      "0.826 (+/-0.012) for {'criterion': 'gini', 'max_depth': 6, 'max_features': 'log2', 'min_weight_fraction_leaf': 0.0001, 'splitter': 'random'}\n",
      "0.855 (+/-0.015) for {'criterion': 'gini', 'max_depth': 6, 'max_features': 'log2', 'min_weight_fraction_leaf': 0.001, 'splitter': 'best'}\n",
      "0.836 (+/-0.019) for {'criterion': 'gini', 'max_depth': 6, 'max_features': 'log2', 'min_weight_fraction_leaf': 0.001, 'splitter': 'random'}\n",
      "0.855 (+/-0.010) for {'criterion': 'gini', 'max_depth': 6, 'max_features': 'sqrt', 'min_weight_fraction_leaf': 0.0, 'splitter': 'best'}\n",
      "0.809 (+/-0.022) for {'criterion': 'gini', 'max_depth': 6, 'max_features': 'sqrt', 'min_weight_fraction_leaf': 0.0, 'splitter': 'random'}\n",
      "0.854 (+/-0.018) for {'criterion': 'gini', 'max_depth': 6, 'max_features': 'sqrt', 'min_weight_fraction_leaf': 0.0001, 'splitter': 'best'}\n",
      "0.816 (+/-0.012) for {'criterion': 'gini', 'max_depth': 6, 'max_features': 'sqrt', 'min_weight_fraction_leaf': 0.0001, 'splitter': 'random'}\n",
      "0.857 (+/-0.023) for {'criterion': 'gini', 'max_depth': 6, 'max_features': 'sqrt', 'min_weight_fraction_leaf': 0.001, 'splitter': 'best'}\n",
      "0.825 (+/-0.013) for {'criterion': 'gini', 'max_depth': 6, 'max_features': 'sqrt', 'min_weight_fraction_leaf': 0.001, 'splitter': 'random'}\n",
      "0.917 (+/-0.005) for {'criterion': 'gini', 'max_depth': 10, 'max_features': None, 'min_weight_fraction_leaf': 0.0, 'splitter': 'best'}\n",
      "0.908 (+/-0.002) for {'criterion': 'gini', 'max_depth': 10, 'max_features': None, 'min_weight_fraction_leaf': 0.0, 'splitter': 'random'}\n",
      "0.918 (+/-0.005) for {'criterion': 'gini', 'max_depth': 10, 'max_features': None, 'min_weight_fraction_leaf': 0.0001, 'splitter': 'best'}\n",
      "0.914 (+/-0.003) for {'criterion': 'gini', 'max_depth': 10, 'max_features': None, 'min_weight_fraction_leaf': 0.0001, 'splitter': 'random'}\n",
      "0.913 (+/-0.007) for {'criterion': 'gini', 'max_depth': 10, 'max_features': None, 'min_weight_fraction_leaf': 0.001, 'splitter': 'best'}\n",
      "0.903 (+/-0.006) for {'criterion': 'gini', 'max_depth': 10, 'max_features': None, 'min_weight_fraction_leaf': 0.001, 'splitter': 'random'}\n",
      "0.890 (+/-0.008) for {'criterion': 'gini', 'max_depth': 10, 'max_features': 'auto', 'min_weight_fraction_leaf': 0.0, 'splitter': 'best'}\n",
      "0.871 (+/-0.015) for {'criterion': 'gini', 'max_depth': 10, 'max_features': 'auto', 'min_weight_fraction_leaf': 0.0, 'splitter': 'random'}\n",
      "0.890 (+/-0.004) for {'criterion': 'gini', 'max_depth': 10, 'max_features': 'auto', 'min_weight_fraction_leaf': 0.0001, 'splitter': 'best'}\n",
      "0.877 (+/-0.012) for {'criterion': 'gini', 'max_depth': 10, 'max_features': 'auto', 'min_weight_fraction_leaf': 0.0001, 'splitter': 'random'}\n",
      "0.890 (+/-0.008) for {'criterion': 'gini', 'max_depth': 10, 'max_features': 'auto', 'min_weight_fraction_leaf': 0.001, 'splitter': 'best'}\n",
      "0.866 (+/-0.017) for {'criterion': 'gini', 'max_depth': 10, 'max_features': 'auto', 'min_weight_fraction_leaf': 0.001, 'splitter': 'random'}\n",
      "0.898 (+/-0.006) for {'criterion': 'gini', 'max_depth': 10, 'max_features': 'log2', 'min_weight_fraction_leaf': 0.0, 'splitter': 'best'}\n",
      "0.865 (+/-0.002) for {'criterion': 'gini', 'max_depth': 10, 'max_features': 'log2', 'min_weight_fraction_leaf': 0.0, 'splitter': 'random'}\n",
      "0.891 (+/-0.009) for {'criterion': 'gini', 'max_depth': 10, 'max_features': 'log2', 'min_weight_fraction_leaf': 0.0001, 'splitter': 'best'}\n",
      "0.877 (+/-0.010) for {'criterion': 'gini', 'max_depth': 10, 'max_features': 'log2', 'min_weight_fraction_leaf': 0.0001, 'splitter': 'random'}\n",
      "0.885 (+/-0.003) for {'criterion': 'gini', 'max_depth': 10, 'max_features': 'log2', 'min_weight_fraction_leaf': 0.001, 'splitter': 'best'}\n",
      "0.865 (+/-0.010) for {'criterion': 'gini', 'max_depth': 10, 'max_features': 'log2', 'min_weight_fraction_leaf': 0.001, 'splitter': 'random'}\n",
      "0.894 (+/-0.007) for {'criterion': 'gini', 'max_depth': 10, 'max_features': 'sqrt', 'min_weight_fraction_leaf': 0.0, 'splitter': 'best'}\n",
      "0.871 (+/-0.010) for {'criterion': 'gini', 'max_depth': 10, 'max_features': 'sqrt', 'min_weight_fraction_leaf': 0.0, 'splitter': 'random'}\n",
      "0.896 (+/-0.003) for {'criterion': 'gini', 'max_depth': 10, 'max_features': 'sqrt', 'min_weight_fraction_leaf': 0.0001, 'splitter': 'best'}\n",
      "0.867 (+/-0.018) for {'criterion': 'gini', 'max_depth': 10, 'max_features': 'sqrt', 'min_weight_fraction_leaf': 0.0001, 'splitter': 'random'}\n",
      "0.890 (+/-0.003) for {'criterion': 'gini', 'max_depth': 10, 'max_features': 'sqrt', 'min_weight_fraction_leaf': 0.001, 'splitter': 'best'}\n",
      "0.861 (+/-0.015) for {'criterion': 'gini', 'max_depth': 10, 'max_features': 'sqrt', 'min_weight_fraction_leaf': 0.001, 'splitter': 'random'}\n",
      "0.919 (+/-0.008) for {'criterion': 'gini', 'max_depth': 12, 'max_features': None, 'min_weight_fraction_leaf': 0.0, 'splitter': 'best'}\n",
      "0.911 (+/-0.005) for {'criterion': 'gini', 'max_depth': 12, 'max_features': None, 'min_weight_fraction_leaf': 0.0, 'splitter': 'random'}\n",
      "0.919 (+/-0.008) for {'criterion': 'gini', 'max_depth': 12, 'max_features': None, 'min_weight_fraction_leaf': 0.0001, 'splitter': 'best'}\n",
      "0.915 (+/-0.009) for {'criterion': 'gini', 'max_depth': 12, 'max_features': None, 'min_weight_fraction_leaf': 0.0001, 'splitter': 'random'}\n",
      "0.913 (+/-0.007) for {'criterion': 'gini', 'max_depth': 12, 'max_features': None, 'min_weight_fraction_leaf': 0.001, 'splitter': 'best'}\n",
      "0.911 (+/-0.005) for {'criterion': 'gini', 'max_depth': 12, 'max_features': None, 'min_weight_fraction_leaf': 0.001, 'splitter': 'random'}\n",
      "0.897 (+/-0.003) for {'criterion': 'gini', 'max_depth': 12, 'max_features': 'auto', 'min_weight_fraction_leaf': 0.0, 'splitter': 'best'}\n",
      "0.886 (+/-0.004) for {'criterion': 'gini', 'max_depth': 12, 'max_features': 'auto', 'min_weight_fraction_leaf': 0.0, 'splitter': 'random'}\n",
      "0.893 (+/-0.009) for {'criterion': 'gini', 'max_depth': 12, 'max_features': 'auto', 'min_weight_fraction_leaf': 0.0001, 'splitter': 'best'}\n",
      "0.880 (+/-0.012) for {'criterion': 'gini', 'max_depth': 12, 'max_features': 'auto', 'min_weight_fraction_leaf': 0.0001, 'splitter': 'random'}\n",
      "0.893 (+/-0.008) for {'criterion': 'gini', 'max_depth': 12, 'max_features': 'auto', 'min_weight_fraction_leaf': 0.001, 'splitter': 'best'}\n",
      "0.869 (+/-0.004) for {'criterion': 'gini', 'max_depth': 12, 'max_features': 'auto', 'min_weight_fraction_leaf': 0.001, 'splitter': 'random'}\n",
      "0.896 (+/-0.011) for {'criterion': 'gini', 'max_depth': 12, 'max_features': 'log2', 'min_weight_fraction_leaf': 0.0, 'splitter': 'best'}\n",
      "0.887 (+/-0.007) for {'criterion': 'gini', 'max_depth': 12, 'max_features': 'log2', 'min_weight_fraction_leaf': 0.0, 'splitter': 'random'}\n",
      "0.900 (+/-0.003) for {'criterion': 'gini', 'max_depth': 12, 'max_features': 'log2', 'min_weight_fraction_leaf': 0.0001, 'splitter': 'best'}\n",
      "0.886 (+/-0.009) for {'criterion': 'gini', 'max_depth': 12, 'max_features': 'log2', 'min_weight_fraction_leaf': 0.0001, 'splitter': 'random'}\n",
      "0.882 (+/-0.009) for {'criterion': 'gini', 'max_depth': 12, 'max_features': 'log2', 'min_weight_fraction_leaf': 0.001, 'splitter': 'best'}\n",
      "0.864 (+/-0.011) for {'criterion': 'gini', 'max_depth': 12, 'max_features': 'log2', 'min_weight_fraction_leaf': 0.001, 'splitter': 'random'}\n",
      "0.890 (+/-0.006) for {'criterion': 'gini', 'max_depth': 12, 'max_features': 'sqrt', 'min_weight_fraction_leaf': 0.0, 'splitter': 'best'}\n",
      "0.879 (+/-0.005) for {'criterion': 'gini', 'max_depth': 12, 'max_features': 'sqrt', 'min_weight_fraction_leaf': 0.0, 'splitter': 'random'}\n",
      "0.898 (+/-0.006) for {'criterion': 'gini', 'max_depth': 12, 'max_features': 'sqrt', 'min_weight_fraction_leaf': 0.0001, 'splitter': 'best'}\n",
      "0.885 (+/-0.006) for {'criterion': 'gini', 'max_depth': 12, 'max_features': 'sqrt', 'min_weight_fraction_leaf': 0.0001, 'splitter': 'random'}\n",
      "0.881 (+/-0.016) for {'criterion': 'gini', 'max_depth': 12, 'max_features': 'sqrt', 'min_weight_fraction_leaf': 0.001, 'splitter': 'best'}\n",
      "0.870 (+/-0.007) for {'criterion': 'gini', 'max_depth': 12, 'max_features': 'sqrt', 'min_weight_fraction_leaf': 0.001, 'splitter': 'random'}\n",
      "0.913 (+/-0.007) for {'criterion': 'gini', 'max_depth': 16, 'max_features': None, 'min_weight_fraction_leaf': 0.0, 'splitter': 'best'}\n",
      "0.913 (+/-0.003) for {'criterion': 'gini', 'max_depth': 16, 'max_features': None, 'min_weight_fraction_leaf': 0.0, 'splitter': 'random'}\n",
      "0.914 (+/-0.007) for {'criterion': 'gini', 'max_depth': 16, 'max_features': None, 'min_weight_fraction_leaf': 0.0001, 'splitter': 'best'}\n",
      "0.917 (+/-0.004) for {'criterion': 'gini', 'max_depth': 16, 'max_features': None, 'min_weight_fraction_leaf': 0.0001, 'splitter': 'random'}\n",
      "0.912 (+/-0.006) for {'criterion': 'gini', 'max_depth': 16, 'max_features': None, 'min_weight_fraction_leaf': 0.001, 'splitter': 'best'}\n",
      "0.908 (+/-0.009) for {'criterion': 'gini', 'max_depth': 16, 'max_features': None, 'min_weight_fraction_leaf': 0.001, 'splitter': 'random'}\n",
      "0.891 (+/-0.003) for {'criterion': 'gini', 'max_depth': 16, 'max_features': 'auto', 'min_weight_fraction_leaf': 0.0, 'splitter': 'best'}\n",
      "0.889 (+/-0.004) for {'criterion': 'gini', 'max_depth': 16, 'max_features': 'auto', 'min_weight_fraction_leaf': 0.0, 'splitter': 'random'}\n",
      "0.898 (+/-0.006) for {'criterion': 'gini', 'max_depth': 16, 'max_features': 'auto', 'min_weight_fraction_leaf': 0.0001, 'splitter': 'best'}\n",
      "0.886 (+/-0.005) for {'criterion': 'gini', 'max_depth': 16, 'max_features': 'auto', 'min_weight_fraction_leaf': 0.0001, 'splitter': 'random'}\n",
      "0.888 (+/-0.006) for {'criterion': 'gini', 'max_depth': 16, 'max_features': 'auto', 'min_weight_fraction_leaf': 0.001, 'splitter': 'best'}\n",
      "0.874 (+/-0.004) for {'criterion': 'gini', 'max_depth': 16, 'max_features': 'auto', 'min_weight_fraction_leaf': 0.001, 'splitter': 'random'}\n",
      "0.898 (+/-0.006) for {'criterion': 'gini', 'max_depth': 16, 'max_features': 'log2', 'min_weight_fraction_leaf': 0.0, 'splitter': 'best'}\n",
      "0.887 (+/-0.013) for {'criterion': 'gini', 'max_depth': 16, 'max_features': 'log2', 'min_weight_fraction_leaf': 0.0, 'splitter': 'random'}\n",
      "0.899 (+/-0.008) for {'criterion': 'gini', 'max_depth': 16, 'max_features': 'log2', 'min_weight_fraction_leaf': 0.0001, 'splitter': 'best'}\n",
      "0.889 (+/-0.007) for {'criterion': 'gini', 'max_depth': 16, 'max_features': 'log2', 'min_weight_fraction_leaf': 0.0001, 'splitter': 'random'}\n",
      "0.890 (+/-0.009) for {'criterion': 'gini', 'max_depth': 16, 'max_features': 'log2', 'min_weight_fraction_leaf': 0.001, 'splitter': 'best'}\n",
      "0.876 (+/-0.012) for {'criterion': 'gini', 'max_depth': 16, 'max_features': 'log2', 'min_weight_fraction_leaf': 0.001, 'splitter': 'random'}\n",
      "0.893 (+/-0.003) for {'criterion': 'gini', 'max_depth': 16, 'max_features': 'sqrt', 'min_weight_fraction_leaf': 0.0, 'splitter': 'best'}\n",
      "0.887 (+/-0.006) for {'criterion': 'gini', 'max_depth': 16, 'max_features': 'sqrt', 'min_weight_fraction_leaf': 0.0, 'splitter': 'random'}\n",
      "0.899 (+/-0.005) for {'criterion': 'gini', 'max_depth': 16, 'max_features': 'sqrt', 'min_weight_fraction_leaf': 0.0001, 'splitter': 'best'}\n",
      "0.885 (+/-0.007) for {'criterion': 'gini', 'max_depth': 16, 'max_features': 'sqrt', 'min_weight_fraction_leaf': 0.0001, 'splitter': 'random'}\n",
      "0.891 (+/-0.008) for {'criterion': 'gini', 'max_depth': 16, 'max_features': 'sqrt', 'min_weight_fraction_leaf': 0.001, 'splitter': 'best'}\n",
      "0.856 (+/-0.007) for {'criterion': 'gini', 'max_depth': 16, 'max_features': 'sqrt', 'min_weight_fraction_leaf': 0.001, 'splitter': 'random'}\n",
      "0.865 (+/-0.004) for {'criterion': 'entropy', 'max_depth': 4, 'max_features': None, 'min_weight_fraction_leaf': 0.0, 'splitter': 'best'}\n",
      "0.821 (+/-0.028) for {'criterion': 'entropy', 'max_depth': 4, 'max_features': None, 'min_weight_fraction_leaf': 0.0, 'splitter': 'random'}\n",
      "0.865 (+/-0.004) for {'criterion': 'entropy', 'max_depth': 4, 'max_features': None, 'min_weight_fraction_leaf': 0.0001, 'splitter': 'best'}\n",
      "0.846 (+/-0.005) for {'criterion': 'entropy', 'max_depth': 4, 'max_features': None, 'min_weight_fraction_leaf': 0.0001, 'splitter': 'random'}\n",
      "0.865 (+/-0.004) for {'criterion': 'entropy', 'max_depth': 4, 'max_features': None, 'min_weight_fraction_leaf': 0.001, 'splitter': 'best'}\n",
      "0.824 (+/-0.024) for {'criterion': 'entropy', 'max_depth': 4, 'max_features': None, 'min_weight_fraction_leaf': 0.001, 'splitter': 'random'}\n",
      "0.829 (+/-0.020) for {'criterion': 'entropy', 'max_depth': 4, 'max_features': 'auto', 'min_weight_fraction_leaf': 0.0, 'splitter': 'best'}\n",
      "0.774 (+/-0.034) for {'criterion': 'entropy', 'max_depth': 4, 'max_features': 'auto', 'min_weight_fraction_leaf': 0.0, 'splitter': 'random'}\n",
      "0.821 (+/-0.025) for {'criterion': 'entropy', 'max_depth': 4, 'max_features': 'auto', 'min_weight_fraction_leaf': 0.0001, 'splitter': 'best'}\n",
      "0.778 (+/-0.030) for {'criterion': 'entropy', 'max_depth': 4, 'max_features': 'auto', 'min_weight_fraction_leaf': 0.0001, 'splitter': 'random'}\n",
      "0.815 (+/-0.032) for {'criterion': 'entropy', 'max_depth': 4, 'max_features': 'auto', 'min_weight_fraction_leaf': 0.001, 'splitter': 'best'}\n",
      "0.737 (+/-0.011) for {'criterion': 'entropy', 'max_depth': 4, 'max_features': 'auto', 'min_weight_fraction_leaf': 0.001, 'splitter': 'random'}\n",
      "0.827 (+/-0.015) for {'criterion': 'entropy', 'max_depth': 4, 'max_features': 'log2', 'min_weight_fraction_leaf': 0.0, 'splitter': 'best'}\n",
      "0.772 (+/-0.025) for {'criterion': 'entropy', 'max_depth': 4, 'max_features': 'log2', 'min_weight_fraction_leaf': 0.0, 'splitter': 'random'}\n",
      "0.829 (+/-0.016) for {'criterion': 'entropy', 'max_depth': 4, 'max_features': 'log2', 'min_weight_fraction_leaf': 0.0001, 'splitter': 'best'}\n",
      "0.774 (+/-0.036) for {'criterion': 'entropy', 'max_depth': 4, 'max_features': 'log2', 'min_weight_fraction_leaf': 0.0001, 'splitter': 'random'}\n",
      "0.782 (+/-0.025) for {'criterion': 'entropy', 'max_depth': 4, 'max_features': 'log2', 'min_weight_fraction_leaf': 0.001, 'splitter': 'best'}\n",
      "0.784 (+/-0.026) for {'criterion': 'entropy', 'max_depth': 4, 'max_features': 'log2', 'min_weight_fraction_leaf': 0.001, 'splitter': 'random'}\n",
      "0.834 (+/-0.020) for {'criterion': 'entropy', 'max_depth': 4, 'max_features': 'sqrt', 'min_weight_fraction_leaf': 0.0, 'splitter': 'best'}\n",
      "0.767 (+/-0.043) for {'criterion': 'entropy', 'max_depth': 4, 'max_features': 'sqrt', 'min_weight_fraction_leaf': 0.0, 'splitter': 'random'}\n",
      "0.814 (+/-0.015) for {'criterion': 'entropy', 'max_depth': 4, 'max_features': 'sqrt', 'min_weight_fraction_leaf': 0.0001, 'splitter': 'best'}\n",
      "0.772 (+/-0.039) for {'criterion': 'entropy', 'max_depth': 4, 'max_features': 'sqrt', 'min_weight_fraction_leaf': 0.0001, 'splitter': 'random'}\n",
      "0.820 (+/-0.022) for {'criterion': 'entropy', 'max_depth': 4, 'max_features': 'sqrt', 'min_weight_fraction_leaf': 0.001, 'splitter': 'best'}\n",
      "0.760 (+/-0.019) for {'criterion': 'entropy', 'max_depth': 4, 'max_features': 'sqrt', 'min_weight_fraction_leaf': 0.001, 'splitter': 'random'}\n",
      "0.891 (+/-0.008) for {'criterion': 'entropy', 'max_depth': 6, 'max_features': None, 'min_weight_fraction_leaf': 0.0, 'splitter': 'best'}\n",
      "0.885 (+/-0.008) for {'criterion': 'entropy', 'max_depth': 6, 'max_features': None, 'min_weight_fraction_leaf': 0.0, 'splitter': 'random'}\n",
      "0.892 (+/-0.008) for {'criterion': 'entropy', 'max_depth': 6, 'max_features': None, 'min_weight_fraction_leaf': 0.0001, 'splitter': 'best'}\n",
      "0.884 (+/-0.009) for {'criterion': 'entropy', 'max_depth': 6, 'max_features': None, 'min_weight_fraction_leaf': 0.0001, 'splitter': 'random'}\n",
      "0.892 (+/-0.009) for {'criterion': 'entropy', 'max_depth': 6, 'max_features': None, 'min_weight_fraction_leaf': 0.001, 'splitter': 'best'}\n",
      "0.883 (+/-0.007) for {'criterion': 'entropy', 'max_depth': 6, 'max_features': None, 'min_weight_fraction_leaf': 0.001, 'splitter': 'random'}\n",
      "0.865 (+/-0.008) for {'criterion': 'entropy', 'max_depth': 6, 'max_features': 'auto', 'min_weight_fraction_leaf': 0.0, 'splitter': 'best'}\n",
      "0.830 (+/-0.017) for {'criterion': 'entropy', 'max_depth': 6, 'max_features': 'auto', 'min_weight_fraction_leaf': 0.0, 'splitter': 'random'}\n",
      "0.858 (+/-0.018) for {'criterion': 'entropy', 'max_depth': 6, 'max_features': 'auto', 'min_weight_fraction_leaf': 0.0001, 'splitter': 'best'}\n",
      "0.830 (+/-0.024) for {'criterion': 'entropy', 'max_depth': 6, 'max_features': 'auto', 'min_weight_fraction_leaf': 0.0001, 'splitter': 'random'}\n",
      "0.852 (+/-0.016) for {'criterion': 'entropy', 'max_depth': 6, 'max_features': 'auto', 'min_weight_fraction_leaf': 0.001, 'splitter': 'best'}\n",
      "0.809 (+/-0.018) for {'criterion': 'entropy', 'max_depth': 6, 'max_features': 'auto', 'min_weight_fraction_leaf': 0.001, 'splitter': 'random'}\n",
      "0.865 (+/-0.013) for {'criterion': 'entropy', 'max_depth': 6, 'max_features': 'log2', 'min_weight_fraction_leaf': 0.0, 'splitter': 'best'}\n",
      "0.812 (+/-0.016) for {'criterion': 'entropy', 'max_depth': 6, 'max_features': 'log2', 'min_weight_fraction_leaf': 0.0, 'splitter': 'random'}\n",
      "0.853 (+/-0.019) for {'criterion': 'entropy', 'max_depth': 6, 'max_features': 'log2', 'min_weight_fraction_leaf': 0.0001, 'splitter': 'best'}\n",
      "0.822 (+/-0.015) for {'criterion': 'entropy', 'max_depth': 6, 'max_features': 'log2', 'min_weight_fraction_leaf': 0.0001, 'splitter': 'random'}\n",
      "0.852 (+/-0.008) for {'criterion': 'entropy', 'max_depth': 6, 'max_features': 'log2', 'min_weight_fraction_leaf': 0.001, 'splitter': 'best'}\n",
      "0.807 (+/-0.022) for {'criterion': 'entropy', 'max_depth': 6, 'max_features': 'log2', 'min_weight_fraction_leaf': 0.001, 'splitter': 'random'}\n",
      "0.859 (+/-0.006) for {'criterion': 'entropy', 'max_depth': 6, 'max_features': 'sqrt', 'min_weight_fraction_leaf': 0.0, 'splitter': 'best'}\n",
      "0.814 (+/-0.021) for {'criterion': 'entropy', 'max_depth': 6, 'max_features': 'sqrt', 'min_weight_fraction_leaf': 0.0, 'splitter': 'random'}\n",
      "0.854 (+/-0.014) for {'criterion': 'entropy', 'max_depth': 6, 'max_features': 'sqrt', 'min_weight_fraction_leaf': 0.0001, 'splitter': 'best'}\n",
      "0.809 (+/-0.019) for {'criterion': 'entropy', 'max_depth': 6, 'max_features': 'sqrt', 'min_weight_fraction_leaf': 0.0001, 'splitter': 'random'}\n",
      "0.857 (+/-0.010) for {'criterion': 'entropy', 'max_depth': 6, 'max_features': 'sqrt', 'min_weight_fraction_leaf': 0.001, 'splitter': 'best'}\n",
      "0.819 (+/-0.013) for {'criterion': 'entropy', 'max_depth': 6, 'max_features': 'sqrt', 'min_weight_fraction_leaf': 0.001, 'splitter': 'random'}\n",
      "0.921 (+/-0.003) for {'criterion': 'entropy', 'max_depth': 10, 'max_features': None, 'min_weight_fraction_leaf': 0.0, 'splitter': 'best'}\n",
      "0.906 (+/-0.008) for {'criterion': 'entropy', 'max_depth': 10, 'max_features': None, 'min_weight_fraction_leaf': 0.0, 'splitter': 'random'}\n",
      "0.921 (+/-0.004) for {'criterion': 'entropy', 'max_depth': 10, 'max_features': None, 'min_weight_fraction_leaf': 0.0001, 'splitter': 'best'}\n",
      "0.911 (+/-0.006) for {'criterion': 'entropy', 'max_depth': 10, 'max_features': None, 'min_weight_fraction_leaf': 0.0001, 'splitter': 'random'}\n",
      "0.917 (+/-0.005) for {'criterion': 'entropy', 'max_depth': 10, 'max_features': None, 'min_weight_fraction_leaf': 0.001, 'splitter': 'best'}\n",
      "0.903 (+/-0.004) for {'criterion': 'entropy', 'max_depth': 10, 'max_features': None, 'min_weight_fraction_leaf': 0.001, 'splitter': 'random'}\n",
      "0.887 (+/-0.009) for {'criterion': 'entropy', 'max_depth': 10, 'max_features': 'auto', 'min_weight_fraction_leaf': 0.0, 'splitter': 'best'}\n",
      "0.869 (+/-0.006) for {'criterion': 'entropy', 'max_depth': 10, 'max_features': 'auto', 'min_weight_fraction_leaf': 0.0, 'splitter': 'random'}\n",
      "0.896 (+/-0.004) for {'criterion': 'entropy', 'max_depth': 10, 'max_features': 'auto', 'min_weight_fraction_leaf': 0.0001, 'splitter': 'best'}\n",
      "0.868 (+/-0.015) for {'criterion': 'entropy', 'max_depth': 10, 'max_features': 'auto', 'min_weight_fraction_leaf': 0.0001, 'splitter': 'random'}\n",
      "0.890 (+/-0.009) for {'criterion': 'entropy', 'max_depth': 10, 'max_features': 'auto', 'min_weight_fraction_leaf': 0.001, 'splitter': 'best'}\n",
      "0.867 (+/-0.010) for {'criterion': 'entropy', 'max_depth': 10, 'max_features': 'auto', 'min_weight_fraction_leaf': 0.001, 'splitter': 'random'}\n",
      "0.898 (+/-0.008) for {'criterion': 'entropy', 'max_depth': 10, 'max_features': 'log2', 'min_weight_fraction_leaf': 0.0, 'splitter': 'best'}\n",
      "0.874 (+/-0.005) for {'criterion': 'entropy', 'max_depth': 10, 'max_features': 'log2', 'min_weight_fraction_leaf': 0.0, 'splitter': 'random'}\n",
      "0.889 (+/-0.009) for {'criterion': 'entropy', 'max_depth': 10, 'max_features': 'log2', 'min_weight_fraction_leaf': 0.0001, 'splitter': 'best'}\n",
      "0.875 (+/-0.008) for {'criterion': 'entropy', 'max_depth': 10, 'max_features': 'log2', 'min_weight_fraction_leaf': 0.0001, 'splitter': 'random'}\n",
      "0.883 (+/-0.006) for {'criterion': 'entropy', 'max_depth': 10, 'max_features': 'log2', 'min_weight_fraction_leaf': 0.001, 'splitter': 'best'}\n",
      "0.870 (+/-0.011) for {'criterion': 'entropy', 'max_depth': 10, 'max_features': 'log2', 'min_weight_fraction_leaf': 0.001, 'splitter': 'random'}\n",
      "0.887 (+/-0.007) for {'criterion': 'entropy', 'max_depth': 10, 'max_features': 'sqrt', 'min_weight_fraction_leaf': 0.0, 'splitter': 'best'}\n",
      "0.866 (+/-0.019) for {'criterion': 'entropy', 'max_depth': 10, 'max_features': 'sqrt', 'min_weight_fraction_leaf': 0.0, 'splitter': 'random'}\n",
      "0.892 (+/-0.007) for {'criterion': 'entropy', 'max_depth': 10, 'max_features': 'sqrt', 'min_weight_fraction_leaf': 0.0001, 'splitter': 'best'}\n",
      "0.875 (+/-0.009) for {'criterion': 'entropy', 'max_depth': 10, 'max_features': 'sqrt', 'min_weight_fraction_leaf': 0.0001, 'splitter': 'random'}\n",
      "0.886 (+/-0.004) for {'criterion': 'entropy', 'max_depth': 10, 'max_features': 'sqrt', 'min_weight_fraction_leaf': 0.001, 'splitter': 'best'}\n",
      "0.867 (+/-0.013) for {'criterion': 'entropy', 'max_depth': 10, 'max_features': 'sqrt', 'min_weight_fraction_leaf': 0.001, 'splitter': 'random'}\n",
      "0.923 (+/-0.006) for {'criterion': 'entropy', 'max_depth': 12, 'max_features': None, 'min_weight_fraction_leaf': 0.0, 'splitter': 'best'}\n",
      "0.916 (+/-0.008) for {'criterion': 'entropy', 'max_depth': 12, 'max_features': None, 'min_weight_fraction_leaf': 0.0, 'splitter': 'random'}\n",
      "0.925 (+/-0.005) for {'criterion': 'entropy', 'max_depth': 12, 'max_features': None, 'min_weight_fraction_leaf': 0.0001, 'splitter': 'best'}\n",
      "0.913 (+/-0.005) for {'criterion': 'entropy', 'max_depth': 12, 'max_features': None, 'min_weight_fraction_leaf': 0.0001, 'splitter': 'random'}\n",
      "0.918 (+/-0.004) for {'criterion': 'entropy', 'max_depth': 12, 'max_features': None, 'min_weight_fraction_leaf': 0.001, 'splitter': 'best'}\n",
      "0.904 (+/-0.006) for {'criterion': 'entropy', 'max_depth': 12, 'max_features': None, 'min_weight_fraction_leaf': 0.001, 'splitter': 'random'}\n",
      "0.897 (+/-0.007) for {'criterion': 'entropy', 'max_depth': 12, 'max_features': 'auto', 'min_weight_fraction_leaf': 0.0, 'splitter': 'best'}\n",
      "0.883 (+/-0.011) for {'criterion': 'entropy', 'max_depth': 12, 'max_features': 'auto', 'min_weight_fraction_leaf': 0.0, 'splitter': 'random'}\n",
      "0.895 (+/-0.005) for {'criterion': 'entropy', 'max_depth': 12, 'max_features': 'auto', 'min_weight_fraction_leaf': 0.0001, 'splitter': 'best'}\n",
      "0.881 (+/-0.006) for {'criterion': 'entropy', 'max_depth': 12, 'max_features': 'auto', 'min_weight_fraction_leaf': 0.0001, 'splitter': 'random'}\n",
      "0.890 (+/-0.006) for {'criterion': 'entropy', 'max_depth': 12, 'max_features': 'auto', 'min_weight_fraction_leaf': 0.001, 'splitter': 'best'}\n",
      "0.873 (+/-0.008) for {'criterion': 'entropy', 'max_depth': 12, 'max_features': 'auto', 'min_weight_fraction_leaf': 0.001, 'splitter': 'random'}\n",
      "0.891 (+/-0.003) for {'criterion': 'entropy', 'max_depth': 12, 'max_features': 'log2', 'min_weight_fraction_leaf': 0.0, 'splitter': 'best'}\n",
      "0.879 (+/-0.003) for {'criterion': 'entropy', 'max_depth': 12, 'max_features': 'log2', 'min_weight_fraction_leaf': 0.0, 'splitter': 'random'}\n",
      "0.896 (+/-0.009) for {'criterion': 'entropy', 'max_depth': 12, 'max_features': 'log2', 'min_weight_fraction_leaf': 0.0001, 'splitter': 'best'}\n",
      "0.878 (+/-0.003) for {'criterion': 'entropy', 'max_depth': 12, 'max_features': 'log2', 'min_weight_fraction_leaf': 0.0001, 'splitter': 'random'}\n",
      "0.889 (+/-0.008) for {'criterion': 'entropy', 'max_depth': 12, 'max_features': 'log2', 'min_weight_fraction_leaf': 0.001, 'splitter': 'best'}\n",
      "0.867 (+/-0.013) for {'criterion': 'entropy', 'max_depth': 12, 'max_features': 'log2', 'min_weight_fraction_leaf': 0.001, 'splitter': 'random'}\n",
      "0.897 (+/-0.006) for {'criterion': 'entropy', 'max_depth': 12, 'max_features': 'sqrt', 'min_weight_fraction_leaf': 0.0, 'splitter': 'best'}\n",
      "0.884 (+/-0.009) for {'criterion': 'entropy', 'max_depth': 12, 'max_features': 'sqrt', 'min_weight_fraction_leaf': 0.0, 'splitter': 'random'}\n",
      "0.888 (+/-0.007) for {'criterion': 'entropy', 'max_depth': 12, 'max_features': 'sqrt', 'min_weight_fraction_leaf': 0.0001, 'splitter': 'best'}\n",
      "0.882 (+/-0.005) for {'criterion': 'entropy', 'max_depth': 12, 'max_features': 'sqrt', 'min_weight_fraction_leaf': 0.0001, 'splitter': 'random'}\n",
      "0.892 (+/-0.006) for {'criterion': 'entropy', 'max_depth': 12, 'max_features': 'sqrt', 'min_weight_fraction_leaf': 0.001, 'splitter': 'best'}\n",
      "0.870 (+/-0.014) for {'criterion': 'entropy', 'max_depth': 12, 'max_features': 'sqrt', 'min_weight_fraction_leaf': 0.001, 'splitter': 'random'}\n",
      "0.916 (+/-0.006) for {'criterion': 'entropy', 'max_depth': 16, 'max_features': None, 'min_weight_fraction_leaf': 0.0, 'splitter': 'best'}\n",
      "0.912 (+/-0.006) for {'criterion': 'entropy', 'max_depth': 16, 'max_features': None, 'min_weight_fraction_leaf': 0.0, 'splitter': 'random'}\n",
      "0.916 (+/-0.006) for {'criterion': 'entropy', 'max_depth': 16, 'max_features': None, 'min_weight_fraction_leaf': 0.0001, 'splitter': 'best'}\n",
      "0.917 (+/-0.003) for {'criterion': 'entropy', 'max_depth': 16, 'max_features': None, 'min_weight_fraction_leaf': 0.0001, 'splitter': 'random'}\n",
      "0.916 (+/-0.006) for {'criterion': 'entropy', 'max_depth': 16, 'max_features': None, 'min_weight_fraction_leaf': 0.001, 'splitter': 'best'}\n",
      "0.909 (+/-0.007) for {'criterion': 'entropy', 'max_depth': 16, 'max_features': None, 'min_weight_fraction_leaf': 0.001, 'splitter': 'random'}\n",
      "0.896 (+/-0.008) for {'criterion': 'entropy', 'max_depth': 16, 'max_features': 'auto', 'min_weight_fraction_leaf': 0.0, 'splitter': 'best'}\n",
      "0.888 (+/-0.006) for {'criterion': 'entropy', 'max_depth': 16, 'max_features': 'auto', 'min_weight_fraction_leaf': 0.0, 'splitter': 'random'}\n",
      "0.898 (+/-0.003) for {'criterion': 'entropy', 'max_depth': 16, 'max_features': 'auto', 'min_weight_fraction_leaf': 0.0001, 'splitter': 'best'}\n",
      "0.886 (+/-0.006) for {'criterion': 'entropy', 'max_depth': 16, 'max_features': 'auto', 'min_weight_fraction_leaf': 0.0001, 'splitter': 'random'}\n",
      "0.895 (+/-0.007) for {'criterion': 'entropy', 'max_depth': 16, 'max_features': 'auto', 'min_weight_fraction_leaf': 0.001, 'splitter': 'best'}\n",
      "0.867 (+/-0.014) for {'criterion': 'entropy', 'max_depth': 16, 'max_features': 'auto', 'min_weight_fraction_leaf': 0.001, 'splitter': 'random'}\n",
      "0.893 (+/-0.006) for {'criterion': 'entropy', 'max_depth': 16, 'max_features': 'log2', 'min_weight_fraction_leaf': 0.0, 'splitter': 'best'}\n",
      "0.883 (+/-0.009) for {'criterion': 'entropy', 'max_depth': 16, 'max_features': 'log2', 'min_weight_fraction_leaf': 0.0, 'splitter': 'random'}\n",
      "0.894 (+/-0.009) for {'criterion': 'entropy', 'max_depth': 16, 'max_features': 'log2', 'min_weight_fraction_leaf': 0.0001, 'splitter': 'best'}\n",
      "0.882 (+/-0.010) for {'criterion': 'entropy', 'max_depth': 16, 'max_features': 'log2', 'min_weight_fraction_leaf': 0.0001, 'splitter': 'random'}\n",
      "0.892 (+/-0.005) for {'criterion': 'entropy', 'max_depth': 16, 'max_features': 'log2', 'min_weight_fraction_leaf': 0.001, 'splitter': 'best'}\n",
      "0.877 (+/-0.004) for {'criterion': 'entropy', 'max_depth': 16, 'max_features': 'log2', 'min_weight_fraction_leaf': 0.001, 'splitter': 'random'}\n",
      "0.897 (+/-0.004) for {'criterion': 'entropy', 'max_depth': 16, 'max_features': 'sqrt', 'min_weight_fraction_leaf': 0.0, 'splitter': 'best'}\n",
      "0.889 (+/-0.011) for {'criterion': 'entropy', 'max_depth': 16, 'max_features': 'sqrt', 'min_weight_fraction_leaf': 0.0, 'splitter': 'random'}\n",
      "0.896 (+/-0.004) for {'criterion': 'entropy', 'max_depth': 16, 'max_features': 'sqrt', 'min_weight_fraction_leaf': 0.0001, 'splitter': 'best'}\n",
      "0.889 (+/-0.005) for {'criterion': 'entropy', 'max_depth': 16, 'max_features': 'sqrt', 'min_weight_fraction_leaf': 0.0001, 'splitter': 'random'}\n",
      "0.889 (+/-0.006) for {'criterion': 'entropy', 'max_depth': 16, 'max_features': 'sqrt', 'min_weight_fraction_leaf': 0.001, 'splitter': 'best'}\n",
      "0.873 (+/-0.004) for {'criterion': 'entropy', 'max_depth': 16, 'max_features': 'sqrt', 'min_weight_fraction_leaf': 0.001, 'splitter': 'random'}\n"
     ]
    }
   ],
   "source": [
    "# Best parameter set\n",
    "print('------------------------------------------------------------------------------------------------------------------------')\n",
    "print('Best parameters found:\\n', clf_dt.best_params_)\n",
    "print('------------------------------------------------------------------------------------------------------------------------')\n",
    "\n",
    "# All results\n",
    "means = clf_dt.cv_results_['mean_test_score']\n",
    "stds = clf_dt.cv_results_['std_test_score']\n",
    "for mean, std, params in zip(means, stds, clf_dt.cv_results_['params']):\n",
    "    print(\"%0.3f (+/-%0.03f) for %r\" % (mean, std , params))"
   ]
  },
  {
   "cell_type": "code",
   "execution_count": 172,
   "id": "eb5e8c72",
   "metadata": {},
   "outputs": [
    {
     "data": {
      "text/plain": [
       "DecisionTreeClassifier(criterion='entropy', max_depth=12,\n",
       "                       min_weight_fraction_leaf=0.0001, random_state=0)"
      ]
     },
     "execution_count": 172,
     "metadata": {},
     "output_type": "execute_result"
    }
   ],
   "source": [
    "dt_model = DecisionTreeClassifier(criterion= 'entropy', max_depth = 12, \n",
    "                                  max_features = None,\n",
    "                                  min_weight_fraction_leaf=0.0001,\n",
    "                                  splitter = 'best', random_state = 0)\n",
    "\n",
    "dt_model.fit(X_train_dummy,y_train)"
   ]
  },
  {
   "cell_type": "code",
   "execution_count": 173,
   "id": "24c7ffc9",
   "metadata": {},
   "outputs": [
    {
     "name": "stdout",
     "output_type": "stream",
     "text": [
      "Train: 0.9594757578194099\n",
      "Validation: 0.9241157556270096\n"
     ]
    }
   ],
   "source": [
    "print('Train:', dt_model.score(X_train_dummy, y_train))\n",
    "print('Validation:', dt_model.score(X_val_dummy, y_val))"
   ]
  },
  {
   "cell_type": "markdown",
   "id": "aa3e1363",
   "metadata": {},
   "source": [
    "__`Step 8`__ K-fold Cross Validation"
   ]
  },
  {
   "cell_type": "code",
   "execution_count": 148,
   "id": "5d821a97",
   "metadata": {},
   "outputs": [
    {
     "name": "stdout",
     "output_type": "stream",
     "text": [
      "Train: 0.9624785591766724\n",
      "Validation: 0.9292604501607717\n",
      "\n",
      "Train: 0.9576901086335049\n",
      "Validation: 0.9279742765273312\n",
      "\n",
      "Train: 0.9605488850771869\n",
      "Validation: 0.9241157556270096\n",
      "\n",
      "Train: 0.9537592910234419\n",
      "Validation: 0.9356913183279743\n",
      "\n",
      "Train: 0.9540451686678102\n",
      "Validation: 0.9215434083601286\n",
      "\n",
      "Train: 0.9609062321326473\n",
      "Validation: 0.9163987138263665\n",
      "\n",
      "Train: 0.9601200686106347\n",
      "Validation: 0.9305466237942123\n",
      "\n",
      "Train: 0.9591224183520332\n",
      "Validation: 0.9234234234234234\n",
      "\n",
      "Train: 0.9598370613878368\n",
      "Validation: 0.9234234234234234\n",
      "\n",
      "Train: 0.960265847209319\n",
      "Validation: 0.9124839124839125\n",
      "\n",
      "-------------------------------\n",
      "Average Train:0.9589+/-0.0027\n",
      "Average Validation:0.9245+/-0.0065\n"
     ]
    }
   ],
   "source": [
    "kf = KFold(n_splits=10)\n",
    "Xtemp = pd.get_dummies(X, drop_first = True)\n",
    "avg_score(kf, dt_model, Xtemp.drop('RoomType_suite', axis = 1), y)"
   ]
  },
  {
   "cell_type": "markdown",
   "id": "07957efb",
   "metadata": {},
   "source": [
    "__`Step 9`__ In order to performance of our model with different metrics, first assign the predictions to y_pred_dt."
   ]
  },
  {
   "cell_type": "code",
   "execution_count": 149,
   "id": "a32d5bda",
   "metadata": {},
   "outputs": [
    {
     "data": {
      "text/plain": [
       "array([0, 1, 0, ..., 1, 0, 0])"
      ]
     },
     "execution_count": 149,
     "metadata": {},
     "output_type": "execute_result"
    }
   ],
   "source": [
    "y_pred_dt = dt_model.predict(X_val_dummy)\n",
    "y_pred_dt"
   ]
  },
  {
   "cell_type": "markdown",
   "id": "bf2df047",
   "metadata": {},
   "source": [
    "__`Step 10`__ Test the model with unseen data - Kaggle Submission\n",
    "\n",
    "f1-score result -> 53.1 %\n",
    "\n",
    "Again, just like in the previous models results, considering all features turns out not to be the best solution. The next step consists of understanding the most and least important features, and see if for a different set of features, the results can be improved.\n",
    "It was performed an analysis of the model performance with the removal of the features that were in doubt, one by one, and understand which set of features achieves the best results.\n",
    "\n",
    "- Age\n",
    "- BarService\n",
    "- CheckOut\n",
    "- Cleanliness\n",
    "- Wifi\n",
    "- Location\n",
    "\n",
    "Below it is only present the resulting best number of features and its performance analysis.\n",
    "\n",
    "#### Decision Tree with best feature selection"
   ]
  },
  {
   "cell_type": "code",
   "execution_count": 174,
   "id": "f3991564",
   "metadata": {},
   "outputs": [],
   "source": [
    "Xdt_train_dummy.drop(['Age', 'BarService', 'CheckOut', 'Cleanliness', 'Wifi', 'Location'], axis = 1, inplace = True) \n",
    "Xdt_val_dummy.drop(['Age', 'BarService', 'CheckOut', 'Cleanliness', 'Wifi', 'Location'], axis = 1, inplace = True) "
   ]
  },
  {
   "cell_type": "markdown",
   "id": "30f5b510",
   "metadata": {},
   "source": [
    "__`Step 12`__ Define Decision Tree model (dt_model_new)"
   ]
  },
  {
   "cell_type": "code",
   "execution_count": 175,
   "id": "2a9f4c5c",
   "metadata": {},
   "outputs": [],
   "source": [
    "dt_model_new = DecisionTreeClassifier()"
   ]
  },
  {
   "cell_type": "code",
   "execution_count": 176,
   "id": "d72a89ae",
   "metadata": {},
   "outputs": [],
   "source": [
    "parameter_space_dt = {\n",
    "    'criterion': ['gini','entropy'],\n",
    "    'splitter': ['best','random'],\n",
    "    'max_depth': [4, 6, 10, 12, 16],\n",
    "    'min_weight_fraction_leaf': [0.0, 0.0001, 0.001], \n",
    "    'max_features': [None, 'auto', 'log2', 'sqrt'],\n",
    "}"
   ]
  },
  {
   "cell_type": "markdown",
   "id": "485a6ef2",
   "metadata": {},
   "source": [
    "__`Step 13`__ Create an instance of GridSearchCV named as __clf_dt_new__ and pass as __parameters__ the model and the __parameter_space_dt__. Check which is the best combination of parameters. Create a final model with those parameters by calling the attribute __best_estimator___"
   ]
  },
  {
   "cell_type": "code",
   "execution_count": 177,
   "id": "54eec8a2",
   "metadata": {},
   "outputs": [],
   "source": [
    "clf_dt_new = GridSearchCV(dt_model_new, parameter_space_dt)"
   ]
  },
  {
   "cell_type": "code",
   "execution_count": 178,
   "id": "4fa6ddc3",
   "metadata": {},
   "outputs": [
    {
     "data": {
      "text/plain": [
       "GridSearchCV(estimator=DecisionTreeClassifier(),\n",
       "             param_grid={'criterion': ['gini', 'entropy'],\n",
       "                         'max_depth': [4, 6, 10, 12, 16],\n",
       "                         'max_features': [None, 'auto', 'log2', 'sqrt'],\n",
       "                         'min_weight_fraction_leaf': [0.0, 0.0001, 0.001],\n",
       "                         'splitter': ['best', 'random']})"
      ]
     },
     "execution_count": 178,
     "metadata": {},
     "output_type": "execute_result"
    }
   ],
   "source": [
    "clf_dt_new.fit(Xdt_train_dummy, y_train)"
   ]
  },
  {
   "cell_type": "code",
   "execution_count": 179,
   "id": "ace1be57",
   "metadata": {},
   "outputs": [
    {
     "data": {
      "text/plain": [
       "{'criterion': 'entropy',\n",
       " 'max_depth': 10,\n",
       " 'max_features': None,\n",
       " 'min_weight_fraction_leaf': 0.0001,\n",
       " 'splitter': 'best'}"
      ]
     },
     "execution_count": 179,
     "metadata": {},
     "output_type": "execute_result"
    }
   ],
   "source": [
    "clf_dt_new.best_params_"
   ]
  },
  {
   "cell_type": "markdown",
   "id": "cb9ac6f8",
   "metadata": {},
   "source": [
    "__`Step 14`__ Create a loop to check the mean and the standard deviation of the different models created using the different combinations using GridSearchCV"
   ]
  },
  {
   "cell_type": "code",
   "execution_count": 180,
   "id": "d81cce3e",
   "metadata": {},
   "outputs": [
    {
     "name": "stdout",
     "output_type": "stream",
     "text": [
      "------------------------------------------------------------------------------------------------------------------------\n",
      "Best parameters found:\n",
      " {'criterion': 'entropy', 'max_depth': 10, 'max_features': None, 'min_weight_fraction_leaf': 0.0001, 'splitter': 'best'}\n",
      "------------------------------------------------------------------------------------------------------------------------\n",
      "0.861 (+/-0.006) for {'criterion': 'gini', 'max_depth': 4, 'max_features': None, 'min_weight_fraction_leaf': 0.0, 'splitter': 'best'}\n",
      "0.842 (+/-0.010) for {'criterion': 'gini', 'max_depth': 4, 'max_features': None, 'min_weight_fraction_leaf': 0.0, 'splitter': 'random'}\n",
      "0.861 (+/-0.006) for {'criterion': 'gini', 'max_depth': 4, 'max_features': None, 'min_weight_fraction_leaf': 0.0001, 'splitter': 'best'}\n",
      "0.855 (+/-0.013) for {'criterion': 'gini', 'max_depth': 4, 'max_features': None, 'min_weight_fraction_leaf': 0.0001, 'splitter': 'random'}\n",
      "0.861 (+/-0.006) for {'criterion': 'gini', 'max_depth': 4, 'max_features': None, 'min_weight_fraction_leaf': 0.001, 'splitter': 'best'}\n",
      "0.841 (+/-0.010) for {'criterion': 'gini', 'max_depth': 4, 'max_features': None, 'min_weight_fraction_leaf': 0.001, 'splitter': 'random'}\n",
      "0.824 (+/-0.014) for {'criterion': 'gini', 'max_depth': 4, 'max_features': 'auto', 'min_weight_fraction_leaf': 0.0, 'splitter': 'best'}\n",
      "0.748 (+/-0.020) for {'criterion': 'gini', 'max_depth': 4, 'max_features': 'auto', 'min_weight_fraction_leaf': 0.0, 'splitter': 'random'}\n",
      "0.809 (+/-0.026) for {'criterion': 'gini', 'max_depth': 4, 'max_features': 'auto', 'min_weight_fraction_leaf': 0.0001, 'splitter': 'best'}\n",
      "0.780 (+/-0.014) for {'criterion': 'gini', 'max_depth': 4, 'max_features': 'auto', 'min_weight_fraction_leaf': 0.0001, 'splitter': 'random'}\n",
      "0.810 (+/-0.015) for {'criterion': 'gini', 'max_depth': 4, 'max_features': 'auto', 'min_weight_fraction_leaf': 0.001, 'splitter': 'best'}\n",
      "0.762 (+/-0.021) for {'criterion': 'gini', 'max_depth': 4, 'max_features': 'auto', 'min_weight_fraction_leaf': 0.001, 'splitter': 'random'}\n",
      "0.839 (+/-0.031) for {'criterion': 'gini', 'max_depth': 4, 'max_features': 'log2', 'min_weight_fraction_leaf': 0.0, 'splitter': 'best'}\n",
      "0.792 (+/-0.021) for {'criterion': 'gini', 'max_depth': 4, 'max_features': 'log2', 'min_weight_fraction_leaf': 0.0, 'splitter': 'random'}\n",
      "0.833 (+/-0.006) for {'criterion': 'gini', 'max_depth': 4, 'max_features': 'log2', 'min_weight_fraction_leaf': 0.0001, 'splitter': 'best'}\n",
      "0.779 (+/-0.031) for {'criterion': 'gini', 'max_depth': 4, 'max_features': 'log2', 'min_weight_fraction_leaf': 0.0001, 'splitter': 'random'}\n",
      "0.818 (+/-0.021) for {'criterion': 'gini', 'max_depth': 4, 'max_features': 'log2', 'min_weight_fraction_leaf': 0.001, 'splitter': 'best'}\n",
      "0.774 (+/-0.021) for {'criterion': 'gini', 'max_depth': 4, 'max_features': 'log2', 'min_weight_fraction_leaf': 0.001, 'splitter': 'random'}\n",
      "0.827 (+/-0.018) for {'criterion': 'gini', 'max_depth': 4, 'max_features': 'sqrt', 'min_weight_fraction_leaf': 0.0, 'splitter': 'best'}\n",
      "0.759 (+/-0.026) for {'criterion': 'gini', 'max_depth': 4, 'max_features': 'sqrt', 'min_weight_fraction_leaf': 0.0, 'splitter': 'random'}\n",
      "0.844 (+/-0.014) for {'criterion': 'gini', 'max_depth': 4, 'max_features': 'sqrt', 'min_weight_fraction_leaf': 0.0001, 'splitter': 'best'}\n",
      "0.806 (+/-0.006) for {'criterion': 'gini', 'max_depth': 4, 'max_features': 'sqrt', 'min_weight_fraction_leaf': 0.0001, 'splitter': 'random'}\n",
      "0.833 (+/-0.015) for {'criterion': 'gini', 'max_depth': 4, 'max_features': 'sqrt', 'min_weight_fraction_leaf': 0.001, 'splitter': 'best'}\n",
      "0.784 (+/-0.023) for {'criterion': 'gini', 'max_depth': 4, 'max_features': 'sqrt', 'min_weight_fraction_leaf': 0.001, 'splitter': 'random'}\n",
      "0.891 (+/-0.009) for {'criterion': 'gini', 'max_depth': 6, 'max_features': None, 'min_weight_fraction_leaf': 0.0, 'splitter': 'best'}\n",
      "0.880 (+/-0.008) for {'criterion': 'gini', 'max_depth': 6, 'max_features': None, 'min_weight_fraction_leaf': 0.0, 'splitter': 'random'}\n",
      "0.891 (+/-0.009) for {'criterion': 'gini', 'max_depth': 6, 'max_features': None, 'min_weight_fraction_leaf': 0.0001, 'splitter': 'best'}\n",
      "0.876 (+/-0.009) for {'criterion': 'gini', 'max_depth': 6, 'max_features': None, 'min_weight_fraction_leaf': 0.0001, 'splitter': 'random'}\n",
      "0.892 (+/-0.008) for {'criterion': 'gini', 'max_depth': 6, 'max_features': None, 'min_weight_fraction_leaf': 0.001, 'splitter': 'best'}\n",
      "0.878 (+/-0.007) for {'criterion': 'gini', 'max_depth': 6, 'max_features': None, 'min_weight_fraction_leaf': 0.001, 'splitter': 'random'}\n",
      "0.860 (+/-0.007) for {'criterion': 'gini', 'max_depth': 6, 'max_features': 'auto', 'min_weight_fraction_leaf': 0.0, 'splitter': 'best'}\n",
      "0.810 (+/-0.022) for {'criterion': 'gini', 'max_depth': 6, 'max_features': 'auto', 'min_weight_fraction_leaf': 0.0, 'splitter': 'random'}\n",
      "0.849 (+/-0.014) for {'criterion': 'gini', 'max_depth': 6, 'max_features': 'auto', 'min_weight_fraction_leaf': 0.0001, 'splitter': 'best'}\n",
      "0.795 (+/-0.021) for {'criterion': 'gini', 'max_depth': 6, 'max_features': 'auto', 'min_weight_fraction_leaf': 0.0001, 'splitter': 'random'}\n",
      "0.855 (+/-0.014) for {'criterion': 'gini', 'max_depth': 6, 'max_features': 'auto', 'min_weight_fraction_leaf': 0.001, 'splitter': 'best'}\n",
      "0.819 (+/-0.011) for {'criterion': 'gini', 'max_depth': 6, 'max_features': 'auto', 'min_weight_fraction_leaf': 0.001, 'splitter': 'random'}\n",
      "0.862 (+/-0.007) for {'criterion': 'gini', 'max_depth': 6, 'max_features': 'log2', 'min_weight_fraction_leaf': 0.0, 'splitter': 'best'}\n",
      "0.820 (+/-0.015) for {'criterion': 'gini', 'max_depth': 6, 'max_features': 'log2', 'min_weight_fraction_leaf': 0.0, 'splitter': 'random'}\n",
      "0.851 (+/-0.019) for {'criterion': 'gini', 'max_depth': 6, 'max_features': 'log2', 'min_weight_fraction_leaf': 0.0001, 'splitter': 'best'}\n",
      "0.830 (+/-0.016) for {'criterion': 'gini', 'max_depth': 6, 'max_features': 'log2', 'min_weight_fraction_leaf': 0.0001, 'splitter': 'random'}\n",
      "0.856 (+/-0.012) for {'criterion': 'gini', 'max_depth': 6, 'max_features': 'log2', 'min_weight_fraction_leaf': 0.001, 'splitter': 'best'}\n",
      "0.810 (+/-0.012) for {'criterion': 'gini', 'max_depth': 6, 'max_features': 'log2', 'min_weight_fraction_leaf': 0.001, 'splitter': 'random'}\n",
      "0.853 (+/-0.005) for {'criterion': 'gini', 'max_depth': 6, 'max_features': 'sqrt', 'min_weight_fraction_leaf': 0.0, 'splitter': 'best'}\n",
      "0.822 (+/-0.012) for {'criterion': 'gini', 'max_depth': 6, 'max_features': 'sqrt', 'min_weight_fraction_leaf': 0.0, 'splitter': 'random'}\n",
      "0.862 (+/-0.010) for {'criterion': 'gini', 'max_depth': 6, 'max_features': 'sqrt', 'min_weight_fraction_leaf': 0.0001, 'splitter': 'best'}\n",
      "0.824 (+/-0.026) for {'criterion': 'gini', 'max_depth': 6, 'max_features': 'sqrt', 'min_weight_fraction_leaf': 0.0001, 'splitter': 'random'}\n",
      "0.870 (+/-0.009) for {'criterion': 'gini', 'max_depth': 6, 'max_features': 'sqrt', 'min_weight_fraction_leaf': 0.001, 'splitter': 'best'}\n",
      "0.831 (+/-0.022) for {'criterion': 'gini', 'max_depth': 6, 'max_features': 'sqrt', 'min_weight_fraction_leaf': 0.001, 'splitter': 'random'}\n",
      "0.916 (+/-0.005) for {'criterion': 'gini', 'max_depth': 10, 'max_features': None, 'min_weight_fraction_leaf': 0.0, 'splitter': 'best'}\n",
      "0.912 (+/-0.006) for {'criterion': 'gini', 'max_depth': 10, 'max_features': None, 'min_weight_fraction_leaf': 0.0, 'splitter': 'random'}\n",
      "0.916 (+/-0.005) for {'criterion': 'gini', 'max_depth': 10, 'max_features': None, 'min_weight_fraction_leaf': 0.0001, 'splitter': 'best'}\n",
      "0.910 (+/-0.007) for {'criterion': 'gini', 'max_depth': 10, 'max_features': None, 'min_weight_fraction_leaf': 0.0001, 'splitter': 'random'}\n",
      "0.908 (+/-0.004) for {'criterion': 'gini', 'max_depth': 10, 'max_features': None, 'min_weight_fraction_leaf': 0.001, 'splitter': 'best'}\n",
      "0.901 (+/-0.008) for {'criterion': 'gini', 'max_depth': 10, 'max_features': None, 'min_weight_fraction_leaf': 0.001, 'splitter': 'random'}\n",
      "0.892 (+/-0.008) for {'criterion': 'gini', 'max_depth': 10, 'max_features': 'auto', 'min_weight_fraction_leaf': 0.0, 'splitter': 'best'}\n",
      "0.875 (+/-0.009) for {'criterion': 'gini', 'max_depth': 10, 'max_features': 'auto', 'min_weight_fraction_leaf': 0.0, 'splitter': 'random'}\n",
      "0.891 (+/-0.005) for {'criterion': 'gini', 'max_depth': 10, 'max_features': 'auto', 'min_weight_fraction_leaf': 0.0001, 'splitter': 'best'}\n",
      "0.878 (+/-0.010) for {'criterion': 'gini', 'max_depth': 10, 'max_features': 'auto', 'min_weight_fraction_leaf': 0.0001, 'splitter': 'random'}\n",
      "0.892 (+/-0.006) for {'criterion': 'gini', 'max_depth': 10, 'max_features': 'auto', 'min_weight_fraction_leaf': 0.001, 'splitter': 'best'}\n",
      "0.865 (+/-0.007) for {'criterion': 'gini', 'max_depth': 10, 'max_features': 'auto', 'min_weight_fraction_leaf': 0.001, 'splitter': 'random'}\n",
      "0.895 (+/-0.003) for {'criterion': 'gini', 'max_depth': 10, 'max_features': 'log2', 'min_weight_fraction_leaf': 0.0, 'splitter': 'best'}\n",
      "0.875 (+/-0.010) for {'criterion': 'gini', 'max_depth': 10, 'max_features': 'log2', 'min_weight_fraction_leaf': 0.0, 'splitter': 'random'}\n",
      "0.895 (+/-0.007) for {'criterion': 'gini', 'max_depth': 10, 'max_features': 'log2', 'min_weight_fraction_leaf': 0.0001, 'splitter': 'best'}\n",
      "0.869 (+/-0.013) for {'criterion': 'gini', 'max_depth': 10, 'max_features': 'log2', 'min_weight_fraction_leaf': 0.0001, 'splitter': 'random'}\n",
      "0.890 (+/-0.009) for {'criterion': 'gini', 'max_depth': 10, 'max_features': 'log2', 'min_weight_fraction_leaf': 0.001, 'splitter': 'best'}\n",
      "0.867 (+/-0.014) for {'criterion': 'gini', 'max_depth': 10, 'max_features': 'log2', 'min_weight_fraction_leaf': 0.001, 'splitter': 'random'}\n",
      "0.895 (+/-0.012) for {'criterion': 'gini', 'max_depth': 10, 'max_features': 'sqrt', 'min_weight_fraction_leaf': 0.0, 'splitter': 'best'}\n",
      "0.877 (+/-0.007) for {'criterion': 'gini', 'max_depth': 10, 'max_features': 'sqrt', 'min_weight_fraction_leaf': 0.0, 'splitter': 'random'}\n",
      "0.893 (+/-0.006) for {'criterion': 'gini', 'max_depth': 10, 'max_features': 'sqrt', 'min_weight_fraction_leaf': 0.0001, 'splitter': 'best'}\n",
      "0.886 (+/-0.008) for {'criterion': 'gini', 'max_depth': 10, 'max_features': 'sqrt', 'min_weight_fraction_leaf': 0.0001, 'splitter': 'random'}\n",
      "0.892 (+/-0.005) for {'criterion': 'gini', 'max_depth': 10, 'max_features': 'sqrt', 'min_weight_fraction_leaf': 0.001, 'splitter': 'best'}\n",
      "0.867 (+/-0.004) for {'criterion': 'gini', 'max_depth': 10, 'max_features': 'sqrt', 'min_weight_fraction_leaf': 0.001, 'splitter': 'random'}\n",
      "0.916 (+/-0.006) for {'criterion': 'gini', 'max_depth': 12, 'max_features': None, 'min_weight_fraction_leaf': 0.0, 'splitter': 'best'}\n",
      "0.909 (+/-0.005) for {'criterion': 'gini', 'max_depth': 12, 'max_features': None, 'min_weight_fraction_leaf': 0.0, 'splitter': 'random'}\n",
      "0.915 (+/-0.007) for {'criterion': 'gini', 'max_depth': 12, 'max_features': None, 'min_weight_fraction_leaf': 0.0001, 'splitter': 'best'}\n",
      "0.907 (+/-0.006) for {'criterion': 'gini', 'max_depth': 12, 'max_features': None, 'min_weight_fraction_leaf': 0.0001, 'splitter': 'random'}\n",
      "0.909 (+/-0.004) for {'criterion': 'gini', 'max_depth': 12, 'max_features': None, 'min_weight_fraction_leaf': 0.001, 'splitter': 'best'}\n",
      "0.904 (+/-0.003) for {'criterion': 'gini', 'max_depth': 12, 'max_features': None, 'min_weight_fraction_leaf': 0.001, 'splitter': 'random'}\n",
      "0.899 (+/-0.004) for {'criterion': 'gini', 'max_depth': 12, 'max_features': 'auto', 'min_weight_fraction_leaf': 0.0, 'splitter': 'best'}\n",
      "0.886 (+/-0.010) for {'criterion': 'gini', 'max_depth': 12, 'max_features': 'auto', 'min_weight_fraction_leaf': 0.0, 'splitter': 'random'}\n",
      "0.903 (+/-0.007) for {'criterion': 'gini', 'max_depth': 12, 'max_features': 'auto', 'min_weight_fraction_leaf': 0.0001, 'splitter': 'best'}\n",
      "0.876 (+/-0.006) for {'criterion': 'gini', 'max_depth': 12, 'max_features': 'auto', 'min_weight_fraction_leaf': 0.0001, 'splitter': 'random'}\n",
      "0.890 (+/-0.007) for {'criterion': 'gini', 'max_depth': 12, 'max_features': 'auto', 'min_weight_fraction_leaf': 0.001, 'splitter': 'best'}\n",
      "0.863 (+/-0.018) for {'criterion': 'gini', 'max_depth': 12, 'max_features': 'auto', 'min_weight_fraction_leaf': 0.001, 'splitter': 'random'}\n",
      "0.899 (+/-0.005) for {'criterion': 'gini', 'max_depth': 12, 'max_features': 'log2', 'min_weight_fraction_leaf': 0.0, 'splitter': 'best'}\n",
      "0.884 (+/-0.009) for {'criterion': 'gini', 'max_depth': 12, 'max_features': 'log2', 'min_weight_fraction_leaf': 0.0, 'splitter': 'random'}\n",
      "0.895 (+/-0.008) for {'criterion': 'gini', 'max_depth': 12, 'max_features': 'log2', 'min_weight_fraction_leaf': 0.0001, 'splitter': 'best'}\n",
      "0.887 (+/-0.013) for {'criterion': 'gini', 'max_depth': 12, 'max_features': 'log2', 'min_weight_fraction_leaf': 0.0001, 'splitter': 'random'}\n",
      "0.889 (+/-0.006) for {'criterion': 'gini', 'max_depth': 12, 'max_features': 'log2', 'min_weight_fraction_leaf': 0.001, 'splitter': 'best'}\n",
      "0.867 (+/-0.007) for {'criterion': 'gini', 'max_depth': 12, 'max_features': 'log2', 'min_weight_fraction_leaf': 0.001, 'splitter': 'random'}\n",
      "0.900 (+/-0.012) for {'criterion': 'gini', 'max_depth': 12, 'max_features': 'sqrt', 'min_weight_fraction_leaf': 0.0, 'splitter': 'best'}\n",
      "0.890 (+/-0.011) for {'criterion': 'gini', 'max_depth': 12, 'max_features': 'sqrt', 'min_weight_fraction_leaf': 0.0, 'splitter': 'random'}\n",
      "0.897 (+/-0.004) for {'criterion': 'gini', 'max_depth': 12, 'max_features': 'sqrt', 'min_weight_fraction_leaf': 0.0001, 'splitter': 'best'}\n",
      "0.883 (+/-0.007) for {'criterion': 'gini', 'max_depth': 12, 'max_features': 'sqrt', 'min_weight_fraction_leaf': 0.0001, 'splitter': 'random'}\n",
      "0.898 (+/-0.006) for {'criterion': 'gini', 'max_depth': 12, 'max_features': 'sqrt', 'min_weight_fraction_leaf': 0.001, 'splitter': 'best'}\n",
      "0.874 (+/-0.015) for {'criterion': 'gini', 'max_depth': 12, 'max_features': 'sqrt', 'min_weight_fraction_leaf': 0.001, 'splitter': 'random'}\n",
      "0.911 (+/-0.004) for {'criterion': 'gini', 'max_depth': 16, 'max_features': None, 'min_weight_fraction_leaf': 0.0, 'splitter': 'best'}\n",
      "0.907 (+/-0.003) for {'criterion': 'gini', 'max_depth': 16, 'max_features': None, 'min_weight_fraction_leaf': 0.0, 'splitter': 'random'}\n",
      "0.910 (+/-0.003) for {'criterion': 'gini', 'max_depth': 16, 'max_features': None, 'min_weight_fraction_leaf': 0.0001, 'splitter': 'best'}\n",
      "0.911 (+/-0.007) for {'criterion': 'gini', 'max_depth': 16, 'max_features': None, 'min_weight_fraction_leaf': 0.0001, 'splitter': 'random'}\n",
      "0.910 (+/-0.003) for {'criterion': 'gini', 'max_depth': 16, 'max_features': None, 'min_weight_fraction_leaf': 0.001, 'splitter': 'best'}\n",
      "0.908 (+/-0.007) for {'criterion': 'gini', 'max_depth': 16, 'max_features': None, 'min_weight_fraction_leaf': 0.001, 'splitter': 'random'}\n",
      "0.901 (+/-0.004) for {'criterion': 'gini', 'max_depth': 16, 'max_features': 'auto', 'min_weight_fraction_leaf': 0.0, 'splitter': 'best'}\n",
      "0.891 (+/-0.007) for {'criterion': 'gini', 'max_depth': 16, 'max_features': 'auto', 'min_weight_fraction_leaf': 0.0, 'splitter': 'random'}\n",
      "0.898 (+/-0.004) for {'criterion': 'gini', 'max_depth': 16, 'max_features': 'auto', 'min_weight_fraction_leaf': 0.0001, 'splitter': 'best'}\n",
      "0.891 (+/-0.009) for {'criterion': 'gini', 'max_depth': 16, 'max_features': 'auto', 'min_weight_fraction_leaf': 0.0001, 'splitter': 'random'}\n",
      "0.892 (+/-0.007) for {'criterion': 'gini', 'max_depth': 16, 'max_features': 'auto', 'min_weight_fraction_leaf': 0.001, 'splitter': 'best'}\n",
      "0.875 (+/-0.009) for {'criterion': 'gini', 'max_depth': 16, 'max_features': 'auto', 'min_weight_fraction_leaf': 0.001, 'splitter': 'random'}\n",
      "0.899 (+/-0.004) for {'criterion': 'gini', 'max_depth': 16, 'max_features': 'log2', 'min_weight_fraction_leaf': 0.0, 'splitter': 'best'}\n",
      "0.889 (+/-0.004) for {'criterion': 'gini', 'max_depth': 16, 'max_features': 'log2', 'min_weight_fraction_leaf': 0.0, 'splitter': 'random'}\n",
      "0.899 (+/-0.004) for {'criterion': 'gini', 'max_depth': 16, 'max_features': 'log2', 'min_weight_fraction_leaf': 0.0001, 'splitter': 'best'}\n",
      "0.892 (+/-0.004) for {'criterion': 'gini', 'max_depth': 16, 'max_features': 'log2', 'min_weight_fraction_leaf': 0.0001, 'splitter': 'random'}\n",
      "0.887 (+/-0.010) for {'criterion': 'gini', 'max_depth': 16, 'max_features': 'log2', 'min_weight_fraction_leaf': 0.001, 'splitter': 'best'}\n",
      "0.873 (+/-0.010) for {'criterion': 'gini', 'max_depth': 16, 'max_features': 'log2', 'min_weight_fraction_leaf': 0.001, 'splitter': 'random'}\n",
      "0.899 (+/-0.005) for {'criterion': 'gini', 'max_depth': 16, 'max_features': 'sqrt', 'min_weight_fraction_leaf': 0.0, 'splitter': 'best'}\n",
      "0.887 (+/-0.004) for {'criterion': 'gini', 'max_depth': 16, 'max_features': 'sqrt', 'min_weight_fraction_leaf': 0.0, 'splitter': 'random'}\n",
      "0.900 (+/-0.007) for {'criterion': 'gini', 'max_depth': 16, 'max_features': 'sqrt', 'min_weight_fraction_leaf': 0.0001, 'splitter': 'best'}\n",
      "0.890 (+/-0.005) for {'criterion': 'gini', 'max_depth': 16, 'max_features': 'sqrt', 'min_weight_fraction_leaf': 0.0001, 'splitter': 'random'}\n",
      "0.885 (+/-0.015) for {'criterion': 'gini', 'max_depth': 16, 'max_features': 'sqrt', 'min_weight_fraction_leaf': 0.001, 'splitter': 'best'}\n",
      "0.867 (+/-0.010) for {'criterion': 'gini', 'max_depth': 16, 'max_features': 'sqrt', 'min_weight_fraction_leaf': 0.001, 'splitter': 'random'}\n",
      "0.862 (+/-0.003) for {'criterion': 'entropy', 'max_depth': 4, 'max_features': None, 'min_weight_fraction_leaf': 0.0, 'splitter': 'best'}\n",
      "0.841 (+/-0.009) for {'criterion': 'entropy', 'max_depth': 4, 'max_features': None, 'min_weight_fraction_leaf': 0.0, 'splitter': 'random'}\n",
      "0.862 (+/-0.003) for {'criterion': 'entropy', 'max_depth': 4, 'max_features': None, 'min_weight_fraction_leaf': 0.0001, 'splitter': 'best'}\n",
      "0.833 (+/-0.022) for {'criterion': 'entropy', 'max_depth': 4, 'max_features': None, 'min_weight_fraction_leaf': 0.0001, 'splitter': 'random'}\n",
      "0.862 (+/-0.003) for {'criterion': 'entropy', 'max_depth': 4, 'max_features': None, 'min_weight_fraction_leaf': 0.001, 'splitter': 'best'}\n",
      "0.833 (+/-0.022) for {'criterion': 'entropy', 'max_depth': 4, 'max_features': None, 'min_weight_fraction_leaf': 0.001, 'splitter': 'random'}\n",
      "0.816 (+/-0.018) for {'criterion': 'entropy', 'max_depth': 4, 'max_features': 'auto', 'min_weight_fraction_leaf': 0.0, 'splitter': 'best'}\n",
      "0.771 (+/-0.016) for {'criterion': 'entropy', 'max_depth': 4, 'max_features': 'auto', 'min_weight_fraction_leaf': 0.0, 'splitter': 'random'}\n",
      "0.809 (+/-0.032) for {'criterion': 'entropy', 'max_depth': 4, 'max_features': 'auto', 'min_weight_fraction_leaf': 0.0001, 'splitter': 'best'}\n",
      "0.769 (+/-0.037) for {'criterion': 'entropy', 'max_depth': 4, 'max_features': 'auto', 'min_weight_fraction_leaf': 0.0001, 'splitter': 'random'}\n",
      "0.810 (+/-0.013) for {'criterion': 'entropy', 'max_depth': 4, 'max_features': 'auto', 'min_weight_fraction_leaf': 0.001, 'splitter': 'best'}\n",
      "0.774 (+/-0.015) for {'criterion': 'entropy', 'max_depth': 4, 'max_features': 'auto', 'min_weight_fraction_leaf': 0.001, 'splitter': 'random'}\n",
      "0.828 (+/-0.025) for {'criterion': 'entropy', 'max_depth': 4, 'max_features': 'log2', 'min_weight_fraction_leaf': 0.0, 'splitter': 'best'}\n",
      "0.796 (+/-0.029) for {'criterion': 'entropy', 'max_depth': 4, 'max_features': 'log2', 'min_weight_fraction_leaf': 0.0, 'splitter': 'random'}\n",
      "0.825 (+/-0.013) for {'criterion': 'entropy', 'max_depth': 4, 'max_features': 'log2', 'min_weight_fraction_leaf': 0.0001, 'splitter': 'best'}\n",
      "0.787 (+/-0.035) for {'criterion': 'entropy', 'max_depth': 4, 'max_features': 'log2', 'min_weight_fraction_leaf': 0.0001, 'splitter': 'random'}\n",
      "0.822 (+/-0.019) for {'criterion': 'entropy', 'max_depth': 4, 'max_features': 'log2', 'min_weight_fraction_leaf': 0.001, 'splitter': 'best'}\n",
      "0.780 (+/-0.031) for {'criterion': 'entropy', 'max_depth': 4, 'max_features': 'log2', 'min_weight_fraction_leaf': 0.001, 'splitter': 'random'}\n",
      "0.836 (+/-0.010) for {'criterion': 'entropy', 'max_depth': 4, 'max_features': 'sqrt', 'min_weight_fraction_leaf': 0.0, 'splitter': 'best'}\n",
      "0.763 (+/-0.038) for {'criterion': 'entropy', 'max_depth': 4, 'max_features': 'sqrt', 'min_weight_fraction_leaf': 0.0, 'splitter': 'random'}\n",
      "0.834 (+/-0.014) for {'criterion': 'entropy', 'max_depth': 4, 'max_features': 'sqrt', 'min_weight_fraction_leaf': 0.0001, 'splitter': 'best'}\n",
      "0.769 (+/-0.025) for {'criterion': 'entropy', 'max_depth': 4, 'max_features': 'sqrt', 'min_weight_fraction_leaf': 0.0001, 'splitter': 'random'}\n",
      "0.828 (+/-0.016) for {'criterion': 'entropy', 'max_depth': 4, 'max_features': 'sqrt', 'min_weight_fraction_leaf': 0.001, 'splitter': 'best'}\n",
      "0.788 (+/-0.011) for {'criterion': 'entropy', 'max_depth': 4, 'max_features': 'sqrt', 'min_weight_fraction_leaf': 0.001, 'splitter': 'random'}\n",
      "0.891 (+/-0.009) for {'criterion': 'entropy', 'max_depth': 6, 'max_features': None, 'min_weight_fraction_leaf': 0.0, 'splitter': 'best'}\n",
      "0.877 (+/-0.010) for {'criterion': 'entropy', 'max_depth': 6, 'max_features': None, 'min_weight_fraction_leaf': 0.0, 'splitter': 'random'}\n",
      "0.891 (+/-0.009) for {'criterion': 'entropy', 'max_depth': 6, 'max_features': None, 'min_weight_fraction_leaf': 0.0001, 'splitter': 'best'}\n",
      "0.880 (+/-0.012) for {'criterion': 'entropy', 'max_depth': 6, 'max_features': None, 'min_weight_fraction_leaf': 0.0001, 'splitter': 'random'}\n",
      "0.892 (+/-0.009) for {'criterion': 'entropy', 'max_depth': 6, 'max_features': None, 'min_weight_fraction_leaf': 0.001, 'splitter': 'best'}\n",
      "0.871 (+/-0.014) for {'criterion': 'entropy', 'max_depth': 6, 'max_features': None, 'min_weight_fraction_leaf': 0.001, 'splitter': 'random'}\n",
      "0.860 (+/-0.009) for {'criterion': 'entropy', 'max_depth': 6, 'max_features': 'auto', 'min_weight_fraction_leaf': 0.0, 'splitter': 'best'}\n",
      "0.815 (+/-0.026) for {'criterion': 'entropy', 'max_depth': 6, 'max_features': 'auto', 'min_weight_fraction_leaf': 0.0, 'splitter': 'random'}\n",
      "0.867 (+/-0.003) for {'criterion': 'entropy', 'max_depth': 6, 'max_features': 'auto', 'min_weight_fraction_leaf': 0.0001, 'splitter': 'best'}\n",
      "0.827 (+/-0.033) for {'criterion': 'entropy', 'max_depth': 6, 'max_features': 'auto', 'min_weight_fraction_leaf': 0.0001, 'splitter': 'random'}\n",
      "0.856 (+/-0.012) for {'criterion': 'entropy', 'max_depth': 6, 'max_features': 'auto', 'min_weight_fraction_leaf': 0.001, 'splitter': 'best'}\n",
      "0.814 (+/-0.022) for {'criterion': 'entropy', 'max_depth': 6, 'max_features': 'auto', 'min_weight_fraction_leaf': 0.001, 'splitter': 'random'}\n",
      "0.854 (+/-0.009) for {'criterion': 'entropy', 'max_depth': 6, 'max_features': 'log2', 'min_weight_fraction_leaf': 0.0, 'splitter': 'best'}\n",
      "0.816 (+/-0.027) for {'criterion': 'entropy', 'max_depth': 6, 'max_features': 'log2', 'min_weight_fraction_leaf': 0.0, 'splitter': 'random'}\n",
      "0.843 (+/-0.013) for {'criterion': 'entropy', 'max_depth': 6, 'max_features': 'log2', 'min_weight_fraction_leaf': 0.0001, 'splitter': 'best'}\n",
      "0.822 (+/-0.014) for {'criterion': 'entropy', 'max_depth': 6, 'max_features': 'log2', 'min_weight_fraction_leaf': 0.0001, 'splitter': 'random'}\n",
      "0.857 (+/-0.014) for {'criterion': 'entropy', 'max_depth': 6, 'max_features': 'log2', 'min_weight_fraction_leaf': 0.001, 'splitter': 'best'}\n",
      "0.827 (+/-0.026) for {'criterion': 'entropy', 'max_depth': 6, 'max_features': 'log2', 'min_weight_fraction_leaf': 0.001, 'splitter': 'random'}\n",
      "0.856 (+/-0.009) for {'criterion': 'entropy', 'max_depth': 6, 'max_features': 'sqrt', 'min_weight_fraction_leaf': 0.0, 'splitter': 'best'}\n",
      "0.834 (+/-0.018) for {'criterion': 'entropy', 'max_depth': 6, 'max_features': 'sqrt', 'min_weight_fraction_leaf': 0.0, 'splitter': 'random'}\n",
      "0.864 (+/-0.003) for {'criterion': 'entropy', 'max_depth': 6, 'max_features': 'sqrt', 'min_weight_fraction_leaf': 0.0001, 'splitter': 'best'}\n",
      "0.817 (+/-0.020) for {'criterion': 'entropy', 'max_depth': 6, 'max_features': 'sqrt', 'min_weight_fraction_leaf': 0.0001, 'splitter': 'random'}\n",
      "0.861 (+/-0.013) for {'criterion': 'entropy', 'max_depth': 6, 'max_features': 'sqrt', 'min_weight_fraction_leaf': 0.001, 'splitter': 'best'}\n",
      "0.819 (+/-0.019) for {'criterion': 'entropy', 'max_depth': 6, 'max_features': 'sqrt', 'min_weight_fraction_leaf': 0.001, 'splitter': 'random'}\n",
      "0.918 (+/-0.003) for {'criterion': 'entropy', 'max_depth': 10, 'max_features': None, 'min_weight_fraction_leaf': 0.0, 'splitter': 'best'}\n",
      "0.912 (+/-0.005) for {'criterion': 'entropy', 'max_depth': 10, 'max_features': None, 'min_weight_fraction_leaf': 0.0, 'splitter': 'random'}\n",
      "0.919 (+/-0.002) for {'criterion': 'entropy', 'max_depth': 10, 'max_features': None, 'min_weight_fraction_leaf': 0.0001, 'splitter': 'best'}\n",
      "0.910 (+/-0.010) for {'criterion': 'entropy', 'max_depth': 10, 'max_features': None, 'min_weight_fraction_leaf': 0.0001, 'splitter': 'random'}\n",
      "0.913 (+/-0.002) for {'criterion': 'entropy', 'max_depth': 10, 'max_features': None, 'min_weight_fraction_leaf': 0.001, 'splitter': 'best'}\n",
      "0.906 (+/-0.004) for {'criterion': 'entropy', 'max_depth': 10, 'max_features': None, 'min_weight_fraction_leaf': 0.001, 'splitter': 'random'}\n",
      "0.899 (+/-0.008) for {'criterion': 'entropy', 'max_depth': 10, 'max_features': 'auto', 'min_weight_fraction_leaf': 0.0, 'splitter': 'best'}\n",
      "0.880 (+/-0.012) for {'criterion': 'entropy', 'max_depth': 10, 'max_features': 'auto', 'min_weight_fraction_leaf': 0.0, 'splitter': 'random'}\n",
      "0.893 (+/-0.005) for {'criterion': 'entropy', 'max_depth': 10, 'max_features': 'auto', 'min_weight_fraction_leaf': 0.0001, 'splitter': 'best'}\n",
      "0.868 (+/-0.008) for {'criterion': 'entropy', 'max_depth': 10, 'max_features': 'auto', 'min_weight_fraction_leaf': 0.0001, 'splitter': 'random'}\n",
      "0.885 (+/-0.007) for {'criterion': 'entropy', 'max_depth': 10, 'max_features': 'auto', 'min_weight_fraction_leaf': 0.001, 'splitter': 'best'}\n",
      "0.861 (+/-0.011) for {'criterion': 'entropy', 'max_depth': 10, 'max_features': 'auto', 'min_weight_fraction_leaf': 0.001, 'splitter': 'random'}\n",
      "0.887 (+/-0.013) for {'criterion': 'entropy', 'max_depth': 10, 'max_features': 'log2', 'min_weight_fraction_leaf': 0.0, 'splitter': 'best'}\n",
      "0.873 (+/-0.016) for {'criterion': 'entropy', 'max_depth': 10, 'max_features': 'log2', 'min_weight_fraction_leaf': 0.0, 'splitter': 'random'}\n",
      "0.888 (+/-0.009) for {'criterion': 'entropy', 'max_depth': 10, 'max_features': 'log2', 'min_weight_fraction_leaf': 0.0001, 'splitter': 'best'}\n",
      "0.879 (+/-0.004) for {'criterion': 'entropy', 'max_depth': 10, 'max_features': 'log2', 'min_weight_fraction_leaf': 0.0001, 'splitter': 'random'}\n",
      "0.891 (+/-0.006) for {'criterion': 'entropy', 'max_depth': 10, 'max_features': 'log2', 'min_weight_fraction_leaf': 0.001, 'splitter': 'best'}\n",
      "0.863 (+/-0.010) for {'criterion': 'entropy', 'max_depth': 10, 'max_features': 'log2', 'min_weight_fraction_leaf': 0.001, 'splitter': 'random'}\n",
      "0.896 (+/-0.003) for {'criterion': 'entropy', 'max_depth': 10, 'max_features': 'sqrt', 'min_weight_fraction_leaf': 0.0, 'splitter': 'best'}\n",
      "0.871 (+/-0.013) for {'criterion': 'entropy', 'max_depth': 10, 'max_features': 'sqrt', 'min_weight_fraction_leaf': 0.0, 'splitter': 'random'}\n",
      "0.895 (+/-0.005) for {'criterion': 'entropy', 'max_depth': 10, 'max_features': 'sqrt', 'min_weight_fraction_leaf': 0.0001, 'splitter': 'best'}\n",
      "0.872 (+/-0.010) for {'criterion': 'entropy', 'max_depth': 10, 'max_features': 'sqrt', 'min_weight_fraction_leaf': 0.0001, 'splitter': 'random'}\n",
      "0.884 (+/-0.006) for {'criterion': 'entropy', 'max_depth': 10, 'max_features': 'sqrt', 'min_weight_fraction_leaf': 0.001, 'splitter': 'best'}\n",
      "0.863 (+/-0.007) for {'criterion': 'entropy', 'max_depth': 10, 'max_features': 'sqrt', 'min_weight_fraction_leaf': 0.001, 'splitter': 'random'}\n",
      "0.919 (+/-0.006) for {'criterion': 'entropy', 'max_depth': 12, 'max_features': None, 'min_weight_fraction_leaf': 0.0, 'splitter': 'best'}\n",
      "0.912 (+/-0.005) for {'criterion': 'entropy', 'max_depth': 12, 'max_features': None, 'min_weight_fraction_leaf': 0.0, 'splitter': 'random'}\n",
      "0.917 (+/-0.006) for {'criterion': 'entropy', 'max_depth': 12, 'max_features': None, 'min_weight_fraction_leaf': 0.0001, 'splitter': 'best'}\n",
      "0.911 (+/-0.004) for {'criterion': 'entropy', 'max_depth': 12, 'max_features': None, 'min_weight_fraction_leaf': 0.0001, 'splitter': 'random'}\n",
      "0.914 (+/-0.004) for {'criterion': 'entropy', 'max_depth': 12, 'max_features': None, 'min_weight_fraction_leaf': 0.001, 'splitter': 'best'}\n",
      "0.904 (+/-0.004) for {'criterion': 'entropy', 'max_depth': 12, 'max_features': None, 'min_weight_fraction_leaf': 0.001, 'splitter': 'random'}\n",
      "0.904 (+/-0.008) for {'criterion': 'entropy', 'max_depth': 12, 'max_features': 'auto', 'min_weight_fraction_leaf': 0.0, 'splitter': 'best'}\n",
      "0.880 (+/-0.004) for {'criterion': 'entropy', 'max_depth': 12, 'max_features': 'auto', 'min_weight_fraction_leaf': 0.0, 'splitter': 'random'}\n",
      "0.899 (+/-0.005) for {'criterion': 'entropy', 'max_depth': 12, 'max_features': 'auto', 'min_weight_fraction_leaf': 0.0001, 'splitter': 'best'}\n",
      "0.879 (+/-0.006) for {'criterion': 'entropy', 'max_depth': 12, 'max_features': 'auto', 'min_weight_fraction_leaf': 0.0001, 'splitter': 'random'}\n",
      "0.888 (+/-0.007) for {'criterion': 'entropy', 'max_depth': 12, 'max_features': 'auto', 'min_weight_fraction_leaf': 0.001, 'splitter': 'best'}\n",
      "0.870 (+/-0.016) for {'criterion': 'entropy', 'max_depth': 12, 'max_features': 'auto', 'min_weight_fraction_leaf': 0.001, 'splitter': 'random'}\n",
      "0.894 (+/-0.010) for {'criterion': 'entropy', 'max_depth': 12, 'max_features': 'log2', 'min_weight_fraction_leaf': 0.0, 'splitter': 'best'}\n",
      "0.881 (+/-0.010) for {'criterion': 'entropy', 'max_depth': 12, 'max_features': 'log2', 'min_weight_fraction_leaf': 0.0, 'splitter': 'random'}\n",
      "0.897 (+/-0.006) for {'criterion': 'entropy', 'max_depth': 12, 'max_features': 'log2', 'min_weight_fraction_leaf': 0.0001, 'splitter': 'best'}\n",
      "0.885 (+/-0.005) for {'criterion': 'entropy', 'max_depth': 12, 'max_features': 'log2', 'min_weight_fraction_leaf': 0.0001, 'splitter': 'random'}\n",
      "0.889 (+/-0.010) for {'criterion': 'entropy', 'max_depth': 12, 'max_features': 'log2', 'min_weight_fraction_leaf': 0.001, 'splitter': 'best'}\n",
      "0.868 (+/-0.013) for {'criterion': 'entropy', 'max_depth': 12, 'max_features': 'log2', 'min_weight_fraction_leaf': 0.001, 'splitter': 'random'}\n",
      "0.898 (+/-0.005) for {'criterion': 'entropy', 'max_depth': 12, 'max_features': 'sqrt', 'min_weight_fraction_leaf': 0.0, 'splitter': 'best'}\n",
      "0.888 (+/-0.012) for {'criterion': 'entropy', 'max_depth': 12, 'max_features': 'sqrt', 'min_weight_fraction_leaf': 0.0, 'splitter': 'random'}\n",
      "0.897 (+/-0.006) for {'criterion': 'entropy', 'max_depth': 12, 'max_features': 'sqrt', 'min_weight_fraction_leaf': 0.0001, 'splitter': 'best'}\n",
      "0.894 (+/-0.006) for {'criterion': 'entropy', 'max_depth': 12, 'max_features': 'sqrt', 'min_weight_fraction_leaf': 0.0001, 'splitter': 'random'}\n",
      "0.887 (+/-0.008) for {'criterion': 'entropy', 'max_depth': 12, 'max_features': 'sqrt', 'min_weight_fraction_leaf': 0.001, 'splitter': 'best'}\n",
      "0.871 (+/-0.011) for {'criterion': 'entropy', 'max_depth': 12, 'max_features': 'sqrt', 'min_weight_fraction_leaf': 0.001, 'splitter': 'random'}\n",
      "0.911 (+/-0.005) for {'criterion': 'entropy', 'max_depth': 16, 'max_features': None, 'min_weight_fraction_leaf': 0.0, 'splitter': 'best'}\n",
      "0.913 (+/-0.006) for {'criterion': 'entropy', 'max_depth': 16, 'max_features': None, 'min_weight_fraction_leaf': 0.0, 'splitter': 'random'}\n",
      "0.914 (+/-0.004) for {'criterion': 'entropy', 'max_depth': 16, 'max_features': None, 'min_weight_fraction_leaf': 0.0001, 'splitter': 'best'}\n",
      "0.914 (+/-0.005) for {'criterion': 'entropy', 'max_depth': 16, 'max_features': None, 'min_weight_fraction_leaf': 0.0001, 'splitter': 'random'}\n",
      "0.912 (+/-0.004) for {'criterion': 'entropy', 'max_depth': 16, 'max_features': None, 'min_weight_fraction_leaf': 0.001, 'splitter': 'best'}\n",
      "0.904 (+/-0.006) for {'criterion': 'entropy', 'max_depth': 16, 'max_features': None, 'min_weight_fraction_leaf': 0.001, 'splitter': 'random'}\n",
      "0.908 (+/-0.006) for {'criterion': 'entropy', 'max_depth': 16, 'max_features': 'auto', 'min_weight_fraction_leaf': 0.0, 'splitter': 'best'}\n",
      "0.889 (+/-0.005) for {'criterion': 'entropy', 'max_depth': 16, 'max_features': 'auto', 'min_weight_fraction_leaf': 0.0, 'splitter': 'random'}\n",
      "0.897 (+/-0.005) for {'criterion': 'entropy', 'max_depth': 16, 'max_features': 'auto', 'min_weight_fraction_leaf': 0.0001, 'splitter': 'best'}\n",
      "0.893 (+/-0.007) for {'criterion': 'entropy', 'max_depth': 16, 'max_features': 'auto', 'min_weight_fraction_leaf': 0.0001, 'splitter': 'random'}\n",
      "0.890 (+/-0.008) for {'criterion': 'entropy', 'max_depth': 16, 'max_features': 'auto', 'min_weight_fraction_leaf': 0.001, 'splitter': 'best'}\n",
      "0.872 (+/-0.007) for {'criterion': 'entropy', 'max_depth': 16, 'max_features': 'auto', 'min_weight_fraction_leaf': 0.001, 'splitter': 'random'}\n",
      "0.902 (+/-0.005) for {'criterion': 'entropy', 'max_depth': 16, 'max_features': 'log2', 'min_weight_fraction_leaf': 0.0, 'splitter': 'best'}\n",
      "0.888 (+/-0.005) for {'criterion': 'entropy', 'max_depth': 16, 'max_features': 'log2', 'min_weight_fraction_leaf': 0.0, 'splitter': 'random'}\n",
      "0.898 (+/-0.007) for {'criterion': 'entropy', 'max_depth': 16, 'max_features': 'log2', 'min_weight_fraction_leaf': 0.0001, 'splitter': 'best'}\n",
      "0.888 (+/-0.002) for {'criterion': 'entropy', 'max_depth': 16, 'max_features': 'log2', 'min_weight_fraction_leaf': 0.0001, 'splitter': 'random'}\n",
      "0.894 (+/-0.007) for {'criterion': 'entropy', 'max_depth': 16, 'max_features': 'log2', 'min_weight_fraction_leaf': 0.001, 'splitter': 'best'}\n",
      "0.877 (+/-0.005) for {'criterion': 'entropy', 'max_depth': 16, 'max_features': 'log2', 'min_weight_fraction_leaf': 0.001, 'splitter': 'random'}\n",
      "0.900 (+/-0.008) for {'criterion': 'entropy', 'max_depth': 16, 'max_features': 'sqrt', 'min_weight_fraction_leaf': 0.0, 'splitter': 'best'}\n",
      "0.894 (+/-0.007) for {'criterion': 'entropy', 'max_depth': 16, 'max_features': 'sqrt', 'min_weight_fraction_leaf': 0.0, 'splitter': 'random'}\n",
      "0.896 (+/-0.003) for {'criterion': 'entropy', 'max_depth': 16, 'max_features': 'sqrt', 'min_weight_fraction_leaf': 0.0001, 'splitter': 'best'}\n",
      "0.896 (+/-0.009) for {'criterion': 'entropy', 'max_depth': 16, 'max_features': 'sqrt', 'min_weight_fraction_leaf': 0.0001, 'splitter': 'random'}\n",
      "0.891 (+/-0.006) for {'criterion': 'entropy', 'max_depth': 16, 'max_features': 'sqrt', 'min_weight_fraction_leaf': 0.001, 'splitter': 'best'}\n",
      "0.873 (+/-0.009) for {'criterion': 'entropy', 'max_depth': 16, 'max_features': 'sqrt', 'min_weight_fraction_leaf': 0.001, 'splitter': 'random'}\n"
     ]
    }
   ],
   "source": [
    "# Best parameter set\n",
    "print('------------------------------------------------------------------------------------------------------------------------')\n",
    "print('Best parameters found:\\n', clf_dt_new.best_params_)\n",
    "print('------------------------------------------------------------------------------------------------------------------------')\n",
    "\n",
    "# All results\n",
    "means = clf_dt_new.cv_results_['mean_test_score']\n",
    "stds = clf_dt_new.cv_results_['std_test_score']\n",
    "for mean, std, params in zip(means, stds, clf_dt_new.cv_results_['params']):\n",
    "    print(\"%0.3f (+/-%0.03f) for %r\" % (mean, std , params))"
   ]
  },
  {
   "cell_type": "code",
   "execution_count": 182,
   "id": "80b4c7f3",
   "metadata": {},
   "outputs": [
    {
     "data": {
      "text/plain": [
       "DecisionTreeClassifier(criterion='entropy', max_depth=10,\n",
       "                       min_weight_fraction_leaf=0.0001, random_state=0)"
      ]
     },
     "execution_count": 182,
     "metadata": {},
     "output_type": "execute_result"
    }
   ],
   "source": [
    "dt_model_new = DecisionTreeClassifier(criterion = 'entropy', splitter = 'best', \n",
    "                                      max_depth = 10, min_weight_fraction_leaf = 0.0001, \n",
    "                                      max_features = None, random_state = 0)\n",
    "\n",
    "dt_model_new.fit(Xdt_train_dummy, y_train)"
   ]
  },
  {
   "cell_type": "markdown",
   "id": "cfe287b9",
   "metadata": {},
   "source": [
    "__`Step 15`__ Apply both train and validation sets to decision tree classifier dt_model_new"
   ]
  },
  {
   "cell_type": "code",
   "execution_count": 183,
   "id": "26854077",
   "metadata": {},
   "outputs": [
    {
     "name": "stdout",
     "output_type": "stream",
     "text": [
      "Train: 0.9359974270322425\n",
      "Test: 0.9247588424437299\n"
     ]
    }
   ],
   "source": [
    "print('Train:', dt_model_new.score(Xdt_train_dummy, y_train))\n",
    "print('Test:', dt_model_new.score(Xdt_val_dummy, y_val))"
   ]
  },
  {
   "cell_type": "markdown",
   "id": "16c104f7",
   "metadata": {},
   "source": [
    "__`Step 16`__ K-fold Cross Validation"
   ]
  },
  {
   "cell_type": "code",
   "execution_count": 184,
   "id": "7bdead16",
   "metadata": {},
   "outputs": [
    {
     "name": "stdout",
     "output_type": "stream",
     "text": [
      "Train: 0.9388936535162951\n",
      "Validation: 0.9292604501607717\n",
      "\n",
      "Train: 0.9367495711835334\n",
      "Validation: 0.9221864951768489\n",
      "\n",
      "Train: 0.9403230417381361\n",
      "Validation: 0.9196141479099679\n",
      "\n",
      "Train: 0.9354631217838765\n",
      "Validation: 0.9254019292604502\n",
      "\n",
      "Train: 0.9343196112064036\n",
      "Validation: 0.9067524115755627\n",
      "\n",
      "Train: 0.9384648370497427\n",
      "Validation: 0.9118971061093247\n",
      "\n",
      "Train: 0.9378216123499142\n",
      "Validation: 0.912540192926045\n",
      "\n",
      "Train: 0.9384692346173087\n",
      "Validation: 0.9234234234234234\n",
      "\n",
      "Train: 0.9391838776531123\n",
      "Validation: 0.9234234234234234\n",
      "\n",
      "Train: 0.9383263060101479\n",
      "Validation: 0.9214929214929215\n",
      "\n",
      "-------------------------------\n",
      "Average Train:0.9378+/-0.0017\n",
      "Average Validation:0.9196+/-0.0066\n"
     ]
    }
   ],
   "source": [
    "kf = KFold(n_splits=10)\n",
    "Xtemp = pd.get_dummies(X, drop_first = True)\n",
    "avg_score(kf, dt_model_new, Xtemp.drop(['RoomType_suite','Age', 'BarService', 'CheckOut', 'Cleanliness', 'Wifi', 'Location'], axis = 1), y)"
   ]
  },
  {
   "cell_type": "markdown",
   "id": "40d48ba7",
   "metadata": {},
   "source": [
    "__`Step 17`__ In order to performance of our model with different metrics, first assign the predictions to y_pred."
   ]
  },
  {
   "cell_type": "code",
   "execution_count": 185,
   "id": "f0365b1c",
   "metadata": {},
   "outputs": [
    {
     "data": {
      "text/plain": [
       "array([0, 1, 0, ..., 1, 0, 0])"
      ]
     },
     "execution_count": 185,
     "metadata": {},
     "output_type": "execute_result"
    }
   ],
   "source": [
    "y_pred_dt = dt_model_new.predict(Xdt_val_dummy)\n",
    "y_pred_dt "
   ]
  },
  {
   "cell_type": "markdown",
   "id": "c9acfe07",
   "metadata": {},
   "source": [
    "__`Step 18`__ Get the confusion_matrix, and the metrics accuracy_score, precision_score, recall_score, f1_score"
   ]
  },
  {
   "cell_type": "code",
   "execution_count": 186,
   "id": "e356a240",
   "metadata": {},
   "outputs": [
    {
     "data": {
      "text/plain": [
       "array([[1612,   79],\n",
       "       [  93, 1326]], dtype=int64)"
      ]
     },
     "execution_count": 186,
     "metadata": {},
     "output_type": "execute_result"
    }
   ],
   "source": [
    "confusion_matrix(y_val, y_pred_dt)"
   ]
  },
  {
   "cell_type": "code",
   "execution_count": 187,
   "id": "de711368",
   "metadata": {},
   "outputs": [
    {
     "data": {
      "text/plain": [
       "0.9438714847788878"
      ]
     },
     "execution_count": 187,
     "metadata": {},
     "output_type": "execute_result"
    }
   ],
   "source": [
    "balanced_accuracy_score(y_val, y_pred_dt)"
   ]
  },
  {
   "cell_type": "code",
   "execution_count": 188,
   "id": "081f9234",
   "metadata": {},
   "outputs": [
    {
     "data": {
      "text/plain": [
       "0.9437722419928826"
      ]
     },
     "execution_count": 188,
     "metadata": {},
     "output_type": "execute_result"
    }
   ],
   "source": [
    "precision_score(y_val, y_pred_dt)"
   ]
  },
  {
   "cell_type": "code",
   "execution_count": 189,
   "id": "314ccf7a",
   "metadata": {},
   "outputs": [
    {
     "data": {
      "text/plain": [
       "0.9344608879492601"
      ]
     },
     "execution_count": 189,
     "metadata": {},
     "output_type": "execute_result"
    }
   ],
   "source": [
    "recall_score(y_val, y_pred_dt)"
   ]
  },
  {
   "cell_type": "code",
   "execution_count": 194,
   "id": "03965938",
   "metadata": {},
   "outputs": [
    {
     "data": {
      "text/plain": [
       "0.9390934844192635"
      ]
     },
     "execution_count": 194,
     "metadata": {},
     "output_type": "execute_result"
    }
   ],
   "source": [
    "f1_score(y_val, y_pred_dt)"
   ]
  },
  {
   "cell_type": "markdown",
   "id": "b3c2a9a6",
   "metadata": {},
   "source": [
    "__`Step 19`__ Determine the classification report for both train a validation predicted results."
   ]
  },
  {
   "cell_type": "code",
   "execution_count": 191,
   "id": "46d86abe",
   "metadata": {},
   "outputs": [
    {
     "name": "stdout",
     "output_type": "stream",
     "text": [
      "___________________________________________________________________________________________________________\n",
      "                                                     TRAIN                                                 \n",
      "-----------------------------------------------------------------------------------------------------------\n",
      "              precision    recall  f1-score   support\n",
      "\n",
      "           0       0.93      0.95      0.94      6762\n",
      "           1       0.94      0.91      0.93      5675\n",
      "\n",
      "    accuracy                           0.93     12437\n",
      "   macro avg       0.94      0.93      0.93     12437\n",
      "weighted avg       0.93      0.93      0.93     12437\n",
      "\n",
      "[[6432  330]\n",
      " [ 483 5192]]\n",
      "___________________________________________________________________________________________________________\n",
      "                                                   VALIDATION                                              \n",
      "-----------------------------------------------------------------------------------------------------------\n",
      "              precision    recall  f1-score   support\n",
      "\n",
      "           0       0.95      0.95      0.95      1691\n",
      "           1       0.94      0.93      0.94      1419\n",
      "\n",
      "    accuracy                           0.94      3110\n",
      "   macro avg       0.94      0.94      0.94      3110\n",
      "weighted avg       0.94      0.94      0.94      3110\n",
      "\n",
      "[[1612   79]\n",
      " [  93 1326]]\n"
     ]
    }
   ],
   "source": [
    "labels_train = dt_model_new.predict(Xdt_train_dummy)\n",
    "labels_val = dt_model_new.predict(Xdt_val_dummy)\n",
    "\n",
    "metrics(y_train = y_train, pred_train = labels_train, y_val = y_val, pred_val = labels_val)"
   ]
  },
  {
   "cell_type": "markdown",
   "id": "9368a883",
   "metadata": {},
   "source": [
    "__`Step 19`__ Test the model with unseen data - Kaggle Submission\n",
    "\n",
    "f1-score result -> 91.3 %\n",
    "\n",
    "#### Decision Tree Classifier model Results >> fi1-score - Train: 92.7 % | Val: 93.9 % | Test: 91.3 %"
   ]
  },
  {
   "cell_type": "markdown",
   "id": "c2a245f2",
   "metadata": {},
   "source": [
    "<a id=\"MLPClassifier\"> </a>\n",
    "\n",
    "#### <font color = '#cc9900'> 4.7. Assess using Neural Network (MLP) Classifier </font>\n",
    "\n",
    "[Back to Contents](#toc)"
   ]
  },
  {
   "cell_type": "code",
   "execution_count": 195,
   "id": "5432da39",
   "metadata": {},
   "outputs": [],
   "source": [
    "def compare_models(X, y, model):\n",
    "    # apply StratifiedK-Fold\n",
    "    skf = StratifiedKFold(n_splits = 5)\n",
    "    score_train = []\n",
    "    score_val = []\n",
    "    for train_index, val_index in skf.split(X, y):\n",
    "        X_train, X_val = X.iloc[train_index], X.iloc[val_index]\n",
    "        y_train, y_val = y.iloc[train_index], y.iloc[val_index]\n",
    "        \n",
    "        # This time we are going to use validation to check overfitting \n",
    "        # so we need also to make all the needed changes in the validation\n",
    "\n",
    "        # Create dummies and remove one of the variables (to avoid multicollinearity)\n",
    "        X_train_dummies = pd.get_dummies(X_train, columns=['Longevity', 'TypeTravel', 'RoomType', 'Gender'], drop_first=True)\n",
    "        X_val_dummies = pd.get_dummies(X_val, columns=['Longevity', 'TypeTravel', 'RoomType', 'Gender'], drop_first=True)\n",
    "        \n",
    "        # Data Scaling\n",
    "        # Apply MinMaxScaler\n",
    "        scaler = MinMaxScaler().fit(X_train_dummies)\n",
    "        X_train_scaled = scaler.transform(X_train_dummies) \n",
    "        X_val_scaled = scaler.transform(X_val_dummies) # Scaling with 'scaler' from train data\n",
    "\n",
    "        # Apply model\n",
    "        model.fit(X_train_scaled, y_train)\n",
    "        predictions_train = model.predict(X_train_scaled)\n",
    "        predictions_val = model.predict(X_val_scaled)\n",
    "        score_train.append(f1_score(y_train, predictions_train))\n",
    "        score_val.append(f1_score(y_val, predictions_val))\n",
    "\n",
    "    avg_train = round(np.mean(score_train),3)\n",
    "    avg_val = round(np.mean(score_val),3)\n",
    "    std_train = round(np.std(score_train),2)\n",
    "    std_val = round(np.std(score_val),2)\n",
    "\n",
    "    return str(avg_train) + '+/-' + str(std_train),str(avg_val) + '+/-' + str(std_val)"
   ]
  },
  {
   "cell_type": "code",
   "execution_count": 126,
   "id": "979e7cfd",
   "metadata": {},
   "outputs": [
    {
     "name": "stdout",
     "output_type": "stream",
     "text": [
      "------------------------------------------------------------------------------------------------------------------------\n",
      "Best parameters found:\n",
      " {'activation': 'tanh', 'hidden_layer_sizes': 30, 'learning_rate': 'constant', 'learning_rate_init': 0.0001, 'solver': 'lbfgs'}\n",
      "------------------------------------------------------------------------------------------------------------------------\n",
      "0.936 (+/-0.005) for {'activation': 'tanh', 'hidden_layer_sizes': 30, 'learning_rate': 'constant', 'learning_rate_init': 0.0001, 'solver': 'lbfgs'}\n",
      "0.778 (+/-0.014) for {'activation': 'tanh', 'hidden_layer_sizes': 30, 'learning_rate': 'constant', 'learning_rate_init': 0.0001, 'solver': 'sgd'}\n",
      "0.929 (+/-0.005) for {'activation': 'tanh', 'hidden_layer_sizes': 30, 'learning_rate': 'constant', 'learning_rate_init': 0.0003, 'solver': 'lbfgs'}\n",
      "0.821 (+/-0.009) for {'activation': 'tanh', 'hidden_layer_sizes': 30, 'learning_rate': 'constant', 'learning_rate_init': 0.0003, 'solver': 'sgd'}\n",
      "0.934 (+/-0.005) for {'activation': 'tanh', 'hidden_layer_sizes': 30, 'learning_rate': 'constant', 'learning_rate_init': 0.0005, 'solver': 'lbfgs'}\n",
      "0.833 (+/-0.007) for {'activation': 'tanh', 'hidden_layer_sizes': 30, 'learning_rate': 'constant', 'learning_rate_init': 0.0005, 'solver': 'sgd'}\n",
      "0.933 (+/-0.002) for {'activation': 'tanh', 'hidden_layer_sizes': 30, 'learning_rate': 'adaptive', 'learning_rate_init': 0.0001, 'solver': 'lbfgs'}\n",
      "0.779 (+/-0.016) for {'activation': 'tanh', 'hidden_layer_sizes': 30, 'learning_rate': 'adaptive', 'learning_rate_init': 0.0001, 'solver': 'sgd'}\n",
      "0.935 (+/-0.003) for {'activation': 'tanh', 'hidden_layer_sizes': 30, 'learning_rate': 'adaptive', 'learning_rate_init': 0.0003, 'solver': 'lbfgs'}\n",
      "0.822 (+/-0.009) for {'activation': 'tanh', 'hidden_layer_sizes': 30, 'learning_rate': 'adaptive', 'learning_rate_init': 0.0003, 'solver': 'sgd'}\n",
      "0.932 (+/-0.006) for {'activation': 'tanh', 'hidden_layer_sizes': 30, 'learning_rate': 'adaptive', 'learning_rate_init': 0.0005, 'solver': 'lbfgs'}\n",
      "0.834 (+/-0.007) for {'activation': 'tanh', 'hidden_layer_sizes': 30, 'learning_rate': 'adaptive', 'learning_rate_init': 0.0005, 'solver': 'sgd'}\n",
      "0.929 (+/-0.003) for {'activation': 'tanh', 'hidden_layer_sizes': 35, 'learning_rate': 'constant', 'learning_rate_init': 0.0001, 'solver': 'lbfgs'}\n",
      "0.788 (+/-0.009) for {'activation': 'tanh', 'hidden_layer_sizes': 35, 'learning_rate': 'constant', 'learning_rate_init': 0.0001, 'solver': 'sgd'}\n",
      "0.935 (+/-0.005) for {'activation': 'tanh', 'hidden_layer_sizes': 35, 'learning_rate': 'constant', 'learning_rate_init': 0.0003, 'solver': 'lbfgs'}\n",
      "0.820 (+/-0.009) for {'activation': 'tanh', 'hidden_layer_sizes': 35, 'learning_rate': 'constant', 'learning_rate_init': 0.0003, 'solver': 'sgd'}\n",
      "0.930 (+/-0.005) for {'activation': 'tanh', 'hidden_layer_sizes': 35, 'learning_rate': 'constant', 'learning_rate_init': 0.0005, 'solver': 'lbfgs'}\n",
      "0.833 (+/-0.004) for {'activation': 'tanh', 'hidden_layer_sizes': 35, 'learning_rate': 'constant', 'learning_rate_init': 0.0005, 'solver': 'sgd'}\n",
      "0.933 (+/-0.004) for {'activation': 'tanh', 'hidden_layer_sizes': 35, 'learning_rate': 'adaptive', 'learning_rate_init': 0.0001, 'solver': 'lbfgs'}\n",
      "0.785 (+/-0.003) for {'activation': 'tanh', 'hidden_layer_sizes': 35, 'learning_rate': 'adaptive', 'learning_rate_init': 0.0001, 'solver': 'sgd'}\n",
      "0.933 (+/-0.003) for {'activation': 'tanh', 'hidden_layer_sizes': 35, 'learning_rate': 'adaptive', 'learning_rate_init': 0.0003, 'solver': 'lbfgs'}\n",
      "0.823 (+/-0.009) for {'activation': 'tanh', 'hidden_layer_sizes': 35, 'learning_rate': 'adaptive', 'learning_rate_init': 0.0003, 'solver': 'sgd'}\n",
      "0.932 (+/-0.003) for {'activation': 'tanh', 'hidden_layer_sizes': 35, 'learning_rate': 'adaptive', 'learning_rate_init': 0.0005, 'solver': 'lbfgs'}\n",
      "0.833 (+/-0.006) for {'activation': 'tanh', 'hidden_layer_sizes': 35, 'learning_rate': 'adaptive', 'learning_rate_init': 0.0005, 'solver': 'sgd'}\n",
      "0.935 (+/-0.003) for {'activation': 'tanh', 'hidden_layer_sizes': 40, 'learning_rate': 'constant', 'learning_rate_init': 0.0001, 'solver': 'lbfgs'}\n",
      "0.788 (+/-0.008) for {'activation': 'tanh', 'hidden_layer_sizes': 40, 'learning_rate': 'constant', 'learning_rate_init': 0.0001, 'solver': 'sgd'}\n",
      "0.934 (+/-0.003) for {'activation': 'tanh', 'hidden_layer_sizes': 40, 'learning_rate': 'constant', 'learning_rate_init': 0.0003, 'solver': 'lbfgs'}\n",
      "0.825 (+/-0.010) for {'activation': 'tanh', 'hidden_layer_sizes': 40, 'learning_rate': 'constant', 'learning_rate_init': 0.0003, 'solver': 'sgd'}\n",
      "0.932 (+/-0.006) for {'activation': 'tanh', 'hidden_layer_sizes': 40, 'learning_rate': 'constant', 'learning_rate_init': 0.0005, 'solver': 'lbfgs'}\n",
      "0.833 (+/-0.005) for {'activation': 'tanh', 'hidden_layer_sizes': 40, 'learning_rate': 'constant', 'learning_rate_init': 0.0005, 'solver': 'sgd'}\n",
      "0.934 (+/-0.005) for {'activation': 'tanh', 'hidden_layer_sizes': 40, 'learning_rate': 'adaptive', 'learning_rate_init': 0.0001, 'solver': 'lbfgs'}\n",
      "0.783 (+/-0.011) for {'activation': 'tanh', 'hidden_layer_sizes': 40, 'learning_rate': 'adaptive', 'learning_rate_init': 0.0001, 'solver': 'sgd'}\n",
      "0.931 (+/-0.001) for {'activation': 'tanh', 'hidden_layer_sizes': 40, 'learning_rate': 'adaptive', 'learning_rate_init': 0.0003, 'solver': 'lbfgs'}\n",
      "0.822 (+/-0.009) for {'activation': 'tanh', 'hidden_layer_sizes': 40, 'learning_rate': 'adaptive', 'learning_rate_init': 0.0003, 'solver': 'sgd'}\n",
      "0.934 (+/-0.002) for {'activation': 'tanh', 'hidden_layer_sizes': 40, 'learning_rate': 'adaptive', 'learning_rate_init': 0.0005, 'solver': 'lbfgs'}\n",
      "0.834 (+/-0.006) for {'activation': 'tanh', 'hidden_layer_sizes': 40, 'learning_rate': 'adaptive', 'learning_rate_init': 0.0005, 'solver': 'sgd'}\n",
      "0.932 (+/-0.003) for {'activation': 'tanh', 'hidden_layer_sizes': 100, 'learning_rate': 'constant', 'learning_rate_init': 0.0001, 'solver': 'lbfgs'}\n",
      "0.785 (+/-0.010) for {'activation': 'tanh', 'hidden_layer_sizes': 100, 'learning_rate': 'constant', 'learning_rate_init': 0.0001, 'solver': 'sgd'}\n",
      "0.934 (+/-0.003) for {'activation': 'tanh', 'hidden_layer_sizes': 100, 'learning_rate': 'constant', 'learning_rate_init': 0.0003, 'solver': 'lbfgs'}\n",
      "0.824 (+/-0.008) for {'activation': 'tanh', 'hidden_layer_sizes': 100, 'learning_rate': 'constant', 'learning_rate_init': 0.0003, 'solver': 'sgd'}\n",
      "0.933 (+/-0.002) for {'activation': 'tanh', 'hidden_layer_sizes': 100, 'learning_rate': 'constant', 'learning_rate_init': 0.0005, 'solver': 'lbfgs'}\n",
      "0.833 (+/-0.005) for {'activation': 'tanh', 'hidden_layer_sizes': 100, 'learning_rate': 'constant', 'learning_rate_init': 0.0005, 'solver': 'sgd'}\n",
      "0.934 (+/-0.002) for {'activation': 'tanh', 'hidden_layer_sizes': 100, 'learning_rate': 'adaptive', 'learning_rate_init': 0.0001, 'solver': 'lbfgs'}\n",
      "0.784 (+/-0.008) for {'activation': 'tanh', 'hidden_layer_sizes': 100, 'learning_rate': 'adaptive', 'learning_rate_init': 0.0001, 'solver': 'sgd'}\n",
      "0.932 (+/-0.003) for {'activation': 'tanh', 'hidden_layer_sizes': 100, 'learning_rate': 'adaptive', 'learning_rate_init': 0.0003, 'solver': 'lbfgs'}\n",
      "0.824 (+/-0.009) for {'activation': 'tanh', 'hidden_layer_sizes': 100, 'learning_rate': 'adaptive', 'learning_rate_init': 0.0003, 'solver': 'sgd'}\n",
      "0.932 (+/-0.004) for {'activation': 'tanh', 'hidden_layer_sizes': 100, 'learning_rate': 'adaptive', 'learning_rate_init': 0.0005, 'solver': 'lbfgs'}\n",
      "0.835 (+/-0.006) for {'activation': 'tanh', 'hidden_layer_sizes': 100, 'learning_rate': 'adaptive', 'learning_rate_init': 0.0005, 'solver': 'sgd'}\n",
      "0.932 (+/-0.003) for {'activation': 'tanh', 'hidden_layer_sizes': 125, 'learning_rate': 'constant', 'learning_rate_init': 0.0001, 'solver': 'lbfgs'}\n",
      "0.789 (+/-0.009) for {'activation': 'tanh', 'hidden_layer_sizes': 125, 'learning_rate': 'constant', 'learning_rate_init': 0.0001, 'solver': 'sgd'}\n",
      "0.933 (+/-0.003) for {'activation': 'tanh', 'hidden_layer_sizes': 125, 'learning_rate': 'constant', 'learning_rate_init': 0.0003, 'solver': 'lbfgs'}\n",
      "0.826 (+/-0.007) for {'activation': 'tanh', 'hidden_layer_sizes': 125, 'learning_rate': 'constant', 'learning_rate_init': 0.0003, 'solver': 'sgd'}\n",
      "0.932 (+/-0.003) for {'activation': 'tanh', 'hidden_layer_sizes': 125, 'learning_rate': 'constant', 'learning_rate_init': 0.0005, 'solver': 'lbfgs'}\n",
      "0.833 (+/-0.005) for {'activation': 'tanh', 'hidden_layer_sizes': 125, 'learning_rate': 'constant', 'learning_rate_init': 0.0005, 'solver': 'sgd'}\n",
      "0.934 (+/-0.005) for {'activation': 'tanh', 'hidden_layer_sizes': 125, 'learning_rate': 'adaptive', 'learning_rate_init': 0.0001, 'solver': 'lbfgs'}\n",
      "0.791 (+/-0.009) for {'activation': 'tanh', 'hidden_layer_sizes': 125, 'learning_rate': 'adaptive', 'learning_rate_init': 0.0001, 'solver': 'sgd'}\n",
      "0.934 (+/-0.004) for {'activation': 'tanh', 'hidden_layer_sizes': 125, 'learning_rate': 'adaptive', 'learning_rate_init': 0.0003, 'solver': 'lbfgs'}\n",
      "0.823 (+/-0.009) for {'activation': 'tanh', 'hidden_layer_sizes': 125, 'learning_rate': 'adaptive', 'learning_rate_init': 0.0003, 'solver': 'sgd'}\n",
      "0.933 (+/-0.001) for {'activation': 'tanh', 'hidden_layer_sizes': 125, 'learning_rate': 'adaptive', 'learning_rate_init': 0.0005, 'solver': 'lbfgs'}\n",
      "0.834 (+/-0.005) for {'activation': 'tanh', 'hidden_layer_sizes': 125, 'learning_rate': 'adaptive', 'learning_rate_init': 0.0005, 'solver': 'sgd'}\n",
      "0.934 (+/-0.003) for {'activation': 'tanh', 'hidden_layer_sizes': 150, 'learning_rate': 'constant', 'learning_rate_init': 0.0001, 'solver': 'lbfgs'}\n",
      "0.792 (+/-0.011) for {'activation': 'tanh', 'hidden_layer_sizes': 150, 'learning_rate': 'constant', 'learning_rate_init': 0.0001, 'solver': 'sgd'}\n",
      "0.932 (+/-0.001) for {'activation': 'tanh', 'hidden_layer_sizes': 150, 'learning_rate': 'constant', 'learning_rate_init': 0.0003, 'solver': 'lbfgs'}\n",
      "0.826 (+/-0.007) for {'activation': 'tanh', 'hidden_layer_sizes': 150, 'learning_rate': 'constant', 'learning_rate_init': 0.0003, 'solver': 'sgd'}\n",
      "0.934 (+/-0.003) for {'activation': 'tanh', 'hidden_layer_sizes': 150, 'learning_rate': 'constant', 'learning_rate_init': 0.0005, 'solver': 'lbfgs'}\n",
      "0.833 (+/-0.004) for {'activation': 'tanh', 'hidden_layer_sizes': 150, 'learning_rate': 'constant', 'learning_rate_init': 0.0005, 'solver': 'sgd'}\n",
      "0.931 (+/-0.002) for {'activation': 'tanh', 'hidden_layer_sizes': 150, 'learning_rate': 'adaptive', 'learning_rate_init': 0.0001, 'solver': 'lbfgs'}\n",
      "0.784 (+/-0.007) for {'activation': 'tanh', 'hidden_layer_sizes': 150, 'learning_rate': 'adaptive', 'learning_rate_init': 0.0001, 'solver': 'sgd'}\n",
      "0.935 (+/-0.005) for {'activation': 'tanh', 'hidden_layer_sizes': 150, 'learning_rate': 'adaptive', 'learning_rate_init': 0.0003, 'solver': 'lbfgs'}\n",
      "0.826 (+/-0.008) for {'activation': 'tanh', 'hidden_layer_sizes': 150, 'learning_rate': 'adaptive', 'learning_rate_init': 0.0003, 'solver': 'sgd'}\n",
      "0.934 (+/-0.005) for {'activation': 'tanh', 'hidden_layer_sizes': 150, 'learning_rate': 'adaptive', 'learning_rate_init': 0.0005, 'solver': 'lbfgs'}\n",
      "0.832 (+/-0.005) for {'activation': 'tanh', 'hidden_layer_sizes': 150, 'learning_rate': 'adaptive', 'learning_rate_init': 0.0005, 'solver': 'sgd'}\n",
      "0.929 (+/-0.002) for {'activation': 'logistic', 'hidden_layer_sizes': 30, 'learning_rate': 'constant', 'learning_rate_init': 0.0001, 'solver': 'lbfgs'}\n",
      "0.550 (+/-0.009) for {'activation': 'logistic', 'hidden_layer_sizes': 30, 'learning_rate': 'constant', 'learning_rate_init': 0.0001, 'solver': 'sgd'}\n",
      "0.929 (+/-0.004) for {'activation': 'logistic', 'hidden_layer_sizes': 30, 'learning_rate': 'constant', 'learning_rate_init': 0.0003, 'solver': 'lbfgs'}\n",
      "0.756 (+/-0.016) for {'activation': 'logistic', 'hidden_layer_sizes': 30, 'learning_rate': 'constant', 'learning_rate_init': 0.0003, 'solver': 'sgd'}\n",
      "0.928 (+/-0.005) for {'activation': 'logistic', 'hidden_layer_sizes': 30, 'learning_rate': 'constant', 'learning_rate_init': 0.0005, 'solver': 'lbfgs'}\n",
      "0.793 (+/-0.005) for {'activation': 'logistic', 'hidden_layer_sizes': 30, 'learning_rate': 'constant', 'learning_rate_init': 0.0005, 'solver': 'sgd'}\n",
      "0.931 (+/-0.001) for {'activation': 'logistic', 'hidden_layer_sizes': 30, 'learning_rate': 'adaptive', 'learning_rate_init': 0.0001, 'solver': 'lbfgs'}\n",
      "0.552 (+/-0.013) for {'activation': 'logistic', 'hidden_layer_sizes': 30, 'learning_rate': 'adaptive', 'learning_rate_init': 0.0001, 'solver': 'sgd'}\n",
      "0.926 (+/-0.003) for {'activation': 'logistic', 'hidden_layer_sizes': 30, 'learning_rate': 'adaptive', 'learning_rate_init': 0.0003, 'solver': 'lbfgs'}\n",
      "0.750 (+/-0.013) for {'activation': 'logistic', 'hidden_layer_sizes': 30, 'learning_rate': 'adaptive', 'learning_rate_init': 0.0003, 'solver': 'sgd'}\n",
      "0.926 (+/-0.003) for {'activation': 'logistic', 'hidden_layer_sizes': 30, 'learning_rate': 'adaptive', 'learning_rate_init': 0.0005, 'solver': 'lbfgs'}\n",
      "0.794 (+/-0.006) for {'activation': 'logistic', 'hidden_layer_sizes': 30, 'learning_rate': 'adaptive', 'learning_rate_init': 0.0005, 'solver': 'sgd'}\n",
      "0.930 (+/-0.003) for {'activation': 'logistic', 'hidden_layer_sizes': 35, 'learning_rate': 'constant', 'learning_rate_init': 0.0001, 'solver': 'lbfgs'}\n",
      "0.547 (+/-0.005) for {'activation': 'logistic', 'hidden_layer_sizes': 35, 'learning_rate': 'constant', 'learning_rate_init': 0.0001, 'solver': 'sgd'}\n",
      "0.929 (+/-0.003) for {'activation': 'logistic', 'hidden_layer_sizes': 35, 'learning_rate': 'constant', 'learning_rate_init': 0.0003, 'solver': 'lbfgs'}\n",
      "0.760 (+/-0.004) for {'activation': 'logistic', 'hidden_layer_sizes': 35, 'learning_rate': 'constant', 'learning_rate_init': 0.0003, 'solver': 'sgd'}\n",
      "0.925 (+/-0.004) for {'activation': 'logistic', 'hidden_layer_sizes': 35, 'learning_rate': 'constant', 'learning_rate_init': 0.0005, 'solver': 'lbfgs'}\n",
      "0.795 (+/-0.007) for {'activation': 'logistic', 'hidden_layer_sizes': 35, 'learning_rate': 'constant', 'learning_rate_init': 0.0005, 'solver': 'sgd'}\n",
      "0.929 (+/-0.004) for {'activation': 'logistic', 'hidden_layer_sizes': 35, 'learning_rate': 'adaptive', 'learning_rate_init': 0.0001, 'solver': 'lbfgs'}\n",
      "0.570 (+/-0.036) for {'activation': 'logistic', 'hidden_layer_sizes': 35, 'learning_rate': 'adaptive', 'learning_rate_init': 0.0001, 'solver': 'sgd'}\n",
      "0.928 (+/-0.004) for {'activation': 'logistic', 'hidden_layer_sizes': 35, 'learning_rate': 'adaptive', 'learning_rate_init': 0.0003, 'solver': 'lbfgs'}\n",
      "0.760 (+/-0.012) for {'activation': 'logistic', 'hidden_layer_sizes': 35, 'learning_rate': 'adaptive', 'learning_rate_init': 0.0003, 'solver': 'sgd'}\n",
      "0.929 (+/-0.003) for {'activation': 'logistic', 'hidden_layer_sizes': 35, 'learning_rate': 'adaptive', 'learning_rate_init': 0.0005, 'solver': 'lbfgs'}\n",
      "0.798 (+/-0.008) for {'activation': 'logistic', 'hidden_layer_sizes': 35, 'learning_rate': 'adaptive', 'learning_rate_init': 0.0005, 'solver': 'sgd'}\n",
      "0.927 (+/-0.002) for {'activation': 'logistic', 'hidden_layer_sizes': 40, 'learning_rate': 'constant', 'learning_rate_init': 0.0001, 'solver': 'lbfgs'}\n",
      "0.555 (+/-0.014) for {'activation': 'logistic', 'hidden_layer_sizes': 40, 'learning_rate': 'constant', 'learning_rate_init': 0.0001, 'solver': 'sgd'}\n",
      "0.925 (+/-0.003) for {'activation': 'logistic', 'hidden_layer_sizes': 40, 'learning_rate': 'constant', 'learning_rate_init': 0.0003, 'solver': 'lbfgs'}\n",
      "0.764 (+/-0.006) for {'activation': 'logistic', 'hidden_layer_sizes': 40, 'learning_rate': 'constant', 'learning_rate_init': 0.0003, 'solver': 'sgd'}\n",
      "0.931 (+/-0.002) for {'activation': 'logistic', 'hidden_layer_sizes': 40, 'learning_rate': 'constant', 'learning_rate_init': 0.0005, 'solver': 'lbfgs'}\n",
      "0.797 (+/-0.006) for {'activation': 'logistic', 'hidden_layer_sizes': 40, 'learning_rate': 'constant', 'learning_rate_init': 0.0005, 'solver': 'sgd'}\n",
      "0.927 (+/-0.007) for {'activation': 'logistic', 'hidden_layer_sizes': 40, 'learning_rate': 'adaptive', 'learning_rate_init': 0.0001, 'solver': 'lbfgs'}\n",
      "0.557 (+/-0.011) for {'activation': 'logistic', 'hidden_layer_sizes': 40, 'learning_rate': 'adaptive', 'learning_rate_init': 0.0001, 'solver': 'sgd'}\n",
      "0.931 (+/-0.003) for {'activation': 'logistic', 'hidden_layer_sizes': 40, 'learning_rate': 'adaptive', 'learning_rate_init': 0.0003, 'solver': 'lbfgs'}\n",
      "0.764 (+/-0.014) for {'activation': 'logistic', 'hidden_layer_sizes': 40, 'learning_rate': 'adaptive', 'learning_rate_init': 0.0003, 'solver': 'sgd'}\n",
      "0.928 (+/-0.004) for {'activation': 'logistic', 'hidden_layer_sizes': 40, 'learning_rate': 'adaptive', 'learning_rate_init': 0.0005, 'solver': 'lbfgs'}\n",
      "0.800 (+/-0.007) for {'activation': 'logistic', 'hidden_layer_sizes': 40, 'learning_rate': 'adaptive', 'learning_rate_init': 0.0005, 'solver': 'sgd'}\n",
      "0.928 (+/-0.004) for {'activation': 'logistic', 'hidden_layer_sizes': 100, 'learning_rate': 'constant', 'learning_rate_init': 0.0001, 'solver': 'lbfgs'}\n",
      "0.563 (+/-0.020) for {'activation': 'logistic', 'hidden_layer_sizes': 100, 'learning_rate': 'constant', 'learning_rate_init': 0.0001, 'solver': 'sgd'}\n",
      "0.926 (+/-0.004) for {'activation': 'logistic', 'hidden_layer_sizes': 100, 'learning_rate': 'constant', 'learning_rate_init': 0.0003, 'solver': 'lbfgs'}\n",
      "0.777 (+/-0.005) for {'activation': 'logistic', 'hidden_layer_sizes': 100, 'learning_rate': 'constant', 'learning_rate_init': 0.0003, 'solver': 'sgd'}\n",
      "0.926 (+/-0.002) for {'activation': 'logistic', 'hidden_layer_sizes': 100, 'learning_rate': 'constant', 'learning_rate_init': 0.0005, 'solver': 'lbfgs'}\n",
      "0.803 (+/-0.006) for {'activation': 'logistic', 'hidden_layer_sizes': 100, 'learning_rate': 'constant', 'learning_rate_init': 0.0005, 'solver': 'sgd'}\n",
      "0.927 (+/-0.001) for {'activation': 'logistic', 'hidden_layer_sizes': 100, 'learning_rate': 'adaptive', 'learning_rate_init': 0.0001, 'solver': 'lbfgs'}\n",
      "0.564 (+/-0.021) for {'activation': 'logistic', 'hidden_layer_sizes': 100, 'learning_rate': 'adaptive', 'learning_rate_init': 0.0001, 'solver': 'sgd'}\n",
      "0.927 (+/-0.004) for {'activation': 'logistic', 'hidden_layer_sizes': 100, 'learning_rate': 'adaptive', 'learning_rate_init': 0.0003, 'solver': 'lbfgs'}\n",
      "0.783 (+/-0.008) for {'activation': 'logistic', 'hidden_layer_sizes': 100, 'learning_rate': 'adaptive', 'learning_rate_init': 0.0003, 'solver': 'sgd'}\n",
      "0.929 (+/-0.001) for {'activation': 'logistic', 'hidden_layer_sizes': 100, 'learning_rate': 'adaptive', 'learning_rate_init': 0.0005, 'solver': 'lbfgs'}\n",
      "0.804 (+/-0.005) for {'activation': 'logistic', 'hidden_layer_sizes': 100, 'learning_rate': 'adaptive', 'learning_rate_init': 0.0005, 'solver': 'sgd'}\n",
      "0.929 (+/-0.002) for {'activation': 'logistic', 'hidden_layer_sizes': 125, 'learning_rate': 'constant', 'learning_rate_init': 0.0001, 'solver': 'lbfgs'}\n",
      "0.563 (+/-0.011) for {'activation': 'logistic', 'hidden_layer_sizes': 125, 'learning_rate': 'constant', 'learning_rate_init': 0.0001, 'solver': 'sgd'}\n",
      "0.929 (+/-0.004) for {'activation': 'logistic', 'hidden_layer_sizes': 125, 'learning_rate': 'constant', 'learning_rate_init': 0.0003, 'solver': 'lbfgs'}\n",
      "0.785 (+/-0.006) for {'activation': 'logistic', 'hidden_layer_sizes': 125, 'learning_rate': 'constant', 'learning_rate_init': 0.0003, 'solver': 'sgd'}\n",
      "0.926 (+/-0.002) for {'activation': 'logistic', 'hidden_layer_sizes': 125, 'learning_rate': 'constant', 'learning_rate_init': 0.0005, 'solver': 'lbfgs'}\n",
      "0.806 (+/-0.005) for {'activation': 'logistic', 'hidden_layer_sizes': 125, 'learning_rate': 'constant', 'learning_rate_init': 0.0005, 'solver': 'sgd'}\n",
      "0.928 (+/-0.004) for {'activation': 'logistic', 'hidden_layer_sizes': 125, 'learning_rate': 'adaptive', 'learning_rate_init': 0.0001, 'solver': 'lbfgs'}\n",
      "0.581 (+/-0.017) for {'activation': 'logistic', 'hidden_layer_sizes': 125, 'learning_rate': 'adaptive', 'learning_rate_init': 0.0001, 'solver': 'sgd'}\n",
      "0.928 (+/-0.004) for {'activation': 'logistic', 'hidden_layer_sizes': 125, 'learning_rate': 'adaptive', 'learning_rate_init': 0.0003, 'solver': 'lbfgs'}\n",
      "0.781 (+/-0.006) for {'activation': 'logistic', 'hidden_layer_sizes': 125, 'learning_rate': 'adaptive', 'learning_rate_init': 0.0003, 'solver': 'sgd'}\n",
      "0.926 (+/-0.007) for {'activation': 'logistic', 'hidden_layer_sizes': 125, 'learning_rate': 'adaptive', 'learning_rate_init': 0.0005, 'solver': 'lbfgs'}\n",
      "0.807 (+/-0.007) for {'activation': 'logistic', 'hidden_layer_sizes': 125, 'learning_rate': 'adaptive', 'learning_rate_init': 0.0005, 'solver': 'sgd'}\n",
      "0.926 (+/-0.001) for {'activation': 'logistic', 'hidden_layer_sizes': 150, 'learning_rate': 'constant', 'learning_rate_init': 0.0001, 'solver': 'lbfgs'}\n",
      "0.571 (+/-0.011) for {'activation': 'logistic', 'hidden_layer_sizes': 150, 'learning_rate': 'constant', 'learning_rate_init': 0.0001, 'solver': 'sgd'}\n",
      "0.925 (+/-0.003) for {'activation': 'logistic', 'hidden_layer_sizes': 150, 'learning_rate': 'constant', 'learning_rate_init': 0.0003, 'solver': 'lbfgs'}\n",
      "0.785 (+/-0.004) for {'activation': 'logistic', 'hidden_layer_sizes': 150, 'learning_rate': 'constant', 'learning_rate_init': 0.0003, 'solver': 'sgd'}\n",
      "0.926 (+/-0.006) for {'activation': 'logistic', 'hidden_layer_sizes': 150, 'learning_rate': 'constant', 'learning_rate_init': 0.0005, 'solver': 'lbfgs'}\n",
      "0.806 (+/-0.007) for {'activation': 'logistic', 'hidden_layer_sizes': 150, 'learning_rate': 'constant', 'learning_rate_init': 0.0005, 'solver': 'sgd'}\n",
      "0.926 (+/-0.002) for {'activation': 'logistic', 'hidden_layer_sizes': 150, 'learning_rate': 'adaptive', 'learning_rate_init': 0.0001, 'solver': 'lbfgs'}\n",
      "0.574 (+/-0.024) for {'activation': 'logistic', 'hidden_layer_sizes': 150, 'learning_rate': 'adaptive', 'learning_rate_init': 0.0001, 'solver': 'sgd'}\n",
      "0.928 (+/-0.004) for {'activation': 'logistic', 'hidden_layer_sizes': 150, 'learning_rate': 'adaptive', 'learning_rate_init': 0.0003, 'solver': 'lbfgs'}\n",
      "0.785 (+/-0.007) for {'activation': 'logistic', 'hidden_layer_sizes': 150, 'learning_rate': 'adaptive', 'learning_rate_init': 0.0003, 'solver': 'sgd'}\n",
      "0.925 (+/-0.003) for {'activation': 'logistic', 'hidden_layer_sizes': 150, 'learning_rate': 'adaptive', 'learning_rate_init': 0.0005, 'solver': 'lbfgs'}\n",
      "0.807 (+/-0.005) for {'activation': 'logistic', 'hidden_layer_sizes': 150, 'learning_rate': 'adaptive', 'learning_rate_init': 0.0005, 'solver': 'sgd'}\n"
     ]
    }
   ],
   "source": [
    "#Grid Search\n",
    "droplist = [ 'Age']\n",
    "X_nn = X.drop(columns=droplist)\n",
    "\n",
    "y_nn = df['Churn']\n",
    "\n",
    "model_nn = MLPClassifier()\n",
    "\n",
    "parameter_space_nn = {\n",
    "    'hidden_layer_sizes': [30,35,40,100,125,150],\n",
    "    'activation': [ 'tanh','logistic'],\n",
    "    'solver': [ 'lbfgs','sgd'],\n",
    "    'learning_rate_init': [0.0001,0.0003,0.0005],\n",
    "    'learning_rate':[ 'constant','adaptive']\n",
    "    \n",
    "}\n",
    "\n",
    "clf = GridSearchCV(model_nn, parameter_space_nn)\n",
    "\n",
    "X_train_nn, X_val_nn, y_train_nn, y_val_nn = train_test_split(X_nn, y_nn, test_size = 0.2, random_state = 150, shuffle = True, stratify = y)\n",
    "\n",
    "\n",
    "# Create dummies and remove one of the variables (to avoid multicollinearity)\n",
    "X_train_dummies_nn = pd.get_dummies(X_train_nn, columns=['Longevity', 'TypeTravel', 'RoomType', 'Gender'], drop_first=True)\n",
    "X_val_dummies_nn = pd.get_dummies(X_val_nn, columns=['Longevity', 'TypeTravel', 'RoomType', 'Gender'], drop_first=True)\n",
    "\n",
    "# Data Scaling\n",
    "# Apply MinMaxScaler\n",
    "scaler_nn = MinMaxScaler().fit(X_train_dummies_nn)\n",
    "X_train_scaled_nn = scaler_nn.transform(X_train_dummies_nn) \n",
    "X_val_scaled_nn = scaler_nn.transform(X_val_dummies_nn) # Scaling with 'scaler' from train data\n",
    "\n",
    "\n",
    "clf.fit(X_train_scaled_nn, y_train_nn)\n",
    "\n",
    "# Best parameter set\n",
    "print('------------------------------------------------------------------------------------------------------------------------')\n",
    "print('Best parameters found:\\n', clf.best_params_)\n",
    "print('------------------------------------------------------------------------------------------------------------------------')\n",
    "\n",
    "# All results\n",
    "means = clf.cv_results_['mean_test_score']\n",
    "stds = clf.cv_results_['std_test_score']\n",
    "for mean, std, params in zip(means, stds, clf.cv_results_['params']):\n",
    "    print(\"%0.3f (+/-%0.03f) for %r\" % (mean, std , params))"
   ]
  },
  {
   "cell_type": "code",
   "execution_count": 199,
   "id": "a0430a77",
   "metadata": {},
   "outputs": [
    {
     "data": {
      "text/plain": [
       "('0.95+/-0.0', '0.926+/-0.0')"
      ]
     },
     "execution_count": 199,
     "metadata": {},
     "output_type": "execute_result"
    }
   ],
   "source": [
    "# List of features to drop\n",
    "\n",
    "droplist = ['Age'] #, 'Location','Wifi','CheckOut','Cleanliness','BarService'\n",
    "X_nn = X.drop(columns=droplist)\n",
    "\n",
    "y_nn = df['Churn']\n",
    "\n",
    "# Model to aplly\n",
    "model_nn = MLPClassifier(activation= 'tanh', hidden_layer_sizes= 125, learning_rate_init= 0.0003, solver= 'lbfgs') #porque é variavel categorica se fosse variavel continua era MLPRegressor\n",
    "#model = MLPClassifier()\n",
    "\n",
    "# Model evaluation\n",
    "df_evaluation = pd.DataFrame(columns = ['Time','Train','Validation', 'Iterations'], index = ['Raw'])\n",
    "compare_models(X_nn, y_nn, model_nn)\n",
    "\n",
    "\n"
   ]
  },
  {
   "cell_type": "code",
   "execution_count": 201,
   "id": "6ad0fdd5",
   "metadata": {
    "scrolled": false
   },
   "outputs": [
    {
     "name": "stdout",
     "output_type": "stream",
     "text": [
      "___________________________________________________________________________________________________________\n",
      "                                                     TRAIN                                                 \n",
      "-----------------------------------------------------------------------------------------------------------\n",
      "              precision    recall  f1-score   support\n",
      "\n",
      "           0       0.96      0.95      0.95      6762\n",
      "           1       0.94      0.95      0.95      5675\n",
      "\n",
      "    accuracy                           0.95     12437\n",
      "   macro avg       0.95      0.95      0.95     12437\n",
      "weighted avg       0.95      0.95      0.95     12437\n",
      "\n",
      "[[6437  325]\n",
      " [ 284 5391]]\n",
      "___________________________________________________________________________________________________________\n",
      "                                                   VALIDATION                                              \n",
      "-----------------------------------------------------------------------------------------------------------\n",
      "              precision    recall  f1-score   support\n",
      "\n",
      "           0       0.94      0.95      0.95      1691\n",
      "           1       0.94      0.93      0.93      1419\n",
      "\n",
      "    accuracy                           0.94      3110\n",
      "   macro avg       0.94      0.94      0.94      3110\n",
      "weighted avg       0.94      0.94      0.94      3110\n",
      "\n",
      "[[1599   92]\n",
      " [  94 1325]]\n"
     ]
    }
   ],
   "source": [
    "X_train_nn, X_val_nn, y_train_nn, y_val_nn = train_test_split(X_nn, y_nn, test_size = 0.2, random_state = 150, shuffle = True, stratify = y)\n",
    "\n",
    "\n",
    "# Create dummies and remove one of the variables (to avoid multicollinearity)\n",
    "X_train_dummies_nn = pd.get_dummies(X_train_nn, columns=['Longevity', 'TypeTravel', 'RoomType', 'Gender'], drop_first=True)\n",
    "X_val_dummies_nn = pd.get_dummies(X_val_nn, columns=['Longevity', 'TypeTravel', 'RoomType', 'Gender'], drop_first=True)\n",
    "\n",
    "# Data Scaling\n",
    "# Apply MinMaxScaler\n",
    "scaler_nn = MinMaxScaler().fit(X_train_dummies_nn)\n",
    "X_train_scaled_nn = scaler_nn.transform(X_train_dummies_nn) \n",
    "X_val_scaled_nn = scaler_nn.transform(X_val_dummies_nn) # Scaling with 'scaler' from train data\n",
    "\n",
    "labels_train_nn = model_nn.predict(X_train_scaled_nn)\n",
    "labels_val_nn = model_nn.predict(X_val_scaled_nn)\n",
    "\n",
    "metrics(y_train = y_train_nn, pred_train = labels_train_nn, y_val = y_val_nn, pred_val = labels_val_nn)"
   ]
  },
  {
   "cell_type": "markdown",
   "id": "7504648f",
   "metadata": {},
   "source": [
    "#### Test the model with unseen data - Kaggle Submission\n",
    "\n",
    "f1-score result -> 93.5 %\n",
    "\n",
    "#### MLP Classifier model Results >> fi1-score - Train: 94.9 % | Val: 92.6 % | Test: 93.5 %"
   ]
  },
  {
   "cell_type": "markdown",
   "id": "b76e4e03",
   "metadata": {},
   "source": [
    "<a id=\"GBClassifier\"> </a>\n",
    "\n",
    "#### <font color = '#cc9900'> 4.8. Assess using Gradient Boosting Classifier </font>\n",
    "\n",
    "[Back to Contents](#toc)"
   ]
  },
  {
   "cell_type": "markdown",
   "id": "e0a149e7",
   "metadata": {},
   "source": [
    "Gradient boosting classifiers are a group of machine learning algorithms that combine many weak learning models together to create a strong predictive model. Decision trees are usually used when doing gradient boosting. Gradient boosting models are becoming popular because of their effectiveness at classifying complex datasets\n",
    "\n",
    "`loss`- The loss function to be optimized.<br>\n",
    "`learning_ratefloat` - Learning rate shrinks the contribution of each tree by learning_rate. There is a trade-off between learning_rate and n_estimators.<br>\n",
    "`n_estimators` - The number of boosting stages to perform. Gradient boosting is fairly robust to over-fitting so a large number usually results in better performance.<br>\n",
    "`max_depth` - The maximum depth of the individual regression estimators. The maximum depth limits the number of nodes in the tree. Tune this parameter for best performance; the best value depends on the interaction of the input variables.<br>\n",
    "`criterion` - The function to measure the quality of a split."
   ]
  },
  {
   "cell_type": "code",
   "execution_count": 228,
   "id": "3c8e4c91",
   "metadata": {},
   "outputs": [],
   "source": [
    "# List of features to drop\n",
    "\n",
    "droplist = ['Age']\n",
    "X_gbc = X.drop(columns=droplist)\n",
    "\n",
    "y_gbc = df['Churn']"
   ]
  },
  {
   "cell_type": "markdown",
   "id": "83da7d5f",
   "metadata": {},
   "source": [
    "__`Step 1`__ Run a GridSearchCV to determine the best parameters for our model. \n",
    "\n",
    "Both parameter intervals and features considered here, were a result of different test and trials performed."
   ]
  },
  {
   "cell_type": "code",
   "execution_count": 244,
   "id": "ede649f4",
   "metadata": {},
   "outputs": [
    {
     "ename": "KeyboardInterrupt",
     "evalue": "",
     "output_type": "error",
     "traceback": [
      "\u001b[1;31m---------------------------------------------------------------------------\u001b[0m",
      "\u001b[1;31mKeyboardInterrupt\u001b[0m                         Traceback (most recent call last)",
      "\u001b[1;32m~\\AppData\\Local\\Temp/ipykernel_6924/757016687.py\u001b[0m in \u001b[0;36m<module>\u001b[1;34m\u001b[0m\n\u001b[0;32m     28\u001b[0m \u001b[1;33m\u001b[0m\u001b[0m\n\u001b[0;32m     29\u001b[0m \u001b[1;33m\u001b[0m\u001b[0m\n\u001b[1;32m---> 30\u001b[1;33m \u001b[0mclf\u001b[0m\u001b[1;33m.\u001b[0m\u001b[0mfit\u001b[0m\u001b[1;33m(\u001b[0m\u001b[0mX_train_scaled_gbc\u001b[0m\u001b[1;33m,\u001b[0m \u001b[0my_train_gbc\u001b[0m\u001b[1;33m)\u001b[0m\u001b[1;33m\u001b[0m\u001b[1;33m\u001b[0m\u001b[0m\n\u001b[0m\u001b[0;32m     31\u001b[0m \u001b[1;33m\u001b[0m\u001b[0m\n\u001b[0;32m     32\u001b[0m \u001b[1;31m# Best parameter set\u001b[0m\u001b[1;33m\u001b[0m\u001b[1;33m\u001b[0m\u001b[0m\n",
      "\u001b[1;32m~\\Anaconda3\\lib\\site-packages\\sklearn\\utils\\validation.py\u001b[0m in \u001b[0;36minner_f\u001b[1;34m(*args, **kwargs)\u001b[0m\n\u001b[0;32m     61\u001b[0m             \u001b[0mextra_args\u001b[0m \u001b[1;33m=\u001b[0m \u001b[0mlen\u001b[0m\u001b[1;33m(\u001b[0m\u001b[0margs\u001b[0m\u001b[1;33m)\u001b[0m \u001b[1;33m-\u001b[0m \u001b[0mlen\u001b[0m\u001b[1;33m(\u001b[0m\u001b[0mall_args\u001b[0m\u001b[1;33m)\u001b[0m\u001b[1;33m\u001b[0m\u001b[1;33m\u001b[0m\u001b[0m\n\u001b[0;32m     62\u001b[0m             \u001b[1;32mif\u001b[0m \u001b[0mextra_args\u001b[0m \u001b[1;33m<=\u001b[0m \u001b[1;36m0\u001b[0m\u001b[1;33m:\u001b[0m\u001b[1;33m\u001b[0m\u001b[1;33m\u001b[0m\u001b[0m\n\u001b[1;32m---> 63\u001b[1;33m                 \u001b[1;32mreturn\u001b[0m \u001b[0mf\u001b[0m\u001b[1;33m(\u001b[0m\u001b[1;33m*\u001b[0m\u001b[0margs\u001b[0m\u001b[1;33m,\u001b[0m \u001b[1;33m**\u001b[0m\u001b[0mkwargs\u001b[0m\u001b[1;33m)\u001b[0m\u001b[1;33m\u001b[0m\u001b[1;33m\u001b[0m\u001b[0m\n\u001b[0m\u001b[0;32m     64\u001b[0m \u001b[1;33m\u001b[0m\u001b[0m\n\u001b[0;32m     65\u001b[0m             \u001b[1;31m# extra_args > 0\u001b[0m\u001b[1;33m\u001b[0m\u001b[1;33m\u001b[0m\u001b[0m\n",
      "\u001b[1;32m~\\Anaconda3\\lib\\site-packages\\sklearn\\model_selection\\_search.py\u001b[0m in \u001b[0;36mfit\u001b[1;34m(self, X, y, groups, **fit_params)\u001b[0m\n\u001b[0;32m    839\u001b[0m                 \u001b[1;32mreturn\u001b[0m \u001b[0mresults\u001b[0m\u001b[1;33m\u001b[0m\u001b[1;33m\u001b[0m\u001b[0m\n\u001b[0;32m    840\u001b[0m \u001b[1;33m\u001b[0m\u001b[0m\n\u001b[1;32m--> 841\u001b[1;33m             \u001b[0mself\u001b[0m\u001b[1;33m.\u001b[0m\u001b[0m_run_search\u001b[0m\u001b[1;33m(\u001b[0m\u001b[0mevaluate_candidates\u001b[0m\u001b[1;33m)\u001b[0m\u001b[1;33m\u001b[0m\u001b[1;33m\u001b[0m\u001b[0m\n\u001b[0m\u001b[0;32m    842\u001b[0m \u001b[1;33m\u001b[0m\u001b[0m\n\u001b[0;32m    843\u001b[0m             \u001b[1;31m# multimetric is determined here because in the case of a callable\u001b[0m\u001b[1;33m\u001b[0m\u001b[1;33m\u001b[0m\u001b[0m\n",
      "\u001b[1;32m~\\Anaconda3\\lib\\site-packages\\sklearn\\model_selection\\_search.py\u001b[0m in \u001b[0;36m_run_search\u001b[1;34m(self, evaluate_candidates)\u001b[0m\n\u001b[0;32m   1294\u001b[0m     \u001b[1;32mdef\u001b[0m \u001b[0m_run_search\u001b[0m\u001b[1;33m(\u001b[0m\u001b[0mself\u001b[0m\u001b[1;33m,\u001b[0m \u001b[0mevaluate_candidates\u001b[0m\u001b[1;33m)\u001b[0m\u001b[1;33m:\u001b[0m\u001b[1;33m\u001b[0m\u001b[1;33m\u001b[0m\u001b[0m\n\u001b[0;32m   1295\u001b[0m         \u001b[1;34m\"\"\"Search all candidates in param_grid\"\"\"\u001b[0m\u001b[1;33m\u001b[0m\u001b[1;33m\u001b[0m\u001b[0m\n\u001b[1;32m-> 1296\u001b[1;33m         \u001b[0mevaluate_candidates\u001b[0m\u001b[1;33m(\u001b[0m\u001b[0mParameterGrid\u001b[0m\u001b[1;33m(\u001b[0m\u001b[0mself\u001b[0m\u001b[1;33m.\u001b[0m\u001b[0mparam_grid\u001b[0m\u001b[1;33m)\u001b[0m\u001b[1;33m)\u001b[0m\u001b[1;33m\u001b[0m\u001b[1;33m\u001b[0m\u001b[0m\n\u001b[0m\u001b[0;32m   1297\u001b[0m \u001b[1;33m\u001b[0m\u001b[0m\n\u001b[0;32m   1298\u001b[0m \u001b[1;33m\u001b[0m\u001b[0m\n",
      "\u001b[1;32m~\\Anaconda3\\lib\\site-packages\\sklearn\\model_selection\\_search.py\u001b[0m in \u001b[0;36mevaluate_candidates\u001b[1;34m(candidate_params, cv, more_results)\u001b[0m\n\u001b[0;32m    793\u001b[0m                               n_splits, n_candidates, n_candidates * n_splits))\n\u001b[0;32m    794\u001b[0m \u001b[1;33m\u001b[0m\u001b[0m\n\u001b[1;32m--> 795\u001b[1;33m                 out = parallel(delayed(_fit_and_score)(clone(base_estimator),\n\u001b[0m\u001b[0;32m    796\u001b[0m                                                        \u001b[0mX\u001b[0m\u001b[1;33m,\u001b[0m \u001b[0my\u001b[0m\u001b[1;33m,\u001b[0m\u001b[1;33m\u001b[0m\u001b[1;33m\u001b[0m\u001b[0m\n\u001b[0;32m    797\u001b[0m                                                        \u001b[0mtrain\u001b[0m\u001b[1;33m=\u001b[0m\u001b[0mtrain\u001b[0m\u001b[1;33m,\u001b[0m \u001b[0mtest\u001b[0m\u001b[1;33m=\u001b[0m\u001b[0mtest\u001b[0m\u001b[1;33m,\u001b[0m\u001b[1;33m\u001b[0m\u001b[1;33m\u001b[0m\u001b[0m\n",
      "\u001b[1;32m~\\Anaconda3\\lib\\site-packages\\joblib\\parallel.py\u001b[0m in \u001b[0;36m__call__\u001b[1;34m(self, iterable)\u001b[0m\n\u001b[0;32m   1044\u001b[0m                 \u001b[0mself\u001b[0m\u001b[1;33m.\u001b[0m\u001b[0m_iterating\u001b[0m \u001b[1;33m=\u001b[0m \u001b[0mself\u001b[0m\u001b[1;33m.\u001b[0m\u001b[0m_original_iterator\u001b[0m \u001b[1;32mis\u001b[0m \u001b[1;32mnot\u001b[0m \u001b[1;32mNone\u001b[0m\u001b[1;33m\u001b[0m\u001b[1;33m\u001b[0m\u001b[0m\n\u001b[0;32m   1045\u001b[0m \u001b[1;33m\u001b[0m\u001b[0m\n\u001b[1;32m-> 1046\u001b[1;33m             \u001b[1;32mwhile\u001b[0m \u001b[0mself\u001b[0m\u001b[1;33m.\u001b[0m\u001b[0mdispatch_one_batch\u001b[0m\u001b[1;33m(\u001b[0m\u001b[0miterator\u001b[0m\u001b[1;33m)\u001b[0m\u001b[1;33m:\u001b[0m\u001b[1;33m\u001b[0m\u001b[1;33m\u001b[0m\u001b[0m\n\u001b[0m\u001b[0;32m   1047\u001b[0m                 \u001b[1;32mpass\u001b[0m\u001b[1;33m\u001b[0m\u001b[1;33m\u001b[0m\u001b[0m\n\u001b[0;32m   1048\u001b[0m \u001b[1;33m\u001b[0m\u001b[0m\n",
      "\u001b[1;32m~\\Anaconda3\\lib\\site-packages\\joblib\\parallel.py\u001b[0m in \u001b[0;36mdispatch_one_batch\u001b[1;34m(self, iterator)\u001b[0m\n\u001b[0;32m    859\u001b[0m                 \u001b[1;32mreturn\u001b[0m \u001b[1;32mFalse\u001b[0m\u001b[1;33m\u001b[0m\u001b[1;33m\u001b[0m\u001b[0m\n\u001b[0;32m    860\u001b[0m             \u001b[1;32melse\u001b[0m\u001b[1;33m:\u001b[0m\u001b[1;33m\u001b[0m\u001b[1;33m\u001b[0m\u001b[0m\n\u001b[1;32m--> 861\u001b[1;33m                 \u001b[0mself\u001b[0m\u001b[1;33m.\u001b[0m\u001b[0m_dispatch\u001b[0m\u001b[1;33m(\u001b[0m\u001b[0mtasks\u001b[0m\u001b[1;33m)\u001b[0m\u001b[1;33m\u001b[0m\u001b[1;33m\u001b[0m\u001b[0m\n\u001b[0m\u001b[0;32m    862\u001b[0m                 \u001b[1;32mreturn\u001b[0m \u001b[1;32mTrue\u001b[0m\u001b[1;33m\u001b[0m\u001b[1;33m\u001b[0m\u001b[0m\n\u001b[0;32m    863\u001b[0m \u001b[1;33m\u001b[0m\u001b[0m\n",
      "\u001b[1;32m~\\Anaconda3\\lib\\site-packages\\joblib\\parallel.py\u001b[0m in \u001b[0;36m_dispatch\u001b[1;34m(self, batch)\u001b[0m\n\u001b[0;32m    777\u001b[0m         \u001b[1;32mwith\u001b[0m \u001b[0mself\u001b[0m\u001b[1;33m.\u001b[0m\u001b[0m_lock\u001b[0m\u001b[1;33m:\u001b[0m\u001b[1;33m\u001b[0m\u001b[1;33m\u001b[0m\u001b[0m\n\u001b[0;32m    778\u001b[0m             \u001b[0mjob_idx\u001b[0m \u001b[1;33m=\u001b[0m \u001b[0mlen\u001b[0m\u001b[1;33m(\u001b[0m\u001b[0mself\u001b[0m\u001b[1;33m.\u001b[0m\u001b[0m_jobs\u001b[0m\u001b[1;33m)\u001b[0m\u001b[1;33m\u001b[0m\u001b[1;33m\u001b[0m\u001b[0m\n\u001b[1;32m--> 779\u001b[1;33m             \u001b[0mjob\u001b[0m \u001b[1;33m=\u001b[0m \u001b[0mself\u001b[0m\u001b[1;33m.\u001b[0m\u001b[0m_backend\u001b[0m\u001b[1;33m.\u001b[0m\u001b[0mapply_async\u001b[0m\u001b[1;33m(\u001b[0m\u001b[0mbatch\u001b[0m\u001b[1;33m,\u001b[0m \u001b[0mcallback\u001b[0m\u001b[1;33m=\u001b[0m\u001b[0mcb\u001b[0m\u001b[1;33m)\u001b[0m\u001b[1;33m\u001b[0m\u001b[1;33m\u001b[0m\u001b[0m\n\u001b[0m\u001b[0;32m    780\u001b[0m             \u001b[1;31m# A job can complete so quickly than its callback is\u001b[0m\u001b[1;33m\u001b[0m\u001b[1;33m\u001b[0m\u001b[0m\n\u001b[0;32m    781\u001b[0m             \u001b[1;31m# called before we get here, causing self._jobs to\u001b[0m\u001b[1;33m\u001b[0m\u001b[1;33m\u001b[0m\u001b[0m\n",
      "\u001b[1;32m~\\Anaconda3\\lib\\site-packages\\joblib\\_parallel_backends.py\u001b[0m in \u001b[0;36mapply_async\u001b[1;34m(self, func, callback)\u001b[0m\n\u001b[0;32m    206\u001b[0m     \u001b[1;32mdef\u001b[0m \u001b[0mapply_async\u001b[0m\u001b[1;33m(\u001b[0m\u001b[0mself\u001b[0m\u001b[1;33m,\u001b[0m \u001b[0mfunc\u001b[0m\u001b[1;33m,\u001b[0m \u001b[0mcallback\u001b[0m\u001b[1;33m=\u001b[0m\u001b[1;32mNone\u001b[0m\u001b[1;33m)\u001b[0m\u001b[1;33m:\u001b[0m\u001b[1;33m\u001b[0m\u001b[1;33m\u001b[0m\u001b[0m\n\u001b[0;32m    207\u001b[0m         \u001b[1;34m\"\"\"Schedule a func to be run\"\"\"\u001b[0m\u001b[1;33m\u001b[0m\u001b[1;33m\u001b[0m\u001b[0m\n\u001b[1;32m--> 208\u001b[1;33m         \u001b[0mresult\u001b[0m \u001b[1;33m=\u001b[0m \u001b[0mImmediateResult\u001b[0m\u001b[1;33m(\u001b[0m\u001b[0mfunc\u001b[0m\u001b[1;33m)\u001b[0m\u001b[1;33m\u001b[0m\u001b[1;33m\u001b[0m\u001b[0m\n\u001b[0m\u001b[0;32m    209\u001b[0m         \u001b[1;32mif\u001b[0m \u001b[0mcallback\u001b[0m\u001b[1;33m:\u001b[0m\u001b[1;33m\u001b[0m\u001b[1;33m\u001b[0m\u001b[0m\n\u001b[0;32m    210\u001b[0m             \u001b[0mcallback\u001b[0m\u001b[1;33m(\u001b[0m\u001b[0mresult\u001b[0m\u001b[1;33m)\u001b[0m\u001b[1;33m\u001b[0m\u001b[1;33m\u001b[0m\u001b[0m\n",
      "\u001b[1;32m~\\Anaconda3\\lib\\site-packages\\joblib\\_parallel_backends.py\u001b[0m in \u001b[0;36m__init__\u001b[1;34m(self, batch)\u001b[0m\n\u001b[0;32m    570\u001b[0m         \u001b[1;31m# Don't delay the application, to avoid keeping the input\u001b[0m\u001b[1;33m\u001b[0m\u001b[1;33m\u001b[0m\u001b[0m\n\u001b[0;32m    571\u001b[0m         \u001b[1;31m# arguments in memory\u001b[0m\u001b[1;33m\u001b[0m\u001b[1;33m\u001b[0m\u001b[0m\n\u001b[1;32m--> 572\u001b[1;33m         \u001b[0mself\u001b[0m\u001b[1;33m.\u001b[0m\u001b[0mresults\u001b[0m \u001b[1;33m=\u001b[0m \u001b[0mbatch\u001b[0m\u001b[1;33m(\u001b[0m\u001b[1;33m)\u001b[0m\u001b[1;33m\u001b[0m\u001b[1;33m\u001b[0m\u001b[0m\n\u001b[0m\u001b[0;32m    573\u001b[0m \u001b[1;33m\u001b[0m\u001b[0m\n\u001b[0;32m    574\u001b[0m     \u001b[1;32mdef\u001b[0m \u001b[0mget\u001b[0m\u001b[1;33m(\u001b[0m\u001b[0mself\u001b[0m\u001b[1;33m)\u001b[0m\u001b[1;33m:\u001b[0m\u001b[1;33m\u001b[0m\u001b[1;33m\u001b[0m\u001b[0m\n",
      "\u001b[1;32m~\\Anaconda3\\lib\\site-packages\\joblib\\parallel.py\u001b[0m in \u001b[0;36m__call__\u001b[1;34m(self)\u001b[0m\n\u001b[0;32m    260\u001b[0m         \u001b[1;31m# change the default number of processes to -1\u001b[0m\u001b[1;33m\u001b[0m\u001b[1;33m\u001b[0m\u001b[0m\n\u001b[0;32m    261\u001b[0m         \u001b[1;32mwith\u001b[0m \u001b[0mparallel_backend\u001b[0m\u001b[1;33m(\u001b[0m\u001b[0mself\u001b[0m\u001b[1;33m.\u001b[0m\u001b[0m_backend\u001b[0m\u001b[1;33m,\u001b[0m \u001b[0mn_jobs\u001b[0m\u001b[1;33m=\u001b[0m\u001b[0mself\u001b[0m\u001b[1;33m.\u001b[0m\u001b[0m_n_jobs\u001b[0m\u001b[1;33m)\u001b[0m\u001b[1;33m:\u001b[0m\u001b[1;33m\u001b[0m\u001b[1;33m\u001b[0m\u001b[0m\n\u001b[1;32m--> 262\u001b[1;33m             return [func(*args, **kwargs)\n\u001b[0m\u001b[0;32m    263\u001b[0m                     for func, args, kwargs in self.items]\n\u001b[0;32m    264\u001b[0m \u001b[1;33m\u001b[0m\u001b[0m\n",
      "\u001b[1;32m~\\Anaconda3\\lib\\site-packages\\joblib\\parallel.py\u001b[0m in \u001b[0;36m<listcomp>\u001b[1;34m(.0)\u001b[0m\n\u001b[0;32m    260\u001b[0m         \u001b[1;31m# change the default number of processes to -1\u001b[0m\u001b[1;33m\u001b[0m\u001b[1;33m\u001b[0m\u001b[0m\n\u001b[0;32m    261\u001b[0m         \u001b[1;32mwith\u001b[0m \u001b[0mparallel_backend\u001b[0m\u001b[1;33m(\u001b[0m\u001b[0mself\u001b[0m\u001b[1;33m.\u001b[0m\u001b[0m_backend\u001b[0m\u001b[1;33m,\u001b[0m \u001b[0mn_jobs\u001b[0m\u001b[1;33m=\u001b[0m\u001b[0mself\u001b[0m\u001b[1;33m.\u001b[0m\u001b[0m_n_jobs\u001b[0m\u001b[1;33m)\u001b[0m\u001b[1;33m:\u001b[0m\u001b[1;33m\u001b[0m\u001b[1;33m\u001b[0m\u001b[0m\n\u001b[1;32m--> 262\u001b[1;33m             return [func(*args, **kwargs)\n\u001b[0m\u001b[0;32m    263\u001b[0m                     for func, args, kwargs in self.items]\n\u001b[0;32m    264\u001b[0m \u001b[1;33m\u001b[0m\u001b[0m\n",
      "\u001b[1;32m~\\Anaconda3\\lib\\site-packages\\sklearn\\utils\\fixes.py\u001b[0m in \u001b[0;36m__call__\u001b[1;34m(self, *args, **kwargs)\u001b[0m\n\u001b[0;32m    220\u001b[0m     \u001b[1;32mdef\u001b[0m \u001b[0m__call__\u001b[0m\u001b[1;33m(\u001b[0m\u001b[0mself\u001b[0m\u001b[1;33m,\u001b[0m \u001b[1;33m*\u001b[0m\u001b[0margs\u001b[0m\u001b[1;33m,\u001b[0m \u001b[1;33m**\u001b[0m\u001b[0mkwargs\u001b[0m\u001b[1;33m)\u001b[0m\u001b[1;33m:\u001b[0m\u001b[1;33m\u001b[0m\u001b[1;33m\u001b[0m\u001b[0m\n\u001b[0;32m    221\u001b[0m         \u001b[1;32mwith\u001b[0m \u001b[0mconfig_context\u001b[0m\u001b[1;33m(\u001b[0m\u001b[1;33m**\u001b[0m\u001b[0mself\u001b[0m\u001b[1;33m.\u001b[0m\u001b[0mconfig\u001b[0m\u001b[1;33m)\u001b[0m\u001b[1;33m:\u001b[0m\u001b[1;33m\u001b[0m\u001b[1;33m\u001b[0m\u001b[0m\n\u001b[1;32m--> 222\u001b[1;33m             \u001b[1;32mreturn\u001b[0m \u001b[0mself\u001b[0m\u001b[1;33m.\u001b[0m\u001b[0mfunction\u001b[0m\u001b[1;33m(\u001b[0m\u001b[1;33m*\u001b[0m\u001b[0margs\u001b[0m\u001b[1;33m,\u001b[0m \u001b[1;33m**\u001b[0m\u001b[0mkwargs\u001b[0m\u001b[1;33m)\u001b[0m\u001b[1;33m\u001b[0m\u001b[1;33m\u001b[0m\u001b[0m\n\u001b[0m",
      "\u001b[1;32m~\\Anaconda3\\lib\\site-packages\\sklearn\\model_selection\\_validation.py\u001b[0m in \u001b[0;36m_fit_and_score\u001b[1;34m(estimator, X, y, scorer, train, test, verbose, parameters, fit_params, return_train_score, return_parameters, return_n_test_samples, return_times, return_estimator, split_progress, candidate_progress, error_score)\u001b[0m\n\u001b[0;32m    596\u001b[0m             \u001b[0mestimator\u001b[0m\u001b[1;33m.\u001b[0m\u001b[0mfit\u001b[0m\u001b[1;33m(\u001b[0m\u001b[0mX_train\u001b[0m\u001b[1;33m,\u001b[0m \u001b[1;33m**\u001b[0m\u001b[0mfit_params\u001b[0m\u001b[1;33m)\u001b[0m\u001b[1;33m\u001b[0m\u001b[1;33m\u001b[0m\u001b[0m\n\u001b[0;32m    597\u001b[0m         \u001b[1;32melse\u001b[0m\u001b[1;33m:\u001b[0m\u001b[1;33m\u001b[0m\u001b[1;33m\u001b[0m\u001b[0m\n\u001b[1;32m--> 598\u001b[1;33m             \u001b[0mestimator\u001b[0m\u001b[1;33m.\u001b[0m\u001b[0mfit\u001b[0m\u001b[1;33m(\u001b[0m\u001b[0mX_train\u001b[0m\u001b[1;33m,\u001b[0m \u001b[0my_train\u001b[0m\u001b[1;33m,\u001b[0m \u001b[1;33m**\u001b[0m\u001b[0mfit_params\u001b[0m\u001b[1;33m)\u001b[0m\u001b[1;33m\u001b[0m\u001b[1;33m\u001b[0m\u001b[0m\n\u001b[0m\u001b[0;32m    599\u001b[0m \u001b[1;33m\u001b[0m\u001b[0m\n\u001b[0;32m    600\u001b[0m     \u001b[1;32mexcept\u001b[0m \u001b[0mException\u001b[0m \u001b[1;32mas\u001b[0m \u001b[0me\u001b[0m\u001b[1;33m:\u001b[0m\u001b[1;33m\u001b[0m\u001b[1;33m\u001b[0m\u001b[0m\n",
      "\u001b[1;32m~\\Anaconda3\\lib\\site-packages\\sklearn\\ensemble\\_gb.py\u001b[0m in \u001b[0;36mfit\u001b[1;34m(self, X, y, sample_weight, monitor)\u001b[0m\n\u001b[0;32m    502\u001b[0m \u001b[1;33m\u001b[0m\u001b[0m\n\u001b[0;32m    503\u001b[0m         \u001b[1;31m# fit the boosting stages\u001b[0m\u001b[1;33m\u001b[0m\u001b[1;33m\u001b[0m\u001b[0m\n\u001b[1;32m--> 504\u001b[1;33m         n_stages = self._fit_stages(\n\u001b[0m\u001b[0;32m    505\u001b[0m             \u001b[0mX\u001b[0m\u001b[1;33m,\u001b[0m \u001b[0my\u001b[0m\u001b[1;33m,\u001b[0m \u001b[0mraw_predictions\u001b[0m\u001b[1;33m,\u001b[0m \u001b[0msample_weight\u001b[0m\u001b[1;33m,\u001b[0m \u001b[0mself\u001b[0m\u001b[1;33m.\u001b[0m\u001b[0m_rng\u001b[0m\u001b[1;33m,\u001b[0m \u001b[0mX_val\u001b[0m\u001b[1;33m,\u001b[0m \u001b[0my_val\u001b[0m\u001b[1;33m,\u001b[0m\u001b[1;33m\u001b[0m\u001b[1;33m\u001b[0m\u001b[0m\n\u001b[0;32m    506\u001b[0m             sample_weight_val, begin_at_stage, monitor)\n",
      "\u001b[1;32m~\\Anaconda3\\lib\\site-packages\\sklearn\\ensemble\\_gb.py\u001b[0m in \u001b[0;36m_fit_stages\u001b[1;34m(self, X, y, raw_predictions, sample_weight, random_state, X_val, y_val, sample_weight_val, begin_at_stage, monitor)\u001b[0m\n\u001b[0;32m    559\u001b[0m \u001b[1;33m\u001b[0m\u001b[0m\n\u001b[0;32m    560\u001b[0m             \u001b[1;31m# fit next stage of trees\u001b[0m\u001b[1;33m\u001b[0m\u001b[1;33m\u001b[0m\u001b[0m\n\u001b[1;32m--> 561\u001b[1;33m             raw_predictions = self._fit_stage(\n\u001b[0m\u001b[0;32m    562\u001b[0m                 \u001b[0mi\u001b[0m\u001b[1;33m,\u001b[0m \u001b[0mX\u001b[0m\u001b[1;33m,\u001b[0m \u001b[0my\u001b[0m\u001b[1;33m,\u001b[0m \u001b[0mraw_predictions\u001b[0m\u001b[1;33m,\u001b[0m \u001b[0msample_weight\u001b[0m\u001b[1;33m,\u001b[0m \u001b[0msample_mask\u001b[0m\u001b[1;33m,\u001b[0m\u001b[1;33m\u001b[0m\u001b[1;33m\u001b[0m\u001b[0m\n\u001b[0;32m    563\u001b[0m                 random_state, X_csc, X_csr)\n",
      "\u001b[1;32m~\\Anaconda3\\lib\\site-packages\\sklearn\\ensemble\\_gb.py\u001b[0m in \u001b[0;36m_fit_stage\u001b[1;34m(self, i, X, y, raw_predictions, sample_weight, sample_mask, random_state, X_csc, X_csr)\u001b[0m\n\u001b[0;32m    216\u001b[0m \u001b[1;33m\u001b[0m\u001b[0m\n\u001b[0;32m    217\u001b[0m             \u001b[1;31m# update tree leaves\u001b[0m\u001b[1;33m\u001b[0m\u001b[1;33m\u001b[0m\u001b[0m\n\u001b[1;32m--> 218\u001b[1;33m             loss.update_terminal_regions(\n\u001b[0m\u001b[0;32m    219\u001b[0m                 \u001b[0mtree\u001b[0m\u001b[1;33m.\u001b[0m\u001b[0mtree_\u001b[0m\u001b[1;33m,\u001b[0m \u001b[0mX\u001b[0m\u001b[1;33m,\u001b[0m \u001b[0my\u001b[0m\u001b[1;33m,\u001b[0m \u001b[0mresidual\u001b[0m\u001b[1;33m,\u001b[0m \u001b[0mraw_predictions\u001b[0m\u001b[1;33m,\u001b[0m \u001b[0msample_weight\u001b[0m\u001b[1;33m,\u001b[0m\u001b[1;33m\u001b[0m\u001b[1;33m\u001b[0m\u001b[0m\n\u001b[0;32m    220\u001b[0m                 sample_mask, learning_rate=self.learning_rate, k=k)\n",
      "\u001b[1;32m~\\Anaconda3\\lib\\site-packages\\sklearn\\ensemble\\_gb_losses.py\u001b[0m in \u001b[0;36mupdate_terminal_regions\u001b[1;34m(self, tree, X, y, residual, raw_predictions, sample_weight, sample_mask, learning_rate, k)\u001b[0m\n\u001b[0;32m    110\u001b[0m         \u001b[1;31m# update each leaf (= perform line search)\u001b[0m\u001b[1;33m\u001b[0m\u001b[1;33m\u001b[0m\u001b[0m\n\u001b[0;32m    111\u001b[0m         \u001b[1;32mfor\u001b[0m \u001b[0mleaf\u001b[0m \u001b[1;32min\u001b[0m \u001b[0mnp\u001b[0m\u001b[1;33m.\u001b[0m\u001b[0mwhere\u001b[0m\u001b[1;33m(\u001b[0m\u001b[0mtree\u001b[0m\u001b[1;33m.\u001b[0m\u001b[0mchildren_left\u001b[0m \u001b[1;33m==\u001b[0m \u001b[0mTREE_LEAF\u001b[0m\u001b[1;33m)\u001b[0m\u001b[1;33m[\u001b[0m\u001b[1;36m0\u001b[0m\u001b[1;33m]\u001b[0m\u001b[1;33m:\u001b[0m\u001b[1;33m\u001b[0m\u001b[1;33m\u001b[0m\u001b[0m\n\u001b[1;32m--> 112\u001b[1;33m             self._update_terminal_region(tree, masked_terminal_regions,\n\u001b[0m\u001b[0;32m    113\u001b[0m                                          \u001b[0mleaf\u001b[0m\u001b[1;33m,\u001b[0m \u001b[0mX\u001b[0m\u001b[1;33m,\u001b[0m \u001b[0my\u001b[0m\u001b[1;33m,\u001b[0m \u001b[0mresidual\u001b[0m\u001b[1;33m,\u001b[0m\u001b[1;33m\u001b[0m\u001b[1;33m\u001b[0m\u001b[0m\n\u001b[0;32m    114\u001b[0m                                          raw_predictions[:, k], sample_weight)\n",
      "\u001b[1;32m~\\Anaconda3\\lib\\site-packages\\sklearn\\ensemble\\_gb_losses.py\u001b[0m in \u001b[0;36m_update_terminal_region\u001b[1;34m(self, tree, terminal_regions, leaf, X, y, residual, raw_predictions, sample_weight)\u001b[0m\n\u001b[0;32m    618\u001b[0m         \u001b[0mwe\u001b[0m \u001b[0mtake\u001b[0m \u001b[0madvantage\u001b[0m \u001b[0mthat\u001b[0m\u001b[1;33m:\u001b[0m \u001b[0my\u001b[0m \u001b[1;33m-\u001b[0m \u001b[0mprob\u001b[0m \u001b[1;33m=\u001b[0m \u001b[0mresidual\u001b[0m\u001b[1;33m\u001b[0m\u001b[1;33m\u001b[0m\u001b[0m\n\u001b[0;32m    619\u001b[0m         \"\"\"\n\u001b[1;32m--> 620\u001b[1;33m         \u001b[0mterminal_region\u001b[0m \u001b[1;33m=\u001b[0m \u001b[0mnp\u001b[0m\u001b[1;33m.\u001b[0m\u001b[0mwhere\u001b[0m\u001b[1;33m(\u001b[0m\u001b[0mterminal_regions\u001b[0m \u001b[1;33m==\u001b[0m \u001b[0mleaf\u001b[0m\u001b[1;33m)\u001b[0m\u001b[1;33m[\u001b[0m\u001b[1;36m0\u001b[0m\u001b[1;33m]\u001b[0m\u001b[1;33m\u001b[0m\u001b[1;33m\u001b[0m\u001b[0m\n\u001b[0m\u001b[0;32m    621\u001b[0m         \u001b[0mresidual\u001b[0m \u001b[1;33m=\u001b[0m \u001b[0mresidual\u001b[0m\u001b[1;33m.\u001b[0m\u001b[0mtake\u001b[0m\u001b[1;33m(\u001b[0m\u001b[0mterminal_region\u001b[0m\u001b[1;33m,\u001b[0m \u001b[0maxis\u001b[0m\u001b[1;33m=\u001b[0m\u001b[1;36m0\u001b[0m\u001b[1;33m)\u001b[0m\u001b[1;33m\u001b[0m\u001b[1;33m\u001b[0m\u001b[0m\n\u001b[0;32m    622\u001b[0m         \u001b[0my\u001b[0m \u001b[1;33m=\u001b[0m \u001b[0my\u001b[0m\u001b[1;33m.\u001b[0m\u001b[0mtake\u001b[0m\u001b[1;33m(\u001b[0m\u001b[0mterminal_region\u001b[0m\u001b[1;33m,\u001b[0m \u001b[0maxis\u001b[0m\u001b[1;33m=\u001b[0m\u001b[1;36m0\u001b[0m\u001b[1;33m)\u001b[0m\u001b[1;33m\u001b[0m\u001b[1;33m\u001b[0m\u001b[0m\n",
      "\u001b[1;31mKeyboardInterrupt\u001b[0m: "
     ]
    }
   ],
   "source": [
    "#Grid Search\n",
    "\n",
    "model_gbc= GradientBoostingClassifier()\n",
    "\n",
    "parameter_space_gbc = {\n",
    "    'loss':[ 'log_loss', 'deviance', 'exponential'],\n",
    "    'learning_rate': [0.1,0.25,0.5,1,2],\n",
    "    'n_estimators':[10,50, 100, 200,500,1000],\n",
    "    'max_depth':[2,3,4,5],\n",
    "    'criterion':['friedman_mse','mse']\n",
    "    \n",
    "}\n",
    "\n",
    "clf = GridSearchCV(model_gbc, parameter_space_gbc)\n",
    "\n",
    "X_train_gbc, X_val_gbc, y_train_gbc, y_val_gbc = train_test_split(X_gbc, y_gbc, test_size = 0.2, random_state = 150, shuffle = True, stratify = y)\n",
    "\n",
    "\n",
    "# Create dummies and remove one of the variables (to avoid multicollinearity)\n",
    "X_train_dummies_gbc = pd.get_dummies(X_train_gbc, columns=['Longevity', 'TypeTravel', 'RoomType', 'Gender'], drop_first=True)\n",
    "X_val_dummies_gbc = pd.get_dummies(X_val_gbc, columns=['Longevity', 'TypeTravel', 'RoomType', 'Gender'], drop_first=True)\n",
    "\n",
    "# Data Scaling\n",
    "# Apply MinMaxScaler\n",
    "scaler_gbc = MinMaxScaler().fit(X_train_dummies_gbc)\n",
    "X_train_scaled_gbc = scaler_gbc.transform(X_train_dummies_gbc) \n",
    "X_val_scaled_gbc = scaler_gbc.transform(X_val_dummies_gbc) # Scaling with 'scaler' from train data\n",
    "\n",
    "\n",
    "clf.fit(X_train_scaled_gbc, y_train_gbc)\n",
    "\n",
    "# Best parameter set\n",
    "print('------------------------------------------------------------------------------------------------------------------------')\n",
    "print('Best parameters found:\\n', clf.best_params_)\n",
    "print('------------------------------------------------------------------------------------------------------------------------')\n",
    "\n",
    "# All results\n",
    "means = clf.cv_results_['mean_test_score']\n",
    "stds = clf.cv_results_['std_test_score']\n",
    "for mean, std, params in zip(means, stds, clf.cv_results_['params']):\n",
    "    print(\"%0.3f (+/-%0.03f) for %r\" % (mean, std , params))"
   ]
  },
  {
   "cell_type": "markdown",
   "id": "a17d55c9",
   "metadata": {},
   "source": [
    "__`Step 2`__ Evaulate the model performance with Classification Report"
   ]
  },
  {
   "cell_type": "code",
   "execution_count": 229,
   "id": "0225795f",
   "metadata": {},
   "outputs": [
    {
     "name": "stdout",
     "output_type": "stream",
     "text": [
      "___________________________________________________________________________________________________________\n",
      "                                                     TRAIN                                                 \n",
      "-----------------------------------------------------------------------------------------------------------\n",
      "              precision    recall  f1-score   support\n",
      "\n",
      "           0       0.99      0.98      0.98      6762\n",
      "           1       0.97      0.98      0.98      5675\n",
      "\n",
      "    accuracy                           0.98     12437\n",
      "   macro avg       0.98      0.98      0.98     12437\n",
      "weighted avg       0.98      0.98      0.98     12437\n",
      "\n",
      "[[6606  156]\n",
      " [ 100 5575]]\n",
      "___________________________________________________________________________________________________________\n",
      "                                                   VALIDATION                                              \n",
      "-----------------------------------------------------------------------------------------------------------\n",
      "              precision    recall  f1-score   support\n",
      "\n",
      "           0       0.95      0.95      0.95      1691\n",
      "           1       0.93      0.94      0.94      1419\n",
      "\n",
      "    accuracy                           0.94      3110\n",
      "   macro avg       0.94      0.94      0.94      3110\n",
      "weighted avg       0.94      0.94      0.94      3110\n",
      "\n",
      "[[1598   93]\n",
      " [  90 1329]]\n"
     ]
    }
   ],
   "source": [
    "#Define model to use\n",
    "model_gbc= GradientBoostingClassifier(loss='deviance' , learning_rate=0.5 , n_estimators=100 , max_depth=4)\n",
    "\n",
    "model_gbc.fit(X_train_scaled_gbc,y_train_gbc)\n",
    "\n",
    "labels_train_gbc = model_gbc.predict(X_train_scaled_gbc)\n",
    "labels_val_gbc = model_gbc.predict(X_val_scaled_gbc)\n",
    "\n",
    "metrics(y_train = y_train_gbc, pred_train = labels_train_gbc, y_val = y_val_gbc, pred_val = labels_val_gbc)\n"
   ]
  },
  {
   "cell_type": "markdown",
   "id": "0870a249",
   "metadata": {},
   "source": [
    "__`Step 3`__ Test the model with unseen data - Kaggle Submission\n",
    "\n",
    "f1-score result -> 93.9 %\n",
    "\n",
    "#### Gradient Boosting Classifier model Results >> fi1-score - Train: 97.7 % | Val: 93.6 % | Test: 93.9 %"
   ]
  },
  {
   "cell_type": "markdown",
   "id": "5ab28c10",
   "metadata": {},
   "source": [
    "<a id=\"Comparison\"> </a>\n",
    "\n",
    "#### <font color = '#cc9900'> 4.9. Conclusions </font>\n",
    "\n",
    "[Back to Contents](#toc)"
   ]
  },
  {
   "cell_type": "markdown",
   "id": "f4545d57",
   "metadata": {},
   "source": [
    "In this section, a __comparison__ between all the developed models is performed. It is based on the __f1-score__ obtained for __train, validation, and also test (with the kaggle submission result)__. "
   ]
  },
  {
   "cell_type": "code",
   "execution_count": 208,
   "id": "3c9e60dd",
   "metadata": {},
   "outputs": [
    {
     "data": {
      "text/html": [
       "<div>\n",
       "<style scoped>\n",
       "    .dataframe tbody tr th:only-of-type {\n",
       "        vertical-align: middle;\n",
       "    }\n",
       "\n",
       "    .dataframe tbody tr th {\n",
       "        vertical-align: top;\n",
       "    }\n",
       "\n",
       "    .dataframe thead th {\n",
       "        text-align: right;\n",
       "    }\n",
       "</style>\n",
       "<table border=\"1\" class=\"dataframe\">\n",
       "  <thead>\n",
       "    <tr style=\"text-align: right;\">\n",
       "      <th></th>\n",
       "      <th>Train</th>\n",
       "      <th>Validation</th>\n",
       "      <th>Test (Kaggle submission)</th>\n",
       "    </tr>\n",
       "  </thead>\n",
       "  <tbody>\n",
       "    <tr>\n",
       "      <th>Logistic Regression</th>\n",
       "      <td>0.821</td>\n",
       "      <td>0.818</td>\n",
       "      <td>0.823</td>\n",
       "    </tr>\n",
       "    <tr>\n",
       "      <th>Random Forest</th>\n",
       "      <td>0.946</td>\n",
       "      <td>0.95</td>\n",
       "      <td>0.928</td>\n",
       "    </tr>\n",
       "    <tr>\n",
       "      <th>KNN</th>\n",
       "      <td>0.917</td>\n",
       "      <td>0.918</td>\n",
       "      <td>0.899</td>\n",
       "    </tr>\n",
       "    <tr>\n",
       "      <th>Decision Tree</th>\n",
       "      <td>0.927</td>\n",
       "      <td>0.939</td>\n",
       "      <td>0.913</td>\n",
       "    </tr>\n",
       "    <tr>\n",
       "      <th>Neural Network</th>\n",
       "      <td>0.949</td>\n",
       "      <td>0.926</td>\n",
       "      <td>0.935</td>\n",
       "    </tr>\n",
       "    <tr>\n",
       "      <th>Gradient Boosting Descent</th>\n",
       "      <td>0.977</td>\n",
       "      <td>0.936</td>\n",
       "      <td>0.939</td>\n",
       "    </tr>\n",
       "  </tbody>\n",
       "</table>\n",
       "</div>"
      ],
      "text/plain": [
       "                           Train Validation Test (Kaggle submission)\n",
       "Logistic Regression        0.821      0.818                    0.823\n",
       "Random Forest              0.946       0.95                    0.928\n",
       "KNN                        0.917      0.918                    0.899\n",
       "Decision Tree              0.927      0.939                    0.913\n",
       "Neural Network             0.949      0.926                    0.935\n",
       "Gradient Boosting Descent  0.977      0.936                    0.939"
      ]
     },
     "execution_count": 208,
     "metadata": {},
     "output_type": "execute_result"
    }
   ],
   "source": [
    "df_compare = pd.DataFrame(columns = ['Train','Validation', 'Test (Kaggle submission)'], index = ['Logistic Regression','Random Forest','KNN', 'Decision Tree', 'Neural Network','Gradient Boosting Descent'])\n",
    "f1_LR = [0.821, 0.818, 0.823]\n",
    "f1_RF = [0.946, 0.950, 0.928]\n",
    "f1_KNN = [0.917, 0.918, 0.899]\n",
    "f1_DT = [0.927, 0.939, 0.913]\n",
    "f1_NN = [0.949,0.926,0.935]\n",
    "f1_GBC=[0.977,0.936,0.939]\n",
    "df_compare.loc['Logistic Regression'] = f1_LR\n",
    "df_compare.loc['Random Forest'] = f1_RF\n",
    "df_compare.loc['KNN'] = f1_KNN\n",
    "df_compare.loc['Decision Tree'] = f1_DT\n",
    "df_compare.loc['Neural Network'] = f1_NN\n",
    "df_compare.loc['Gradient Boosting Descent'] = f1_GBC\n",
    "\n",
    "df_compare"
   ]
  },
  {
   "cell_type": "markdown",
   "id": "af323480",
   "metadata": {},
   "source": [
    "After optimizing all of the 6 prediction models, the f1-score results above represent the best model performances achieved. As shown in the table, the best model decision is mostly between NN MLP Classifier and Gradient Boosting Classifier, with very similar results, specially when applied to unseen data (test results). \n",
    "\n",
    "Therefore, using as a decision factor the best test results, the chosen prediction model was - __Gradient Boosting Classifier__\n",
    "\n",
    "In the next chapter is present the dataset and model preparation, as well as creation of the prediction csv file."
   ]
  },
  {
   "cell_type": "markdown",
   "id": "577461cd",
   "metadata": {},
   "source": [
    "# 5. Predictions <a class=\"anchor\" id=\"pred\"></a>\n",
    "[Back to Contents](#toc)"
   ]
  },
  {
   "cell_type": "markdown",
   "id": "345f9e34",
   "metadata": {},
   "source": [
    "#### Create final model"
   ]
  },
  {
   "cell_type": "markdown",
   "id": "89594ae6",
   "metadata": {},
   "source": [
    "__`Step 1`__ Create the final model and train it with the whole dataset."
   ]
  },
  {
   "cell_type": "code",
   "execution_count": 237,
   "id": "f0e8ecb4",
   "metadata": {},
   "outputs": [
    {
     "data": {
      "text/plain": [
       "GradientBoostingClassifier(learning_rate=0.5, max_depth=4)"
      ]
     },
     "execution_count": 237,
     "metadata": {},
     "output_type": "execute_result"
    }
   ],
   "source": [
    "#Treinar o modelo com todo o dataset\n",
    "# Create dummies and remove one of the variables (to avoid multicollinearity)\n",
    "X_total_dummies_gbc = pd.get_dummies(X_gbc, drop_first=True)\n",
    "X_total_dummies_gbc.drop(['RoomType_suite'], axis = 1,inplace = True) \n",
    "\n",
    "# Apply model\n",
    "model_gbc.fit(X_total_dummies_gbc, y_gbc)\n"
   ]
  },
  {
   "cell_type": "markdown",
   "id": "6133f711",
   "metadata": {},
   "source": [
    "__`Step 2`__ Apply the final created model to get the predictions of the test dataset."
   ]
  },
  {
   "cell_type": "code",
   "execution_count": 238,
   "id": "117d9b87",
   "metadata": {},
   "outputs": [],
   "source": [
    "Test = pd.read_csv('test.csv')"
   ]
  },
  {
   "cell_type": "code",
   "execution_count": 239,
   "id": "420a285b",
   "metadata": {},
   "outputs": [],
   "source": [
    "Test.set_index('Cust_ID', inplace = True)"
   ]
  },
  {
   "cell_type": "code",
   "execution_count": 240,
   "id": "65fd3762",
   "metadata": {},
   "outputs": [],
   "source": [
    "Test['Age'] = date.today().year - Test['Year_Birth']\n",
    "Test['Gender'] = np.where(Test['Name'].str[:3] == 'Mr.','M','F')\n",
    "\n",
    "Test.drop(['Year_Birth','Name','Age','RewardPoints'], axis = 1, inplace = True) \n",
    "\n",
    "Test_dummy = pd.get_dummies(Test, drop_first = True)\n",
    "Test_dummy.drop(['RoomType_suite'], axis = 1,inplace = True) "
   ]
  },
  {
   "cell_type": "markdown",
   "id": "7729f0ee",
   "metadata": {},
   "source": [
    "__`Step 3`__ Get the final predictions made by the final model. Create a dataframe with the needed columns for your final delivery: 'ID' that will contain the ID of the customer and the 'Answer', the predicted value of churn for each customer."
   ]
  },
  {
   "cell_type": "code",
   "execution_count": 241,
   "id": "7c265561",
   "metadata": {},
   "outputs": [
    {
     "data": {
      "text/plain": [
       "array([1, 1, 0, ..., 1, 1, 0])"
      ]
     },
     "execution_count": 241,
     "metadata": {},
     "output_type": "execute_result"
    }
   ],
   "source": [
    "# Get predictions\n",
    "predictions = model_gbc.predict(Test_dummy)\n",
    "predictions"
   ]
  },
  {
   "cell_type": "code",
   "execution_count": 242,
   "id": "e33b5fb9",
   "metadata": {},
   "outputs": [
    {
     "data": {
      "text/html": [
       "<div>\n",
       "<style scoped>\n",
       "    .dataframe tbody tr th:only-of-type {\n",
       "        vertical-align: middle;\n",
       "    }\n",
       "\n",
       "    .dataframe tbody tr th {\n",
       "        vertical-align: top;\n",
       "    }\n",
       "\n",
       "    .dataframe thead th {\n",
       "        text-align: right;\n",
       "    }\n",
       "</style>\n",
       "<table border=\"1\" class=\"dataframe\">\n",
       "  <thead>\n",
       "    <tr style=\"text-align: right;\">\n",
       "      <th></th>\n",
       "      <th>Cust_ID</th>\n",
       "      <th>Churn</th>\n",
       "    </tr>\n",
       "  </thead>\n",
       "  <tbody>\n",
       "    <tr>\n",
       "      <th>0</th>\n",
       "      <td>30000</td>\n",
       "      <td>1</td>\n",
       "    </tr>\n",
       "    <tr>\n",
       "      <th>1</th>\n",
       "      <td>30001</td>\n",
       "      <td>1</td>\n",
       "    </tr>\n",
       "    <tr>\n",
       "      <th>2</th>\n",
       "      <td>30002</td>\n",
       "      <td>0</td>\n",
       "    </tr>\n",
       "    <tr>\n",
       "      <th>3</th>\n",
       "      <td>30003</td>\n",
       "      <td>1</td>\n",
       "    </tr>\n",
       "    <tr>\n",
       "      <th>4</th>\n",
       "      <td>30004</td>\n",
       "      <td>0</td>\n",
       "    </tr>\n",
       "    <tr>\n",
       "      <th>...</th>\n",
       "      <td>...</td>\n",
       "      <td>...</td>\n",
       "    </tr>\n",
       "    <tr>\n",
       "      <th>5190</th>\n",
       "      <td>35190</td>\n",
       "      <td>1</td>\n",
       "    </tr>\n",
       "    <tr>\n",
       "      <th>5191</th>\n",
       "      <td>35191</td>\n",
       "      <td>0</td>\n",
       "    </tr>\n",
       "    <tr>\n",
       "      <th>5192</th>\n",
       "      <td>35192</td>\n",
       "      <td>1</td>\n",
       "    </tr>\n",
       "    <tr>\n",
       "      <th>5193</th>\n",
       "      <td>35193</td>\n",
       "      <td>1</td>\n",
       "    </tr>\n",
       "    <tr>\n",
       "      <th>5194</th>\n",
       "      <td>35194</td>\n",
       "      <td>0</td>\n",
       "    </tr>\n",
       "  </tbody>\n",
       "</table>\n",
       "<p>5195 rows × 2 columns</p>\n",
       "</div>"
      ],
      "text/plain": [
       "      Cust_ID  Churn\n",
       "0       30000      1\n",
       "1       30001      1\n",
       "2       30002      0\n",
       "3       30003      1\n",
       "4       30004      0\n",
       "...       ...    ...\n",
       "5190    35190      1\n",
       "5191    35191      0\n",
       "5192    35192      1\n",
       "5193    35193      1\n",
       "5194    35194      0\n",
       "\n",
       "[5195 rows x 2 columns]"
      ]
     },
     "execution_count": 242,
     "metadata": {},
     "output_type": "execute_result"
    }
   ],
   "source": [
    "# Save the final predictions\n",
    "customer_index = Test.index.T\n",
    "answer = pd.DataFrame([customer_index, predictions]).T\n",
    "answer.columns = ['Cust_ID','Churn']\n",
    "answer"
   ]
  },
  {
   "cell_type": "markdown",
   "id": "67195f61",
   "metadata": {},
   "source": [
    "__`Step 4`__ Save that dataframe into a csv file named as 'best_answer.csv'."
   ]
  },
  {
   "cell_type": "code",
   "execution_count": 243,
   "id": "5b09c150",
   "metadata": {},
   "outputs": [],
   "source": [
    "answer.to_csv('best_answer.csv', index = None)"
   ]
  },
  {
   "cell_type": "code",
   "execution_count": null,
   "id": "6997d121",
   "metadata": {},
   "outputs": [],
   "source": []
  }
 ],
 "metadata": {
  "kernelspec": {
   "display_name": "Python 3 (ipykernel)",
   "language": "python",
   "name": "python3"
  },
  "language_info": {
   "codemirror_mode": {
    "name": "ipython",
    "version": 3
   },
   "file_extension": ".py",
   "mimetype": "text/x-python",
   "name": "python",
   "nbconvert_exporter": "python",
   "pygments_lexer": "ipython3",
   "version": "3.9.7"
  }
 },
 "nbformat": 4,
 "nbformat_minor": 5
}
